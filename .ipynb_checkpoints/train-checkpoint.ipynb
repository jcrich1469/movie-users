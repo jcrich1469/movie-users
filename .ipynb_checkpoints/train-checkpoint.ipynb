{
 "cells": [
  {
   "cell_type": "code",
   "execution_count": 1,
   "id": "8a573191-c50c-46a7-be39-8d9e9ad5ae8c",
   "metadata": {},
   "outputs": [
    {
     "name": "stdout",
     "output_type": "stream",
     "text": [
      "importing Jupyter notebook from db.ipynb\n",
      "cf_model.py  db.ipynb\t     menv\t  README.md\t    user.py\n",
      "config.py    filemanager.py  movusers.db  requirements.txt  your_database.db\n",
      "dataset.py   main.ipynb      __pycache__  train.ipynb\n"
     ]
    }
   ],
   "source": [
    "import torch\n",
    "import torch.nn as nn\n",
    "import torch.optim as optim\n",
    "from cf_model import CollaborativeFiltering\n",
    "from dataset import CFDataset, Encoder, split_data\n",
    "import import_ipynb\n",
    "import db\n",
    "from torch.utils.data import DataLoader\n",
    "from tqdm import tqdm\n",
    "import random"
   ]
  },
  {
   "cell_type": "code",
   "execution_count": 2,
   "id": "4967b732-0b9e-4747-a84f-07e3e8f4dd71",
   "metadata": {},
   "outputs": [
    {
     "name": "stdout",
     "output_type": "stream",
     "text": [
      "Users: 100\n",
      "\n",
      "Movies: 30\n",
      "\n",
      "Reviews: 713\n"
     ]
    }
   ],
   "source": [
    "db.display_size()"
   ]
  },
  {
   "cell_type": "code",
   "execution_count": 3,
   "id": "65b26cf9-8dc5-41d5-987a-96b1c6640e44",
   "metadata": {},
   "outputs": [
    {
     "name": "stdout",
     "output_type": "stream",
     "text": [
      "SELECT * FROM Reviews\n"
     ]
    }
   ],
   "source": [
    "# print(db.display_size())\n",
    "#TODO change shuffle and not shuffle\n",
    "\n",
    "data = db.get_table_values(\"Reviews\")\n",
    "\n",
    "\n",
    "list_of_lists = [list(t) for t in data]\n",
    "\n",
    "# Shuffle the list of lists\n",
    "random.shuffle(list_of_lists)\n",
    "\n",
    "# Convert the shuffled list of lists back to a list of tuples\n",
    "data = [tuple(lst) for lst in list_of_lists]\n",
    "\n",
    "# print(data[0:10])"
   ]
  },
  {
   "cell_type": "code",
   "execution_count": 4,
   "id": "dfbc8886-5861-4526-9488-ed53e502a2e4",
   "metadata": {},
   "outputs": [],
   "source": [
    "encoder = Encoder([did[2] for did in data],[did[1] for did in data])\n",
    "# print(encoder.user_to_idx)\n",
    "# print(encoder.idx_to_user)"
   ]
  },
  {
   "cell_type": "code",
   "execution_count": 5,
   "id": "7e1a2ab8-febc-43c0-946d-05175b6136b7",
   "metadata": {},
   "outputs": [],
   "source": [
    "train_data, test_data = split_data(data)\n",
    "train_data, validation_data = split_data(train_data)\n",
    "train_ds = CFDataset(train_data,encoder)\n",
    "test_ds = CFDataset(test_data,encoder)\n",
    "validation_ds = CFDataset(validation_data,encoder)\n",
    "\n",
    "\n",
    "BATCH_SIZE = 16\n",
    "train_data_loader = DataLoader(train_ds,batch_size=BATCH_SIZE,shuffle=False,drop_last=True)\n",
    "validation_data_loader = DataLoader(validation_ds,batch_size=BATCH_SIZE,shuffle=False,drop_last=True)\n",
    "test_data_loader = DataLoader(test_ds,batch_size=BATCH_SIZE,shuffle=False,drop_last=True)"
   ]
  },
  {
   "cell_type": "code",
   "execution_count": 6,
   "id": "3da85c29-3ce0-49a8-9a1e-c1900567b2b3",
   "metadata": {},
   "outputs": [
    {
     "data": {
      "text/plain": [
       "(tensor(22), tensor(12), tensor(8.))"
      ]
     },
     "execution_count": 6,
     "metadata": {},
     "output_type": "execute_result"
    }
   ],
   "source": [
    "test_ds[20]"
   ]
  },
  {
   "cell_type": "code",
   "execution_count": 7,
   "id": "e5817c8d-e427-49ed-986c-eece7c665dfa",
   "metadata": {},
   "outputs": [],
   "source": [
    "# for ds in train_data_loader:\n",
    "#     print(ds)"
   ]
  },
  {
   "cell_type": "code",
   "execution_count": 8,
   "id": "32d06e00-0403-43cb-8f3c-1ee6e5af7442",
   "metadata": {},
   "outputs": [
    {
     "data": {
      "text/plain": [
       "tensor(29)"
      ]
     },
     "execution_count": 8,
     "metadata": {},
     "output_type": "execute_result"
    }
   ],
   "source": [
    "max([ds[1] for ds in train_ds.dataset])"
   ]
  },
  {
   "cell_type": "code",
   "execution_count": 9,
   "id": "36edabff-0087-49fd-9cbf-c22e06c27b16",
   "metadata": {},
   "outputs": [
    {
     "name": "stdout",
     "output_type": "stream",
     "text": [
      "SELECT * FROM Users\n",
      "SELECT * FROM Movies\n"
     ]
    }
   ],
   "source": [
    "num_users = len(db.get_table_values(\"Users\"))\n",
    "num_movies = len(db.get_table_values(\"Movies\"))\n",
    "FEATURES=700\n",
    "model = CollaborativeFiltering(num_users, num_movies, embedding_dim=FEATURES)\n",
    "\n",
    "# Define your loss function and optimizer\n",
    "criterion = nn.MSELoss()\n",
    "optimizer = optim.SGD(model.parameters(), lr=0.001)\n",
    "\n",
    "LEARNING_RATE = 0.001\n",
    "criterion = nn.MSELoss()\n",
    "optimiser = optim.Adam(model.parameters(), lr=0.001)\n",
    "EPOCHS = 100"
   ]
  },
  {
   "cell_type": "markdown",
   "id": "623dc331-6d00-41db-b670-fe7c76a9d10b",
   "metadata": {},
   "source": [
    "# PRETEST"
   ]
  },
  {
   "cell_type": "code",
   "execution_count": 10,
   "id": "1f13953d-a5bc-4fd2-8d48-3c323be56cf8",
   "metadata": {},
   "outputs": [
    {
     "data": {
      "text/plain": [
       "55.35624551773071"
      ]
     },
     "execution_count": 10,
     "metadata": {},
     "output_type": "execute_result"
    }
   ],
   "source": [
    "#test data\n",
    "model.eval()  # Switch to evaluation mode\n",
    "test_loss = 0\n",
    "correct_predictions = 0  # Fixed variable name for clarity\n",
    "total_contexts = 0\n",
    "\n",
    "with torch.no_grad():  # Disable gradient computation\n",
    "    for user_ids, movie_ids, ratings in test_data_loader:\n",
    "        predictions = model(user_ids,movie_ids)  # Generate predictions\n",
    "        # Calculate and accumulate loss\n",
    "        loss = criterion(predictions, ratings)\n",
    "        test_loss += loss.item()\n",
    "        \n",
    "        # # Reshape predictions to match [batch_size, context_size, vocab_size]\n",
    "        # predictions = predictions.view(-1, context_size, VOCAB_SIZE)\n",
    "        \n",
    "        # # Get top prediction for each context position\n",
    "        # top_predictions = predictions.argmax(dim=2)\n",
    "        \n",
    "        # # Calculate correct predictions\n",
    "        # correct_preds = (top_predictions == context).float().sum()\n",
    "        # correct_predictions += correct_preds.item()  # Accumulate correct predictions\n",
    "        \n",
    "        # total_contexts += context.numel()  # Total number of context word positions evaluated\n",
    "\n",
    "# Calculate final metrics\n",
    "test_loss /= len(test_data_loader)  # Average loss per batch\n",
    "# print('correct predictions = ',correct_predictions)\n",
    "# print('out of  = ',total_contexts)\n",
    "# accuracy = correct_predictions / total_contexts  # Compute accuracy\n",
    "\n",
    "# print(f'Test set: Average loss: {test_loss:.4f}, Accuracy: {accuracy:.4f}')\n",
    "\n",
    "# Evaluate the model\n",
    "# (This would involve using a separate validation set or performing cross-validation)\n",
    "test_loss"
   ]
  },
  {
   "cell_type": "code",
   "execution_count": 11,
   "id": "4ef218b7-74b1-4769-9175-cfc7a9fa2f6f",
   "metadata": {},
   "outputs": [
    {
     "name": "stderr",
     "output_type": "stream",
     "text": [
      "Epoch 0: 100%|████████████████████████████████| 28/28 [00:00<00:00, 1269.48it/s]\n"
     ]
    },
    {
     "name": "stdout",
     "output_type": "stream",
     "text": [
      "Epoch: 0, Average Training Loss: 44.190997328077046\n",
      "Epoch: 0, Average Validation Loss: 24.121011189052037\n"
     ]
    },
    {
     "name": "stderr",
     "output_type": "stream",
     "text": [
      "Epoch 1: 100%|████████████████████████████████| 28/28 [00:00<00:00, 1485.50it/s]\n"
     ]
    },
    {
     "name": "stdout",
     "output_type": "stream",
     "text": [
      "Epoch: 1, Average Training Loss: 17.780370371682302\n",
      "Epoch: 1, Average Validation Loss: 11.731965746198382\n"
     ]
    },
    {
     "name": "stderr",
     "output_type": "stream",
     "text": [
      "Epoch 2: 100%|████████████████████████████████| 28/28 [00:00<00:00, 1431.59it/s]\n"
     ]
    },
    {
     "name": "stdout",
     "output_type": "stream",
     "text": [
      "Epoch: 2, Average Training Loss: 7.339907186371939\n",
      "Epoch: 2, Average Validation Loss: 8.885527951376778\n"
     ]
    },
    {
     "name": "stderr",
     "output_type": "stream",
     "text": [
      "Epoch 3: 100%|████████████████████████████████| 28/28 [00:00<00:00, 1478.26it/s]\n"
     ]
    },
    {
     "name": "stdout",
     "output_type": "stream",
     "text": [
      "Epoch: 3, Average Training Loss: 4.605156472751072\n",
      "Epoch: 3, Average Validation Loss: 9.16588054384504\n"
     ]
    },
    {
     "name": "stderr",
     "output_type": "stream",
     "text": [
      "Epoch 4: 100%|████████████████████████████████| 28/28 [00:00<00:00, 1468.13it/s]\n"
     ]
    },
    {
     "name": "stdout",
     "output_type": "stream",
     "text": [
      "Epoch: 4, Average Training Loss: 3.9219997014318193\n",
      "Epoch: 4, Average Validation Loss: 9.529170853751046\n"
     ]
    },
    {
     "name": "stderr",
     "output_type": "stream",
     "text": [
      "Epoch 5: 100%|████████████████████████████████| 28/28 [00:00<00:00, 1451.05it/s]\n"
     ]
    },
    {
     "name": "stdout",
     "output_type": "stream",
     "text": [
      "Epoch: 5, Average Training Loss: 3.6416598047528947\n",
      "Epoch: 5, Average Validation Loss: 9.764193671090263\n"
     ]
    },
    {
     "name": "stderr",
     "output_type": "stream",
     "text": [
      "Epoch 6: 100%|████████████████████████████████| 28/28 [00:00<00:00, 1486.93it/s]\n"
     ]
    },
    {
     "name": "stdout",
     "output_type": "stream",
     "text": [
      "Epoch: 6, Average Training Loss: 3.4907893453325545\n",
      "Epoch: 6, Average Validation Loss: 9.99208572932652\n"
     ]
    },
    {
     "name": "stderr",
     "output_type": "stream",
     "text": [
      "Epoch 7: 100%|████████████████████████████████| 28/28 [00:00<00:00, 1479.81it/s]\n"
     ]
    },
    {
     "name": "stdout",
     "output_type": "stream",
     "text": [
      "Epoch: 7, Average Training Loss: 3.3997460348265514\n",
      "Epoch: 7, Average Validation Loss: 10.224457672664098\n"
     ]
    },
    {
     "name": "stderr",
     "output_type": "stream",
     "text": [
      "Epoch 8: 100%|████████████████████████████████| 28/28 [00:00<00:00, 1451.84it/s]\n"
     ]
    },
    {
     "name": "stdout",
     "output_type": "stream",
     "text": [
      "Epoch: 8, Average Training Loss: 3.342673041990825\n",
      "Epoch: 8, Average Validation Loss: 10.445451532091413\n"
     ]
    },
    {
     "name": "stderr",
     "output_type": "stream",
     "text": [
      "Epoch 9: 100%|████████████████████████████████| 28/28 [00:00<00:00, 1465.86it/s]\n"
     ]
    },
    {
     "name": "stdout",
     "output_type": "stream",
     "text": [
      "Epoch: 9, Average Training Loss: 3.3062354368822917\n",
      "Epoch: 9, Average Validation Loss: 10.646282604762487\n"
     ]
    },
    {
     "name": "stderr",
     "output_type": "stream",
     "text": [
      "Epoch 10: 100%|███████████████████████████████| 28/28 [00:00<00:00, 1483.40it/s]\n"
     ]
    },
    {
     "name": "stdout",
     "output_type": "stream",
     "text": [
      "Epoch: 10, Average Training Loss: 3.282599938767297\n",
      "Epoch: 10, Average Validation Loss: 10.824305534362793\n"
     ]
    },
    {
     "name": "stderr",
     "output_type": "stream",
     "text": [
      "Epoch 11: 100%|███████████████████████████████| 28/28 [00:00<00:00, 1432.99it/s]\n"
     ]
    },
    {
     "name": "stdout",
     "output_type": "stream",
     "text": [
      "Epoch: 11, Average Training Loss: 3.2671305452074324\n",
      "Epoch: 11, Average Validation Loss: 10.979909760611397\n"
     ]
    },
    {
     "name": "stderr",
     "output_type": "stream",
     "text": [
      "Epoch 12: 100%|███████████████████████████████| 28/28 [00:00<00:00, 1510.88it/s]\n"
     ]
    },
    {
     "name": "stdout",
     "output_type": "stream",
     "text": [
      "Epoch: 12, Average Training Loss: 3.257004295076643\n",
      "Epoch: 12, Average Validation Loss: 11.114911828722272\n"
     ]
    },
    {
     "name": "stderr",
     "output_type": "stream",
     "text": [
      "Epoch 13: 100%|███████████████████████████████| 28/28 [00:00<00:00, 1492.63it/s]\n"
     ]
    },
    {
     "name": "stdout",
     "output_type": "stream",
     "text": [
      "Epoch: 13, Average Training Loss: 3.2504497596195767\n",
      "Epoch: 13, Average Validation Loss: 11.231671673910958\n"
     ]
    },
    {
     "name": "stderr",
     "output_type": "stream",
     "text": [
      "Epoch 14: 100%|███████████████████████████████| 28/28 [00:00<00:00, 1517.85it/s]\n"
     ]
    },
    {
     "name": "stdout",
     "output_type": "stream",
     "text": [
      "Epoch: 14, Average Training Loss: 3.246336362191609\n",
      "Epoch: 14, Average Validation Loss: 11.33263908113752\n"
     ]
    },
    {
     "name": "stderr",
     "output_type": "stream",
     "text": [
      "Epoch 15: 100%|███████████████████████████████| 28/28 [00:00<00:00, 1520.76it/s]\n"
     ]
    },
    {
     "name": "stdout",
     "output_type": "stream",
     "text": [
      "Epoch: 15, Average Training Loss: 3.2439269636358534\n",
      "Epoch: 15, Average Validation Loss: 11.420138154711042\n"
     ]
    },
    {
     "name": "stderr",
     "output_type": "stream",
     "text": [
      "Epoch 16: 100%|███████████████████████████████| 28/28 [00:00<00:00, 1525.04it/s]\n"
     ]
    },
    {
     "name": "stdout",
     "output_type": "stream",
     "text": [
      "Epoch: 16, Average Training Loss: 3.2427305664334978\n",
      "Epoch: 16, Average Validation Loss: 11.496233667646136\n"
     ]
    },
    {
     "name": "stderr",
     "output_type": "stream",
     "text": [
      "Epoch 17: 100%|███████████████████████████████| 28/28 [00:00<00:00, 1482.18it/s]\n"
     ]
    },
    {
     "name": "stdout",
     "output_type": "stream",
     "text": [
      "Epoch: 17, Average Training Loss: 3.2424105363232747\n",
      "Epoch: 17, Average Validation Loss: 11.562699658530098\n"
     ]
    },
    {
     "name": "stderr",
     "output_type": "stream",
     "text": [
      "Epoch 18: 100%|███████████████████████████████| 28/28 [00:00<00:00, 1491.97it/s]\n"
     ]
    },
    {
     "name": "stdout",
     "output_type": "stream",
     "text": [
      "Epoch: 18, Average Training Loss: 3.2427309155464172\n",
      "Epoch: 18, Average Validation Loss: 11.621026379721505\n"
     ]
    },
    {
     "name": "stderr",
     "output_type": "stream",
     "text": [
      "Epoch 19: 100%|███████████████████████████████| 28/28 [00:00<00:00, 1472.66it/s]\n"
     ]
    },
    {
     "name": "stdout",
     "output_type": "stream",
     "text": [
      "Epoch: 19, Average Training Loss: 3.243518510035106\n",
      "Epoch: 19, Average Validation Loss: 11.672439779554095\n"
     ]
    },
    {
     "name": "stderr",
     "output_type": "stream",
     "text": [
      "Epoch 20: 100%|███████████████████████████████| 28/28 [00:00<00:00, 1255.39it/s]\n"
     ]
    },
    {
     "name": "stdout",
     "output_type": "stream",
     "text": [
      "Epoch: 20, Average Training Loss: 3.2446476263659343\n",
      "Epoch: 20, Average Validation Loss: 11.71794046674456\n"
     ]
    },
    {
     "name": "stderr",
     "output_type": "stream",
     "text": [
      "Epoch 21: 100%|███████████████████████████████| 28/28 [00:00<00:00, 1277.29it/s]\n"
     ]
    },
    {
     "name": "stdout",
     "output_type": "stream",
     "text": [
      "Epoch: 21, Average Training Loss: 3.246021411248616\n",
      "Epoch: 21, Average Validation Loss: 11.758346625736781\n"
     ]
    },
    {
     "name": "stderr",
     "output_type": "stream",
     "text": [
      "Epoch 22: 100%|███████████████████████████████| 28/28 [00:00<00:00, 1254.42it/s]\n"
     ]
    },
    {
     "name": "stdout",
     "output_type": "stream",
     "text": [
      "Epoch: 22, Average Training Loss: 3.247567112956728\n",
      "Epoch: 22, Average Validation Loss: 11.794327190944127\n"
     ]
    },
    {
     "name": "stderr",
     "output_type": "stream",
     "text": [
      "Epoch 23: 100%|███████████████████████████████| 28/28 [00:00<00:00, 1469.00it/s]\n"
     ]
    },
    {
     "name": "stdout",
     "output_type": "stream",
     "text": [
      "Epoch: 23, Average Training Loss: 3.24922753231866\n",
      "Epoch: 23, Average Validation Loss: 11.82643631526402\n"
     ]
    },
    {
     "name": "stderr",
     "output_type": "stream",
     "text": [
      "Epoch 24: 100%|███████████████████████████████| 28/28 [00:00<00:00, 1444.96it/s]\n"
     ]
    },
    {
     "name": "stdout",
     "output_type": "stream",
     "text": [
      "Epoch: 24, Average Training Loss: 3.2509594346795763\n",
      "Epoch: 24, Average Validation Loss: 11.855125972202845\n"
     ]
    },
    {
     "name": "stderr",
     "output_type": "stream",
     "text": [
      "Epoch 25: 100%|███████████████████████████████| 28/28 [00:00<00:00, 1395.66it/s]\n"
     ]
    },
    {
     "name": "stdout",
     "output_type": "stream",
     "text": [
      "Epoch: 25, Average Training Loss: 3.252727666071483\n",
      "Epoch: 25, Average Validation Loss: 11.880784102848597\n"
     ]
    },
    {
     "name": "stderr",
     "output_type": "stream",
     "text": [
      "Epoch 26: 100%|███████████████████████████████| 28/28 [00:00<00:00, 1519.46it/s]\n"
     ]
    },
    {
     "name": "stdout",
     "output_type": "stream",
     "text": [
      "Epoch: 26, Average Training Loss: 3.254507073334285\n",
      "Epoch: 26, Average Validation Loss: 11.903735842023577\n"
     ]
    },
    {
     "name": "stderr",
     "output_type": "stream",
     "text": [
      "Epoch 27: 100%|███████████████████████████████| 28/28 [00:00<00:00, 1593.67it/s]\n"
     ]
    },
    {
     "name": "stdout",
     "output_type": "stream",
     "text": [
      "Epoch: 27, Average Training Loss: 3.256276862961905\n",
      "Epoch: 27, Average Validation Loss: 11.92427362714495\n"
     ]
    },
    {
     "name": "stderr",
     "output_type": "stream",
     "text": [
      "Epoch 28: 100%|███████████████████████████████| 28/28 [00:00<00:00, 1575.64it/s]\n"
     ]
    },
    {
     "name": "stdout",
     "output_type": "stream",
     "text": [
      "Epoch: 28, Average Training Loss: 3.258021899632045\n",
      "Epoch: 28, Average Validation Loss: 11.94263757978167\n"
     ]
    },
    {
     "name": "stderr",
     "output_type": "stream",
     "text": [
      "Epoch 29: 100%|███████████████████████████████| 28/28 [00:00<00:00, 1503.14it/s]\n"
     ]
    },
    {
     "name": "stdout",
     "output_type": "stream",
     "text": [
      "Epoch: 29, Average Training Loss: 3.2597306115286693\n",
      "Epoch: 29, Average Validation Loss: 11.959050791604179\n"
     ]
    },
    {
     "name": "stderr",
     "output_type": "stream",
     "text": [
      "Epoch 30: 100%|███████████████████████████████| 28/28 [00:00<00:00, 1532.39it/s]\n"
     ]
    },
    {
     "name": "stdout",
     "output_type": "stream",
     "text": [
      "Epoch: 30, Average Training Loss: 3.261394113302231\n",
      "Epoch: 30, Average Validation Loss: 11.973705972943987\n"
     ]
    },
    {
     "name": "stderr",
     "output_type": "stream",
     "text": [
      "Epoch 31: 100%|███████████████████████████████| 28/28 [00:00<00:00, 1627.10it/s]\n"
     ]
    },
    {
     "name": "stdout",
     "output_type": "stream",
     "text": [
      "Epoch: 31, Average Training Loss: 3.2630077472754886\n",
      "Epoch: 31, Average Validation Loss: 11.986780439104352\n"
     ]
    },
    {
     "name": "stderr",
     "output_type": "stream",
     "text": [
      "Epoch 32: 100%|███████████████████████████████| 28/28 [00:00<00:00, 1669.64it/s]\n"
     ]
    },
    {
     "name": "stdout",
     "output_type": "stream",
     "text": [
      "Epoch: 32, Average Training Loss: 3.264565625361034\n",
      "Epoch: 32, Average Validation Loss: 11.998437064034599\n"
     ]
    },
    {
     "name": "stderr",
     "output_type": "stream",
     "text": [
      "Epoch 33: 100%|███████████████████████████████| 28/28 [00:00<00:00, 1594.86it/s]\n"
     ]
    },
    {
     "name": "stdout",
     "output_type": "stream",
     "text": [
      "Epoch: 33, Average Training Loss: 3.2660671302250455\n",
      "Epoch: 33, Average Validation Loss: 12.00881576538086\n"
     ]
    },
    {
     "name": "stderr",
     "output_type": "stream",
     "text": [
      "Epoch 34: 100%|███████████████████████████████| 28/28 [00:00<00:00, 1491.48it/s]\n"
     ]
    },
    {
     "name": "stdout",
     "output_type": "stream",
     "text": [
      "Epoch: 34, Average Training Loss: 3.267509571143559\n",
      "Epoch: 34, Average Validation Loss: 12.018049716949463\n"
     ]
    },
    {
     "name": "stderr",
     "output_type": "stream",
     "text": [
      "Epoch 35: 100%|███████████████████████████████| 28/28 [00:00<00:00, 1502.08it/s]\n"
     ]
    },
    {
     "name": "stdout",
     "output_type": "stream",
     "text": [
      "Epoch: 35, Average Training Loss: 3.26889220731599\n",
      "Epoch: 35, Average Validation Loss: 12.026252474103655\n"
     ]
    },
    {
     "name": "stderr",
     "output_type": "stream",
     "text": [
      "Epoch 36: 100%|███████████████████████████████| 28/28 [00:00<00:00, 1643.03it/s]\n"
     ]
    },
    {
     "name": "stdout",
     "output_type": "stream",
     "text": [
      "Epoch: 36, Average Training Loss: 3.270216499056135\n",
      "Epoch: 36, Average Validation Loss: 12.033538682120186\n"
     ]
    },
    {
     "name": "stderr",
     "output_type": "stream",
     "text": [
      "Epoch 37: 100%|███████████████████████████████| 28/28 [00:00<00:00, 1683.25it/s]\n"
     ]
    },
    {
     "name": "stdout",
     "output_type": "stream",
     "text": [
      "Epoch: 37, Average Training Loss: 3.271482242005212\n",
      "Epoch: 37, Average Validation Loss: 12.039998395102364\n"
     ]
    },
    {
     "name": "stderr",
     "output_type": "stream",
     "text": [
      "Epoch 38: 100%|███████████████████████████████| 28/28 [00:00<00:00, 1646.00it/s]\n"
     ]
    },
    {
     "name": "stdout",
     "output_type": "stream",
     "text": [
      "Epoch: 38, Average Training Loss: 3.272690781525203\n",
      "Epoch: 38, Average Validation Loss: 12.045727321079799\n"
     ]
    },
    {
     "name": "stderr",
     "output_type": "stream",
     "text": [
      "Epoch 39: 100%|███████████████████████████████| 28/28 [00:00<00:00, 1683.71it/s]\n"
     ]
    },
    {
     "name": "stdout",
     "output_type": "stream",
     "text": [
      "Epoch: 39, Average Training Loss: 3.273843450205667\n",
      "Epoch: 39, Average Validation Loss: 12.050801822117396\n"
     ]
    },
    {
     "name": "stderr",
     "output_type": "stream",
     "text": [
      "Epoch 40: 100%|███████████████████████████████| 28/28 [00:00<00:00, 1705.35it/s]\n"
     ]
    },
    {
     "name": "stdout",
     "output_type": "stream",
     "text": [
      "Epoch: 40, Average Training Loss: 3.274941712617874\n",
      "Epoch: 40, Average Validation Loss: 12.055293219430107\n"
     ]
    },
    {
     "name": "stderr",
     "output_type": "stream",
     "text": [
      "Epoch 41: 100%|███████████████████████████████| 28/28 [00:00<00:00, 1682.12it/s]\n"
     ]
    },
    {
     "name": "stdout",
     "output_type": "stream",
     "text": [
      "Epoch: 41, Average Training Loss: 3.27598779967853\n",
      "Epoch: 41, Average Validation Loss: 12.05926581791469\n"
     ]
    },
    {
     "name": "stderr",
     "output_type": "stream",
     "text": [
      "Epoch 42: 100%|███████████████████████████████| 28/28 [00:00<00:00, 1736.52it/s]\n"
     ]
    },
    {
     "name": "stdout",
     "output_type": "stream",
     "text": [
      "Epoch: 42, Average Training Loss: 3.2769821924822673\n",
      "Epoch: 42, Average Validation Loss: 12.062782696315221\n"
     ]
    },
    {
     "name": "stderr",
     "output_type": "stream",
     "text": [
      "Epoch 43: 100%|███████████████████████████████| 28/28 [00:00<00:00, 1743.92it/s]\n"
     ]
    },
    {
     "name": "stdout",
     "output_type": "stream",
     "text": [
      "Epoch: 43, Average Training Loss: 3.277927722249712\n",
      "Epoch: 43, Average Validation Loss: 12.065889426640101\n"
     ]
    },
    {
     "name": "stderr",
     "output_type": "stream",
     "text": [
      "Epoch 44: 100%|███████████████████████████████| 28/28 [00:00<00:00, 1502.41it/s]\n"
     ]
    },
    {
     "name": "stdout",
     "output_type": "stream",
     "text": [
      "Epoch: 44, Average Training Loss: 3.2788258620670865\n",
      "Epoch: 44, Average Validation Loss: 12.068640913282122\n"
     ]
    },
    {
     "name": "stderr",
     "output_type": "stream",
     "text": [
      "Epoch 45: 100%|███████████████████████████████| 28/28 [00:00<00:00, 1522.57it/s]\n"
     ]
    },
    {
     "name": "stdout",
     "output_type": "stream",
     "text": [
      "Epoch: 45, Average Training Loss: 3.27967831492424\n",
      "Epoch: 45, Average Validation Loss: 12.071072033473424\n"
     ]
    },
    {
     "name": "stderr",
     "output_type": "stream",
     "text": [
      "Epoch 46: 100%|███████████████████████████████| 28/28 [00:00<00:00, 1686.42it/s]\n"
     ]
    },
    {
     "name": "stdout",
     "output_type": "stream",
     "text": [
      "Epoch: 46, Average Training Loss: 3.2804867156914304\n",
      "Epoch: 46, Average Validation Loss: 12.07322325025286\n"
     ]
    },
    {
     "name": "stderr",
     "output_type": "stream",
     "text": [
      "Epoch 47: 100%|███████████████████████████████| 28/28 [00:00<00:00, 1488.96it/s]\n"
     ]
    },
    {
     "name": "stdout",
     "output_type": "stream",
     "text": [
      "Epoch: 47, Average Training Loss: 3.281252831220627\n",
      "Epoch: 47, Average Validation Loss: 12.075127601623535\n"
     ]
    },
    {
     "name": "stderr",
     "output_type": "stream",
     "text": [
      "Epoch 48: 100%|███████████████████████████████| 28/28 [00:00<00:00, 1628.38it/s]\n"
     ]
    },
    {
     "name": "stdout",
     "output_type": "stream",
     "text": [
      "Epoch: 48, Average Training Loss: 3.2819788115365163\n",
      "Epoch: 48, Average Validation Loss: 12.076812948499407\n"
     ]
    },
    {
     "name": "stderr",
     "output_type": "stream",
     "text": [
      "Epoch 49: 100%|███████████████████████████████| 28/28 [00:00<00:00, 1484.32it/s]\n"
     ]
    },
    {
     "name": "stdout",
     "output_type": "stream",
     "text": [
      "Epoch: 49, Average Training Loss: 3.2826653931822096\n",
      "Epoch: 49, Average Validation Loss: 12.078307356153216\n"
     ]
    },
    {
     "name": "stderr",
     "output_type": "stream",
     "text": [
      "Epoch 50: 100%|███████████████████████████████| 28/28 [00:00<00:00, 1490.61it/s]\n"
     ]
    },
    {
     "name": "stdout",
     "output_type": "stream",
     "text": [
      "Epoch: 50, Average Training Loss: 3.283314423901694\n",
      "Epoch: 50, Average Validation Loss: 12.079631464821952\n"
     ]
    },
    {
     "name": "stderr",
     "output_type": "stream",
     "text": [
      "Epoch 51: 100%|███████████████████████████████| 28/28 [00:00<00:00, 1466.72it/s]\n"
     ]
    },
    {
     "name": "stdout",
     "output_type": "stream",
     "text": [
      "Epoch: 51, Average Training Loss: 3.2839271809373582\n",
      "Epoch: 51, Average Validation Loss: 12.08080782209124\n"
     ]
    },
    {
     "name": "stderr",
     "output_type": "stream",
     "text": [
      "Epoch 52: 100%|███████████████████████████████| 28/28 [00:00<00:00, 1519.40it/s]\n"
     ]
    },
    {
     "name": "stdout",
     "output_type": "stream",
     "text": [
      "Epoch: 52, Average Training Loss: 3.284505537578038\n",
      "Epoch: 52, Average Validation Loss: 12.081854820251465\n"
     ]
    },
    {
     "name": "stderr",
     "output_type": "stream",
     "text": [
      "Epoch 53: 100%|███████████████████████████████| 28/28 [00:00<00:00, 1491.86it/s]\n"
     ]
    },
    {
     "name": "stdout",
     "output_type": "stream",
     "text": [
      "Epoch: 53, Average Training Loss: 3.2850504304681505\n",
      "Epoch: 53, Average Validation Loss: 12.082783562796456\n"
     ]
    },
    {
     "name": "stderr",
     "output_type": "stream",
     "text": [
      "Epoch 54: 100%|███████████████████████████████| 28/28 [00:00<00:00, 1539.17it/s]\n"
     ]
    },
    {
     "name": "stdout",
     "output_type": "stream",
     "text": [
      "Epoch: 54, Average Training Loss: 3.285563294376646\n",
      "Epoch: 54, Average Validation Loss: 12.083614349365234\n"
     ]
    },
    {
     "name": "stderr",
     "output_type": "stream",
     "text": [
      "Epoch 55: 100%|███████████████████████████████| 28/28 [00:00<00:00, 1526.51it/s]\n"
     ]
    },
    {
     "name": "stdout",
     "output_type": "stream",
     "text": [
      "Epoch: 55, Average Training Loss: 3.2860458322933743\n",
      "Epoch: 55, Average Validation Loss: 12.084353242601667\n"
     ]
    },
    {
     "name": "stderr",
     "output_type": "stream",
     "text": [
      "Epoch 56: 100%|███████████████████████████████| 28/28 [00:00<00:00, 1518.56it/s]\n"
     ]
    },
    {
     "name": "stdout",
     "output_type": "stream",
     "text": [
      "Epoch: 56, Average Training Loss: 3.286498303924288\n",
      "Epoch: 56, Average Validation Loss: 12.085018021719796\n"
     ]
    },
    {
     "name": "stderr",
     "output_type": "stream",
     "text": [
      "Epoch 57: 100%|███████████████████████████████| 28/28 [00:00<00:00, 1510.43it/s]\n"
     ]
    },
    {
     "name": "stdout",
     "output_type": "stream",
     "text": [
      "Epoch: 57, Average Training Loss: 3.2869221227509633\n",
      "Epoch: 57, Average Validation Loss: 12.085611479622978\n"
     ]
    },
    {
     "name": "stderr",
     "output_type": "stream",
     "text": [
      "Epoch 58: 100%|███████████████████████████████| 28/28 [00:00<00:00, 1498.29it/s]\n"
     ]
    },
    {
     "name": "stdout",
     "output_type": "stream",
     "text": [
      "Epoch: 58, Average Training Loss: 3.287318387201854\n",
      "Epoch: 58, Average Validation Loss: 12.086146831512451\n"
     ]
    },
    {
     "name": "stderr",
     "output_type": "stream",
     "text": [
      "Epoch 59: 100%|███████████████████████████████| 28/28 [00:00<00:00, 1512.24it/s]\n"
     ]
    },
    {
     "name": "stdout",
     "output_type": "stream",
     "text": [
      "Epoch: 59, Average Training Loss: 3.28768857887813\n",
      "Epoch: 59, Average Validation Loss: 12.08662475858416\n"
     ]
    },
    {
     "name": "stderr",
     "output_type": "stream",
     "text": [
      "Epoch 60: 100%|███████████████████████████████| 28/28 [00:00<00:00, 1480.91it/s]\n"
     ]
    },
    {
     "name": "stdout",
     "output_type": "stream",
     "text": [
      "Epoch: 60, Average Training Loss: 3.288033217191696\n",
      "Epoch: 60, Average Validation Loss: 12.087059565952845\n"
     ]
    },
    {
     "name": "stderr",
     "output_type": "stream",
     "text": [
      "Epoch 61: 100%|███████████████████████████████| 28/28 [00:00<00:00, 1623.21it/s]\n"
     ]
    },
    {
     "name": "stdout",
     "output_type": "stream",
     "text": [
      "Epoch: 61, Average Training Loss: 3.288353298391615\n",
      "Epoch: 61, Average Validation Loss: 12.087448937552315\n"
     ]
    },
    {
     "name": "stderr",
     "output_type": "stream",
     "text": [
      "Epoch 62: 100%|███████████████████████████████| 28/28 [00:00<00:00, 1697.83it/s]\n"
     ]
    },
    {
     "name": "stdout",
     "output_type": "stream",
     "text": [
      "Epoch: 62, Average Training Loss: 3.288650163582393\n",
      "Epoch: 62, Average Validation Loss: 12.087805611746651\n"
     ]
    },
    {
     "name": "stderr",
     "output_type": "stream",
     "text": [
      "Epoch 63: 100%|███████████████████████████████| 28/28 [00:00<00:00, 1705.82it/s]\n"
     ]
    },
    {
     "name": "stdout",
     "output_type": "stream",
     "text": [
      "Epoch: 63, Average Training Loss: 3.288924195936748\n",
      "Epoch: 63, Average Validation Loss: 12.08812495640346\n"
     ]
    },
    {
     "name": "stderr",
     "output_type": "stream",
     "text": [
      "Epoch 64: 100%|███████████████████████████████| 28/28 [00:00<00:00, 1717.12it/s]\n"
     ]
    },
    {
     "name": "stdout",
     "output_type": "stream",
     "text": [
      "Epoch: 64, Average Training Loss: 3.2891755614961897\n",
      "Epoch: 64, Average Validation Loss: 12.088417325701032\n"
     ]
    },
    {
     "name": "stderr",
     "output_type": "stream",
     "text": [
      "Epoch 65: 100%|███████████████████████████████| 28/28 [00:00<00:00, 1718.00it/s]\n"
     ]
    },
    {
     "name": "stdout",
     "output_type": "stream",
     "text": [
      "Epoch: 65, Average Training Loss: 3.2894069850444794\n",
      "Epoch: 65, Average Validation Loss: 12.088685989379883\n"
     ]
    },
    {
     "name": "stderr",
     "output_type": "stream",
     "text": [
      "Epoch 66: 100%|███████████████████████████████| 28/28 [00:00<00:00, 1699.94it/s]\n"
     ]
    },
    {
     "name": "stdout",
     "output_type": "stream",
     "text": [
      "Epoch: 66, Average Training Loss: 3.289617581026895\n",
      "Epoch: 66, Average Validation Loss: 12.088927813938685\n"
     ]
    },
    {
     "name": "stderr",
     "output_type": "stream",
     "text": [
      "Epoch 67: 100%|███████████████████████████████| 28/28 [00:00<00:00, 1674.85it/s]\n"
     ]
    },
    {
     "name": "stdout",
     "output_type": "stream",
     "text": [
      "Epoch: 67, Average Training Loss: 3.2898087969848087\n",
      "Epoch: 67, Average Validation Loss: 12.089152268001012\n"
     ]
    },
    {
     "name": "stderr",
     "output_type": "stream",
     "text": [
      "Epoch 68: 100%|███████████████████████████████| 28/28 [00:00<00:00, 1672.20it/s]\n"
     ]
    },
    {
     "name": "stdout",
     "output_type": "stream",
     "text": [
      "Epoch: 68, Average Training Loss: 3.2899803050926755\n",
      "Epoch: 68, Average Validation Loss: 12.089355877467565\n"
     ]
    },
    {
     "name": "stderr",
     "output_type": "stream",
     "text": [
      "Epoch 69: 100%|███████████████████████████████| 28/28 [00:00<00:00, 1506.71it/s]\n"
     ]
    },
    {
     "name": "stdout",
     "output_type": "stream",
     "text": [
      "Epoch: 69, Average Training Loss: 3.29013415319579\n",
      "Epoch: 69, Average Validation Loss: 12.089540754045759\n"
     ]
    },
    {
     "name": "stderr",
     "output_type": "stream",
     "text": [
      "Epoch 70: 100%|███████████████████████████████| 28/28 [00:00<00:00, 1556.25it/s]\n"
     ]
    },
    {
     "name": "stdout",
     "output_type": "stream",
     "text": [
      "Epoch: 70, Average Training Loss: 3.290270677634648\n",
      "Epoch: 70, Average Validation Loss: 12.089714935847692\n"
     ]
    },
    {
     "name": "stderr",
     "output_type": "stream",
     "text": [
      "Epoch 71: 100%|███████████████████████████████| 28/28 [00:00<00:00, 1713.03it/s]\n"
     ]
    },
    {
     "name": "stdout",
     "output_type": "stream",
     "text": [
      "Epoch: 71, Average Training Loss: 3.290389891181673\n",
      "Epoch: 71, Average Validation Loss: 12.089873041425433\n"
     ]
    },
    {
     "name": "stderr",
     "output_type": "stream",
     "text": [
      "Epoch 72: 100%|███████████████████████████████| 28/28 [00:00<00:00, 1735.49it/s]\n"
     ]
    },
    {
     "name": "stdout",
     "output_type": "stream",
     "text": [
      "Epoch: 72, Average Training Loss: 3.290492888007845\n",
      "Epoch: 72, Average Validation Loss: 12.090019157954625\n"
     ]
    },
    {
     "name": "stderr",
     "output_type": "stream",
     "text": [
      "Epoch 73: 100%|███████████████████████████████| 28/28 [00:00<00:00, 1507.50it/s]\n"
     ]
    },
    {
     "name": "stdout",
     "output_type": "stream",
     "text": [
      "Epoch: 73, Average Training Loss: 3.2905802002974918\n",
      "Epoch: 73, Average Validation Loss: 12.090151514325823\n"
     ]
    },
    {
     "name": "stderr",
     "output_type": "stream",
     "text": [
      "Epoch 74: 100%|███████████████████████████████| 28/28 [00:00<00:00, 1520.64it/s]\n"
     ]
    },
    {
     "name": "stdout",
     "output_type": "stream",
     "text": [
      "Epoch: 74, Average Training Loss: 3.2906515981469835\n",
      "Epoch: 74, Average Validation Loss: 12.09027808053153\n"
     ]
    },
    {
     "name": "stderr",
     "output_type": "stream",
     "text": [
      "Epoch 75: 100%|███████████████████████████████| 28/28 [00:00<00:00, 1503.57it/s]\n"
     ]
    },
    {
     "name": "stdout",
     "output_type": "stream",
     "text": [
      "Epoch: 75, Average Training Loss: 3.290709320987974\n",
      "Epoch: 75, Average Validation Loss: 12.090390682220459\n"
     ]
    },
    {
     "name": "stderr",
     "output_type": "stream",
     "text": [
      "Epoch 76: 100%|███████████████████████████████| 28/28 [00:00<00:00, 1602.74it/s]\n"
     ]
    },
    {
     "name": "stdout",
     "output_type": "stream",
     "text": [
      "Epoch: 76, Average Training Loss: 3.2907521980149403\n",
      "Epoch: 76, Average Validation Loss: 12.090497085026332\n"
     ]
    },
    {
     "name": "stderr",
     "output_type": "stream",
     "text": [
      "Epoch 77: 100%|███████████████████████████████| 28/28 [00:00<00:00, 1460.78it/s]\n"
     ]
    },
    {
     "name": "stdout",
     "output_type": "stream",
     "text": [
      "Epoch: 77, Average Training Loss: 3.2907817789486478\n",
      "Epoch: 77, Average Validation Loss: 12.090591090066093\n"
     ]
    },
    {
     "name": "stderr",
     "output_type": "stream",
     "text": [
      "Epoch 78: 100%|███████████████████████████████| 28/28 [00:00<00:00, 1505.18it/s]\n"
     ]
    },
    {
     "name": "stdout",
     "output_type": "stream",
     "text": [
      "Epoch: 78, Average Training Loss: 3.290797850915364\n",
      "Epoch: 78, Average Validation Loss: 12.090679577418737\n"
     ]
    },
    {
     "name": "stderr",
     "output_type": "stream",
     "text": [
      "Epoch 79: 100%|███████████████████████████████| 28/28 [00:00<00:00, 1476.59it/s]\n"
     ]
    },
    {
     "name": "stdout",
     "output_type": "stream",
     "text": [
      "Epoch: 79, Average Training Loss: 3.2908012866973877\n",
      "Epoch: 79, Average Validation Loss: 12.09076418195452\n"
     ]
    },
    {
     "name": "stderr",
     "output_type": "stream",
     "text": [
      "Epoch 80: 100%|███████████████████████████████| 28/28 [00:00<00:00, 1504.99it/s]\n"
     ]
    },
    {
     "name": "stdout",
     "output_type": "stream",
     "text": [
      "Epoch: 80, Average Training Loss: 3.2907920479774475\n",
      "Epoch: 80, Average Validation Loss: 12.090836252485003\n"
     ]
    },
    {
     "name": "stderr",
     "output_type": "stream",
     "text": [
      "Epoch 81: 100%|███████████████████████████████| 28/28 [00:00<00:00, 1492.41it/s]\n"
     ]
    },
    {
     "name": "stdout",
     "output_type": "stream",
     "text": [
      "Epoch: 81, Average Training Loss: 3.290771177836827\n",
      "Epoch: 81, Average Validation Loss: 12.090903145926339\n"
     ]
    },
    {
     "name": "stderr",
     "output_type": "stream",
     "text": [
      "Epoch 82: 100%|███████████████████████████████| 28/28 [00:00<00:00, 1637.94it/s]\n"
     ]
    },
    {
     "name": "stdout",
     "output_type": "stream",
     "text": [
      "Epoch: 82, Average Training Loss: 3.2907383825097765\n",
      "Epoch: 82, Average Validation Loss: 12.090969358171735\n"
     ]
    },
    {
     "name": "stderr",
     "output_type": "stream",
     "text": [
      "Epoch 83: 100%|███████████████████████████████| 28/28 [00:00<00:00, 1550.90it/s]\n"
     ]
    },
    {
     "name": "stdout",
     "output_type": "stream",
     "text": [
      "Epoch: 83, Average Training Loss: 3.290694994585855\n",
      "Epoch: 83, Average Validation Loss: 12.091023240770612\n"
     ]
    },
    {
     "name": "stderr",
     "output_type": "stream",
     "text": [
      "Epoch 84: 100%|███████████████████████████████| 28/28 [00:00<00:00, 1524.92it/s]\n"
     ]
    },
    {
     "name": "stdout",
     "output_type": "stream",
     "text": [
      "Epoch: 84, Average Training Loss: 3.290640728814261\n",
      "Epoch: 84, Average Validation Loss: 12.091076850891113\n"
     ]
    },
    {
     "name": "stderr",
     "output_type": "stream",
     "text": [
      "Epoch 85: 100%|███████████████████████████████| 28/28 [00:00<00:00, 1541.52it/s]\n"
     ]
    },
    {
     "name": "stdout",
     "output_type": "stream",
     "text": [
      "Epoch: 85, Average Training Loss: 3.2905758789607455\n",
      "Epoch: 85, Average Validation Loss: 12.091123104095459\n"
     ]
    },
    {
     "name": "stderr",
     "output_type": "stream",
     "text": [
      "Epoch 86: 100%|███████████████████████████████| 28/28 [00:00<00:00, 1548.31it/s]\n"
     ]
    },
    {
     "name": "stdout",
     "output_type": "stream",
     "text": [
      "Epoch: 86, Average Training Loss: 3.2905010155269077\n",
      "Epoch: 86, Average Validation Loss: 12.09116452080863\n"
     ]
    },
    {
     "name": "stderr",
     "output_type": "stream",
     "text": [
      "Epoch 87: 100%|███████████████████████████████| 28/28 [00:00<00:00, 1563.23it/s]\n"
     ]
    },
    {
     "name": "stdout",
     "output_type": "stream",
     "text": [
      "Epoch: 87, Average Training Loss: 3.2904167601040433\n",
      "Epoch: 87, Average Validation Loss: 12.091200760432653\n"
     ]
    },
    {
     "name": "stderr",
     "output_type": "stream",
     "text": [
      "Epoch 88: 100%|███████████████████████████████| 28/28 [00:00<00:00, 1469.60it/s]\n"
     ]
    },
    {
     "name": "stdout",
     "output_type": "stream",
     "text": [
      "Epoch: 88, Average Training Loss: 3.2903229764529636\n",
      "Epoch: 88, Average Validation Loss: 12.091232912881035\n"
     ]
    },
    {
     "name": "stderr",
     "output_type": "stream",
     "text": [
      "Epoch 89: 100%|███████████████████████████████| 28/28 [00:00<00:00, 1491.93it/s]\n"
     ]
    },
    {
     "name": "stdout",
     "output_type": "stream",
     "text": [
      "Epoch: 89, Average Training Loss: 3.2902200434889113\n",
      "Epoch: 89, Average Validation Loss: 12.091262749263219\n"
     ]
    },
    {
     "name": "stderr",
     "output_type": "stream",
     "text": [
      "Epoch 90: 100%|███████████████████████████████| 28/28 [00:00<00:00, 1452.86it/s]\n"
     ]
    },
    {
     "name": "stdout",
     "output_type": "stream",
     "text": [
      "Epoch: 90, Average Training Loss: 3.2901082932949066\n",
      "Epoch: 90, Average Validation Loss: 12.09128475189209\n"
     ]
    },
    {
     "name": "stderr",
     "output_type": "stream",
     "text": [
      "Epoch 91: 100%|███████████████████████████████| 28/28 [00:00<00:00, 1471.15it/s]\n"
     ]
    },
    {
     "name": "stdout",
     "output_type": "stream",
     "text": [
      "Epoch: 91, Average Training Loss: 3.2899884411266873\n",
      "Epoch: 91, Average Validation Loss: 12.091303893498011\n"
     ]
    },
    {
     "name": "stderr",
     "output_type": "stream",
     "text": [
      "Epoch 92: 100%|███████████████████████████████| 28/28 [00:00<00:00, 1502.85it/s]\n"
     ]
    },
    {
     "name": "stdout",
     "output_type": "stream",
     "text": [
      "Epoch: 92, Average Training Loss: 3.289860193218504\n",
      "Epoch: 92, Average Validation Loss: 12.091320174080986\n"
     ]
    },
    {
     "name": "stderr",
     "output_type": "stream",
     "text": [
      "Epoch 93: 100%|███████████████████████████████| 28/28 [00:00<00:00, 1311.60it/s]\n"
     ]
    },
    {
     "name": "stdout",
     "output_type": "stream",
     "text": [
      "Epoch: 93, Average Training Loss: 3.2897242520536696\n",
      "Epoch: 93, Average Validation Loss: 12.091334002358574\n"
     ]
    },
    {
     "name": "stderr",
     "output_type": "stream",
     "text": [
      "Epoch 94: 100%|███████████████████████████████| 28/28 [00:00<00:00, 1323.65it/s]\n"
     ]
    },
    {
     "name": "stdout",
     "output_type": "stream",
     "text": [
      "Epoch: 94, Average Training Loss: 3.289580362183707\n",
      "Epoch: 94, Average Validation Loss: 12.091343198503766\n"
     ]
    },
    {
     "name": "stderr",
     "output_type": "stream",
     "text": [
      "Epoch 95: 100%|███████████████████████████████| 28/28 [00:00<00:00, 1330.65it/s]\n"
     ]
    },
    {
     "name": "stdout",
     "output_type": "stream",
     "text": [
      "Epoch: 95, Average Training Loss: 3.289428953613554\n",
      "Epoch: 95, Average Validation Loss: 12.091348239353724\n"
     ]
    },
    {
     "name": "stderr",
     "output_type": "stream",
     "text": [
      "Epoch 96: 100%|███████████████████████████████| 28/28 [00:00<00:00, 1343.65it/s]\n"
     ]
    },
    {
     "name": "stdout",
     "output_type": "stream",
     "text": [
      "Epoch: 96, Average Training Loss: 3.289271205663681\n",
      "Epoch: 96, Average Validation Loss: 12.091352258409772\n"
     ]
    },
    {
     "name": "stderr",
     "output_type": "stream",
     "text": [
      "Epoch 97: 100%|███████████████████████████████| 28/28 [00:00<00:00, 1749.27it/s]\n"
     ]
    },
    {
     "name": "stdout",
     "output_type": "stream",
     "text": [
      "Epoch: 97, Average Training Loss: 3.2891062753541127\n",
      "Epoch: 97, Average Validation Loss: 12.091350419180733\n"
     ]
    },
    {
     "name": "stderr",
     "output_type": "stream",
     "text": [
      "Epoch 98: 100%|███████████████████████████████| 28/28 [00:00<00:00, 1751.46it/s]\n"
     ]
    },
    {
     "name": "stdout",
     "output_type": "stream",
     "text": [
      "Epoch: 98, Average Training Loss: 3.2889343925884793\n",
      "Epoch: 98, Average Validation Loss: 12.091347694396973\n"
     ]
    },
    {
     "name": "stderr",
     "output_type": "stream",
     "text": [
      "Epoch 99: 100%|███████████████████████████████| 28/28 [00:00<00:00, 1736.64it/s]"
     ]
    },
    {
     "name": "stdout",
     "output_type": "stream",
     "text": [
      "Epoch: 99, Average Training Loss: 3.2887560299464633\n",
      "Epoch: 99, Average Validation Loss: 12.09134020124163\n"
     ]
    },
    {
     "name": "stderr",
     "output_type": "stream",
     "text": [
      "\n"
     ]
    }
   ],
   "source": [
    "train_losses = []\n",
    "for epoch in range(EPOCHS):\n",
    "    model.train()\n",
    "    total_epoch_loss = 0\n",
    "    for batch_idx, (user_ids, movie_ids, ratings) in tqdm(enumerate(train_data_loader), total=len(train_data_loader), desc=f'Epoch {epoch}'):\n",
    "\n",
    "        optimiser.zero_grad()\n",
    "        predictions = model(user_ids, movie_ids)\n",
    "        loss = criterion(predictions, ratings)\n",
    "\n",
    "        loss.backward()\n",
    "        optimiser.step()\n",
    "        \n",
    "        batch_loss = loss.item()\n",
    "        total_epoch_loss += batch_loss\n",
    "        train_losses.append(batch_loss)\n",
    "    \n",
    "    avg_epoch_loss = total_epoch_loss / len(train_data_loader)\n",
    "    print(f'Epoch: {epoch}, Average Training Loss: {avg_epoch_loss}')\n",
    "\n",
    "    # Start validation phase\n",
    "    model.eval()  # Set the model to evaluation mode\n",
    "    total_validation_loss = 0\n",
    "    with torch.no_grad():  # Turn off gradients for validation, saves memory and computations\n",
    "        for user_ids, movie_ids, rating in validation_data_loader:\n",
    "            predictions = model(user_ids, movie_ids)\n",
    "            loss = criterion(predictions, ratings)\n",
    "            total_validation_loss += loss.item()\n",
    "    \n",
    "        avg_validation_loss = total_validation_loss / len(validation_data_loader)\n",
    "        print(f'Epoch: {epoch}, Average Validation Loss: {avg_validation_loss}')"
   ]
  },
  {
   "cell_type": "code",
   "execution_count": 12,
   "id": "63a5e18c-653c-4d10-9bac-b3669a38c95b",
   "metadata": {},
   "outputs": [
    {
     "data": {
      "text/plain": [
       "5.225997239351273"
      ]
     },
     "execution_count": 12,
     "metadata": {},
     "output_type": "execute_result"
    }
   ],
   "source": [
    "#test data\n",
    "model.eval()  # Switch to evaluation mode\n",
    "test_loss = 0\n",
    "correct_predictions = 0  # Fixed variable name for clarity\n",
    "total_contexts = 0\n",
    "\n",
    "with torch.no_grad():  # Disable gradient computation\n",
    "    for user_ids, movie_ids, ratings in test_data_loader:\n",
    "        predictions = model(user_ids,movie_ids)  # Generate predictions\n",
    "        # Calculate and accumulate loss\n",
    "        loss = criterion(predictions, ratings)\n",
    "        test_loss += loss.item()\n",
    "        \n",
    "        # # Reshape predictions to match [batch_size, context_size, vocab_size]\n",
    "        # predictions = predictions.view(-1, context_size, VOCAB_SIZE)\n",
    "        \n",
    "        # # Get top prediction for each context position\n",
    "        # top_predictions = predictions.argmax(dim=2)\n",
    "        \n",
    "        # # Calculate correct predictions\n",
    "        # correct_preds = (top_predictions == context).float().sum()\n",
    "        # correct_predictions += correct_preds.item()  # Accumulate correct predictions\n",
    "        \n",
    "        # total_contexts += context.numel()  # Total number of context word positions evaluated\n",
    "\n",
    "# Calculate final metrics\n",
    "test_loss /= len(test_data_loader)  # Average loss per batch\n",
    "# print('correct predictions = ',correct_predictions)\n",
    "# print('out of  = ',total_contexts)\n",
    "# accuracy = correct_predictions / total_contexts  # Compute accuracy\n",
    "\n",
    "# print(f'Test set: Average loss: {test_loss:.4f}, Accuracy: {accuracy:.4f}')\n",
    "\n",
    "# Evaluate the model\n",
    "# (This would involve using a separate validation set or performing cross-validation)\n",
    "test_loss"
   ]
  },
  {
   "cell_type": "markdown",
   "id": "3470ac7f-df21-40aa-94aa-32aa93606c9a",
   "metadata": {},
   "source": [
    "# Matching"
   ]
  },
  {
   "cell_type": "code",
   "execution_count": 13,
   "id": "f9289eb5-57c3-42bd-ba7f-7c519590d8c4",
   "metadata": {},
   "outputs": [],
   "source": [
    "#all users, with all movie ratings.\n",
    "def generate_all_ratings(model,num_users,num_movies):\n",
    "    #build matrix\n",
    "\n",
    "    #data already encoded....\n",
    "    all_data = [['dummy',mnm,unm,'dummy','0/10'] for unm in range(0,num_users) for mnm in range(0,num_movies)]\n",
    "    # print(all_data)\n",
    "    # print([em for em in all_data])\n",
    "    fake_encoder = Encoder([did[2] for did in all_data],[did[1] for did in all_data])\n",
    "    all_ds = CFDataset(all_data,fake_encoder)\n",
    "    \n",
    "    data_loader = DataLoader(all_ds, batch_size=1)\n",
    "    for uid,mid,ra in data_loader:\n",
    "        # print(uid,mid)\n",
    "        prediction = model(uid,mid)\n",
    "        yield (uid.item(),mid.item(),prediction.item())\n",
    "\n"
   ]
  },
  {
   "cell_type": "code",
   "execution_count": 14,
   "id": "788b3ed2-c265-4b06-a5b9-53fa0c63b904",
   "metadata": {},
   "outputs": [],
   "source": [
    "def create_ratings_tensor(data, num_users, num_movies):\n",
    "    # Initialize an empty tensor to hold the ratings\n",
    "    ratings_tensor = torch.zeros(num_users, num_movies)\n",
    "    \n",
    "    # Iterate over the data and fill the tensor\n",
    "    for entry in data:\n",
    "        user_id, movie_id, rating = entry\n",
    "        # Convert rating to float\n",
    "        rating = float(rating)\n",
    "        ratings_tensor[user_id, movie_id] = rating\n",
    "    \n",
    "    return ratings_tensor"
   ]
  },
  {
   "cell_type": "code",
   "execution_count": 15,
   "id": "ddd12391-a846-475e-be55-b2516a0ef7f9",
   "metadata": {},
   "outputs": [
    {
     "name": "stdout",
     "output_type": "stream",
     "text": [
      "tensor([[ 8.5879,  7.2435,  4.7832,  ...,  9.1175,  5.4541,  8.4582],\n",
      "        [ 8.2516,  6.9072,  4.4469,  ...,  8.7812,  5.1178,  8.1219],\n",
      "        [ 8.9950,  7.6506,  5.1903,  ...,  9.5246,  5.8612,  8.8653],\n",
      "        ...,\n",
      "        [ 9.1452,  7.8008,  5.3405,  ...,  9.6748,  6.0114,  9.0155],\n",
      "        [ 5.1471,  3.8027,  1.3424,  ...,  5.6767,  2.0133,  5.0174],\n",
      "        [ 1.4519,  0.1075, -2.3528,  ...,  1.9815, -1.6819,  1.3222]])\n"
     ]
    }
   ],
   "source": [
    "# Step 1: Generate Predictions\n",
    "predictions = [ra for ra in generate_all_ratings(model,num_users,num_movies)]\n",
    "# print(predictions)\n",
    "ratings_tensor = create_ratings_tensor(predictions,num_users,num_movies)\n",
    "print(ratings_tensor)\n",
    "# predictions[0]\n",
    "\n",
    "# ratings_tensor.shape\n",
    "\n",
    "# ratings_tensor[0]\n",
    "\n",
    "import torch.nn.functional as F\n",
    "\n",
    "# Assuming predicted_ratings is your tensor of predicted ratings\n",
    "# predicted_ratings.shape should be (num_users, num_movies)\n",
    "\n",
    "# # Calculate cosine similarity\n",
    "# user_similarities = F.cosine_similarity(ratings_tensor, ratings_tensor, dim=1)\n",
    "\n",
    "# user_similarities"
   ]
  },
  {
   "cell_type": "markdown",
   "id": "25d0c474-3481-489e-b494-047c64b14925",
   "metadata": {},
   "source": [
    "## COSINE SIMILARITY"
   ]
  },
  {
   "cell_type": "code",
   "execution_count": 16,
   "id": "a6cae1de-bc62-460e-b2db-f046961f4493",
   "metadata": {},
   "outputs": [
    {
     "name": "stdout",
     "output_type": "stream",
     "text": [
      "tensor([[  -inf, 1.0000, 1.0000,  ..., 0.9999, 0.9892, 0.6102],\n",
      "        [1.0000,   -inf, 0.9998,  ..., 0.9998, 0.9904, 0.6171],\n",
      "        [1.0000, 0.9998,   -inf,  ..., 1.0000, 0.9877, 0.6024],\n",
      "        ...,\n",
      "        [0.9999, 0.9998, 1.0000,  ...,   -inf, 0.9871, 0.5997],\n",
      "        [0.9892, 0.9904, 0.9877,  ..., 0.9871,   -inf, 0.7199],\n",
      "        [0.6102, 0.6171, 0.6024,  ..., 0.5997, 0.7199,   -inf]])\n"
     ]
    }
   ],
   "source": [
    "# Step 1: Normalize predicted ratings\n",
    "normalized_ratings = F.normalize(ratings_tensor, p=2, dim=1)\n",
    "\n",
    "# Step 2: Calculate cosine similarity\n",
    "user_similarities = torch.matmul(normalized_ratings, normalized_ratings.T)\n",
    "\n",
    "# Set diagonal elements to a large negative value to exclude self-similarity\n",
    "user_similarities.fill_diagonal_(-float('inf'))\n",
    "\n",
    "# You can optionally convert the similarities tensor to a numpy array for easier manipulation\n",
    "user_similarities_np = user_similarities.numpy()\n",
    "\n",
    "# Print or use the user similarities tensor\n",
    "print(user_similarities)"
   ]
  },
  {
   "cell_type": "markdown",
   "id": "6bb89e2b-202f-405a-a732-26cf09959925",
   "metadata": {},
   "source": [
    "### Matches"
   ]
  },
  {
   "cell_type": "code",
   "execution_count": 17,
   "id": "c4e402f0-b39d-4599-9617-5fcf23d00a6d",
   "metadata": {},
   "outputs": [
    {
     "name": "stderr",
     "output_type": "stream",
     "text": [
      "/tmp/ipykernel_691281/2932596466.py:4: UserWarning: To copy construct from a tensor, it is recommended to use sourceTensor.clone().detach() or sourceTensor.clone().detach().requires_grad_(True), rather than torch.tensor(sourceTensor).\n",
      "  ranked_users = torch.argsort(torch.tensor(user_similarities[i]), descending=True)\n"
     ]
    }
   ],
   "source": [
    "top_matches = {}\n",
    "for i in range(len(user_similarities)):\n",
    "    # Sort similarities for the current user i\n",
    "    ranked_users = torch.argsort(torch.tensor(user_similarities[i]), descending=True)\n",
    "    # Exclude self from top matches (optional)\n",
    "    top_matches[i] = ranked_users[ranked_users != i]\n"
   ]
  },
  {
   "cell_type": "code",
   "execution_count": 18,
   "id": "5d560016-14da-4170-be81-43e27b094043",
   "metadata": {},
   "outputs": [
    {
     "data": {
      "text/plain": [
       "{0: tensor([74, 27, 18, 83, 29, 14, 47, 93,  3, 43,  4,  8, 94, 96, 33, 68, 72, 38,\n",
       "          9, 82, 90, 40, 41,  1,  2, 25, 60, 91, 44, 12, 49, 71, 57, 70, 24, 42,\n",
       "         97, 13, 66, 61, 51, 76, 48, 58, 88, 89, 21, 37, 45, 10, 30, 73, 16, 62,\n",
       "         85, 50, 26, 55, 34, 87, 84, 81, 46, 39,  5, 75, 19, 65, 59, 92, 36, 35,\n",
       "         78, 31,  6, 15, 67, 53, 17, 54,  7, 23, 86, 32, 77, 56, 63, 52, 79, 22,\n",
       "         95, 20, 11, 69, 80, 64, 28, 98, 99]),\n",
       " 1: tensor([41, 40, 82,  9, 72, 91, 44, 33, 12, 96, 71, 57, 24, 42, 13,  8,  4, 66,\n",
       "         51, 76,  3, 83, 18, 88, 27, 74,  0, 21, 37, 45, 29, 14, 30, 93, 47, 16,\n",
       "         43, 85, 94, 50, 26, 68, 38, 55, 34, 90, 87, 84, 81,  2, 46, 25, 60, 49,\n",
       "         70, 97, 75, 61, 65, 59, 92, 48, 36, 35, 78, 58, 31, 89,  6, 15, 10, 73,\n",
       "         67, 62, 53, 17, 54,  7, 39, 23,  5, 86, 19, 32, 77, 56, 63, 52, 79, 22,\n",
       "         20, 11, 69, 95, 80, 64, 28, 98, 99]),\n",
       " 2: tensor([25, 60, 90, 38, 49, 70, 68, 97, 61, 94, 48, 43, 58, 89, 47, 93, 14, 29,\n",
       "         10,  0, 73, 74, 27, 18, 83,  3, 62,  4,  8, 96, 33, 72,  9, 82, 39, 40,\n",
       "         41,  1,  5, 91, 44, 12, 19, 71, 57, 24, 42, 13, 66, 51, 76, 88, 21, 37,\n",
       "         45, 30, 16, 85, 50, 26, 55, 34, 87, 84, 81, 46, 75, 65, 59, 92, 36, 35,\n",
       "         78, 31,  6, 15, 67, 53, 95, 17, 54,  7, 23, 86, 32, 77, 56, 63, 52, 79,\n",
       "         22, 20, 11, 69, 80, 64, 28, 98, 99]),\n",
       " 3: tensor([ 4,  8, 83, 18, 27, 74,  0, 96, 33, 72, 29,  9, 82, 40, 41, 14, 93, 47,\n",
       "          1, 43, 91, 44, 12, 57, 71, 94, 24, 42, 68, 13, 66, 51, 76, 38, 90,  2,\n",
       "         25, 60, 88, 21, 37, 49, 45, 70, 97, 61, 30, 48, 16, 58, 89, 85, 50, 26,\n",
       "         55, 10, 34, 87, 73, 84, 81, 46, 62, 75, 65, 59, 92, 36, 35, 78, 31, 39,\n",
       "          5,  6, 15, 19, 67, 53, 17, 54,  7, 23, 86, 32, 77, 56, 63, 52, 79, 22,\n",
       "         95, 20, 11, 69, 80, 64, 28, 98, 99]),\n",
       " 4: tensor([ 8,  3, 96, 33, 83, 18, 72, 27, 74,  9, 82, 40, 41,  0,  1, 29, 91, 14,\n",
       "         44, 93, 47, 12, 71, 57, 43, 24, 42, 13, 66, 51, 76, 94, 68, 38, 88, 90,\n",
       "         21, 37, 45,  2, 25, 60, 30, 49, 70, 16, 97, 61, 48, 85, 50, 26, 58, 89,\n",
       "         55, 34, 87, 84, 81, 46, 10, 73, 75, 62, 65, 59, 92, 36, 35, 78, 31, 39,\n",
       "          6, 15,  5, 19, 67, 53, 17, 54,  7, 23, 86, 32, 77, 56, 63, 52, 79, 22,\n",
       "         95, 20, 11, 69, 80, 64, 28, 98, 99]),\n",
       " 5: tensor([39, 19, 62, 73, 10, 89, 58, 48, 61, 97, 70, 49, 25, 60,  2, 90, 38, 68,\n",
       "         94, 43, 47, 93, 14, 29,  0, 74, 27, 18, 83,  3, 95,  4,  8, 96, 33, 72,\n",
       "          9, 82, 40, 41,  1, 91, 44, 12, 71, 57, 24, 42, 13, 66, 51, 76, 88, 21,\n",
       "         37, 45, 30, 16, 85, 50, 26, 55, 34, 87, 84, 81, 46, 75, 65, 59, 92, 36,\n",
       "         35, 78, 31,  6, 15, 67, 53, 17, 54,  7, 23, 86, 32, 77, 56, 63, 52, 79,\n",
       "         22, 20, 11, 69, 80, 64, 28, 98, 99]),\n",
       " 6: tensor([15, 67, 31, 78, 53, 35, 36, 92, 65, 59, 75, 17, 54,  7, 23, 46, 81, 84,\n",
       "         87, 86, 34, 55, 32, 77, 26, 50, 85, 56, 63, 52, 16, 79, 30, 45, 22, 37,\n",
       "         21, 88, 76, 51, 66, 13, 42, 24, 57, 71, 12, 44, 91,  1, 41, 40, 82,  9,\n",
       "         72, 33, 96,  8,  4,  3, 83, 18, 27, 74,  0, 20, 11, 29, 14, 69, 93, 47,\n",
       "         43, 94, 80, 68, 38, 90,  2, 25, 60, 49, 70, 97, 61, 48, 58, 89, 10, 73,\n",
       "         62, 39,  5, 19, 64, 95, 28, 98, 99]),\n",
       " 7: tensor([54, 17, 23, 53, 86, 67, 32, 77, 56, 63, 52, 15,  6, 79, 31, 78, 22, 35,\n",
       "         36, 92, 65, 59, 75, 46, 81, 84, 87, 34, 55, 26, 50, 85, 16, 30, 45, 37,\n",
       "         21, 88, 20, 11, 76, 51, 66, 13, 42, 69, 24, 57, 71, 12, 44, 91,  1, 41,\n",
       "         40, 82, 80,  9, 72, 33, 96,  8,  4,  3, 83, 18, 27, 74,  0, 29, 14, 93,\n",
       "         47, 43, 94, 68, 38, 90,  2, 25, 60, 49, 70, 97, 61, 48, 58, 64, 89, 10,\n",
       "         73, 62, 39,  5, 19, 28, 98, 95, 99]),\n",
       " 8: tensor([ 4,  3, 96, 33, 83, 72, 18, 27, 74,  9, 82, 40, 41,  0,  1, 29, 91, 44,\n",
       "         14, 93, 47, 12, 57, 71, 43, 24, 42, 13, 66, 51, 76, 94, 68, 88, 38, 90,\n",
       "         21, 37, 45,  2, 25, 60, 30, 49, 70, 16, 97, 61, 85, 48, 50, 26, 58, 89,\n",
       "         55, 34, 87, 84, 81, 46, 10, 73, 75, 62, 65, 59, 92, 36, 35, 78, 31, 39,\n",
       "          6, 15,  5, 67, 19, 53, 17, 54,  7, 23, 86, 32, 77, 56, 63, 52, 79, 22,\n",
       "         95, 20, 11, 69, 80, 64, 28, 98, 99]),\n",
       " 9: tensor([41, 82, 40,  1, 72, 33, 96, 91, 44, 12,  8,  4, 57, 71, 24, 42,  3, 13,\n",
       "         66, 51, 76, 83, 18, 27, 74,  0, 88, 29, 21, 37, 45, 14, 93, 47, 43, 30,\n",
       "         16, 94, 68, 85, 50, 38, 26, 90, 55, 34,  2, 25, 60, 87, 84, 81, 46, 49,\n",
       "         70, 97, 61, 48, 75, 65, 59, 92, 36, 58, 35, 89, 78, 31, 10, 73,  6, 15,\n",
       "         62, 67, 53, 17, 54, 39,  7,  5, 23, 19, 86, 32, 77, 56, 63, 52, 79, 22,\n",
       "         20, 11, 69, 95, 80, 64, 28, 98, 99]),\n",
       " 10: tensor([73, 89, 58, 62, 48, 61, 97, 70, 49, 39,  5, 60, 25,  2, 90, 19, 38, 68,\n",
       "         94, 43, 47, 93, 14, 29,  0, 74, 27, 18, 83,  3,  4,  8, 96, 33, 72,  9,\n",
       "         82, 40, 41,  1, 91, 44, 12, 71, 57, 24, 42, 13, 66, 51, 76, 88, 21, 37,\n",
       "         45, 30, 16, 95, 85, 50, 26, 55, 34, 87, 84, 81, 46, 75, 65, 59, 92, 36,\n",
       "         35, 78, 31,  6, 15, 67, 53, 17, 54,  7, 23, 86, 32, 77, 56, 63, 52, 79,\n",
       "         22, 20, 11, 69, 80, 64, 28, 98, 99]),\n",
       " 11: tensor([20, 69, 80, 22, 79, 52, 63, 56, 77, 32, 86, 23,  7, 64, 54, 17, 53, 67,\n",
       "         15,  6, 31, 78, 35, 36, 92, 59, 65, 75, 46, 81, 84, 87, 34, 55, 26, 50,\n",
       "         85, 16, 30, 45, 37, 21, 88, 76, 51, 66, 13, 42, 24, 57, 71, 12, 44, 91,\n",
       "          1, 41, 40, 82,  9, 28, 72, 33, 96,  8,  4,  3, 98, 83, 18, 27, 74,  0,\n",
       "         29, 14, 93, 47, 43, 94, 68, 38, 90,  2, 25, 60, 49, 70, 97, 61, 48, 58,\n",
       "         89, 10, 73, 62, 39,  5, 19, 95, 99]),\n",
       " 12: tensor([44, 57, 71, 91, 24, 42, 13, 66, 51, 76,  1, 41, 40,  9, 82, 72, 88, 33,\n",
       "         96, 21, 37, 45,  8,  4,  3, 30, 83, 16, 18, 27, 74,  0, 85, 50, 26, 29,\n",
       "         14, 93, 47, 55, 34, 87, 43, 84, 81, 46, 94, 68, 38, 90, 75, 65, 59, 92,\n",
       "         36, 35,  2, 25, 60, 78, 31, 49, 70, 97, 61,  6, 15, 48, 58, 89, 67, 53,\n",
       "         10, 73, 17, 54,  7, 62, 23, 86, 32, 77, 39, 56, 63, 52,  5, 79, 19, 22,\n",
       "         20, 11, 69, 80, 95, 64, 28, 98, 99]),\n",
       " 13: tensor([76, 51, 66, 42, 24, 57, 71, 12, 44, 91, 88,  1, 21, 37, 45, 41, 40,  9,\n",
       "         82, 72, 30, 33, 96, 16,  8,  4, 85,  3, 50, 26, 83, 18, 55, 27, 74, 34,\n",
       "         87,  0, 84, 81, 46, 29, 14, 93, 47, 43, 75, 65, 59, 92, 36, 35, 94, 78,\n",
       "         68, 31, 38, 90,  2, 25, 60,  6, 15, 49, 70, 97, 67, 61, 48, 53, 58, 17,\n",
       "         89, 54,  7, 10, 23, 73, 86, 32, 77, 62, 56, 63, 52, 79, 39,  5, 22, 19,\n",
       "         20, 11, 69, 80, 95, 64, 28, 98, 99]),\n",
       " 14: tensor([93, 29, 47, 43,  0, 74, 27, 94, 18, 83, 68,  3, 38, 90,  4,  8,  2, 25,\n",
       "         60, 96, 33, 72, 49, 70,  9, 82, 40, 41, 97,  1, 61, 48, 91, 44, 12, 58,\n",
       "         57, 71, 89, 24, 42, 13, 66, 51, 76, 10, 73, 88, 21, 37, 45, 62, 30, 16,\n",
       "         85, 39, 50, 26,  5, 55, 34, 87, 19, 84, 81, 46, 75, 65, 59, 92, 36, 35,\n",
       "         78, 31,  6, 15, 67, 53, 17, 54,  7, 23, 86, 32, 77, 56, 63, 52, 79, 22,\n",
       "         95, 20, 11, 69, 80, 64, 28, 98, 99]),\n",
       " 15: tensor([ 6, 67, 31, 78, 53, 35, 36, 92, 65, 59, 17, 75, 54,  7, 23, 46, 81, 84,\n",
       "         86, 87, 34, 55, 32, 77, 26, 50, 56, 63, 85, 52, 16, 79, 30, 22, 45, 37,\n",
       "         21, 88, 76, 51, 66, 13, 42, 24, 57, 71, 12, 44, 91,  1, 41, 40, 82,  9,\n",
       "         72, 33, 96,  8,  4,  3, 83, 18, 27, 74,  0, 20, 11, 29, 69, 14, 93, 47,\n",
       "         43, 94, 80, 68, 38, 90,  2, 25, 60, 49, 70, 97, 61, 48, 58, 89, 10, 73,\n",
       "         62, 39,  5, 19, 64, 95, 28, 98, 99]),\n",
       " 16: tensor([30, 85, 50, 26, 45, 37, 21, 55, 34, 87, 88, 84, 81, 46, 76, 51, 66, 13,\n",
       "         42, 24, 71, 57, 75, 12, 44, 65, 59, 91, 92, 36, 35, 78,  1, 31, 41, 40,\n",
       "         82,  9, 72, 33, 96,  6, 15,  8,  4,  3, 67, 83, 18, 53, 27, 74,  0, 17,\n",
       "         54, 29,  7, 14, 93, 47, 43, 23, 86, 94, 32, 68, 77, 38, 90, 56, 63, 52,\n",
       "          2, 25, 60, 79, 49, 70, 97, 22, 61, 48, 58, 89, 10, 73, 62, 39,  5, 19,\n",
       "         20, 11, 69, 80, 95, 64, 28, 98, 99]),\n",
       " 17: tensor([54,  7, 53, 23, 67, 86, 15, 32, 77,  6, 56, 63, 52, 31, 79, 78, 35, 36,\n",
       "         92, 59, 65, 75, 22, 46, 81, 84, 87, 34, 55, 26, 50, 85, 16, 30, 45, 37,\n",
       "         21, 88, 76, 51, 66, 13, 42, 24, 57, 71, 20, 11, 12, 44, 91, 69,  1, 41,\n",
       "         40, 82,  9, 72, 33, 96, 80,  8,  4,  3, 83, 18, 27, 74,  0, 29, 14, 93,\n",
       "         47, 43, 94, 68, 38, 90,  2, 25, 60, 49, 70, 97, 61, 48, 58, 89, 64, 10,\n",
       "         73, 62, 39,  5, 19, 28, 98, 95, 99]),\n",
       " 18: tensor([74, 83, 27,  0,  3,  4,  8, 29, 14, 93, 47, 96, 33, 43, 72, 82,  9, 40,\n",
       "         41, 94,  1, 68, 91, 38, 44, 90, 12, 71, 57, 24, 42,  2, 25, 60, 13, 66,\n",
       "         51, 76, 49, 70, 97, 61, 88, 48, 21, 37, 45, 58, 89, 30, 16, 10, 85, 73,\n",
       "         50, 26, 55, 34, 62, 87, 84, 81, 46, 39, 75, 65, 59,  5, 92, 36, 35, 78,\n",
       "         31, 19,  6, 15, 67, 53, 17, 54,  7, 23, 86, 32, 77, 56, 63, 52, 79, 22,\n",
       "         95, 20, 11, 69, 80, 64, 28, 98, 99]),\n",
       " 19: tensor([ 5, 39, 62, 73, 10, 89, 58, 48, 61, 97, 70, 49, 60, 25,  2, 90, 38, 68,\n",
       "         94, 43, 47, 93, 14, 29, 95,  0, 74, 27, 18, 83,  3,  4,  8, 96, 33, 72,\n",
       "          9, 82, 40, 41,  1, 91, 44, 12, 71, 57, 24, 42, 13, 66, 51, 76, 88, 21,\n",
       "         37, 45, 30, 16, 85, 50, 26, 55, 34, 87, 84, 81, 46, 75, 65, 59, 92, 36,\n",
       "         35, 78, 31,  6, 15, 67, 53, 17, 54,  7, 23, 86, 32, 77, 56, 63, 52, 79,\n",
       "         22, 20, 11, 69, 80, 64, 28, 98, 99]),\n",
       " 20: tensor([11, 69, 80, 22, 79, 52, 63, 56, 77, 32, 86, 23,  7, 54, 64, 17, 53, 67,\n",
       "         15,  6, 31, 78, 35, 36, 92, 59, 65, 75, 46, 81, 84, 87, 34, 55, 26, 50,\n",
       "         85, 16, 30, 45, 37, 21, 88, 76, 51, 66, 13, 42, 24, 57, 71, 12, 44, 91,\n",
       "          1, 41, 40, 82,  9, 72, 28, 33, 96,  8,  4,  3, 98, 83, 18, 27, 74,  0,\n",
       "         29, 14, 93, 47, 43, 94, 68, 38, 90,  2, 25, 60, 49, 70, 97, 61, 48, 58,\n",
       "         89, 10, 73, 62, 39,  5, 19, 95, 99]),\n",
       " 21: tensor([45, 37, 88, 30, 16, 51, 76, 66, 13, 85, 42, 24, 50, 57, 71, 26, 12, 44,\n",
       "         91, 55, 34, 87, 84, 81,  1, 46, 41, 40, 82,  9, 72, 33, 96, 75,  8,  4,\n",
       "         65, 59, 92, 36, 35,  3, 78, 31, 83, 18, 27, 74,  0,  6, 15, 29, 14, 93,\n",
       "         47, 43, 67, 53, 94, 68, 17, 54, 38, 90,  7,  2, 25, 60, 23, 86, 49, 70,\n",
       "         97, 61, 32, 77, 48, 56, 63, 52, 58, 89, 79, 10, 22, 73, 62, 39,  5, 19,\n",
       "         20, 11, 69, 80, 95, 64, 28, 98, 99]),\n",
       " 22: tensor([79, 52, 63, 56, 77, 32, 86, 23,  7, 54, 17, 53, 67, 15, 20,  6, 11, 69,\n",
       "         31, 78, 35, 36, 92, 59, 65, 75, 80, 46, 81, 84, 87, 34, 55, 26, 50, 85,\n",
       "         16, 30, 45, 37, 21, 88, 76, 51, 66, 13, 42, 24, 57, 71, 12, 44, 91,  1,\n",
       "         41, 40, 82,  9, 72, 33, 96, 64,  8,  4,  3, 83, 18, 27, 74,  0, 29, 14,\n",
       "         93, 47, 43, 94, 68, 38, 90,  2, 25, 60, 49, 70, 97, 61, 48, 58, 89, 10,\n",
       "         73, 62, 39,  5, 28, 19, 98, 95, 99]),\n",
       " 23: tensor([86,  7, 54, 32, 17, 77, 56, 63, 53, 52, 67, 79, 15,  6, 22, 31, 78, 35,\n",
       "         36, 92, 59, 65, 75, 46, 81, 84, 87, 34, 55, 26, 50, 85, 16, 30, 45, 20,\n",
       "         37, 21, 11, 69, 88, 76, 51, 66, 13, 42, 24, 57, 71, 80, 12, 44, 91,  1,\n",
       "         41, 40, 82,  9, 72, 33, 96,  8,  4,  3, 83, 18, 27, 74,  0, 29, 14, 93,\n",
       "         47, 43, 94, 68, 38, 90,  2, 25, 60, 49, 70, 64, 97, 61, 48, 58, 89, 10,\n",
       "         73, 62, 39,  5, 19, 28, 98, 95, 99]),\n",
       " 24: tensor([71, 42, 57, 13, 66, 12, 51, 76, 44, 91,  1, 88, 41, 40, 82,  9, 72, 21,\n",
       "         37, 45, 33, 96, 30,  8,  4, 16,  3, 85, 83, 18, 50, 27, 74, 26,  0, 55,\n",
       "         34, 87, 29, 84, 81, 14, 93, 47, 46, 43, 94, 75, 65, 59, 68, 92, 36, 35,\n",
       "         38, 90, 78, 31,  2, 25, 60, 49,  6, 70, 15, 97, 61, 48, 67, 58, 53, 89,\n",
       "         17, 54,  7, 10, 73, 23, 86, 62, 32, 77, 56, 63, 52, 39, 79,  5, 22, 19,\n",
       "         20, 11, 69, 80, 95, 64, 28, 98, 99]),\n",
       " 25: tensor([60,  2, 90, 49, 38, 70, 68, 97, 61, 94, 48, 58, 43, 89, 47, 93, 14, 29,\n",
       "         10,  0, 73, 74, 27, 18, 83,  3, 62,  4,  8, 96, 33, 72, 39,  9, 82, 40,\n",
       "         41,  1,  5, 91, 44, 12, 19, 71, 57, 24, 42, 13, 66, 51, 76, 88, 21, 37,\n",
       "         45, 30, 16, 85, 50, 26, 55, 34, 87, 84, 81, 46, 75, 65, 59, 92, 36, 35,\n",
       "         78, 31,  6, 15, 67, 53, 95, 17, 54,  7, 23, 86, 32, 77, 56, 63, 52, 79,\n",
       "         22, 20, 11, 69, 80, 64, 28, 98, 99]),\n",
       " 26: tensor([50, 85, 55, 34, 87, 84, 81, 16, 46, 30, 45, 37, 21, 75, 65, 59, 88, 92,\n",
       "         36, 35, 78, 31, 76, 51, 66, 13, 42, 24, 71, 57, 12,  6, 15, 44, 91,  1,\n",
       "         67, 41, 40, 82,  9, 72, 53, 33, 96, 17, 54,  8,  4,  7,  3, 23, 83, 18,\n",
       "         27, 74, 86,  0, 32, 77, 29, 14, 93, 47, 56, 63, 52, 43, 79, 94, 68, 22,\n",
       "         38, 90,  2, 25, 60, 49, 70, 97, 61, 48, 58, 89, 10, 73, 62, 20, 11, 39,\n",
       "         69,  5, 19, 80, 64, 95, 28, 98, 99]),\n",
       " 27: tensor([74, 83, 18,  0,  3, 29,  4, 14,  8, 93, 47, 43, 96, 33, 72, 94,  9, 82,\n",
       "         40, 41,  1, 68, 38, 90, 91, 44, 12,  2, 25, 60, 57, 71, 24, 42, 13, 66,\n",
       "         51, 76, 49, 70, 97, 61, 88, 48, 21, 37, 58, 45, 89, 30, 16, 10, 73, 85,\n",
       "         50, 26, 62, 55, 34, 87, 84, 81, 46, 39,  5, 75, 65, 59, 92, 36, 35, 78,\n",
       "         19, 31,  6, 15, 67, 53, 17, 54,  7, 23, 86, 32, 77, 56, 63, 52, 79, 22,\n",
       "         95, 20, 11, 69, 80, 64, 28, 98, 99]),\n",
       " 28: tensor([98, 64, 80, 69, 11, 20, 22, 79, 52, 63, 56, 77, 32, 86, 23,  7, 54, 17,\n",
       "         53, 67, 15,  6, 31, 78, 35, 36, 92, 59, 65, 75, 46, 81, 84, 87, 34, 55,\n",
       "         26, 50, 85, 16, 30, 45, 37, 21, 88, 76, 51, 66, 13, 42, 24, 57, 71, 12,\n",
       "         44, 91,  1, 41, 40, 82,  9, 72, 33, 96,  8,  4,  3, 83, 18, 27, 74,  0,\n",
       "         29, 14, 93, 47, 43, 94, 68, 38, 90,  2, 25, 60, 49, 70, 97, 61, 48, 58,\n",
       "         89, 10, 73, 62, 39,  5, 19, 95, 99]),\n",
       " 29: tensor([14, 93, 47,  0, 43, 74, 27, 18, 83, 94,  3, 68,  4,  8, 38, 90, 96, 33,\n",
       "          2, 25, 60, 72,  9, 82, 40, 41, 49,  1, 70, 97, 61, 91, 44, 48, 12, 57,\n",
       "         71, 24, 42, 58, 13, 66, 89, 51, 76, 10, 88, 73, 21, 37, 45, 62, 30, 16,\n",
       "         85, 50, 26, 39, 55,  5, 34, 87, 84, 81, 46, 19, 75, 65, 59, 92, 36, 35,\n",
       "         78, 31,  6, 15, 67, 53, 17, 54,  7, 23, 86, 32, 77, 56, 63, 52, 79, 22,\n",
       "         95, 20, 11, 69, 80, 64, 28, 98, 99]),\n",
       " 30: tensor([16, 45, 37, 21, 85, 50, 88, 26, 55, 34, 87, 76, 51, 66, 13, 84, 81, 42,\n",
       "         46, 24, 57, 71, 12, 44, 91, 75,  1, 41, 40, 65, 59, 82,  9, 92, 36, 35,\n",
       "         72, 78, 33, 96, 31,  8,  4,  3,  6, 15, 83, 18, 27, 74, 67,  0, 53, 29,\n",
       "         14, 93, 47, 17, 54, 43,  7, 94, 23, 68, 38, 86, 90, 32, 77,  2, 25, 60,\n",
       "         56, 63, 52, 49, 70, 79, 97, 61, 48, 22, 58, 89, 10, 73, 62, 39,  5, 19,\n",
       "         20, 11, 69, 80, 95, 64, 28, 98, 99]),\n",
       " 31: tensor([78, 35, 92, 36, 65, 59, 75,  6, 15, 67, 46, 81, 84, 53, 87, 34, 55, 17,\n",
       "         54, 26, 50,  7, 85, 23, 16, 30, 86, 32, 45, 77, 37, 21, 56, 63, 88, 52,\n",
       "         79, 76, 51, 66, 13, 42, 24, 57, 71, 22, 12, 44, 91,  1, 41, 40, 82,  9,\n",
       "         72, 33, 96,  8,  4,  3, 83, 18, 27, 74,  0, 29, 14, 93, 47, 43, 94, 20,\n",
       "         68, 11, 38, 90, 69,  2, 25, 60, 49, 70, 80, 97, 61, 48, 58, 89, 10, 73,\n",
       "         62, 39,  5, 19, 64, 95, 28, 98, 99]),\n",
       " 32: tensor([77, 56, 63, 86, 52, 23, 79,  7, 54, 17, 22, 53, 67, 15,  6, 31, 78, 35,\n",
       "         36, 92, 65, 59, 75, 46, 81, 84, 87, 34, 55, 20, 26, 11, 50, 85, 69, 16,\n",
       "         30, 45, 37, 80, 21, 88, 76, 51, 66, 13, 42, 24, 57, 71, 12, 44, 91,  1,\n",
       "         41, 40, 82,  9, 72, 33, 96,  8,  4,  3, 83, 18, 27, 74,  0, 29, 14, 93,\n",
       "         47, 43, 94, 64, 68, 38, 90,  2, 25, 60, 49, 70, 97, 61, 48, 58, 89, 10,\n",
       "         73, 62, 39,  5, 19, 28, 98, 95, 99]),\n",
       " 33: tensor([96, 72, 82,  9, 40, 41,  8,  4,  1,  3, 91, 44, 83, 18, 12, 27, 74, 71,\n",
       "         57, 24, 42,  0, 13, 66, 51, 76, 29, 14, 93, 47, 43, 88, 21, 37, 45, 94,\n",
       "         68, 30, 38, 90, 16,  2, 25, 60, 85, 50, 26, 49, 70, 55, 34, 97, 61, 87,\n",
       "         84, 81, 48, 46, 58, 89, 75, 65, 59, 92, 36, 10, 35, 78, 73, 31, 62,  6,\n",
       "         15, 67, 39, 53,  5, 17, 54, 19,  7, 23, 86, 32, 77, 56, 63, 52, 79, 22,\n",
       "         20, 95, 11, 69, 80, 64, 28, 98, 99]),\n",
       " 34: tensor([87, 55, 84, 81, 26, 46, 50, 85, 16, 75, 30, 65, 59, 92, 36, 35, 78, 45,\n",
       "         37, 21, 31, 88,  6, 15, 76, 51, 66, 13, 42, 24, 57, 71, 67, 12, 44, 91,\n",
       "         53,  1, 41, 17, 40, 82,  9, 54, 72,  7, 33, 96, 23,  8,  4, 86,  3, 32,\n",
       "         77, 83, 18, 27, 74, 56, 63,  0, 52, 79, 29, 14, 93, 47, 43, 22, 94, 68,\n",
       "         38, 90,  2, 25, 60, 49, 70, 97, 61, 48, 58, 89, 10, 73, 62, 20, 11, 69,\n",
       "         39,  5, 80, 19, 64, 95, 28, 98, 99]),\n",
       " 35: tensor([92, 36, 65, 78, 59, 75, 31,  6, 15, 46, 81, 84, 87, 34, 55, 67, 26, 50,\n",
       "         53, 85, 17, 16, 54,  7, 30, 23, 45, 37, 21, 86, 88, 32, 77, 56, 63, 76,\n",
       "         51, 66, 13, 52, 42, 24, 57, 71, 79, 12, 44, 91, 22,  1, 41, 40, 82,  9,\n",
       "         72, 33, 96,  8,  4,  3, 83, 18, 27, 74,  0, 29, 14, 93, 47, 43, 94, 68,\n",
       "         38, 90, 20,  2, 25, 60, 11, 69, 49, 70, 97, 61, 48, 80, 58, 89, 10, 73,\n",
       "         62, 39,  5, 19, 64, 95, 28, 98, 99]),\n",
       " 36: tensor([92, 35, 65, 59, 78, 75, 31, 46,  6, 15, 81, 84, 87, 34, 55, 67, 26, 50,\n",
       "         85, 53, 16, 17, 54, 30,  7, 45, 37, 23, 21, 86, 88, 32, 77, 76, 51, 56,\n",
       "         66, 63, 13, 52, 42, 24, 57, 71, 12, 79, 44, 91,  1, 22, 41, 40, 82,  9,\n",
       "         72, 33, 96,  8,  4,  3, 83, 18, 27, 74,  0, 29, 14, 93, 47, 43, 94, 68,\n",
       "         38, 90,  2, 25, 60, 20, 11, 49, 69, 70, 97, 61, 48, 58, 80, 89, 10, 73,\n",
       "         62, 39,  5, 19, 64, 95, 28, 98, 99]),\n",
       " 37: tensor([45, 21, 88, 30, 16, 76, 51, 66, 13, 85, 42, 50, 24, 71, 26, 57, 12, 44,\n",
       "         91, 55, 34, 87, 84, 81,  1, 46, 41, 40, 82,  9, 72, 33, 96, 75, 65, 59,\n",
       "          8,  4, 92, 36, 35,  3, 78, 31, 83, 18, 27, 74,  0,  6, 15, 29, 14, 93,\n",
       "         47, 43, 67, 53, 94, 68, 17, 54, 38, 90,  7,  2, 25, 60, 23, 86, 49, 70,\n",
       "         97, 32, 77, 61, 48, 56, 63, 52, 58, 89, 79, 10, 22, 73, 62, 39,  5, 19,\n",
       "         20, 11, 69, 80, 95, 64, 28, 98, 99]),\n",
       " 38: tensor([90, 68, 94,  2, 25, 60, 49, 43, 70, 47, 93, 97, 14, 61, 29, 48,  0, 58,\n",
       "         74, 27, 89, 18, 83,  3, 10,  4,  8, 73, 96, 33, 72, 62,  9, 82, 40, 41,\n",
       "          1, 91, 44, 12, 71, 57, 39, 24, 42, 13,  5, 66, 51, 76, 19, 88, 21, 37,\n",
       "         45, 30, 16, 85, 50, 26, 55, 34, 87, 84, 81, 46, 75, 65, 59, 92, 36, 35,\n",
       "         78, 31,  6, 15, 67, 53, 17, 54,  7, 23, 95, 86, 32, 77, 56, 63, 52, 79,\n",
       "         22, 20, 11, 69, 80, 64, 28, 98, 99]),\n",
       " 39: tensor([ 5, 19, 62, 73, 10, 89, 58, 48, 61, 97, 70, 49, 25, 60,  2, 90, 38, 68,\n",
       "         94, 43, 47, 93, 14, 29,  0, 74, 27, 18, 83,  3,  4,  8, 96, 33, 95, 72,\n",
       "          9, 82, 40, 41,  1, 91, 44, 12, 71, 57, 24, 42, 13, 66, 51, 76, 88, 21,\n",
       "         37, 45, 30, 16, 85, 50, 26, 55, 34, 87, 84, 81, 46, 75, 65, 59, 92, 36,\n",
       "         35, 78, 31,  6, 15, 67, 53, 17, 54,  7, 23, 86, 32, 77, 56, 63, 52, 79,\n",
       "         22, 20, 11, 69, 80, 64, 28, 98, 99]),\n",
       " 40: tensor([41, 82,  9,  1, 72, 33, 96, 91, 44, 12, 71, 57,  8,  4, 24, 42, 13,  3,\n",
       "         66, 51, 76, 83, 18, 27, 74, 88,  0, 21, 37, 29, 45, 14, 93, 47, 30, 43,\n",
       "         16, 94, 85, 68, 50, 26, 38, 90, 55, 34, 87,  2, 25, 60, 84, 81, 46, 49,\n",
       "         70, 97, 61, 48, 75, 65, 59, 92, 36, 35, 58, 78, 89, 31, 10, 73,  6, 15,\n",
       "         62, 67, 53, 17, 54, 39,  7,  5, 23, 19, 86, 32, 77, 56, 63, 52, 79, 22,\n",
       "         20, 11, 69, 95, 80, 64, 28, 98, 99]),\n",
       " 41: tensor([ 9,  1, 40, 82, 72, 33, 96, 91, 44, 12, 71, 57,  8,  4, 24, 42, 13, 66,\n",
       "          3, 51, 76, 83, 18, 27, 74, 88,  0, 21, 37, 45, 29, 14, 93, 47, 30, 43,\n",
       "         16, 94, 85, 50, 68, 26, 38, 90, 55, 34, 87,  2, 25, 60, 84, 81, 46, 49,\n",
       "         70, 97, 61, 75, 48, 65, 59, 92, 36, 35, 58, 78, 89, 31, 10,  6, 73, 15,\n",
       "         62, 67, 53, 17, 54, 39,  7,  5, 23, 19, 86, 32, 77, 56, 63, 52, 79, 22,\n",
       "         20, 11, 69, 95, 80, 64, 28, 98, 99]),\n",
       " 42: tensor([24, 71, 57, 66, 13, 51, 76, 12, 44, 91, 88,  1, 41, 40,  9, 82, 21, 37,\n",
       "         72, 45, 33, 96, 30,  8,  4, 16,  3, 85, 50, 83, 18, 26, 27, 74,  0, 55,\n",
       "         34, 87, 84, 81, 29, 46, 14, 93, 47, 43, 75, 94, 65, 59, 92, 36, 68, 35,\n",
       "         38, 78, 90, 31,  2, 25, 60,  6, 15, 49, 70, 97, 61, 48, 67, 53, 58, 89,\n",
       "         17, 54,  7, 10, 73, 23, 86, 62, 32, 77, 56, 63, 52, 39, 79,  5, 22, 19,\n",
       "         20, 11, 69, 80, 95, 64, 28, 98, 99]),\n",
       " 43: tensor([47, 93, 14, 29, 94, 68,  0, 38, 74, 90, 27, 18, 83,  2, 25, 60,  3,  4,\n",
       "          8, 49, 70, 97, 61, 96, 33, 72, 48, 82,  9, 40, 41,  1, 58, 89, 91, 44,\n",
       "         12, 71, 57, 10, 24, 42, 73, 13, 66, 51, 76, 62, 88, 21, 37, 45, 30, 39,\n",
       "         16,  5, 85, 50, 19, 26, 55, 34, 87, 84, 81, 46, 75, 65, 59, 92, 36, 35,\n",
       "         78, 31,  6, 15, 67, 53, 17, 54,  7, 23, 86, 32, 77, 56, 63, 52, 79, 95,\n",
       "         22, 20, 11, 69, 80, 64, 28, 98, 99]),\n",
       " 44: tensor([91, 12, 57, 71, 24, 42,  1, 13, 41, 40, 66, 51,  9, 82, 76, 72, 33, 96,\n",
       "         88,  8,  4, 21, 37, 45,  3, 30, 83, 18, 27, 74, 16,  0, 85, 29, 50, 14,\n",
       "         26, 93, 47, 43, 55, 34, 87, 84, 81, 46, 94, 68, 38, 90, 75,  2, 25, 60,\n",
       "         65, 59, 92, 36, 35, 78, 49, 70, 31, 97, 61, 48,  6, 15, 58, 89, 67, 10,\n",
       "         53, 73, 17, 54,  7, 62, 23, 86, 32, 39, 77,  5, 56, 63, 52, 19, 79, 22,\n",
       "         20, 11, 69, 80, 95, 64, 28, 98, 99]),\n",
       " 45: tensor([21, 37, 30, 88, 16, 76, 51, 66, 85, 13, 50, 42, 24, 26, 57, 71, 12, 55,\n",
       "         44, 34, 91, 87, 84, 81, 46,  1, 41, 40, 82,  9, 72, 33, 96, 75, 65, 59,\n",
       "          8, 92, 36,  4, 35, 78,  3, 31, 83, 18, 27, 74,  0,  6, 15, 29, 14, 93,\n",
       "         47, 67, 43, 53, 94, 17, 68, 54, 38,  7, 90,  2, 25, 60, 23, 86, 49, 70,\n",
       "         32, 77, 97, 61, 56, 48, 63, 52, 58, 79, 89, 22, 10, 73, 62, 39,  5, 19,\n",
       "         20, 11, 69, 80, 95, 64, 28, 98, 99]),\n",
       " 46: tensor([84, 81, 87, 34, 55, 26, 75, 50, 65, 59, 85, 92, 36, 35, 78, 16, 31, 30,\n",
       "         45, 37,  6, 21, 15, 88, 67, 53, 76, 51, 66, 13, 42, 24, 71, 57, 17, 54,\n",
       "         12, 44, 91,  7,  1, 23, 41, 40, 82,  9, 72, 86, 33, 96, 32, 77,  8,  4,\n",
       "         56, 63, 52,  3, 79, 83, 18, 27, 74,  0, 22, 29, 14, 93, 47, 43, 94, 68,\n",
       "         38, 90,  2, 25, 60, 49, 70, 97, 61, 48, 58, 89, 10, 20, 11, 73, 69, 62,\n",
       "         80, 39,  5, 19, 64, 95, 28, 98, 99]),\n",
       " 47: tensor([93, 14, 29, 43,  0, 94, 74, 27, 18, 83, 68, 38, 90,  3,  4,  8,  2, 25,\n",
       "         60, 96, 33, 49, 70, 72,  9, 82, 97, 40, 41, 61,  1, 48, 91, 44, 58, 12,\n",
       "         89, 71, 57, 24, 42, 13, 66, 51, 76, 10, 73, 88, 62, 21, 37, 45, 30, 16,\n",
       "         39, 85, 50,  5, 26, 55, 34, 19, 87, 84, 81, 46, 75, 65, 59, 92, 36, 35,\n",
       "         78, 31,  6, 15, 67, 53, 17, 54,  7, 23, 86, 32, 77, 56, 63, 52, 79, 22,\n",
       "         95, 20, 11, 69, 80, 64, 28, 98, 99]),\n",
       " 48: tensor([61, 97, 58, 70, 89, 49, 25, 60,  2, 10, 73, 90, 38, 68, 62, 94, 43, 47,\n",
       "         93, 14, 29, 39,  0,  5, 74, 27, 18, 83, 19,  3,  4,  8, 96, 33, 72, 82,\n",
       "          9, 40, 41,  1, 91, 44, 12, 71, 57, 24, 42, 13, 66, 51, 76, 88, 21, 37,\n",
       "         45, 30, 16, 85, 50, 26, 55, 34, 87, 84, 81, 46, 75, 65, 59, 92, 36, 35,\n",
       "         78, 95, 31,  6, 15, 67, 53, 17, 54,  7, 23, 86, 32, 77, 56, 63, 52, 79,\n",
       "         22, 20, 11, 69, 80, 64, 28, 98, 99]),\n",
       " 49: tensor([70, 97, 61, 60, 25,  2, 48, 90, 38, 58, 89, 68, 94, 10, 43, 73, 47, 93,\n",
       "         14, 29, 62,  0, 74, 27, 18, 83,  3, 39,  4,  8,  5, 96, 33, 72, 19,  9,\n",
       "         82, 40, 41,  1, 91, 44, 12, 71, 57, 24, 42, 13, 66, 51, 76, 88, 21, 37,\n",
       "         45, 30, 16, 85, 50, 26, 55, 34, 87, 84, 81, 46, 75, 65, 59, 92, 36, 35,\n",
       "         78, 31,  6, 15, 95, 67, 53, 17, 54,  7, 23, 86, 32, 77, 56, 63, 52, 79,\n",
       "         22, 20, 11, 69, 80, 64, 28, 98, 99]),\n",
       " 50: tensor([26, 85, 55, 34, 16, 87, 81, 84, 30, 46, 45, 37, 21, 88, 75, 65, 59, 92,\n",
       "         36, 35, 78, 76, 51, 66, 31, 13, 42, 24, 57, 71, 12, 44, 91,  6, 15,  1,\n",
       "         41, 40, 82,  9, 67, 72, 33, 96, 53,  8,  4, 17, 54,  3,  7, 83, 18, 27,\n",
       "         74, 23,  0, 86, 29, 32, 14, 77, 93, 47, 43, 56, 63, 52, 79, 94, 68, 38,\n",
       "         90, 22,  2, 25, 60, 49, 70, 97, 61, 48, 58, 89, 10, 73, 62, 20, 11, 39,\n",
       "          5, 69, 19, 80, 64, 95, 28, 98, 99]),\n",
       " 51: tensor([76, 66, 13, 42, 24, 57, 71, 12, 88, 44, 91, 21, 37, 45,  1, 41, 40, 82,\n",
       "          9, 30, 72, 33, 96, 16,  8,  4, 85, 50, 26,  3, 55, 83, 34, 18, 87, 27,\n",
       "         74, 84, 81,  0, 46, 29, 14, 93, 47, 43, 75, 65, 59, 92, 36, 35, 78, 94,\n",
       "         31, 68, 38, 90,  6,  2, 15, 25, 60, 49, 70, 67, 97, 61, 53, 48, 17, 58,\n",
       "         54, 89,  7, 23, 10, 73, 86, 32, 77, 62, 56, 63, 52, 79, 39, 22,  5, 19,\n",
       "         20, 11, 69, 80, 95, 64, 28, 98, 99]),\n",
       " 52: tensor([63, 56, 79, 77, 32, 86, 22, 23,  7, 54, 17, 53, 67, 15,  6, 31, 78, 35,\n",
       "         36, 92, 65, 59, 75, 20, 11, 46, 69, 81, 84, 87, 34, 55, 26, 50, 85, 80,\n",
       "         16, 30, 45, 37, 21, 88, 76, 51, 66, 13, 42, 24, 57, 71, 12, 44, 91,  1,\n",
       "         41, 40, 82,  9, 72, 33, 96,  8,  4,  3, 83, 18, 27, 74,  0, 29, 14, 64,\n",
       "         93, 47, 43, 94, 68, 38, 90,  2, 25, 60, 49, 70, 97, 61, 48, 58, 89, 10,\n",
       "         73, 62, 39,  5, 19, 28, 98, 95, 99]),\n",
       " 53: tensor([67, 17, 54,  7, 15,  6, 23, 86, 31, 32, 78, 77, 35, 36, 92, 65, 59, 56,\n",
       "         63, 75, 52, 79, 46, 81, 84, 22, 87, 34, 55, 26, 50, 85, 16, 30, 45, 37,\n",
       "         21, 88, 76, 51, 66, 13, 42, 24, 57, 71, 12, 44, 91,  1, 41, 40, 20, 82,\n",
       "          9, 11, 72, 33, 96, 69,  8,  4,  3, 80, 83, 18, 27, 74,  0, 29, 14, 93,\n",
       "         47, 43, 94, 68, 38, 90,  2, 25, 60, 49, 70, 97, 61, 48, 58, 89, 10, 73,\n",
       "         62, 64, 39,  5, 19, 28, 95, 98, 99]),\n",
       " 54: tensor([17,  7, 53, 23, 67, 86, 32, 77, 15,  6, 56, 63, 52, 79, 31, 78, 35, 36,\n",
       "         92, 65, 59, 22, 75, 46, 81, 84, 87, 34, 55, 26, 50, 85, 16, 30, 45, 37,\n",
       "         21, 88, 76, 51, 66, 13, 42, 20, 24, 11, 57, 71, 12, 44, 69, 91,  1, 41,\n",
       "         40, 82,  9, 72, 33, 80, 96,  8,  4,  3, 83, 18, 27, 74,  0, 29, 14, 93,\n",
       "         47, 43, 94, 68, 38, 90,  2, 25, 60, 49, 70, 97, 61, 48, 58, 89, 64, 10,\n",
       "         73, 62, 39,  5, 19, 28, 98, 95, 99]),\n",
       " 55: tensor([87, 34, 84, 81, 26, 46, 50, 85, 16, 75, 30, 65, 59, 92, 36, 35, 45, 37,\n",
       "         78, 21, 31, 88,  6, 15, 76, 51, 66, 13, 42, 24, 71, 57, 12, 67, 44, 91,\n",
       "         53,  1, 41, 40, 82,  9, 17, 54, 72,  7, 33, 96, 23,  8,  4, 86,  3, 32,\n",
       "         77, 83, 18, 27, 74, 56, 63,  0, 52, 29, 79, 14, 93, 47, 43, 22, 94, 68,\n",
       "         38, 90,  2, 25, 60, 49, 70, 97, 61, 48, 58, 89, 10, 73, 62, 20, 11, 69,\n",
       "         39,  5, 80, 19, 64, 95, 28, 98, 99]),\n",
       " 56: tensor([63, 52, 77, 32, 79, 86, 23, 22,  7, 54, 17, 53, 67, 15,  6, 31, 78, 35,\n",
       "         36, 92, 59, 65, 75, 46, 20, 11, 81, 84, 87, 34, 55, 69, 26, 50, 85, 16,\n",
       "         80, 30, 45, 37, 21, 88, 76, 51, 66, 13, 42, 24, 57, 71, 12, 44, 91,  1,\n",
       "         41, 40, 82,  9, 72, 33, 96,  8,  4,  3, 83, 18, 27, 74,  0, 29, 14, 93,\n",
       "         47, 43, 64, 94, 68, 38, 90,  2, 25, 60, 49, 70, 97, 61, 48, 58, 89, 10,\n",
       "         73, 62, 39,  5, 19, 28, 98, 95, 99]),\n",
       " 57: tensor([71, 24, 42, 12, 44, 13, 66, 91, 51, 76,  1, 41, 40,  9, 82, 88, 72, 33,\n",
       "         96, 21, 37, 45,  8,  4, 30,  3, 16, 83, 18, 27, 85, 74, 50,  0, 26, 55,\n",
       "         29, 34, 87, 14, 93, 47, 84, 81, 46, 43, 94, 68, 75, 65, 59, 38, 92, 36,\n",
       "         90, 35, 78,  2, 31, 25, 60, 49, 70,  6, 15, 97, 61, 48, 67, 58, 89, 53,\n",
       "         17, 10, 54,  7, 73, 23, 62, 86, 32, 77, 56, 63, 52, 39,  5, 79, 19, 22,\n",
       "         20, 11, 69, 80, 95, 64, 28, 98, 99]),\n",
       " 58: tensor([89, 48, 61, 97, 10, 70, 49, 73, 25, 60,  2, 62, 90, 38, 68, 94, 39, 43,\n",
       "          5, 47, 93, 14, 29, 19,  0, 74, 27, 18, 83,  3,  4,  8, 96, 33, 72,  9,\n",
       "         82, 40, 41,  1, 91, 44, 12, 71, 57, 24, 42, 13, 66, 51, 76, 88, 21, 37,\n",
       "         45, 30, 16, 85, 50, 26, 55, 34, 87, 84, 81, 46, 95, 75, 65, 59, 92, 36,\n",
       "         35, 78, 31,  6, 15, 67, 53, 17, 54,  7, 23, 86, 32, 77, 56, 63, 52, 79,\n",
       "         22, 20, 11, 69, 80, 64, 28, 98, 99]),\n",
       " 59: tensor([65, 92, 35, 36, 75, 78, 31, 46, 84, 81,  6, 15, 87, 34, 55, 26, 67, 50,\n",
       "         85, 53, 16, 17, 30, 54,  7, 45, 37, 21, 23, 88, 86, 32, 77, 76, 51, 66,\n",
       "         13, 42, 56, 63, 24, 57, 71, 52, 12, 44, 91, 79,  1, 41, 40, 82,  9, 22,\n",
       "         72, 33, 96,  8,  4,  3, 83, 18, 27, 74,  0, 29, 14, 93, 47, 43, 94, 68,\n",
       "         38, 90,  2, 25, 60, 20, 11, 49, 70, 69, 97, 61, 48, 58, 89, 80, 10, 73,\n",
       "         62, 39,  5, 19, 64, 95, 28, 98, 99]),\n",
       " 60: tensor([25,  2, 90, 49, 38, 70, 68, 97, 61, 94, 48, 58, 43, 89, 47, 93, 14, 29,\n",
       "         10,  0, 73, 74, 27, 18, 83,  3, 62,  4,  8, 96, 33, 72, 39,  9, 82, 40,\n",
       "         41,  1,  5, 91, 44, 12, 19, 71, 57, 24, 42, 13, 66, 51, 76, 88, 21, 37,\n",
       "         45, 30, 16, 85, 50, 26, 55, 34, 87, 84, 81, 46, 75, 65, 59, 92, 36, 35,\n",
       "         78, 31,  6, 15, 67, 53, 95, 17, 54,  7, 23, 86, 32, 77, 56, 63, 52, 79,\n",
       "         22, 20, 11, 69, 80, 64, 28, 98, 99]),\n",
       " 61: tensor([97, 48, 70, 49, 58, 89, 25, 60,  2, 90, 38, 10, 68, 73, 94, 62, 43, 47,\n",
       "         93, 14, 29,  0, 39, 74, 27, 18, 83,  5,  3, 19,  4,  8, 96, 33, 72,  9,\n",
       "         82, 40, 41,  1, 91, 44, 12, 71, 57, 24, 42, 13, 66, 51, 76, 88, 21, 37,\n",
       "         45, 30, 16, 85, 50, 26, 55, 34, 87, 84, 81, 46, 75, 65, 59, 92, 36, 35,\n",
       "         78, 31, 95,  6, 15, 67, 53, 17, 54,  7, 23, 86, 32, 77, 56, 63, 52, 79,\n",
       "         22, 20, 11, 69, 80, 64, 28, 98, 99]),\n",
       " 62: tensor([73, 10, 39,  5, 89, 58, 19, 48, 61, 97, 70, 49, 60, 25,  2, 90, 38, 68,\n",
       "         94, 43, 47, 93, 14, 29,  0, 74, 27, 18, 83,  3,  4,  8, 96, 33, 72,  9,\n",
       "         82, 40, 41,  1, 91, 44, 12, 71, 57, 24, 42, 13, 66, 51, 76, 95, 88, 21,\n",
       "         37, 45, 30, 16, 85, 50, 26, 55, 34, 87, 84, 81, 46, 75, 65, 59, 92, 36,\n",
       "         35, 78, 31,  6, 15, 67, 53, 17, 54,  7, 23, 86, 32, 77, 56, 63, 52, 79,\n",
       "         22, 20, 11, 69, 80, 64, 28, 98, 99]),\n",
       " 63: tensor([56, 52, 77, 32, 79, 86, 23, 22,  7, 54, 17, 53, 67, 15,  6, 31, 78, 35,\n",
       "         36, 92, 65, 59, 75, 46, 20, 11, 81, 84, 87, 34, 69, 55, 26, 50, 85, 16,\n",
       "         80, 30, 45, 37, 21, 88, 76, 51, 66, 13, 42, 24, 57, 71, 12, 44, 91,  1,\n",
       "         41, 40, 82,  9, 72, 33, 96,  8,  4,  3, 83, 18, 27, 74,  0, 29, 14, 93,\n",
       "         47, 43, 64, 94, 68, 38, 90,  2, 25, 60, 49, 70, 97, 61, 48, 58, 89, 10,\n",
       "         73, 62, 39,  5, 19, 28, 98, 95, 99]),\n",
       " 64: tensor([80, 69, 11, 20, 28, 98, 22, 79, 52, 63, 56, 77, 32, 86, 23,  7, 54, 17,\n",
       "         53, 67, 15,  6, 31, 78, 35, 36, 92, 59, 65, 75, 46, 81, 84, 87, 34, 55,\n",
       "         26, 50, 85, 16, 30, 45, 37, 21, 88, 76, 51, 66, 13, 42, 24, 57, 71, 12,\n",
       "         44, 91,  1, 41, 40, 82,  9, 72, 33, 96,  8,  4,  3, 83, 18, 27, 74,  0,\n",
       "         29, 14, 93, 47, 43, 94, 68, 38, 90,  2, 25, 60, 49, 70, 97, 61, 48, 58,\n",
       "         89, 10, 73, 62, 39,  5, 19, 95, 99]),\n",
       " 65: tensor([92, 59, 35, 36, 75, 78, 31, 46, 81, 84,  6, 15, 87, 34, 55, 26, 50, 67,\n",
       "         85, 53, 16, 17, 30, 54,  7, 45, 37, 21, 23, 88, 86, 32, 77, 76, 51, 66,\n",
       "         13, 42, 56, 63, 24, 57, 71, 52, 12, 44, 91, 79,  1, 41, 40, 82,  9, 22,\n",
       "         72, 33, 96,  8,  4,  3, 83, 18, 27, 74,  0, 29, 14, 93, 47, 43, 94, 68,\n",
       "         38, 90,  2, 25, 60, 20, 11, 49, 70, 69, 97, 61, 48, 58, 89, 80, 10, 73,\n",
       "         62, 39,  5, 19, 64, 95, 28, 98, 99]),\n",
       " 66: tensor([51, 76, 13, 42, 24, 57, 71, 12, 44, 91, 88, 21,  1, 37, 45, 41, 40, 82,\n",
       "          9, 72, 30, 33, 96, 16,  8,  4, 85, 50,  3, 26, 83, 18, 55, 34, 27, 74,\n",
       "         87, 84, 81,  0, 46, 29, 14, 93, 47, 43, 75, 65, 59, 92, 36, 35, 94, 78,\n",
       "         31, 68, 38, 90,  2, 25, 60,  6, 15, 49, 70, 67, 97, 61, 53, 48, 58, 17,\n",
       "         54, 89,  7, 23, 10, 73, 86, 32, 77, 62, 56, 63, 52, 79, 39, 22,  5, 19,\n",
       "         20, 11, 69, 80, 95, 64, 28, 98, 99]),\n",
       " 67: tensor([53, 15,  6, 17, 54,  7, 31, 23, 78, 35, 36, 92, 86, 59, 65, 75, 32, 77,\n",
       "         56, 63, 52, 46, 81, 84, 79, 87, 34, 55, 26, 22, 50, 85, 16, 30, 45, 37,\n",
       "         21, 88, 76, 51, 66, 13, 42, 24, 57, 71, 12, 44, 91,  1, 41, 40, 82,  9,\n",
       "         72, 33, 96, 20, 11,  8,  4, 69,  3, 83, 18, 27, 74,  0, 80, 29, 14, 93,\n",
       "         47, 43, 94, 68, 38, 90,  2, 25, 60, 49, 70, 97, 61, 48, 58, 89, 10, 73,\n",
       "         62, 64, 39,  5, 19, 95, 28, 98, 99]),\n",
       " 68: tensor([38, 94, 90,  2, 60, 25, 43, 47, 93, 14, 49, 70, 29, 97, 61,  0, 48, 74,\n",
       "         27, 18, 83, 58, 89,  3,  4,  8, 10, 96, 33, 73, 72,  9, 82, 40, 41,  1,\n",
       "         62, 91, 44, 12, 71, 57, 24, 42, 13, 66, 51, 76, 39,  5, 88, 19, 21, 37,\n",
       "         45, 30, 16, 85, 50, 26, 55, 34, 87, 84, 81, 46, 75, 65, 59, 92, 36, 35,\n",
       "         78, 31,  6, 15, 67, 53, 17, 54,  7, 23, 86, 95, 32, 77, 56, 63, 52, 79,\n",
       "         22, 20, 11, 69, 80, 64, 28, 98, 99]),\n",
       " 69: tensor([11, 20, 80, 22, 79, 52, 63, 56, 77, 32, 86, 64, 23,  7, 54, 17, 53, 67,\n",
       "         15,  6, 31, 78, 35, 36, 92, 59, 65, 75, 46, 81, 84, 87, 34, 55, 26, 50,\n",
       "         85, 16, 30, 45, 37, 21, 88, 76, 51, 66, 13, 42, 24, 57, 71, 12, 44, 28,\n",
       "         91,  1, 41, 40, 82,  9, 72, 33, 96, 98,  8,  4,  3, 83, 18, 27, 74,  0,\n",
       "         29, 14, 93, 47, 43, 94, 68, 38, 90,  2, 25, 60, 49, 70, 97, 61, 48, 58,\n",
       "         89, 10, 73, 62, 39,  5, 19, 95, 99]),\n",
       " 70: tensor([49, 97, 61, 25, 60,  2, 48, 90, 58, 38, 89, 68, 94, 10, 73, 43, 47, 93,\n",
       "         14, 29, 62,  0, 74, 27, 18, 83,  3, 39,  4,  8,  5, 96, 33, 19, 72,  9,\n",
       "         82, 40, 41,  1, 91, 44, 12, 71, 57, 24, 42, 13, 66, 51, 76, 88, 21, 37,\n",
       "         45, 30, 16, 85, 50, 26, 55, 34, 87, 84, 81, 46, 75, 65, 59, 92, 36, 35,\n",
       "         78, 31,  6, 15, 95, 67, 53, 17, 54,  7, 23, 86, 32, 77, 56, 63, 52, 79,\n",
       "         22, 20, 11, 69, 80, 64, 28, 98, 99]),\n",
       " 71: tensor([24, 57, 42, 12, 44, 13, 91, 66, 51, 76,  1, 41, 40, 82,  9, 88, 72, 33,\n",
       "         96, 21, 37, 45,  8,  4, 30,  3, 16, 83, 18, 27, 74, 85, 50,  0, 26, 55,\n",
       "         29, 34, 87, 14, 93, 47, 84, 81, 46, 43, 94, 68, 75, 65, 59, 38, 92, 36,\n",
       "         90, 35, 78,  2, 31, 25, 60, 49, 70,  6, 15, 97, 61, 48, 67, 58, 89, 53,\n",
       "         17, 10, 54,  7, 73, 23, 62, 86, 32, 77, 56, 63, 52, 39,  5, 79, 19, 22,\n",
       "         20, 11, 69, 80, 95, 64, 28, 98, 99]),\n",
       " 72: tensor([82, 96, 33,  9, 41, 40,  1,  8,  4, 91, 44,  3, 12, 57, 71, 24, 42, 83,\n",
       "         18, 13, 27, 66, 74, 51, 76,  0, 29, 88, 14, 93, 47, 21, 43, 37, 45, 30,\n",
       "         94, 16, 68, 38, 90, 85, 50, 26,  2, 25, 60, 55, 34, 87, 49, 70, 84, 81,\n",
       "         46, 97, 61, 48, 58, 75, 89, 65, 59, 92, 36, 35, 78, 31, 10, 73,  6, 15,\n",
       "         62, 67, 53, 39, 17,  5, 54,  7, 19, 23, 86, 32, 77, 56, 63, 52, 79, 22,\n",
       "         20, 11, 69, 95, 80, 64, 28, 98, 99]),\n",
       " 73: tensor([10, 62, 89, 58, 48, 61, 97, 39, 70,  5, 49, 60, 25,  2, 19, 90, 38, 68,\n",
       "         94, 43, 47, 93, 14, 29,  0, 74, 27, 18, 83,  3,  4,  8, 96, 33, 72,  9,\n",
       "         82, 40, 41,  1, 91, 44, 12, 71, 57, 24, 42, 13, 66, 51, 76, 88, 21, 37,\n",
       "         45, 30, 95, 16, 85, 50, 26, 55, 34, 87, 84, 81, 46, 75, 65, 59, 92, 36,\n",
       "         35, 78, 31,  6, 15, 67, 53, 17, 54,  7, 23, 86, 32, 77, 56, 63, 52, 79,\n",
       "         22, 20, 11, 69, 80, 64, 28, 98, 99]),\n",
       " 74: tensor([27, 18, 83,  0,  3, 29, 14,  4, 93, 47,  8, 43, 96, 33, 72, 94,  9, 82,\n",
       "         40, 41, 68,  1, 38, 90, 91, 44, 12,  2, 25, 60, 57, 71, 24, 42, 13, 66,\n",
       "         51, 76, 49, 70, 97, 61, 48, 88, 21, 58, 37, 45, 89, 30, 16, 10, 73, 85,\n",
       "         50, 26, 62, 55, 34, 87, 84, 81, 46, 39,  5, 75, 65, 59, 92, 36, 35, 19,\n",
       "         78, 31,  6, 15, 67, 53, 17, 54,  7, 23, 86, 32, 77, 56, 63, 52, 79, 22,\n",
       "         95, 20, 11, 69, 80, 64, 28, 98, 99]),\n",
       " 75: tensor([65, 59, 92, 36, 35, 78, 31, 46, 84, 81, 87, 34, 55,  6, 15, 26, 50, 85,\n",
       "         67, 16, 53, 30, 17, 54, 45, 37, 21,  7, 88, 23, 86, 76, 51, 66, 13, 42,\n",
       "         32, 77, 24, 57, 71, 12, 56, 63, 44, 91, 52, 79,  1, 41, 40, 82,  9, 72,\n",
       "         33, 96, 22,  8,  4,  3, 83, 18, 27, 74,  0, 29, 14, 93, 47, 43, 94, 68,\n",
       "         38, 90,  2, 25, 60, 49, 70, 20, 11, 97, 61, 69, 48, 58, 89, 80, 10, 73,\n",
       "         62, 39,  5, 19, 64, 95, 28, 98, 99]),\n",
       " 76: tensor([51, 13, 66, 42, 24, 57, 71, 12, 88, 44, 91, 21, 37, 45,  1, 41, 40, 82,\n",
       "          9, 30, 72, 33, 96, 16,  8, 85,  4, 50, 26,  3, 55, 34, 83, 18, 87, 27,\n",
       "         74, 84, 81,  0, 46, 29, 14, 93, 47, 43, 75, 65, 59, 92, 36, 35, 78, 94,\n",
       "         31, 68, 38, 90,  6,  2, 15, 25, 60, 49, 70, 67, 97, 61, 53, 48, 17, 58,\n",
       "         54, 89,  7, 23, 10, 73, 86, 32, 77, 62, 56, 63, 52, 79, 39, 22,  5, 19,\n",
       "         20, 11, 69, 80, 95, 64, 28, 98, 99]),\n",
       " 77: tensor([32, 56, 63, 86, 52, 23, 79,  7, 54, 22, 17, 53, 67, 15,  6, 31, 78, 35,\n",
       "         36, 92, 65, 59, 75, 46, 81, 84, 87, 34, 55, 20, 11, 26, 50, 85, 69, 16,\n",
       "         30, 80, 45, 37, 21, 88, 76, 51, 66, 13, 42, 24, 57, 71, 12, 44, 91,  1,\n",
       "         41, 40, 82,  9, 72, 33, 96,  8,  4,  3, 83, 18, 27, 74,  0, 29, 14, 93,\n",
       "         47, 43, 94, 64, 68, 38, 90,  2, 25, 60, 49, 70, 97, 61, 48, 58, 89, 10,\n",
       "         73, 62, 39,  5, 19, 28, 98, 95, 99]),\n",
       " 78: tensor([31, 35, 92, 36, 59, 65, 75,  6, 15, 46, 81, 84, 67, 87, 34, 55, 53, 26,\n",
       "         50, 85, 17, 54,  7, 16, 30, 23, 86, 45, 37, 21, 32, 77, 88, 56, 63, 52,\n",
       "         76, 51, 66, 13, 79, 42, 24, 57, 71, 12, 44, 91, 22,  1, 41, 40, 82,  9,\n",
       "         72, 33, 96,  8,  4,  3, 83, 18, 27, 74,  0, 29, 14, 93, 47, 43, 94, 68,\n",
       "         38, 90, 20, 11,  2, 25, 60, 69, 49, 70, 97, 61, 48, 80, 58, 89, 10, 73,\n",
       "         62, 39,  5, 19, 64, 95, 28, 98, 99]),\n",
       " 79: tensor([52, 63, 56, 22, 77, 32, 86, 23,  7, 54, 17, 53, 67, 15,  6, 31, 78, 35,\n",
       "         36, 92, 65, 59, 20, 11, 75, 69, 46, 81, 84, 87, 34, 55, 80, 26, 50, 85,\n",
       "         16, 30, 45, 37, 21, 88, 76, 51, 66, 13, 42, 24, 57, 71, 12, 44, 91,  1,\n",
       "         41, 40, 82,  9, 72, 33, 96,  8,  4,  3, 83, 18, 27, 74, 64,  0, 29, 14,\n",
       "         93, 47, 43, 94, 68, 38, 90,  2, 25, 60, 49, 70, 97, 61, 48, 58, 89, 10,\n",
       "         73, 62, 39,  5, 19, 28, 98, 95, 99]),\n",
       " 80: tensor([69, 11, 20, 64, 22, 79, 52, 63, 56, 77, 32, 86, 23,  7, 54, 17, 53, 67,\n",
       "         15,  6, 31, 78, 35, 36, 92, 59, 65, 75, 46, 81, 84, 87, 34, 55, 26, 50,\n",
       "         85, 16, 30, 28, 45, 37, 21, 88, 98, 76, 51, 66, 13, 42, 24, 57, 71, 12,\n",
       "         44, 91,  1, 41, 40, 82,  9, 72, 33, 96,  8,  4,  3, 83, 18, 27, 74,  0,\n",
       "         29, 14, 93, 47, 43, 94, 68, 38, 90,  2, 25, 60, 49, 70, 97, 61, 48, 58,\n",
       "         89, 10, 73, 62, 39,  5, 19, 95, 99]),\n",
       " 81: tensor([84, 87, 46, 34, 55, 26, 50, 85, 75, 65, 59, 92, 36, 35, 16, 78, 30, 31,\n",
       "         45, 37, 21,  6, 15, 88, 67, 76, 51, 66, 13, 42, 24, 53, 57, 71, 12, 44,\n",
       "         91, 17, 54,  7,  1, 41, 40, 82,  9, 23, 72, 33, 96, 86,  8, 32,  4, 77,\n",
       "          3, 56, 63, 52, 83, 18, 27, 74, 79,  0, 29, 22, 14, 93, 47, 43, 94, 68,\n",
       "         38, 90,  2, 25, 60, 49, 70, 97, 61, 48, 58, 89, 10, 73, 20, 11, 69, 62,\n",
       "         80, 39,  5, 19, 64, 95, 28, 98, 99]),\n",
       " 82: tensor([ 9, 40, 41,  1, 72, 33, 96, 91, 44, 12,  8,  4, 71, 57, 24, 42,  3, 13,\n",
       "         66, 51, 76, 83, 18, 27, 74,  0, 88, 29, 21, 37, 45, 14, 93, 47, 43, 30,\n",
       "         16, 94, 68, 85, 50, 38, 26, 90, 55, 34,  2, 25, 60, 87, 84, 81, 46, 49,\n",
       "         70, 97, 61, 48, 75, 65, 59, 92, 36, 58, 35, 89, 78, 31, 10, 73,  6, 15,\n",
       "         62, 67, 53, 17, 54, 39,  7,  5, 23, 19, 86, 32, 77, 56, 63, 52, 79, 22,\n",
       "         20, 11, 69, 95, 80, 64, 28, 98, 99]),\n",
       " 83: tensor([18, 74, 27,  3,  0,  4,  8, 29, 14, 93, 47, 96, 33, 43, 72,  9, 82, 40,\n",
       "         41,  1, 94, 68, 91, 44, 38, 90, 12, 71, 57, 24, 42,  2, 25, 60, 13, 66,\n",
       "         51, 76, 49, 70, 97, 88, 61, 48, 21, 37, 45, 58, 89, 30, 16, 10, 85, 73,\n",
       "         50, 26, 55, 34, 62, 87, 84, 81, 46, 39, 75, 65, 59,  5, 92, 36, 35, 78,\n",
       "         31, 19,  6, 15, 67, 53, 17, 54,  7, 23, 86, 32, 77, 56, 63, 52, 79, 22,\n",
       "         95, 20, 11, 69, 80, 64, 28, 98, 99]),\n",
       " 84: tensor([81, 87, 46, 34, 55, 26, 50, 85, 75, 65, 59, 92, 36, 35, 16, 78, 30, 31,\n",
       "         45, 37, 21,  6, 15, 88, 67, 76, 51, 66, 13, 42, 24, 53, 57, 71, 12, 44,\n",
       "         91, 17, 54,  7,  1, 41, 40, 82,  9, 23, 72, 33, 96, 86,  8,  4, 32, 77,\n",
       "          3, 56, 63, 52, 83, 18, 27, 74, 79,  0, 29, 22, 14, 93, 47, 43, 94, 68,\n",
       "         38, 90,  2, 25, 60, 49, 70, 97, 61, 48, 58, 89, 10, 73, 20, 11, 69, 62,\n",
       "         80, 39,  5, 19, 64, 95, 28, 98, 99]),\n",
       " 85: tensor([50, 26, 16, 55, 34, 87, 30, 84, 81, 46, 45, 37, 21, 88, 75, 65, 59, 92,\n",
       "         36, 35, 76, 51, 66, 13, 78, 42, 24, 31, 57, 71, 12, 44, 91,  6, 15,  1,\n",
       "         41, 40,  9, 82, 72, 33, 67, 96, 53,  8,  4,  3, 17, 54,  7, 83, 18, 27,\n",
       "         74,  0, 23, 86, 29, 14, 93, 47, 32, 77, 43, 56, 63, 52, 94, 79, 68, 38,\n",
       "         90, 22,  2, 25, 60, 49, 70, 97, 61, 48, 58, 89, 10, 73, 62, 39, 20, 11,\n",
       "          5, 69, 19, 80, 64, 95, 28, 98, 99]),\n",
       " 86: tensor([23, 32, 77, 56, 63,  7, 52, 54, 17, 79, 53, 67, 22, 15,  6, 31, 78, 35,\n",
       "         36, 92, 65, 59, 75, 46, 81, 84, 87, 34, 55, 26, 50, 85, 16, 20, 11, 30,\n",
       "         69, 45, 37, 21, 88, 80, 76, 51, 66, 13, 42, 24, 57, 71, 12, 44, 91,  1,\n",
       "         41, 40, 82,  9, 72, 33, 96,  8,  4,  3, 83, 18, 27, 74,  0, 29, 14, 93,\n",
       "         47, 43, 94, 68, 38, 90,  2, 25, 60, 64, 49, 70, 97, 61, 48, 58, 89, 10,\n",
       "         73, 62, 39,  5, 19, 28, 98, 95, 99]),\n",
       " 87: tensor([34, 55, 84, 81, 46, 26, 50, 85, 75, 16, 65, 59, 92, 36, 35, 30, 78, 31,\n",
       "         45, 37, 21, 88,  6, 15, 76, 51, 66, 13, 42, 67, 24, 57, 71, 12, 53, 44,\n",
       "         91, 17, 54,  1, 41, 40, 82,  9,  7, 72, 33, 96, 23, 86,  8,  4,  3, 32,\n",
       "         77, 83, 56, 18, 63, 27, 74, 52,  0, 79, 29, 14, 93, 47, 22, 43, 94, 68,\n",
       "         38, 90,  2, 25, 60, 49, 70, 97, 61, 48, 58, 89, 10, 73, 20, 11, 62, 69,\n",
       "         39, 80,  5, 19, 64, 95, 28, 98, 99]),\n",
       " 88: tensor([21, 37, 45, 76, 51, 66, 13, 30, 42, 24, 71, 57, 16, 12, 44, 91, 85, 50,\n",
       "          1, 26, 41, 40, 82,  9, 55, 72, 34, 87, 33, 96, 84, 81, 46,  8,  4,  3,\n",
       "         75, 83, 18, 65, 59, 27, 74, 92, 36, 35,  0, 78, 31, 29, 14, 93, 47, 43,\n",
       "          6, 15, 94, 68, 67, 38, 90, 53,  2, 25, 60, 17, 54,  7, 49, 70, 97, 61,\n",
       "         23, 48, 86, 58, 32, 77, 89, 56, 63, 52, 10, 79, 73, 62, 22, 39,  5, 19,\n",
       "         20, 11, 69, 80, 95, 64, 28, 98, 99]),\n",
       " 89: tensor([58, 48, 10, 61, 73, 97, 70, 49, 62, 60, 25,  2, 90, 38, 68, 94, 39,  5,\n",
       "         43, 47, 93, 19, 14, 29,  0, 74, 27, 18, 83,  3,  4,  8, 96, 33, 72,  9,\n",
       "         82, 40, 41,  1, 91, 44, 12, 71, 57, 24, 42, 13, 66, 51, 76, 88, 21, 37,\n",
       "         45, 30, 16, 85, 50, 26, 55, 34, 87, 84, 81, 46, 95, 75, 65, 59, 92, 36,\n",
       "         35, 78, 31,  6, 15, 67, 53, 17, 54,  7, 23, 86, 32, 77, 56, 63, 52, 79,\n",
       "         22, 20, 11, 69, 80, 64, 28, 98, 99]),\n",
       " 90: tensor([38, 68,  2, 25, 60, 94, 49, 70, 43, 97, 61, 47, 93, 14, 48, 29, 58,  0,\n",
       "         89, 74, 27, 18, 83,  3, 10, 73,  4,  8, 96, 33, 62, 72,  9, 82, 40, 41,\n",
       "          1, 91, 44, 39, 12, 71, 57, 24,  5, 42, 13, 66, 51, 76, 19, 88, 21, 37,\n",
       "         45, 30, 16, 85, 50, 26, 55, 34, 87, 84, 81, 46, 75, 65, 59, 92, 36, 35,\n",
       "         78, 31,  6, 15, 67, 53, 17, 54,  7, 95, 23, 86, 32, 77, 56, 63, 52, 79,\n",
       "         22, 20, 11, 69, 80, 64, 28, 98, 99]),\n",
       " 91: tensor([44, 12, 71, 57,  1, 24, 42, 41, 40, 82,  9, 13, 66, 76, 51, 72, 33, 96,\n",
       "         88,  8,  4, 21,  3, 37, 45, 83, 18, 30, 27, 74,  0, 16, 29, 85, 14, 50,\n",
       "         93, 47, 26, 43, 55, 34, 87, 84, 81, 94, 46, 68, 38, 90,  2, 75, 25, 60,\n",
       "         65, 59, 92, 36, 35, 49, 78, 70, 31, 97, 61, 48,  6, 15, 58, 89, 67, 10,\n",
       "         53, 73, 17, 54, 62,  7, 23, 86, 39, 32, 77,  5, 56, 63, 52, 19, 79, 22,\n",
       "         20, 11, 69, 80, 95, 64, 28, 98, 99]),\n",
       " 92: tensor([65, 36, 35, 59, 75, 78, 31, 46,  6, 15, 81, 84, 87, 34, 55, 67, 26, 50,\n",
       "         85, 53, 16, 17, 54, 30,  7, 45, 37, 21, 23, 86, 88, 32, 77, 76, 51, 66,\n",
       "         56, 13, 63, 42, 52, 24, 57, 71, 12, 79, 44, 91,  1, 22, 41, 40, 82,  9,\n",
       "         72, 33, 96,  8,  4,  3, 83, 18, 27, 74,  0, 29, 14, 93, 47, 43, 94, 68,\n",
       "         38, 90,  2, 25, 60, 20, 11, 49, 69, 70, 97, 61, 48, 58, 80, 89, 10, 73,\n",
       "         62, 39,  5, 19, 64, 95, 28, 98, 99]),\n",
       " 93: tensor([14, 47, 29, 43,  0, 94, 74, 27, 18, 83, 68, 38,  3, 90,  4,  8,  2, 25,\n",
       "         60, 96, 33, 49, 70, 72,  9, 82, 97, 40, 41, 61,  1, 48, 91, 44, 58, 12,\n",
       "         89, 71, 57, 24, 42, 13, 66, 51, 76, 10, 73, 88, 62, 21, 37, 45, 30, 16,\n",
       "         39, 85, 50,  5, 26, 55, 34, 19, 87, 84, 81, 46, 75, 65, 59, 92, 36, 35,\n",
       "         78, 31,  6, 15, 67, 53, 17, 54,  7, 23, 86, 32, 77, 56, 63, 52, 79, 22,\n",
       "         95, 20, 11, 69, 80, 64, 28, 98, 99]),\n",
       " 94: tensor([68, 38, 90, 43, 47, 93, 14,  2, 25, 60, 29,  0, 49, 70, 74, 27, 97, 18,\n",
       "         83, 61, 48,  3,  4, 58,  8, 89, 96, 33, 72, 10,  9, 82, 40, 41, 73,  1,\n",
       "         91, 44, 62, 12, 71, 57, 24, 42, 13, 66, 51, 76, 39, 88,  5, 21, 37, 45,\n",
       "         19, 30, 16, 85, 50, 26, 55, 34, 87, 84, 81, 46, 75, 65, 59, 92, 36, 35,\n",
       "         78, 31,  6, 15, 67, 53, 17, 54,  7, 23, 86, 32, 77, 95, 56, 63, 52, 79,\n",
       "         22, 20, 11, 69, 80, 64, 28, 98, 99]),\n",
       " 95: tensor([19,  5, 39, 62, 73, 10, 89, 58, 48, 61, 97, 70, 49, 60, 25,  2, 90, 38,\n",
       "         68, 94, 43, 47, 93, 14, 29,  0, 74, 27, 18, 83,  3,  4,  8, 96, 33, 72,\n",
       "          9, 82, 40, 41,  1, 91, 44, 12, 71, 57, 24, 42, 13, 66, 51, 76, 88, 21,\n",
       "         37, 45, 30, 16, 85, 50, 26, 55, 34, 87, 84, 81, 46, 75, 65, 59, 92, 36,\n",
       "         35, 78, 31,  6, 15, 67, 53, 17, 54,  7, 23, 86, 32, 77, 56, 63, 52, 79,\n",
       "         22, 20, 11, 69, 80, 64, 28, 98, 99]),\n",
       " 96: tensor([33, 72, 82,  9,  8, 40,  4, 41,  1,  3, 91, 44, 83, 18, 12, 27, 74, 71,\n",
       "         57, 24,  0, 42, 13, 66, 51, 76, 29, 14, 93, 47, 43, 88, 21, 37, 45, 94,\n",
       "         68, 30, 38, 90, 16,  2, 25, 60, 85, 50, 26, 49, 70, 55, 97, 34, 61, 87,\n",
       "         84, 81, 48, 46, 58, 89, 75, 65, 59, 10, 92, 36, 35, 73, 78, 31, 62,  6,\n",
       "         15, 67, 39, 53,  5, 17, 54, 19,  7, 23, 86, 32, 77, 56, 63, 52, 79, 22,\n",
       "         20, 95, 11, 69, 80, 64, 28, 98, 99]),\n",
       " 97: tensor([61, 70, 49, 48, 58, 25, 60,  2, 89, 90, 38, 68, 10, 94, 73, 43, 62, 47,\n",
       "         93, 14, 29,  0, 74, 27, 39, 18, 83,  5,  3,  4,  8, 19, 96, 33, 72,  9,\n",
       "         82, 40, 41,  1, 91, 44, 12, 71, 57, 24, 42, 13, 66, 51, 76, 88, 21, 37,\n",
       "         45, 30, 16, 85, 50, 26, 55, 34, 87, 84, 81, 46, 75, 65, 59, 92, 36, 35,\n",
       "         78, 31, 95,  6, 15, 67, 53, 17, 54,  7, 23, 86, 32, 77, 56, 63, 52, 79,\n",
       "         22, 20, 11, 69, 80, 64, 28, 98, 99]),\n",
       " 98: tensor([28, 64, 80, 69, 11, 20, 22, 79, 52, 63, 56, 77, 32, 86, 23,  7, 54, 17,\n",
       "         53, 67, 15,  6, 31, 78, 35, 36, 92, 59, 65, 75, 46, 81, 84, 87, 34, 55,\n",
       "         26, 50, 85, 16, 30, 45, 37, 21, 88, 76, 51, 66, 13, 42, 24, 57, 71, 12,\n",
       "         44, 91,  1, 41, 40, 82,  9, 72, 33, 96,  8,  4,  3, 83, 18, 27, 74,  0,\n",
       "         29, 14, 93, 47, 43, 94, 68, 38, 90,  2, 25, 60, 49, 70, 97, 61, 48, 58,\n",
       "         89, 10, 73, 62, 39,  5, 19, 95, 99]),\n",
       " 99: tensor([98, 28, 64, 80, 69, 11, 20, 22, 79, 52, 63, 56, 77, 32, 86, 23,  7, 54,\n",
       "         17, 53, 67, 15,  6, 31, 78, 35, 36, 92, 59, 65, 75, 46, 81, 84, 87, 34,\n",
       "         55, 26, 50, 85, 16, 30, 45, 37, 21, 88, 76, 51, 66, 13, 42, 24, 57, 71,\n",
       "         12, 44, 91,  1, 41, 40, 82,  9, 72, 33, 96,  8,  4,  3, 83, 18, 27, 74,\n",
       "          0, 29, 14, 93, 47, 43, 94, 68, 38, 90,  2, 25, 60, 49, 70, 97, 61, 48,\n",
       "         58, 89, 10, 73, 62, 39,  5, 19, 95])}"
      ]
     },
     "execution_count": 18,
     "metadata": {},
     "output_type": "execute_result"
    }
   ],
   "source": [
    "top_matches"
   ]
  },
  {
   "cell_type": "code",
   "execution_count": 23,
   "id": "a6cb1dfe-e30f-407f-accb-367b5bce66a7",
   "metadata": {},
   "outputs": [
    {
     "data": {
      "text/plain": [
       "{140440115342944: [140440102678784,\n",
       "  140440115341504,\n",
       "  140440115343232,\n",
       "  140440116024304,\n",
       "  140440115342320],\n",
       " 140440118974192: [140440118971216,\n",
       "  140440115340016,\n",
       "  140440115341648,\n",
       "  140440102676528,\n",
       "  140440115342896],\n",
       " 140440102670336: [140440102673744,\n",
       "  140440404457648,\n",
       "  140440122645360,\n",
       "  140440102246368,\n",
       "  140440115332096],\n",
       " 140440102676816: [140440115340064,\n",
       "  140440116028384,\n",
       "  140440116024304,\n",
       "  140440115343232,\n",
       "  140440115341504],\n",
       " 140440115340064: [140440116028384,\n",
       "  140440102676816,\n",
       "  140440102668176,\n",
       "  140440115334640,\n",
       "  140440116024304],\n",
       " 140440115334880: [140440122653424,\n",
       "  140440115337376,\n",
       "  140440115341936,\n",
       "  140440118979328,\n",
       "  140440102687584],\n",
       " 140440115339488: [140440418909248,\n",
       "  140440118976496,\n",
       "  140440116031456,\n",
       "  140440102673696,\n",
       "  140440102668752],\n",
       " 140440115338240: [140440102689792,\n",
       "  140440115343424,\n",
       "  140440115342416,\n",
       "  140440102668752,\n",
       "  140440102248624],\n",
       " 140440116028384: [140440115340064,\n",
       "  140440102676816,\n",
       "  140440102668176,\n",
       "  140440115334640,\n",
       "  140440116024304],\n",
       " 140440102676528: [140440118971216,\n",
       "  140440115341648,\n",
       "  140440115340016,\n",
       "  140440118974192,\n",
       "  140440115342896],\n",
       " 140440102687584: [140440118979328,\n",
       "  140440102677584,\n",
       "  140440122642048,\n",
       "  140440115341936,\n",
       "  140440115335120],\n",
       " 140440115340304: [140440115345968,\n",
       "  140440115331424,\n",
       "  140440115339392,\n",
       "  140440115334784,\n",
       "  140440115336320],\n",
       " 140440102672208: [140440115331664,\n",
       "  140440102247376,\n",
       "  140440118975536,\n",
       "  140440111360720,\n",
       "  140440115332816],\n",
       " 140440118970976: [140440115339248,\n",
       "  140440102688160,\n",
       "  140440115342032,\n",
       "  140440118979904,\n",
       "  140440115332816],\n",
       " 140440118980576: [140440102687680,\n",
       "  140440115342320,\n",
       "  140440418893936,\n",
       "  140440102686912,\n",
       "  140440115342944],\n",
       " 140440418909248: [140440115339488,\n",
       "  140440118976496,\n",
       "  140440116031456,\n",
       "  140440102673696,\n",
       "  140440102668752],\n",
       " 140440102686480: [140440115346880,\n",
       "  140440102676672,\n",
       "  140440118980096,\n",
       "  140440102666832,\n",
       "  140440118979808],\n",
       " 140440115343424: [140440102689792,\n",
       "  140440115338240,\n",
       "  140440102668752,\n",
       "  140440115342416,\n",
       "  140440118976496],\n",
       " 140440115343232: [140440102678784,\n",
       "  140440116024304,\n",
       "  140440115341504,\n",
       "  140440115342944,\n",
       "  140440102676816],\n",
       " 140440115337376: [140440115334880,\n",
       "  140440122653424,\n",
       "  140440115341936,\n",
       "  140440118979328,\n",
       "  140440102687584],\n",
       " 140440115345968: [140440115340304,\n",
       "  140440115331424,\n",
       "  140440115339392,\n",
       "  140440115334784,\n",
       "  140440115336320],\n",
       " 140440115338096: [140440118979808,\n",
       "  140440115336656,\n",
       "  140440118970112,\n",
       "  140440115346880,\n",
       "  140440102686480],\n",
       " 140440115334784: [140440115336320,\n",
       "  140440116031408,\n",
       "  140440115342176,\n",
       "  140440102675568,\n",
       "  140440115346256],\n",
       " 140440115342416: [140440102248624,\n",
       "  140440115338240,\n",
       "  140440102689792,\n",
       "  140440418899120,\n",
       "  140440115343424],\n",
       " 140440115332816: [140440118975536,\n",
       "  140440118979904,\n",
       "  140440102247376,\n",
       "  140440118970976,\n",
       "  140440115342032],\n",
       " 140440102673744: [140440404457648,\n",
       "  140440102670336,\n",
       "  140440122645360,\n",
       "  140440115332096,\n",
       "  140440102246368],\n",
       " 140440102666832: [140440118980096,\n",
       "  140440102676672,\n",
       "  140440102678880,\n",
       "  140440115336272,\n",
       "  140440115334400],\n",
       " 140440115341504: [140440102678784,\n",
       "  140440116024304,\n",
       "  140440115343232,\n",
       "  140440115342944,\n",
       "  140440102676816],\n",
       " 140440115344672: [140440118978800,\n",
       "  140440115335552,\n",
       "  140440115339392,\n",
       "  140440115331424,\n",
       "  140440115340304],\n",
       " 140440115342320: [140440118980576,\n",
       "  140440102687680,\n",
       "  140440418893936,\n",
       "  140440115342944,\n",
       "  140440102686912],\n",
       " 140440115346880: [140440102686480,\n",
       "  140440118979808,\n",
       "  140440115336656,\n",
       "  140440115338096,\n",
       "  140440102676672],\n",
       " 140440116031456: [140440102673696,\n",
       "  140440115336992,\n",
       "  140440122639792,\n",
       "  140440102689696,\n",
       "  140440418901568],\n",
       " 140440418899120: [140440115346256,\n",
       "  140440102675568,\n",
       "  140440115342176,\n",
       "  140440102248624,\n",
       "  140440116031408],\n",
       " 140440115334640: [140440102668176,\n",
       "  140440115342896,\n",
       "  140440115341648,\n",
       "  140440102676528,\n",
       "  140440115340016],\n",
       " 140440115336272: [140440115334400,\n",
       "  140440102678880,\n",
       "  140440115344768,\n",
       "  140440116025072,\n",
       "  140440102666832],\n",
       " 140440115336992: [140440122639792,\n",
       "  140440102689696,\n",
       "  140440418901568,\n",
       "  140440102673696,\n",
       "  140440115336560],\n",
       " 140440102689696: [140440122639792,\n",
       "  140440115336992,\n",
       "  140440418901568,\n",
       "  140440115336560,\n",
       "  140440102673696],\n",
       " 140440115336656: [140440118979808,\n",
       "  140440115338096,\n",
       "  140440118970112,\n",
       "  140440115346880,\n",
       "  140440102686480],\n",
       " 140440102246368: [140440122645360,\n",
       "  140440418895568,\n",
       "  140440115335024,\n",
       "  140440102670336,\n",
       "  140440102673744],\n",
       " 140440122653424: [140440115334880,\n",
       "  140440115337376,\n",
       "  140440115341936,\n",
       "  140440118979328,\n",
       "  140440102687584],\n",
       " 140440115340016: [140440118971216,\n",
       "  140440115341648,\n",
       "  140440102676528,\n",
       "  140440118974192,\n",
       "  140440115342896],\n",
       " 140440118971216: [140440102676528,\n",
       "  140440118974192,\n",
       "  140440115340016,\n",
       "  140440115341648,\n",
       "  140440115342896],\n",
       " 140440118979904: [140440115332816,\n",
       "  140440118975536,\n",
       "  140440102247376,\n",
       "  140440115342032,\n",
       "  140440118970976],\n",
       " 140440102686912: [140440418893936,\n",
       "  140440102687680,\n",
       "  140440118980576,\n",
       "  140440115342320,\n",
       "  140440115335024],\n",
       " 140440115331664: [140440111360720,\n",
       "  140440102672208,\n",
       "  140440102247376,\n",
       "  140440118975536,\n",
       "  140440115332816],\n",
       " 140440118979808: [140440115338096,\n",
       "  140440115336656,\n",
       "  140440115346880,\n",
       "  140440118970112,\n",
       "  140440102686480],\n",
       " 140440115331232: [140440115344768,\n",
       "  140440116025072,\n",
       "  140440115334400,\n",
       "  140440115336272,\n",
       "  140440102678880],\n",
       " 140440418893936: [140440102687680,\n",
       "  140440118980576,\n",
       "  140440115342320,\n",
       "  140440102686912,\n",
       "  140440115342944],\n",
       " 140440115335120: [140440115332624,\n",
       "  140440418894368,\n",
       "  140440122642048,\n",
       "  140440102671104,\n",
       "  140440102677584],\n",
       " 140440115332096: [140440102671104,\n",
       "  140440418894368,\n",
       "  140440115332624,\n",
       "  140440404457648,\n",
       "  140440102673744],\n",
       " 140440118980096: [140440102666832,\n",
       "  140440102676672,\n",
       "  140440102678880,\n",
       "  140440115336272,\n",
       "  140440102686480],\n",
       " 140440102688160: [140440115339248,\n",
       "  140440115342032,\n",
       "  140440118970976,\n",
       "  140440118979904,\n",
       "  140440115332816],\n",
       " 140440116031408: [140440115342176,\n",
       "  140440102675568,\n",
       "  140440115336320,\n",
       "  140440115346256,\n",
       "  140440418899120],\n",
       " 140440102668752: [140440118976496,\n",
       "  140440115343424,\n",
       "  140440102689792,\n",
       "  140440115338240,\n",
       "  140440418909248],\n",
       " 140440102689792: [140440115343424,\n",
       "  140440115338240,\n",
       "  140440102668752,\n",
       "  140440115342416,\n",
       "  140440118976496],\n",
       " 140440102678880: [140440115334400,\n",
       "  140440115336272,\n",
       "  140440115344768,\n",
       "  140440116025072,\n",
       "  140440102666832],\n",
       " 140440102675568: [140440115342176,\n",
       "  140440116031408,\n",
       "  140440115346256,\n",
       "  140440418899120,\n",
       "  140440115336320],\n",
       " 140440102247376: [140440118975536,\n",
       "  140440115332816,\n",
       "  140440118979904,\n",
       "  140440102672208,\n",
       "  140440115331664],\n",
       " 140440122642048: [140440102677584,\n",
       "  140440115335120,\n",
       "  140440115332624,\n",
       "  140440418894368,\n",
       "  140440102687584],\n",
       " 140440115336560: [140440418901568,\n",
       "  140440122639792,\n",
       "  140440115336992,\n",
       "  140440102689696,\n",
       "  140440118980864],\n",
       " 140440404457648: [140440102673744,\n",
       "  140440102670336,\n",
       "  140440122645360,\n",
       "  140440115332096,\n",
       "  140440102246368],\n",
       " 140440115332624: [140440418894368,\n",
       "  140440115335120,\n",
       "  140440102671104,\n",
       "  140440115332096,\n",
       "  140440122642048],\n",
       " 140440115341936: [140440118979328,\n",
       "  140440102687584,\n",
       "  140440122653424,\n",
       "  140440115334880,\n",
       "  140440102677584],\n",
       " 140440115342176: [140440102675568,\n",
       "  140440116031408,\n",
       "  140440115346256,\n",
       "  140440418899120,\n",
       "  140440115336320],\n",
       " 140440115335552: [140440115339392,\n",
       "  140440115331424,\n",
       "  140440115340304,\n",
       "  140440115345968,\n",
       "  140440115344672],\n",
       " 140440418901568: [140440122639792,\n",
       "  140440115336560,\n",
       "  140440115336992,\n",
       "  140440102689696,\n",
       "  140440118980864],\n",
       " 140440115342032: [140440102688160,\n",
       "  140440115339248,\n",
       "  140440118970976,\n",
       "  140440118979904,\n",
       "  140440115332816],\n",
       " 140440118976496: [140440102668752,\n",
       "  140440418909248,\n",
       "  140440115339488,\n",
       "  140440115343424,\n",
       "  140440102689792],\n",
       " 140440418895568: [140440102246368,\n",
       "  140440115335024,\n",
       "  140440122645360,\n",
       "  140440102670336,\n",
       "  140440404457648],\n",
       " 140440115331424: [140440115340304,\n",
       "  140440115345968,\n",
       "  140440115339392,\n",
       "  140440115334784,\n",
       "  140440115336320],\n",
       " 140440102671104: [140440115332096,\n",
       "  140440418894368,\n",
       "  140440115332624,\n",
       "  140440102673744,\n",
       "  140440404457648],\n",
       " 140440118975536: [140440115332816,\n",
       "  140440102247376,\n",
       "  140440118979904,\n",
       "  140440102672208,\n",
       "  140440115331664],\n",
       " 140440115342896: [140440115341648,\n",
       "  140440102668176,\n",
       "  140440115334640,\n",
       "  140440102676528,\n",
       "  140440118971216],\n",
       " 140440118979328: [140440102687584,\n",
       "  140440115341936,\n",
       "  140440102677584,\n",
       "  140440122642048,\n",
       "  140440115335120],\n",
       " 140440102678784: [140440115341504,\n",
       "  140440115343232,\n",
       "  140440116024304,\n",
       "  140440115342944,\n",
       "  140440102676816],\n",
       " 140440118980864: [140440418901568,\n",
       "  140440115336560,\n",
       "  140440122639792,\n",
       "  140440102689696,\n",
       "  140440115336992],\n",
       " 140440115339248: [140440102688160,\n",
       "  140440118970976,\n",
       "  140440115342032,\n",
       "  140440118979904,\n",
       "  140440115332816],\n",
       " 140440115346256: [140440418899120,\n",
       "  140440102675568,\n",
       "  140440115342176,\n",
       "  140440102248624,\n",
       "  140440116031408],\n",
       " 140440102673696: [140440116031456,\n",
       "  140440115336992,\n",
       "  140440122639792,\n",
       "  140440102689696,\n",
       "  140440115336560],\n",
       " 140440115336320: [140440116031408,\n",
       "  140440115342176,\n",
       "  140440102675568,\n",
       "  140440115334784,\n",
       "  140440115346256],\n",
       " 140440115339392: [140440115331424,\n",
       "  140440115340304,\n",
       "  140440115345968,\n",
       "  140440115335552,\n",
       "  140440115334784],\n",
       " 140440116025072: [140440115344768,\n",
       "  140440115334400,\n",
       "  140440115331232,\n",
       "  140440115336272,\n",
       "  140440102678880],\n",
       " 140440115341648: [140440102676528,\n",
       "  140440115340016,\n",
       "  140440118971216,\n",
       "  140440118974192,\n",
       "  140440115342896],\n",
       " 140440116024304: [140440115343232,\n",
       "  140440102678784,\n",
       "  140440115341504,\n",
       "  140440102676816,\n",
       "  140440115342944],\n",
       " 140440115344768: [140440116025072,\n",
       "  140440115334400,\n",
       "  140440115331232,\n",
       "  140440115336272,\n",
       "  140440102678880],\n",
       " 140440102676672: [140440118980096,\n",
       "  140440102666832,\n",
       "  140440102686480,\n",
       "  140440102678880,\n",
       "  140440115336272],\n",
       " 140440102248624: [140440115342416,\n",
       "  140440418899120,\n",
       "  140440115346256,\n",
       "  140440102675568,\n",
       "  140440115342176],\n",
       " 140440115334400: [140440115336272,\n",
       "  140440102678880,\n",
       "  140440115344768,\n",
       "  140440116025072,\n",
       "  140440115331232],\n",
       " 140440118970112: [140440115338096,\n",
       "  140440115336656,\n",
       "  140440118979808,\n",
       "  140440115339248,\n",
       "  140440102688160],\n",
       " 140440102677584: [140440122642048,\n",
       "  140440115335120,\n",
       "  140440102687584,\n",
       "  140440115332624,\n",
       "  140440118979328],\n",
       " 140440122645360: [140440102246368,\n",
       "  140440418895568,\n",
       "  140440102670336,\n",
       "  140440102673744,\n",
       "  140440404457648],\n",
       " 140440111360720: [140440115331664,\n",
       "  140440102672208,\n",
       "  140440118975536,\n",
       "  140440102247376,\n",
       "  140440118974192],\n",
       " 140440122639792: [140440418901568,\n",
       "  140440102689696,\n",
       "  140440115336992,\n",
       "  140440115336560,\n",
       "  140440118980864],\n",
       " 140440102687680: [140440118980576,\n",
       "  140440418893936,\n",
       "  140440115342320,\n",
       "  140440102686912,\n",
       "  140440115342944],\n",
       " 140440115335024: [140440418895568,\n",
       "  140440102246368,\n",
       "  140440122645360,\n",
       "  140440102686912,\n",
       "  140440418893936],\n",
       " 140440115332240: [140440115337376,\n",
       "  140440115334880,\n",
       "  140440122653424,\n",
       "  140440115341936,\n",
       "  140440118979328],\n",
       " 140440102668176: [140440115334640,\n",
       "  140440115342896,\n",
       "  140440115341648,\n",
       "  140440102676528,\n",
       "  140440116028384],\n",
       " 140440418894368: [140440115332624,\n",
       "  140440102671104,\n",
       "  140440115332096,\n",
       "  140440115335120,\n",
       "  140440122642048],\n",
       " 140440118978800: [140440115344672,\n",
       "  140440115335552,\n",
       "  140440115339392,\n",
       "  140440115331424,\n",
       "  140440115340304],\n",
       " 140440102246176: [140440118978800,\n",
       "  140440115344672,\n",
       "  140440115335552,\n",
       "  140440115339392,\n",
       "  140440115331424]}"
      ]
     },
     "execution_count": 23,
     "metadata": {},
     "output_type": "execute_result"
    }
   ],
   "source": [
    "#decoded\n",
    "\n",
    "decoded_matches = {encoder.decode(k,encoder.idx_to_user):[encoder.decode(ve,encoder.idx_to_user) for ve in v] for k,v in top_matches.items()}\n",
    "decoded_matches"
   ]
  },
  {
   "cell_type": "code",
   "execution_count": 25,
   "id": "73632e60-b177-479e-8e78-c6eea82ea863",
   "metadata": {},
   "outputs": [],
   "source": [
    "# Step 4: Select Top Matches\n",
    "N = 5  # Number of top matches to select\n",
    "for user, similar_users in decoded_matches.items():\n",
    "    decoded_matches[user] = similar_users[:N]"
   ]
  },
  {
   "cell_type": "code",
   "execution_count": 21,
   "id": "5b7f3715-96e0-44a4-9a49-eee4e94bfaa9",
   "metadata": {},
   "outputs": [],
   "source": [
    "#decode...."
   ]
  },
  {
   "cell_type": "markdown",
   "id": "b6c7c0fa-b24f-4418-b5ca-e1713254be27",
   "metadata": {},
   "source": [
    "## FINALLY FIND THE MATCHES...."
   ]
  },
  {
   "cell_type": "code",
   "execution_count": 26,
   "id": "e0929f29-14e7-4cfa-acc9-9a741b7a5187",
   "metadata": {},
   "outputs": [
    {
     "data": {
      "text/plain": [
       "[140440115346256,\n",
       " 140440102675568,\n",
       " 140440115342176,\n",
       " 140440102248624,\n",
       " 140440116031408]"
      ]
     },
     "execution_count": 26,
     "metadata": {},
     "output_type": "execute_result"
    }
   ],
   "source": [
    "decoded_matches[140440418899120]"
   ]
  },
  {
   "cell_type": "markdown",
   "id": "b8a6a7ef-f019-4273-bc7c-c63dae3a104d",
   "metadata": {},
   "source": [
    "## Now see how they relate to the database..."
   ]
  },
  {
   "cell_type": "code",
   "execution_count": 30,
   "id": "6b89fe2d-944d-43bc-b2a2-81af64bd6ab3",
   "metadata": {},
   "outputs": [
    {
     "name": "stdout",
     "output_type": "stream",
     "text": [
      "SELECT * FROM Reviews\n"
     ]
    }
   ],
   "source": [
    "reviews = db.get_table_values('Reviews')"
   ]
  },
  {
   "cell_type": "code",
   "execution_count": null,
   "id": "0df7b55f-d93f-4a8d-b4c3-f0b1ea9ddf9b",
   "metadata": {},
   "outputs": [],
   "source": [
    "#TODO"
   ]
  },
  {
   "cell_type": "code",
   "execution_count": 34,
   "id": "ad2b3f3b-a7f8-48a6-b772-23c522f5ab85",
   "metadata": {},
   "outputs": [],
   "source": [
    "def ids_dict(user_id,movie_id):\n",
    "    \n",
    "    id_dict = {}\n",
    "    id_dict[user_id] = list(filter(lambda x :x == user_id,db.get_table_values('Users')))\n",
    "\n",
    "    pass\n",
    "    #TODO finish work...\n",
    "    for mov_id in list(filter(lambda x :x == movie_id,db.get_table_values('Movies'))):\n",
    "\n",
    "        id_dict[mov_id] = \n",
    "        \n",
    "    return id_dict\n",
    "    \n",
    "    "
   ]
  },
  {
   "cell_type": "code",
   "execution_count": null,
   "id": "ef46e616-1299-4659-8e09-f6d3fdf44b43",
   "metadata": {},
   "outputs": [],
   "source": [
    "target_user = 140440418899120\n",
    "neighbour = 140440115346256"
   ]
  },
  {
   "cell_type": "code",
   "execution_count": 33,
   "id": "89593c73-41e3-4a6e-8e9c-61fd41b372dc",
   "metadata": {},
   "outputs": [],
   "source": [
    "target_reviews = list(filter(lambda rv: rv[2] == target_user,reviews))\n",
    "neighbour_reviews = list(filter(lambda rv: rv[2] == neighbour,reviews))"
   ]
  },
  {
   "cell_type": "code",
   "execution_count": 32,
   "id": "73fd7bda-4f06-41de-89d2-7e84ce851863",
   "metadata": {},
   "outputs": [
    {
     "data": {
      "text/plain": [
       "[(16,\n",
       "  1825683,\n",
       "  140440115346256,\n",
       "  \"It's a bog standard superhero origin movie, wholly undeserving of the critical and commercial hype it received upon release. The cast is affable, performances are good and the spectacle is what would be expected from a big-budget MCU offering. The ideas that drive the plot are initially compelling. But it's all in service of a story that's trite and bland. The filmmakers try to paper over gaping holes in the plot and a boring narrative by pandering to some vague pan-African identity. It's all rather lazy and predictable. By the time the finale devolved into yet another superhero CGI punch-up watching the movie had become a tedious chore.\\n15 out of 23 found this helpful. Was this review helpful? Sign in to vote.\\nPermalink\",\n",
       "  '5/10',\n",
       "  'February 2023'),\n",
       " (145,\n",
       "  1517268,\n",
       "  140440115346256,\n",
       "  'Margot does the best with what she\\'s given, but this film was very disappointing to me. It was marketed as a fun, quirky satire with homages to other movies. It started that way, but ended with over-dramatized speeches and an ending that clearly tried to make the audience feel something, but left everyone just feeling confused. And before you say I\\'m a crotchety old man, I\\'m a woman in my 20s, so I\\'m pretty sure I\\'m this movie\\'s target audience. The saddest part is there were parents with their kids in the theater that were victims of the poor marketing, because this is not a kid\\'s movie. Overall, the humor was fun on occasion and the film is beautiful to look at, but the whole concept falls apart in the second half of the film and becomes a pity party for the \"strong\" woman.\\n3,645 out of 5,083 found this helpful. Was this review helpful? Sign in to vote.\\nPermalink',\n",
       "  '6/10',\n",
       "  'July 2023'),\n",
       " (183,\n",
       "  4154796,\n",
       "  140440115346256,\n",
       "  '3 hours out of my life I will never get back. not worth the hype. you think the soap opera is done by the ultimate battle. think again. let us milk it and release another spider man. geez a lou.\\n256 out of 527 found this helpful. Was this review helpful? Sign in to vote.\\nPermalink',\n",
       "  '8/10',\n",
       "  'August 2019'),\n",
       " (254, 9663764, 140440115346256, None, '4/10', 'December 2023'),\n",
       " (328,\n",
       "  2293640,\n",
       "  140440115346256,\n",
       "  \"The popularity and the huge profits of Despicable Me franchise has driven the eagerness of Illumination Entertainment to produce a minions spin-off solely to entertain the fans. Caught in variations of the same scenarios, the decision to put more focus on the three minions - Kevin, Stuart and Bob might remind audiences about Alvin and the Chipmunks or the three daughters of Gru. While the animation does remain the fun, hilarious and ridiculous behaviors of the characters, the theme of the scores and the nonsensical language of the minions, it does not have a strong villain to support the three, also it lacks of character development, warm emotional engagement and moral values. The cuteness of the minions is the main element for entertainment rather than the dialogue itself in which the jokes aren't as funny as Despicable Me's series. Nonetheless, it is still energetic, actions packed, visually stunning and colorful for family audiences even its creative mistake drags its overall quality, proving that these banana lovers are far more effective and surprising to be supporting characters just as in the main franchise.\\n49 out of 84 found this helpful. Was this review helpful? Sign in to vote.\\nPermalink\",\n",
       "  '7/10',\n",
       "  'June 2015'),\n",
       " (366,\n",
       "  6718170,\n",
       "  140440115346256,\n",
       "  \"As a purely fluff piece - it's fun, bright spirited, and enjoyable for families. A movie that has all of the elements you'd want represented from Super Mario bros video games, and as a bonus, it also showcases Mario cart and donkey kong junior. The animation is strong, the worlds are exactly like the video games and truly fun moments for kids. The runtime is great and the movie moves along without pause.\\n\\nAND I expect better, higher quality movie making.\\n\\nThe voice acting in this movie is so lazy. Chris Pratt is forgettable-anyone could have done better voicing such a beloved character. Princess Peach is the same - voice acting is boring and fairly emotionless. The worst voice acting belongs to Seth's terrible Donkey Kong junior - not a single attempt to make an actual character voice, just Seth's normal voice slapped on Donkey Kong. Toad's voice acting is also meatless and without any real jokes.\\n\\nThe script is mostly empty and there is little to no attempt at character motivation, organic character decision making - for example, why Princess Peach tells Mario he can come with her to save her kingdom. Almost every opportunity to make a joke is skipped. None of the characters have stated goals aside from King Koppa.\\n\\nAnd saddest of all to me, there is no attempt to create backstory or give context to these beloved worlds and characters.\",\n",
       "  '5/10',\n",
       "  'April 2023'),\n",
       " (420, 110357, 140440115346256, None, '10/10', 'July 2005'),\n",
       " (493,\n",
       "  4154756,\n",
       "  140440115346256,\n",
       "  \"With Thanos come into play you think that the avengers would be able to tackle this problem but no. After re-watching Infinity War multiple times it still gets me because it's sad the ending really is just another cinematic masterpiece which Marvel always pull off and the fight scenes are amazing. Marvel have some of the best actors and the best casts I'm not applaud them for that. No mad Steve was just sexy after mate and I loved it a lot.\\n18 out of 26 found this helpful. Was this review helpful? Sign in to vote.\\nPermalink\",\n",
       "  '10/10',\n",
       "  'January 2021'),\n",
       " (509,\n",
       "  2771200,\n",
       "  140440115346256,\n",
       "  \"If it were in a theater rather than a cinema, it would have been great.\\n\\nBut the fact is we saw this before when it was called Beauty & the Beast.\\n\\nThe songs we all heard before. Rather than an animated background you have a computer animated background but we have still seen it before.\\n\\nWe sit down and pay to watch a movie we already saw turn live action and follow the same plot, the same game, as the movie we fell in love with oh so many years ago.\\n\\nWe are living in an era for that, but we still want it to change at least a little.\\n\\nLike all remakes it is dull and boring and utterly mindless. Like all remakes it makes changes that are unnecessary and irritating and in some cases, fairly insulting to the fans of the original: Belle, not her father, is the eccentric town inventor and that would, maybe, work if he wasn't supposed get locked up for being, well, the eccentric town inventor with a story about a Beast.\\n\\nTake away the establishment of one character that is sort of necessary to the plot and give it to another where it is less important to advance the story and do it only because, well, it's a remake, you have to find at least one way to really insult the fans...\\n\\nAnd changes like this are the only way to do it because, otherwise, you have the EXACT same movie you saw before with little changes made to really just drag the monotony out as much as you can.\\n\\nI hate remakes, but the fact that it IS THE SAME MOVIE just makes it so much more monotonous to watch than your average remake.\",\n",
       "  '1/10',\n",
       "  'March 2017'),\n",
       " (565, 2488496, 140440115346256, None, '6/10', 'April 2016'),\n",
       " (579,\n",
       "  8041270,\n",
       "  140440115346256,\n",
       "  'I\\'m going to make this short...Jurassic World: Dominion is like cleaning out your refrigerator and dumping a bunch of stuff in the trash. Only in this case, they decided to dump the \"stuff\" on the screen in this film. Jurassic World: Dominion has a lot of story arcs with no real connection or depth. People are popping in, popping back out, then popping in again, boring us with trite laughable dialogue and no real character development; you don\\'t really care about any of these people. Just when you think there might be something to a scene with the familar charcaters, CUT TO another scene with no set-up. This film is like watching a 3:00 AM B-movie that is so bad, it does its job by putting you back to sleep. And let\\'s talk about the dinosaurs, velociraptors and various man-eating prehistoric creatures...nah, it\\'s not worth it because other than the penultimate scene where the biggest and baddest were going at each other, they were simply an after-thought. Go figure.\\n\\nEveryone connected to this film tried to do too much and it didn\\'t work as far as the storytelling is concerned. As I said before, they emptied the refrigerator and threw in everything in this film and it left a bad taste in my mouth because there was just too much \"stuff.\"',\n",
       "  '2/10',\n",
       "  'June 2022'),\n",
       " (678,\n",
       "  1630029,\n",
       "  140440115346256,\n",
       "  'Fake crying, fake smiles, unnecessary moaning and random CGI shots that instead of taking the story forward make you forget that you are not watching a cheap documentary but a Sci-Fi movie...\\n\\nThere is not even one dialogue worth remembering for next 5 minutes, character building is so bad that director and writers forgot that biggest strength of Navi people was that they were disciplined and loved their culture. Instead James throws in some teenage drama queens as if the Human DNA of Jake has totally polluted the Navi DNA and now they are no different from the nagging and complaining people of New York or Tokyo...\\n\\nAbsolutely waste of time and total insult to the intellect of the viewer...\\n374 out of 498 found this helpful. Was this review helpful? Sign in to vote.\\nPermalink',\n",
       "  '4/10',\n",
       "  'December 2022')]"
      ]
     },
     "execution_count": 32,
     "metadata": {},
     "output_type": "execute_result"
    }
   ],
   "source": [
    "id_dict = ids_dict(target_user"
   ]
  },
  {
   "cell_type": "code",
   "execution_count": 35,
   "id": "13660098-f659-4cd9-b191-d141403883b1",
   "metadata": {},
   "outputs": [],
   "source": [
    "def translate_review(reviews, id_dict):\n",
    "\n",
    "    for review in reviews:\n",
    "        review[1] = id_dict[review[1]]\n",
    "        review[2] = id_dict[review[2]]\n",
    "\n",
    "    yield review"
   ]
  },
  {
   "cell_type": "code",
   "execution_count": null,
   "id": "00cf7940-a7bf-4443-87b6-abd8d7d47bda",
   "metadata": {},
   "outputs": [],
   "source": [
    "id_dict = ids_dict\n",
    "translated_review = [translate_reviews(target_reviews,id_dict) for ]"
   ]
  }
 ],
 "metadata": {
  "kernelspec": {
   "display_name": "menv",
   "language": "python",
   "name": "menv"
  },
  "language_info": {
   "codemirror_mode": {
    "name": "ipython",
    "version": 3
   },
   "file_extension": ".py",
   "mimetype": "text/x-python",
   "name": "python",
   "nbconvert_exporter": "python",
   "pygments_lexer": "ipython3",
   "version": "3.10.12"
  }
 },
 "nbformat": 4,
 "nbformat_minor": 5
}
