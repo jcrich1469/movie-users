{
 "cells": [
  {
   "cell_type": "code",
   "execution_count": 1,
   "id": "8a573191-c50c-46a7-be39-8d9e9ad5ae8c",
   "metadata": {},
   "outputs": [
    {
     "name": "stdout",
     "output_type": "stream",
     "text": [
      "importing Jupyter notebook from db.ipynb\n",
      "best_contentfiltermodel_checkpoint.pth\tmenv\n",
      "best_model_checkpoint.pth\t\tmlruns\n",
      "best_model_state.pth\t\t\tmodels\n",
      "cf_model.py\t\t\t\tmovie.py\n",
      "config.py\t\t\t\tpath_to_your_database.db\n",
      "dataset.py\t\t\t\t__pycache__\n",
      "db.ipynb\t\t\t\tq.py\n",
      "Dockerfile\t\t\t\tREADME.md\n",
      "done.txt\t\t\t\trequirements.txt\n",
      "fdstests.ipynb\t\t\t\tserver\n",
      "filemanager.py\t\t\t\ttest.db\n",
      "holocenemodels\t\t\t\ttestsources.ipynb\n",
      "indie_letterboxd.db\t\t\ttodo.txt\n",
      "indie_letterboxd_v2.db\t\t\ttrain_colfilter.ipynb\n",
      "letterboxd\t\t\t\ttrain_confilter.ipynb\n",
      "letterboxd.db\t\t\t\tuser.py\n",
      "main.ipynb\t\t\t\twandb\n",
      "main.py\t\t\t\t\tweb_spider.py\n"
     ]
    }
   ],
   "source": [
    "import torch\n",
    "import torch.nn as nn\n",
    "import torch.optim as optim\n",
    "from cf_model import MLPCollaborativeFilter\n",
    "from dataset import ColFDataset, Encoder, split_data\n",
    "import import_ipynb\n",
    "import db\n",
    "from torch.utils.data import DataLoader\n",
    "from tqdm import tqdm\n",
    "import random\n",
    "import sqlite3"
   ]
  },
  {
   "cell_type": "code",
   "execution_count": 2,
   "id": "4967b732-0b9e-4747-a84f-07e3e8f4dd71",
   "metadata": {},
   "outputs": [
    {
     "name": "stdout",
     "output_type": "stream",
     "text": [
      "Users: 2400\n",
      "\n",
      "Movies: 771\n",
      "\n",
      "Reviews: 18504\n"
     ]
    }
   ],
   "source": [
    "DB_NAME = 'indie_letterboxd_v2'\n",
    "db.display_size(DB_NAME)"
   ]
  },
  {
   "cell_type": "code",
   "execution_count": 3,
   "id": "28be6c6f-cf28-486e-9aa5-78b8ff780a1b",
   "metadata": {},
   "outputs": [],
   "source": [
    "conn = sqlite3.connect(DB_NAME+'.db')\n",
    "cursor = conn.cursor()\n",
    "\n",
    "# SQL query to fetch user name and ID, movie name and ID, and rating from reviews\n",
    "query = '''\n",
    "    SELECT \n",
    "        u.user_id,\n",
    "        u.name AS user_name, \n",
    "        m.movie_id,\n",
    "        m.title AS movie_title, \n",
    "        r.rating\n",
    "    FROM \n",
    "        Reviews r\n",
    "    JOIN Users u ON r.user_id = u.user_id\n",
    "    JOIN Movies m ON r.movie_id = m.movie_id\n",
    "    '''\n",
    "\n",
    "try:\n",
    "    cursor.execute(query)\n",
    "    reviews = cursor.fetchall()\n",
    "    \n",
    "    # for review in reviews:\n",
    "    #     print(\"User ID:\", review[0], \"| User Name:\", review[1], \"| Movie ID:\", review[2], \"| Movie Title:\", review[3], \"| Rating:\", review[4])\n",
    "except sqlite3.Error as e:\n",
    "    print(\"An error occurred:\", e)\n",
    "finally:\n",
    "    conn.close()"
   ]
  },
  {
   "cell_type": "code",
   "execution_count": 4,
   "id": "8802ab01-9d57-4fdf-8341-215f3e0212ae",
   "metadata": {},
   "outputs": [
    {
     "name": "stdout",
     "output_type": "stream",
     "text": [
      "[('Callum Kaur', 'So Much Tenderness', 0.76), ('Leila Petrauskas', 'Terrorizers', 0.8), ('Leah Foster', 'The Rye Horn', 0.7), ('مهدیس روحانی', 'Dance First', 0.5), ('السيدة ربى عليان', 'A Hero', 0.9), ('श्रीमती सजना गुप्\\u200dता', 'Zwigato', 0.72), ('Jessica Roman', 'Mountain Cat', 0.7), ('Daniela Urbanová', 'Saint Omer', 0.7), ('Kavaliauskas, Perla', 'Here We Are', 0.7), ('Natalia Agustina, S.IP', 'The Goldfinch', 0.4)]\n"
     ]
    },
    {
     "data": {
      "text/plain": [
       "0"
      ]
     },
     "execution_count": 4,
     "metadata": {},
     "output_type": "execute_result"
    }
   ],
   "source": [
    "# print(db.display_size())\n",
    "#TODO change shuffle and not shuffle\n",
    "\n",
    "# Assuming 'reviews' is a list of tuples and you've already created 'data'\n",
    "data = [tuple([did[1], did[3], did[-1]]) for did in reviews]\n",
    "\n",
    "# Shuffle 'data' in place with random.shuffle()\n",
    "random.shuffle(data)\n",
    "\n",
    "# Now 'data' is shuffled, and you can work with it\n",
    "print(data[:10])\n",
    "#found invalid values earlier.\n",
    "\n",
    "data = [pre for pre in data if pre[-1] > 0]\n",
    "data.count(-1)"
   ]
  },
  {
   "cell_type": "code",
   "execution_count": 5,
   "id": "4a8d4986-83f4-4fbc-8bba-429cda6a865e",
   "metadata": {},
   "outputs": [],
   "source": [
    "#test data is holdout for Kfolds cross data validation evaluation.\n",
    "train_data, test_data = split_data(data)\n",
    "train_data, validation_data = split_data(train_data,0.1)"
   ]
  },
  {
   "cell_type": "code",
   "execution_count": 6,
   "id": "2eccd133-b107-4dfa-9b16-b07bc58b375b",
   "metadata": {},
   "outputs": [
    {
     "data": {
      "text/plain": [
       "13241"
      ]
     },
     "execution_count": 6,
     "metadata": {},
     "output_type": "execute_result"
    }
   ],
   "source": [
    "len(validation_data)"
   ]
  },
  {
   "cell_type": "code",
   "execution_count": 7,
   "id": "e2438744-302d-4f6b-9a63-d49b2eadbd96",
   "metadata": {},
   "outputs": [],
   "source": [
    "train_users_data = [ud[0] for ud in train_data]\n",
    "train_movies_data = [md[1] for md in train_data]"
   ]
  },
  {
   "cell_type": "markdown",
   "id": "ab1b2649-c1fb-48bd-ab55-030b640199e7",
   "metadata": {},
   "source": [
    "## after splitting, only use the training data --- for encoding!!!!"
   ]
  },
  {
   "cell_type": "code",
   "execution_count": 8,
   "id": "dfbc8886-5861-4526-9488-ed53e502a2e4",
   "metadata": {},
   "outputs": [],
   "source": [
    "encoder = Encoder(users=train_users_data,movies=train_movies_data)###<---- important\n",
    "import pickle\n",
    "\n",
    "# Assuming 'encoder' is your encoder object\n",
    "with open('encoder.pkl', 'wb') as file:\n",
    "    pickle.dump(encoder, file)\n"
   ]
  },
  {
   "cell_type": "code",
   "execution_count": 9,
   "id": "319e8a9c-44a3-44d4-99c7-ad3b042220e3",
   "metadata": {},
   "outputs": [],
   "source": [
    "train_ds = ColFDataset(train_data,encoder)\n",
    "test_ds = ColFDataset(test_data,encoder)\n",
    "validation_ds = ColFDataset(validation_data,encoder)"
   ]
  },
  {
   "cell_type": "code",
   "execution_count": 10,
   "id": "af64661d-4749-45e3-a3a9-dcfdb27b43ea",
   "metadata": {},
   "outputs": [
    {
     "data": {
      "text/plain": [
       "1471"
      ]
     },
     "execution_count": 10,
     "metadata": {},
     "output_type": "execute_result"
    }
   ],
   "source": [
    "len(train_ds.movie_ids)"
   ]
  },
  {
   "cell_type": "code",
   "execution_count": 11,
   "id": "4a97f9cb-f0f1-45db-b175-4293529fa52d",
   "metadata": {},
   "outputs": [
    {
     "data": {
      "text/plain": [
       "0"
      ]
     },
     "execution_count": 11,
     "metadata": {},
     "output_type": "execute_result"
    }
   ],
   "source": [
    "train_ds.movie_ids.count(0)"
   ]
  },
  {
   "cell_type": "code",
   "execution_count": 12,
   "id": "ae3212ab-ac1f-4efa-b29a-a509247f08d4",
   "metadata": {},
   "outputs": [
    {
     "data": {
      "text/plain": [
       "13241"
      ]
     },
     "execution_count": 12,
     "metadata": {},
     "output_type": "execute_result"
    }
   ],
   "source": [
    "len(validation_ds.movie_ids)"
   ]
  },
  {
   "cell_type": "code",
   "execution_count": 13,
   "id": "75750116-45b4-4af9-be6e-d3b828a05311",
   "metadata": {},
   "outputs": [
    {
     "data": {
      "text/plain": [
       "6989"
      ]
     },
     "execution_count": 13,
     "metadata": {},
     "output_type": "execute_result"
    }
   ],
   "source": [
    "validation_ds.user_ids.count(0)"
   ]
  },
  {
   "cell_type": "code",
   "execution_count": 14,
   "id": "f2a65e0d-f096-4312-b02e-2ccbbb1a38af",
   "metadata": {},
   "outputs": [
    {
     "data": {
      "text/plain": [
       "1911"
      ]
     },
     "execution_count": 14,
     "metadata": {},
     "output_type": "execute_result"
    }
   ],
   "source": [
    "validation_ds.movie_ids.count(0)"
   ]
  },
  {
   "cell_type": "code",
   "execution_count": 15,
   "id": "cbc125dc-8fca-445a-8f90-ea504b004900",
   "metadata": {},
   "outputs": [
    {
     "data": {
      "text/plain": [
       "3679"
      ]
     },
     "execution_count": 15,
     "metadata": {},
     "output_type": "execute_result"
    }
   ],
   "source": [
    "len(test_ds.movie_ids)"
   ]
  },
  {
   "cell_type": "code",
   "execution_count": 16,
   "id": "83a82ced-863d-4bd4-b00d-a99a24047c89",
   "metadata": {},
   "outputs": [
    {
     "data": {
      "text/plain": [
       "500"
      ]
     },
     "execution_count": 16,
     "metadata": {},
     "output_type": "execute_result"
    }
   ],
   "source": [
    "test_ds.movie_ids.count(0)"
   ]
  },
  {
   "cell_type": "code",
   "execution_count": 17,
   "id": "75616c10-0c39-460b-a33d-9507b9043ab6",
   "metadata": {},
   "outputs": [],
   "source": [
    "BATCH_SIZE = 64\n",
    "train_data_loader = DataLoader(train_ds,batch_size=BATCH_SIZE,shuffle=False,drop_last=True)\n",
    "validation_data_loader = DataLoader(validation_ds,batch_size=BATCH_SIZE,shuffle=False,drop_last=True)\n",
    "test_data_loader = DataLoader(test_ds,batch_size=BATCH_SIZE,shuffle=False,drop_last=True)"
   ]
  },
  {
   "cell_type": "code",
   "execution_count": 18,
   "id": "36edabff-0087-49fd-9cbf-c22e06c27b16",
   "metadata": {},
   "outputs": [],
   "source": [
    "num_users = len(encoder.vocab_to_idx['users'])\n",
    "num_movies = len(encoder.vocab_to_idx['movies'])\n",
    "FEATURES=700\n",
    "model = MLPCollaborativeFilter(num_users + 1, num_movies + 1, embedding_dim=FEATURES)\n",
    "\n",
    "\n",
    "LEARNING_RATE = 0.001\n",
    "criterion = nn.MSELoss()\n",
    "#weight decay L2 regularization\n",
    "# optimiser = optim.SGD(model.parameters(), lr=0.001,weight_decay=1e-5)\\\n",
    "L2_REGULARIZATION=0.1\n",
    "optimiser = optim.SGD(model.parameters(), lr=LEARNING_RATE,weight_decay=L2_REGULARIZATION)\n",
    "EPOCHS = 100"
   ]
  },
  {
   "cell_type": "code",
   "execution_count": 19,
   "id": "157cd204-76fe-473a-9e57-a7adda48b185",
   "metadata": {},
   "outputs": [
    {
     "name": "stdout",
     "output_type": "stream",
     "text": [
      "18391\n"
     ]
    },
    {
     "data": {
      "text/plain": [
       "1471"
      ]
     },
     "execution_count": 19,
     "metadata": {},
     "output_type": "execute_result"
    }
   ],
   "source": [
    "print(len(data))\n",
    "len(train_ds)"
   ]
  },
  {
   "cell_type": "markdown",
   "id": "2c0aea2d-2597-4a50-9b6d-d65231ed49eb",
   "metadata": {},
   "source": [
    "# EDA "
   ]
  },
  {
   "cell_type": "markdown",
   "id": "aadfc0f4-b4df-4835-85b1-ebae07f11741",
   "metadata": {},
   "source": [
    "    Examine the data for patterns, anomalies, or characteristics.\n",
    "    Check for data quality issues such as missing values, outliers, or incorrect data types. <--- either predropped or imputed.\n",
    "    Get a sense of the distributions of your variables and the relationships between them."
   ]
  },
  {
   "cell_type": "code",
   "execution_count": 20,
   "id": "e1228065-7071-4b93-b460-a4204e6fbbda",
   "metadata": {},
   "outputs": [
    {
     "name": "stdout",
     "output_type": "stream",
     "text": [
      "               user               movie  ratings\n",
      "0       Callum Kaur  So Much Tenderness     0.76\n",
      "1  Leila Petrauskas         Terrorizers     0.80\n",
      "2       Leah Foster        The Rye Horn     0.70\n",
      "3      مهدیس روحانی         Dance First     0.50\n",
      "4  السيدة ربى عليان              A Hero     0.90\n",
      "<class 'pandas.core.frame.DataFrame'>\n",
      "RangeIndex: 18391 entries, 0 to 18390\n",
      "Data columns (total 3 columns):\n",
      " #   Column   Non-Null Count  Dtype  \n",
      "---  ------   --------------  -----  \n",
      " 0   user     18391 non-null  object \n",
      " 1   movie    18391 non-null  object \n",
      " 2   ratings  18391 non-null  float64\n",
      "dtypes: float64(1), object(2)\n",
      "memory usage: 431.2+ KB\n",
      "None\n",
      "            ratings\n",
      "count  18391.000000\n",
      "mean       0.674751\n",
      "std        0.210540\n",
      "min        0.020000\n",
      "25%        0.540000\n",
      "50%        0.700000\n",
      "75%        0.800000\n",
      "max        1.000000\n"
     ]
    }
   ],
   "source": [
    "import pandas as pd\n",
    "\n",
    "\n",
    "column_names = ['user', 'movie','ratings']\n",
    "\n",
    "df = pd.DataFrame(data, columns=column_names)\n",
    "\n",
    "# Display the first few rows of the dataset\n",
    "print(df.head())\n",
    "\n",
    "# Get a summary of the dataset\n",
    "print(df.info())\n",
    "\n",
    "# Generate descriptive statistics\n",
    "print(df.describe())\n"
   ]
  },
  {
   "cell_type": "code",
   "execution_count": 21,
   "id": "c02bbd90-8966-44b8-9ddd-59d31ce3d82c",
   "metadata": {},
   "outputs": [
    {
     "name": "stdout",
     "output_type": "stream",
     "text": [
      "user       0\n",
      "movie      0\n",
      "ratings    0\n",
      "dtype: int64\n"
     ]
    }
   ],
   "source": [
    "print(df.isnull().sum())\n"
   ]
  },
  {
   "cell_type": "code",
   "execution_count": 22,
   "id": "51da5313-6bec-42a9-835e-2c535197d382",
   "metadata": {},
   "outputs": [
    {
     "data": {
      "image/png": "[encoded data removed]",
      "text/plain": [
       "<Figure size 2000x1500 with 1 Axes>"
      ]
     },
     "metadata": {},
     "output_type": "display_data"
    },
    {
     "data": {
      "image/png": "[encoded data removed]",
      "text/plain": [
       "<Figure size 640x480 with 1 Axes>"
      ]
     },
     "metadata": {},
     "output_type": "display_data"
    },
    {
     "data": {
      "image/png": "[encoded data removed]",
      "text/plain": [
       "<Figure size 250x250 with 2 Axes>"
      ]
     },
     "metadata": {},
     "output_type": "display_data"
    }
   ],
   "source": [
    "import matplotlib.pyplot as plt\n",
    "import seaborn as sns\n",
    "\n",
    "# Histograms for numeric features\n",
    "df.hist(bins=50, figsize=(20,15))\n",
    "plt.show()\n",
    "\n",
    "# Box plots for distributions and spotting outliers\n",
    "sns.boxplot(data=df)\n",
    "plt.show()\n",
    "\n",
    "# Pairplot to visualize pairwise relationships between features\n",
    "sns.pairplot(df)\n",
    "plt.show()\n"
   ]
  },
  {
   "cell_type": "code",
   "execution_count": 23,
   "id": "6b05fd44-31ed-4c75-b0b2-5558d525bd0e",
   "metadata": {},
   "outputs": [
    {
     "data": {
      "text/html": [
       "<div>\n",
       "<style scoped>\n",
       "    .dataframe tbody tr th:only-of-type {\n",
       "        vertical-align: middle;\n",
       "    }\n",
       "\n",
       "    .dataframe tbody tr th {\n",
       "        vertical-align: top;\n",
       "    }\n",
       "\n",
       "    .dataframe thead th {\n",
       "        text-align: right;\n",
       "    }\n",
       "</style>\n",
       "<table border=\"1\" class=\"dataframe\">\n",
       "  <thead>\n",
       "    <tr style=\"text-align: right;\">\n",
       "      <th></th>\n",
       "      <th>user</th>\n",
       "      <th>movie</th>\n",
       "      <th>ratings</th>\n",
       "    </tr>\n",
       "  </thead>\n",
       "  <tbody>\n",
       "  </tbody>\n",
       "</table>\n",
       "</div>"
      ],
      "text/plain": [
       "Empty DataFrame\n",
       "Columns: [user, movie, ratings]\n",
       "Index: []"
      ]
     },
     "execution_count": 23,
     "metadata": {},
     "output_type": "execute_result"
    }
   ],
   "source": [
    "df[df['ratings'] == -1]"
   ]
  },
  {
   "cell_type": "code",
   "execution_count": 24,
   "id": "5fe39638-e29b-49ca-bf75-4d8d44ace1c1",
   "metadata": {},
   "outputs": [
    {
     "data": {
      "text/plain": [
       "0    18\n",
       "1    11\n",
       "2    12\n",
       "3    11\n",
       "4     6\n",
       "Name: title_length, dtype: int64"
      ]
     },
     "execution_count": 24,
     "metadata": {},
     "output_type": "execute_result"
    }
   ],
   "source": [
    "df['title_length'] = df['movie'].str.len()\n",
    "df['title_length'].head()"
   ]
  },
  {
   "cell_type": "code",
   "execution_count": 25,
   "id": "6c4fe575-c792-46de-9fac-c4e280e4889f",
   "metadata": {},
   "outputs": [
    {
     "data": {
      "image/png": "[encoded data removed]",
      "text/plain": [
       "<Figure size 640x480 with 2 Axes>"
      ]
     },
     "metadata": {},
     "output_type": "display_data"
    }
   ],
   "source": [
    "\n",
    "df['title_length']\n",
    "# Correlation matrix\n",
    "\n",
    "corr_matrix = df[['title_length','ratings']].corr()\n",
    "\n",
    "# Heatmap of the correlation matrix\n",
    "sns.heatmap(corr_matrix, annot=True, fmt=\".2f\")\n",
    "plt.show()\n",
    "\n",
    "# Specifically look at correlations with the target variable if defined\n",
    "# target_corr = corr_matrix[\"YourTargetVariable\"].sort_values(ascending=False)\n",
    "# print(target_corr)\n"
   ]
  },
  {
   "cell_type": "code",
   "execution_count": 26,
   "id": "dc364699-eaa9-4bd5-9e46-359b19c0271f",
   "metadata": {},
   "outputs": [
    {
     "name": "stdout",
     "output_type": "stream",
     "text": [
      "0.26\n",
      "                              user                        movie  ratings  \\\n",
      "18                Կիրա Կոշկակարյան         Bigger on the Inside     0.10   \n",
      "38              Claudia Dumitrescu               Simple Passion     0.10   \n",
      "73     Олимпий Гертрудович Кулаков                        Joker     0.10   \n",
      "112                 Fredrik Nilsen                       Zalava     0.10   \n",
      "151                   Stephen Hill                      Liberte     0.10   \n",
      "...                            ...                          ...      ...   \n",
      "18225                 Gijs de Smit  David Foster Off the Record     0.10   \n",
      "18231                 Itzel Amador                        Joker     0.10   \n",
      "18240             Christian Berger                       Memory     0.10   \n",
      "18276         Βαλάντης Χαραλάμπους                   Quickening     0.10   \n",
      "18305            Войнка Пенджакова                   Saint Omer     0.06   \n",
      "\n",
      "       title_length  \n",
      "18               20  \n",
      "38               14  \n",
      "73                5  \n",
      "112               6  \n",
      "151               7  \n",
      "...             ...  \n",
      "18225            27  \n",
      "18231             5  \n",
      "18240             6  \n",
      "18276            10  \n",
      "18305            10  \n",
      "\n",
      "[300 rows x 4 columns]\n"
     ]
    }
   ],
   "source": [
    "# Example of finding outliers for a 'feature_name'\n",
    "Q1 = df['ratings'].quantile(0.25)\n",
    "Q3 = df['ratings'].quantile(0.75)\n",
    "IQR = Q3 - Q1\n",
    "print(IQR)\n",
    "outlier_condition = ((df['ratings'] < (Q1 - 1.5 * IQR)) | (df['ratings'] > (Q3 + 1.5 * IQR)))\n",
    "outliers = df[outlier_condition]\n",
    "print(outliers)"
   ]
  },
  {
   "cell_type": "markdown",
   "id": "bd5dbea2-ea83-4f1a-b206-60a993873cfe",
   "metadata": {},
   "source": [
    "## MLFLOw"
   ]
  },
  {
   "cell_type": "code",
   "execution_count": 27,
   "id": "ae300159-0298-450a-b512-ddf65ad3d207",
   "metadata": {},
   "outputs": [
    {
     "data": {
      "text/plain": [
       "<Experiment: artifact_location='file:///home/james/Desktop/torchex/movie-users/mlruns/827152334394031969', creation_time=1710099404696, experiment_id='827152334394031969', last_update_time=1710099404696, lifecycle_stage='active', name='Finetuned Collaborative Filter', tags={}>"
      ]
     },
     "execution_count": 27,
     "metadata": {},
     "output_type": "execute_result"
    }
   ],
   "source": [
    "import mlflow\n",
    "from mlflow.tracking import MlflowClient\n",
    "\n",
    "# Optional: Set MLflow experiment\n",
    "mlflow.set_experiment(\"Finetuned Collaborative Filter\")"
   ]
  },
  {
   "cell_type": "code",
   "execution_count": 28,
   "id": "5bebaeb2-02a1-47d8-8f20-28d488b69201",
   "metadata": {},
   "outputs": [
    {
     "data": {
      "text/plain": [
       "0.5"
      ]
     },
     "execution_count": 28,
     "metadata": {},
     "output_type": "execute_result"
    }
   ],
   "source": [
    "# Log model parameters (example)\n",
    "mlflow.start_run()\n",
    "mlflow.log_param(\"epochs\", EPOCHS)\n",
    "mlflow.log_param(\"optimizer\", type(optimiser).__name__)\n",
    "mlflow.log_param(\"learning rate\", LEARNING_RATE)\n",
    "mlflow.log_param(\"batch size\", BATCH_SIZE)\n",
    "mlflow.log_param(\"L2 regularization\", L2_REGULARIZATION)\n",
    "mlflow.log_param(\"drop out\", 0.5)"
   ]
  },
  {
   "cell_type": "markdown",
   "id": "623dc331-6d00-41db-b670-fe7c76a9d10b",
   "metadata": {},
   "source": [
    "# PRETEST"
   ]
  },
  {
   "cell_type": "code",
   "execution_count": 29,
   "id": "1f13953d-a5bc-4fd2-8d48-3c323be56cf8",
   "metadata": {},
   "outputs": [
    {
     "name": "stdout",
     "output_type": "stream",
     "text": [
      "0.43195568678671853\n"
     ]
    }
   ],
   "source": [
    "#test data\n",
    "model.eval()  # Switch to evaluation mode\n",
    "test_loss = 0\n",
    "correct_predictions = 0  # Fixed variable name for clarity\n",
    "total_contexts = 0\n",
    "\n",
    "with torch.no_grad():  # Disable gradient computation\n",
    "    for user_ids, movie_ids, ratings in test_data_loader:\n",
    "        predictions = model(user_ids,movie_ids)  # Generate predictions\n",
    "        # Calculate and accumulate loss\n",
    "        loss = criterion(predictions, ratings)\n",
    "        test_loss += loss.item()\n",
    "        \n",
    "\n",
    "test_loss /= len(test_data_loader)  # Average loss per batch\n",
    "\n",
    "print(test_loss)\n",
    "\n",
    "mlflow.log_metric('pretraining test loss',test_loss)"
   ]
  },
  {
   "cell_type": "markdown",
   "id": "c39e0f67-b1d4-4a01-826a-4e37d9fb5127",
   "metadata": {},
   "source": [
    "## wandb"
   ]
  },
  {
   "cell_type": "code",
   "execution_count": 30,
   "id": "000ffd1c-94ac-4276-bede-a4b7f186794f",
   "metadata": {},
   "outputs": [
    {
     "name": "stderr",
     "output_type": "stream",
     "text": [
      "Failed to detect the name of this notebook, you can set it manually with the WANDB_NOTEBOOK_NAME environment variable to enable code saving.\n",
      "\u001b[34m\u001b[1mwandb\u001b[0m: Currently logged in as: \u001b[33mjcrich\u001b[0m. Use \u001b[1m`wandb login --relogin`\u001b[0m to force relogin\n"
     ]
    },
    {
     "data": {
      "text/html": [
       "wandb version 0.16.4 is available!  To upgrade, please run:\n",
       " $ pip install wandb --upgrade"
      ],
      "text/plain": [
       "<IPython.core.display.HTML object>"
      ]
     },
     "metadata": {},
     "output_type": "display_data"
    },
    {
     "data": {
      "text/html": [
       "Tracking run with wandb version 0.16.3"
      ],
      "text/plain": [
       "<IPython.core.display.HTML object>"
      ]
     },
     "metadata": {},
     "output_type": "display_data"
    },
    {
     "data": {
      "text/html": [
       "Run data is saved locally in <code>/home/james/Desktop/torchex/movie-users/wandb/run-20240311_215042-6dqticeg</code>"
      ],
      "text/plain": [
       "<IPython.core.display.HTML object>"
      ]
     },
     "metadata": {},
     "output_type": "display_data"
    },
    {
     "data": {
      "text/html": [
       "Syncing run <strong><a href='https://wandb.ai/jcrich/collaborative%20filter%20model/runs/6dqticeg' target=\"_blank\">skilled-firebrand-30</a></strong> to <a href='https://wandb.ai/jcrich/collaborative%20filter%20model' target=\"_blank\">Weights & Biases</a> (<a href='https://wandb.me/run' target=\"_blank\">docs</a>)<br/>"
      ],
      "text/plain": [
       "<IPython.core.display.HTML object>"
      ]
     },
     "metadata": {},
     "output_type": "display_data"
    },
    {
     "data": {
      "text/html": [
       " View project at <a href='https://wandb.ai/jcrich/collaborative%20filter%20model' target=\"_blank\">https://wandb.ai/jcrich/collaborative%20filter%20model</a>"
      ],
      "text/plain": [
       "<IPython.core.display.HTML object>"
      ]
     },
     "metadata": {},
     "output_type": "display_data"
    },
    {
     "data": {
      "text/html": [
       " View run at <a href='https://wandb.ai/jcrich/collaborative%20filter%20model/runs/6dqticeg' target=\"_blank\">https://wandb.ai/jcrich/collaborative%20filter%20model/runs/6dqticeg</a>"
      ],
      "text/plain": [
       "<IPython.core.display.HTML object>"
      ]
     },
     "metadata": {},
     "output_type": "display_data"
    },
    {
     "data": {
      "text/html": [
       "<button onClick=\"this.nextSibling.style.display='block';this.style.display='none';\">Display W&B run</button><iframe src='https://wandb.ai/jcrich/collaborative%20filter%20model/runs/6dqticeg?jupyter=true' style='border:none;width:100%;height:420px;display:none;'></iframe>"
      ],
      "text/plain": [
       "<wandb.sdk.wandb_run.Run at 0x7f554980b580>"
      ]
     },
     "execution_count": 30,
     "metadata": {},
     "output_type": "execute_result"
    }
   ],
   "source": [
    "import wandb\n",
    "import random\n",
    "\n",
    "# start a new wandb run to track this script\n",
    "wandb.init(\n",
    "    # set the wandb project where this run will be logged\n",
    "    entity=\"jcrich\",\n",
    "    project=\"collaborative filter model\",\n",
    "    \n",
    "    # track hyperparameters and run metadata\n",
    "    config={\n",
    "    \"learning_rate\": LEARNING_RATE,\n",
    "    \"architecture\": \"collaborative filter\",\n",
    "    \"dataset\": \"imdb\",\n",
    "    \"epochs\": EPOCHS,\n",
    "    }\n",
    ")\n"
   ]
  },
  {
   "cell_type": "code",
   "execution_count": 31,
   "id": "4ef218b7-74b1-4769-9175-cfc7a9fa2f6f",
   "metadata": {},
   "outputs": [
    {
     "name": "stderr",
     "output_type": "stream",
     "text": [
      "Epoch 0: 100%|█████████████████████████████████████████████████████████████████████████████████████████████████████████████████████| 22/22 [00:00<00:00, 215.83it/s]\n",
      "Epoch 1: 100%|█████████████████████████████████████████████████████████████████████████████████████████████████████████████████████| 22/22 [00:00<00:00, 329.05it/s]\n",
      "Epoch 2: 100%|█████████████████████████████████████████████████████████████████████████████████████████████████████████████████████| 22/22 [00:00<00:00, 328.11it/s]\n",
      "Epoch 3: 100%|█████████████████████████████████████████████████████████████████████████████████████████████████████████████████████| 22/22 [00:00<00:00, 285.57it/s]\n",
      "Epoch 4: 100%|█████████████████████████████████████████████████████████████████████████████████████████████████████████████████████| 22/22 [00:00<00:00, 322.70it/s]\n",
      "Epoch 5: 100%|█████████████████████████████████████████████████████████████████████████████████████████████████████████████████████| 22/22 [00:00<00:00, 254.67it/s]\n",
      "Epoch 6: 100%|█████████████████████████████████████████████████████████████████████████████████████████████████████████████████████| 22/22 [00:00<00:00, 317.15it/s]\n",
      "Epoch 7: 100%|█████████████████████████████████████████████████████████████████████████████████████████████████████████████████████| 22/22 [00:00<00:00, 316.53it/s]\n",
      "Epoch 8: 100%|█████████████████████████████████████████████████████████████████████████████████████████████████████████████████████| 22/22 [00:00<00:00, 345.00it/s]\n",
      "Epoch 9: 100%|█████████████████████████████████████████████████████████████████████████████████████████████████████████████████████| 22/22 [00:00<00:00, 335.80it/s]\n",
      "Epoch 10: 100%|████████████████████████████████████████████████████████████████████████████████████████████████████████████████████| 22/22 [00:00<00:00, 359.60it/s]\n",
      "Epoch 11: 100%|████████████████████████████████████████████████████████████████████████████████████████████████████████████████████| 22/22 [00:00<00:00, 344.35it/s]\n",
      "Epoch 12: 100%|████████████████████████████████████████████████████████████████████████████████████████████████████████████████████| 22/22 [00:00<00:00, 380.39it/s]\n",
      "Epoch 13: 100%|████████████████████████████████████████████████████████████████████████████████████████████████████████████████████| 22/22 [00:00<00:00, 368.31it/s]\n",
      "Epoch 14: 100%|████████████████████████████████████████████████████████████████████████████████████████████████████████████████████| 22/22 [00:00<00:00, 372.24it/s]\n",
      "Epoch 15: 100%|████████████████████████████████████████████████████████████████████████████████████████████████████████████████████| 22/22 [00:00<00:00, 384.36it/s]\n",
      "Epoch 16: 100%|████████████████████████████████████████████████████████████████████████████████████████████████████████████████████| 22/22 [00:00<00:00, 392.24it/s]\n",
      "Epoch 17: 100%|████████████████████████████████████████████████████████████████████████████████████████████████████████████████████| 22/22 [00:00<00:00, 284.40it/s]\n",
      "Epoch 18: 100%|████████████████████████████████████████████████████████████████████████████████████████████████████████████████████| 22/22 [00:00<00:00, 374.75it/s]\n",
      "Epoch 19: 100%|████████████████████████████████████████████████████████████████████████████████████████████████████████████████████| 22/22 [00:00<00:00, 376.38it/s]\n",
      "Epoch 20: 100%|████████████████████████████████████████████████████████████████████████████████████████████████████████████████████| 22/22 [00:00<00:00, 382.03it/s]\n",
      "Epoch 21: 100%|████████████████████████████████████████████████████████████████████████████████████████████████████████████████████| 22/22 [00:00<00:00, 369.92it/s]\n",
      "Epoch 22: 100%|████████████████████████████████████████████████████████████████████████████████████████████████████████████████████| 22/22 [00:00<00:00, 335.61it/s]\n",
      "Epoch 23: 100%|████████████████████████████████████████████████████████████████████████████████████████████████████████████████████| 22/22 [00:00<00:00, 350.17it/s]\n",
      "Epoch 24: 100%|████████████████████████████████████████████████████████████████████████████████████████████████████████████████████| 22/22 [00:00<00:00, 377.15it/s]\n",
      "Epoch 25: 100%|████████████████████████████████████████████████████████████████████████████████████████████████████████████████████| 22/22 [00:00<00:00, 335.53it/s]\n",
      "Epoch 26: 100%|████████████████████████████████████████████████████████████████████████████████████████████████████████████████████| 22/22 [00:00<00:00, 375.37it/s]\n",
      "Epoch 27: 100%|████████████████████████████████████████████████████████████████████████████████████████████████████████████████████| 22/22 [00:00<00:00, 333.22it/s]\n",
      "Epoch 28: 100%|████████████████████████████████████████████████████████████████████████████████████████████████████████████████████| 22/22 [00:00<00:00, 386.50it/s]\n",
      "Epoch 29: 100%|████████████████████████████████████████████████████████████████████████████████████████████████████████████████████| 22/22 [00:00<00:00, 359.77it/s]\n",
      "Epoch 30: 100%|████████████████████████████████████████████████████████████████████████████████████████████████████████████████████| 22/22 [00:00<00:00, 352.66it/s]\n",
      "Epoch 31: 100%|████████████████████████████████████████████████████████████████████████████████████████████████████████████████████| 22/22 [00:00<00:00, 348.13it/s]\n",
      "Epoch 32: 100%|████████████████████████████████████████████████████████████████████████████████████████████████████████████████████| 22/22 [00:00<00:00, 374.73it/s]\n",
      "Epoch 33: 100%|████████████████████████████████████████████████████████████████████████████████████████████████████████████████████| 22/22 [00:00<00:00, 373.95it/s]\n",
      "Epoch 34: 100%|████████████████████████████████████████████████████████████████████████████████████████████████████████████████████| 22/22 [00:00<00:00, 373.06it/s]\n",
      "Epoch 35: 100%|████████████████████████████████████████████████████████████████████████████████████████████████████████████████████| 22/22 [00:00<00:00, 374.85it/s]\n",
      "Epoch 36: 100%|████████████████████████████████████████████████████████████████████████████████████████████████████████████████████| 22/22 [00:00<00:00, 383.27it/s]\n",
      "Epoch 37: 100%|████████████████████████████████████████████████████████████████████████████████████████████████████████████████████| 22/22 [00:00<00:00, 371.07it/s]\n",
      "Epoch 38: 100%|████████████████████████████████████████████████████████████████████████████████████████████████████████████████████| 22/22 [00:00<00:00, 317.47it/s]\n",
      "Epoch 39: 100%|████████████████████████████████████████████████████████████████████████████████████████████████████████████████████| 22/22 [00:00<00:00, 352.93it/s]\n",
      "Epoch 40: 100%|████████████████████████████████████████████████████████████████████████████████████████████████████████████████████| 22/22 [00:00<00:00, 366.31it/s]\n",
      "Epoch 41: 100%|████████████████████████████████████████████████████████████████████████████████████████████████████████████████████| 22/22 [00:00<00:00, 388.34it/s]\n",
      "Epoch 42: 100%|████████████████████████████████████████████████████████████████████████████████████████████████████████████████████| 22/22 [00:00<00:00, 377.08it/s]\n",
      "Epoch 43: 100%|████████████████████████████████████████████████████████████████████████████████████████████████████████████████████| 22/22 [00:00<00:00, 377.26it/s]\n",
      "Epoch 44: 100%|████████████████████████████████████████████████████████████████████████████████████████████████████████████████████| 22/22 [00:00<00:00, 363.80it/s]\n",
      "Epoch 45: 100%|████████████████████████████████████████████████████████████████████████████████████████████████████████████████████| 22/22 [00:00<00:00, 375.88it/s]\n",
      "Epoch 46: 100%|████████████████████████████████████████████████████████████████████████████████████████████████████████████████████| 22/22 [00:00<00:00, 363.67it/s]\n",
      "Epoch 47: 100%|████████████████████████████████████████████████████████████████████████████████████████████████████████████████████| 22/22 [00:00<00:00, 357.10it/s]\n",
      "Epoch 48: 100%|████████████████████████████████████████████████████████████████████████████████████████████████████████████████████| 22/22 [00:00<00:00, 332.33it/s]\n",
      "Epoch 49: 100%|████████████████████████████████████████████████████████████████████████████████████████████████████████████████████| 22/22 [00:00<00:00, 363.47it/s]\n",
      "Epoch 50: 100%|████████████████████████████████████████████████████████████████████████████████████████████████████████████████████| 22/22 [00:00<00:00, 369.40it/s]\n",
      "Epoch 51: 100%|████████████████████████████████████████████████████████████████████████████████████████████████████████████████████| 22/22 [00:00<00:00, 387.86it/s]\n",
      "Epoch 52: 100%|████████████████████████████████████████████████████████████████████████████████████████████████████████████████████| 22/22 [00:00<00:00, 369.57it/s]\n",
      "Epoch 53: 100%|████████████████████████████████████████████████████████████████████████████████████████████████████████████████████| 22/22 [00:00<00:00, 338.51it/s]\n",
      "Epoch 54: 100%|████████████████████████████████████████████████████████████████████████████████████████████████████████████████████| 22/22 [00:00<00:00, 354.02it/s]\n",
      "Epoch 55: 100%|████████████████████████████████████████████████████████████████████████████████████████████████████████████████████| 22/22 [00:00<00:00, 357.36it/s]\n",
      "Epoch 56: 100%|████████████████████████████████████████████████████████████████████████████████████████████████████████████████████| 22/22 [00:00<00:00, 336.21it/s]\n",
      "Epoch 57: 100%|████████████████████████████████████████████████████████████████████████████████████████████████████████████████████| 22/22 [00:00<00:00, 343.37it/s]\n",
      "Epoch 58: 100%|████████████████████████████████████████████████████████████████████████████████████████████████████████████████████| 22/22 [00:00<00:00, 387.51it/s]\n",
      "Epoch 59: 100%|████████████████████████████████████████████████████████████████████████████████████████████████████████████████████| 22/22 [00:00<00:00, 363.29it/s]\n",
      "Epoch 60: 100%|████████████████████████████████████████████████████████████████████████████████████████████████████████████████████| 22/22 [00:00<00:00, 381.51it/s]\n",
      "Epoch 61: 100%|████████████████████████████████████████████████████████████████████████████████████████████████████████████████████| 22/22 [00:00<00:00, 326.93it/s]\n",
      "Epoch 62: 100%|████████████████████████████████████████████████████████████████████████████████████████████████████████████████████| 22/22 [00:00<00:00, 327.52it/s]\n",
      "Epoch 63: 100%|████████████████████████████████████████████████████████████████████████████████████████████████████████████████████| 22/22 [00:00<00:00, 345.35it/s]\n",
      "Epoch 64: 100%|████████████████████████████████████████████████████████████████████████████████████████████████████████████████████| 22/22 [00:00<00:00, 344.27it/s]\n",
      "Epoch 65: 100%|████████████████████████████████████████████████████████████████████████████████████████████████████████████████████| 22/22 [00:00<00:00, 373.66it/s]\n",
      "Epoch 66: 100%|████████████████████████████████████████████████████████████████████████████████████████████████████████████████████| 22/22 [00:00<00:00, 361.68it/s]\n",
      "Epoch 67: 100%|████████████████████████████████████████████████████████████████████████████████████████████████████████████████████| 22/22 [00:00<00:00, 376.17it/s]\n",
      "Epoch 68: 100%|████████████████████████████████████████████████████████████████████████████████████████████████████████████████████| 22/22 [00:00<00:00, 371.36it/s]\n",
      "Epoch 69: 100%|████████████████████████████████████████████████████████████████████████████████████████████████████████████████████| 22/22 [00:00<00:00, 343.75it/s]\n",
      "Epoch 70: 100%|████████████████████████████████████████████████████████████████████████████████████████████████████████████████████| 22/22 [00:00<00:00, 347.98it/s]\n",
      "Epoch 71: 100%|████████████████████████████████████████████████████████████████████████████████████████████████████████████████████| 22/22 [00:00<00:00, 312.92it/s]\n",
      "Epoch 72: 100%|████████████████████████████████████████████████████████████████████████████████████████████████████████████████████| 22/22 [00:00<00:00, 340.21it/s]\n",
      "Epoch 73: 100%|████████████████████████████████████████████████████████████████████████████████████████████████████████████████████| 22/22 [00:00<00:00, 334.69it/s]\n",
      "Epoch 74: 100%|████████████████████████████████████████████████████████████████████████████████████████████████████████████████████| 22/22 [00:00<00:00, 339.08it/s]\n",
      "Epoch 75: 100%|████████████████████████████████████████████████████████████████████████████████████████████████████████████████████| 22/22 [00:00<00:00, 361.99it/s]\n",
      "Epoch 76: 100%|████████████████████████████████████████████████████████████████████████████████████████████████████████████████████| 22/22 [00:00<00:00, 364.01it/s]\n",
      "Epoch 77: 100%|████████████████████████████████████████████████████████████████████████████████████████████████████████████████████| 22/22 [00:00<00:00, 392.33it/s]\n",
      "Epoch 78: 100%|████████████████████████████████████████████████████████████████████████████████████████████████████████████████████| 22/22 [00:00<00:00, 369.17it/s]\n",
      "Epoch 79: 100%|████████████████████████████████████████████████████████████████████████████████████████████████████████████████████| 22/22 [00:00<00:00, 380.57it/s]\n",
      "Epoch 80: 100%|████████████████████████████████████████████████████████████████████████████████████████████████████████████████████| 22/22 [00:00<00:00, 341.85it/s]\n",
      "Epoch 81: 100%|████████████████████████████████████████████████████████████████████████████████████████████████████████████████████| 22/22 [00:00<00:00, 365.24it/s]\n",
      "Epoch 82: 100%|████████████████████████████████████████████████████████████████████████████████████████████████████████████████████| 22/22 [00:00<00:00, 372.40it/s]\n",
      "Epoch 83: 100%|████████████████████████████████████████████████████████████████████████████████████████████████████████████████████| 22/22 [00:00<00:00, 368.96it/s]\n",
      "Epoch 84: 100%|████████████████████████████████████████████████████████████████████████████████████████████████████████████████████| 22/22 [00:00<00:00, 352.97it/s]\n",
      "Epoch 85: 100%|████████████████████████████████████████████████████████████████████████████████████████████████████████████████████| 22/22 [00:00<00:00, 338.65it/s]\n",
      "Epoch 86: 100%|████████████████████████████████████████████████████████████████████████████████████████████████████████████████████| 22/22 [00:00<00:00, 358.12it/s]\n",
      "Epoch 87: 100%|████████████████████████████████████████████████████████████████████████████████████████████████████████████████████| 22/22 [00:00<00:00, 334.71it/s]\n",
      "Epoch 88: 100%|████████████████████████████████████████████████████████████████████████████████████████████████████████████████████| 22/22 [00:00<00:00, 367.25it/s]\n",
      "Epoch 89: 100%|████████████████████████████████████████████████████████████████████████████████████████████████████████████████████| 22/22 [00:00<00:00, 361.11it/s]\n",
      "Epoch 90: 100%|████████████████████████████████████████████████████████████████████████████████████████████████████████████████████| 22/22 [00:00<00:00, 357.59it/s]\n",
      "Epoch 91: 100%|████████████████████████████████████████████████████████████████████████████████████████████████████████████████████| 22/22 [00:00<00:00, 371.40it/s]\n",
      "Epoch 92: 100%|████████████████████████████████████████████████████████████████████████████████████████████████████████████████████| 22/22 [00:00<00:00, 353.79it/s]\n",
      "Epoch 93: 100%|████████████████████████████████████████████████████████████████████████████████████████████████████████████████████| 22/22 [00:00<00:00, 307.17it/s]\n",
      "Epoch 94: 100%|████████████████████████████████████████████████████████████████████████████████████████████████████████████████████| 22/22 [00:00<00:00, 318.70it/s]\n",
      "Epoch 95: 100%|████████████████████████████████████████████████████████████████████████████████████████████████████████████████████| 22/22 [00:00<00:00, 350.06it/s]\n",
      "Epoch 96: 100%|████████████████████████████████████████████████████████████████████████████████████████████████████████████████████| 22/22 [00:00<00:00, 372.89it/s]\n",
      "Epoch 97: 100%|████████████████████████████████████████████████████████████████████████████████████████████████████████████████████| 22/22 [00:00<00:00, 339.28it/s]\n",
      "Epoch 98: 100%|████████████████████████████████████████████████████████████████████████████████████████████████████████████████████| 22/22 [00:00<00:00, 355.23it/s]\n",
      "Epoch 99: 100%|████████████████████████████████████████████████████████████████████████████████████████████████████████████████████| 22/22 [00:00<00:00, 346.08it/s]\n",
      "wandb: WARNING Source type is set to 'repo' but some required information is missing from the environment. A job will not be created from this run. See https://docs.wandb.ai/guides/launch/create-job\n"
     ]
    },
    {
     "data": {
      "text/html": [
       "<style>\n",
       "    table.wandb td:nth-child(1) { padding: 0 10px; text-align: left ; width: auto;} td:nth-child(2) {text-align: left ; width: 100%}\n",
       "    .wandb-row { display: flex; flex-direction: row; flex-wrap: wrap; justify-content: flex-start; width: 100% }\n",
       "    .wandb-col { display: flex; flex-direction: column; flex-basis: 100%; flex: 1; padding: 10px; }\n",
       "    </style>\n",
       "<div class=\"wandb-row\"><div class=\"wandb-col\"><h3>Run history:</h3><br/><table class=\"wandb\"><tr><td>Epoch</td><td>▁▁▁▁▂▂▂▂▂▃▃▃▃▃▃▄▄▄▄▄▅▅▅▅▅▅▆▆▆▆▆▇▇▇▇▇▇███</td></tr><tr><td>Training Loss</td><td>█▅▃▃▃▂▂▂▂▂▂▂▂▂▁▁▁▁▁▁▁▁▁▁▁▁▁▁▁▁▁▁▁▁▁▁▁▁▁▁</td></tr><tr><td>Validation Loss</td><td>█▅▄▃▃▂▂▂▂▂▂▂▂▂▂▂▂▁▁▁▁▁▁▁▁▁▁▁▁▁▁▁▁▁▁▁▁▁▁▁</td></tr></table><br/></div><div class=\"wandb-col\"><h3>Run summary:</h3><br/><table class=\"wandb\"><tr><td>Epoch</td><td>99</td></tr><tr><td>Training Loss</td><td>0.05465</td></tr><tr><td>Validation Loss</td><td>0.07352</td></tr></table><br/></div></div>"
      ],
      "text/plain": [
       "<IPython.core.display.HTML object>"
      ]
     },
     "metadata": {},
     "output_type": "display_data"
    },
    {
     "data": {
      "text/html": [
       " View run <strong style=\"color:#cdcd00\">skilled-firebrand-30</strong> at: <a href='https://wandb.ai/jcrich/collaborative%20filter%20model/runs/6dqticeg' target=\"_blank\">https://wandb.ai/jcrich/collaborative%20filter%20model/runs/6dqticeg</a><br/>Synced 5 W&B file(s), 0 media file(s), 0 artifact file(s) and 0 other file(s)"
      ],
      "text/plain": [
       "<IPython.core.display.HTML object>"
      ]
     },
     "metadata": {},
     "output_type": "display_data"
    },
    {
     "data": {
      "text/html": [
       "Find logs at: <code>./wandb/run-20240311_215042-6dqticeg/logs</code>"
      ],
      "text/plain": [
       "<IPython.core.display.HTML object>"
      ]
     },
     "metadata": {},
     "output_type": "display_data"
    }
   ],
   "source": [
    "# Initialize lists to keep track of losses and epochs\n",
    "# Initialize MLflow run\n",
    "# Initialize MLflow run\n",
    "# Initialize MLflow run\n",
    "\n",
    "train_losses = []\n",
    "validation_losses = []\n",
    "epochs = []\n",
    "\n",
    "# Set the best validation loss to infinity at the start\n",
    "best_val_loss = float('inf')\n",
    "\n",
    "for epoch in range(EPOCHS):\n",
    "    model.train()\n",
    "    total_epoch_loss = 0\n",
    "    for batch_idx, (user_ids, movie_ids, ratings) in tqdm(enumerate(train_data_loader), total=len(train_data_loader), desc=f'Epoch {epoch}'):\n",
    "\n",
    "        optimiser.zero_grad()\n",
    "        predictions = model(user_ids, movie_ids)\n",
    "        loss = criterion(predictions, ratings)\n",
    "\n",
    "        loss.backward()\n",
    "        optimiser.step()\n",
    "        \n",
    "        batch_loss = loss.item()\n",
    "        total_epoch_loss += batch_loss\n",
    "        \n",
    "    # After all batches, calculate average loss for the epoch\n",
    "    avg_epoch_loss = total_epoch_loss / len(train_data_loader)\n",
    "    train_losses.append(avg_epoch_loss)\n",
    "    epochs.append(epoch)\n",
    "    \n",
    "    # Log training loss for the current epoch\n",
    "    wandb.log({\"Training Loss\": avg_epoch_loss, \"Epoch\": epoch})\n",
    "    mlflow.log_metric(\"Training Loss\", avg_epoch_loss, step=epoch)\n",
    "\n",
    "    # Start validation phase\n",
    "    model.eval()\n",
    "    total_validation_loss = 0\n",
    "    with torch.no_grad():\n",
    "        for batch_idx, (user_ids, movie_ids, ratings) in enumerate(validation_data_loader):\n",
    "            predictions = model(user_ids, movie_ids)\n",
    "            loss = criterion(predictions, ratings)\n",
    "            total_validation_loss += loss.item()\n",
    "    \n",
    "    # Calculate and log validation loss after the epoch\n",
    "    avg_validation_loss = total_validation_loss / len(validation_data_loader)\n",
    "    validation_losses.append(avg_validation_loss)\n",
    "\n",
    "    # Save the model if this epoch has the best validation loss so far\n",
    "    if avg_validation_loss < best_val_loss:\n",
    "        best_val_loss = avg_validation_loss\n",
    "        mlflow.log_metric(\"Best Validation Loss\", best_val_loss, step=epoch)\n",
    "        mlflow.pytorch.log_model(model, \"model\")\n",
    "        # Save model state\n",
    "        torch.save(model.state_dict(), 'best_model_state.pth')\n",
    "        # If you also want to save the optimizer state along with the model:\n",
    "        torch.save({\n",
    "            'epoch': epoch,\n",
    "            'model_state_dict': model.state_dict(),\n",
    "            'optimiser_state_dict': optimiser.state_dict(),\n",
    "            'loss': avg_validation_loss,\n",
    "        }, 'best_col_model_checkpoint.pth')\n",
    "        # Log the model checkpoint as an artifact\n",
    "        mlflow.log_artifact('best_col_model_checkpoint.pth')\n",
    "    \n",
    "    # Log validation loss for the current epoch\n",
    "    wandb.log({\"Validation Loss\": avg_validation_loss, \"Epoch\": epoch})\n",
    "    mlflow.log_metric(\"Validation Loss\", avg_validation_loss, step=epoch)\n",
    "    \n",
    "# Finish the Weights & Biases run\n",
    "wandb.finish()"
   ]
  },
  {
   "cell_type": "code",
   "execution_count": 32,
   "id": "9ede2c71-6995-4fd5-a657-e15996945cd2",
   "metadata": {},
   "outputs": [
    {
     "name": "stdout",
     "output_type": "stream",
     "text": [
      "0.07306494217431336\n"
     ]
    }
   ],
   "source": [
    "#test data\n",
    "model.eval()  # Switch to evaluation mode\n",
    "test_loss = 0\n",
    "correct_predictions = 0  # Fixed variable name for clarity\n",
    "total_contexts = 0\n",
    "\n",
    "with torch.no_grad():  # Disable gradient computation\n",
    "    for user_ids, movie_ids, ratings in test_data_loader:\n",
    "        predictions = model(user_ids,movie_ids)  # Generate predictions\n",
    "        # Calculate and accumulate loss\n",
    "        loss = criterion(predictions, ratings)\n",
    "        test_loss += loss.item()\n",
    "        \n",
    "        # # Reshape predictions to match [batch_size, context_size, vocab_size]\n",
    "        # predictions = predictions.view(-1, context_size, VOCAB_SIZE)\n",
    "        \n",
    "        # # Get top prediction for each context position\n",
    "        # top_predictions = predictions.argmax(dim=2)\n",
    "        \n",
    "        # # Calculate correct predictions\n",
    "        # correct_preds = (top_predictions == context).float().sum()\n",
    "        # correct_predictions += correct_preds.item()  # Accumulate correct predictions\n",
    "        \n",
    "        # total_contexts += context.numel()  # Total number of context word positions evaluated\n",
    "\n",
    "# Calculate final metrics\n",
    "test_loss /= len(test_data_loader)  # Average loss per batch\n",
    "# print('correct predictions = ',correct_predictions)\n",
    "# print('out of  = ',total_contexts)\n",
    "# accuracy = correct_predictions / total_contexts  # Compute accuracy\n",
    "\n",
    "# print(f'Test set: Average loss: {test_loss:.4f}, Accuracy: {accuracy:.4f}')\n",
    "\n",
    "# Evaluate the model\n",
    "# (This would involve using a separate validation set or performing cross-validation)\n",
    "print(test_loss)\n",
    "\n",
    "mlflow.log_metric('Post training test loss',test_loss)\n",
    "mlflow.end_run()"
   ]
  },
  {
   "cell_type": "markdown",
   "id": "fff24efc-8629-4242-8cce-6311cb1f9192",
   "metadata": {},
   "source": [
    "# Validation"
   ]
  },
  {
   "cell_type": "code",
   "execution_count": 39,
   "id": "8631385b-7cfe-427b-b2db-427241171649",
   "metadata": {},
   "outputs": [],
   "source": [
    "#SPLit\n",
    "from sklearn.model_selection import KFold\n",
    "\n",
    "# Configuration\n",
    "num_folds = 10\n",
    "data_size = len(test_ds)  # Assuming 'dataset' is a PyTorch Dataset\n",
    "\n",
    "# Define the K-fold Cross Validator\n",
    "kfold = KFold(n_splits=num_folds, shuffle=True)"
   ]
  },
  {
   "cell_type": "code",
   "execution_count": 40,
   "id": "31c8ce29-174d-4687-9476-a996d5a9ccfc",
   "metadata": {},
   "outputs": [
    {
     "data": {
      "text/plain": [
       "0.5"
      ]
     },
     "execution_count": 40,
     "metadata": {},
     "output_type": "execute_result"
    }
   ],
   "source": [
    "# Optional: Set MLflow experiment\n",
    "mlflow.set_experiment(\"Finetuned Collaborative Filter\")\n",
    "# Log model parameters (example)\n",
    "mlflow.start_run()\n",
    "mlflow.log_param(\"epochs\", EPOCHS)\n",
    "mlflow.log_param(\"optimizer\", type(optimiser).__name__)\n",
    "mlflow.log_param(\"learning rate\", LEARNING_RATE)\n",
    "mlflow.log_param(\"batch size\", BATCH_SIZE)\n",
    "mlflow.log_param(\"L2 regularization\", L2_REGULARIZATION)\n",
    "mlflow.log_param(\"KFOLDS\", num_folds)\n",
    "mlflow.log_param(\"drop out\", 0.5)"
   ]
  },
  {
   "cell_type": "code",
   "execution_count": 41,
   "id": "b8e36fba-65b3-40c4-ad25-0e6b7b004449",
   "metadata": {},
   "outputs": [
    {
     "data": {
      "text/html": [
       "wandb version 0.16.4 is available!  To upgrade, please run:\n",
       " $ pip install wandb --upgrade"
      ],
      "text/plain": [
       "<IPython.core.display.HTML object>"
      ]
     },
     "metadata": {},
     "output_type": "display_data"
    },
    {
     "data": {
      "text/html": [
       "Tracking run with wandb version 0.16.3"
      ],
      "text/plain": [
       "<IPython.core.display.HTML object>"
      ]
     },
     "metadata": {},
     "output_type": "display_data"
    },
    {
     "data": {
      "text/html": [
       "Run data is saved locally in <code>/home/james/Desktop/torchex/movie-users/wandb/run-20240311_215552-dxwil5oh</code>"
      ],
      "text/plain": [
       "<IPython.core.display.HTML object>"
      ]
     },
     "metadata": {},
     "output_type": "display_data"
    },
    {
     "data": {
      "text/html": [
       "Syncing run <strong><a href='https://wandb.ai/jcrich/collaborative%20filter%20model/runs/dxwil5oh' target=\"_blank\">stellar-salad-32</a></strong> to <a href='https://wandb.ai/jcrich/collaborative%20filter%20model' target=\"_blank\">Weights & Biases</a> (<a href='https://wandb.me/run' target=\"_blank\">docs</a>)<br/>"
      ],
      "text/plain": [
       "<IPython.core.display.HTML object>"
      ]
     },
     "metadata": {},
     "output_type": "display_data"
    },
    {
     "data": {
      "text/html": [
       " View project at <a href='https://wandb.ai/jcrich/collaborative%20filter%20model' target=\"_blank\">https://wandb.ai/jcrich/collaborative%20filter%20model</a>"
      ],
      "text/plain": [
       "<IPython.core.display.HTML object>"
      ]
     },
     "metadata": {},
     "output_type": "display_data"
    },
    {
     "data": {
      "text/html": [
       " View run at <a href='https://wandb.ai/jcrich/collaborative%20filter%20model/runs/dxwil5oh' target=\"_blank\">https://wandb.ai/jcrich/collaborative%20filter%20model/runs/dxwil5oh</a>"
      ],
      "text/plain": [
       "<IPython.core.display.HTML object>"
      ]
     },
     "metadata": {},
     "output_type": "display_data"
    },
    {
     "data": {
      "text/html": [
       "<button onClick=\"this.nextSibling.style.display='block';this.style.display='none';\">Display W&B run</button><iframe src='https://wandb.ai/jcrich/collaborative%20filter%20model/runs/dxwil5oh?jupyter=true' style='border:none;width:100%;height:420px;display:none;'></iframe>"
      ],
      "text/plain": [
       "<wandb.sdk.wandb_run.Run at 0x7f559b7bc0a0>"
      ]
     },
     "execution_count": 41,
     "metadata": {},
     "output_type": "execute_result"
    }
   ],
   "source": [
    "# start a new wandb run to track this script\n",
    "wandb.init(\n",
    "    # set the wandb project where this run will be logged\n",
    "    entity=\"jcrich\",\n",
    "    project=\"collaborative filter model\",\n",
    "    \n",
    "    # track hyperparameters and run metadata\n",
    "    config={\n",
    "    \"learning_rate\": LEARNING_RATE,\n",
    "    \"architecture\": \"collaborative filter\",\n",
    "    \"dataset\": \"letterboxd\",\n",
    "    \"epochs\": EPOCHS,\n",
    "    }\n",
    ")"
   ]
  },
  {
   "cell_type": "code",
   "execution_count": 42,
   "id": "8b0830cd-43f1-454c-8e81-72e5d73549fd",
   "metadata": {},
   "outputs": [
    {
     "name": "stdout",
     "output_type": "stream",
     "text": [
      "FOLD 0\n",
      "--------------------------------\n",
      "Validation Loss for fold 0: 0.5213800668716431\n",
      "Validation Loss for fold 0: 0.4675179322560628\n",
      "Validation Loss for fold 0: 0.37011366089185077\n",
      "Validation Loss for fold 0: 0.3169592320919037\n",
      "Validation Loss for fold 0: 0.26690048972765607\n",
      "Validation Loss for fold 0: 0.24119565884272257\n",
      "Validation Loss for fold 0: 0.21109308302402496\n",
      "Validation Loss for fold 0: 0.19659075140953064\n",
      "Validation Loss for fold 0: 0.19230835636456808\n",
      "Validation Loss for fold 0: 0.16834469139575958\n",
      "Validation Loss for fold 0: 0.1724931796391805\n",
      "Validation Loss for fold 0: 0.16517843306064606\n",
      "Validation Loss for fold 0: 0.17479813595612845\n",
      "Validation Loss for fold 0: 0.14418483773867288\n",
      "Validation Loss for fold 0: 0.15777303278446198\n",
      "Validation Loss for fold 0: 0.146331657965978\n",
      "Validation Loss for fold 0: 0.14786007503668466\n",
      "Validation Loss for fold 0: 0.15986826519171396\n",
      "Validation Loss for fold 0: 0.150053933262825\n",
      "Validation Loss for fold 0: 0.13514054814974466\n",
      "Validation Loss for fold 0: 0.1446077525615692\n",
      "Validation Loss for fold 0: 0.14801408350467682\n",
      "Validation Loss for fold 0: 0.12419719000657399\n",
      "Validation Loss for fold 0: 0.12600277612606683\n",
      "Validation Loss for fold 0: 0.1276884526014328\n",
      "Validation Loss for fold 0: 0.12450616310040157\n",
      "Validation Loss for fold 0: 0.13923203448454538\n",
      "Validation Loss for fold 0: 0.1292270744840304\n",
      "Validation Loss for fold 0: 0.12951502203941345\n",
      "Validation Loss for fold 0: 0.11723395933707555\n",
      "Validation Loss for fold 0: 0.1229058454434077\n",
      "Validation Loss for fold 0: 0.13276821374893188\n",
      "Validation Loss for fold 0: 0.1293587883313497\n",
      "Validation Loss for fold 0: 0.11283668130636215\n",
      "Validation Loss for fold 0: 0.12954801072676977\n",
      "Validation Loss for fold 0: 0.11485708753267924\n",
      "Validation Loss for fold 0: 0.10860019425551097\n",
      "Validation Loss for fold 0: 0.12164401262998581\n",
      "Validation Loss for fold 0: 0.12137475858132045\n",
      "Validation Loss for fold 0: 0.11511697868506114\n",
      "Validation Loss for fold 0: 0.10924699157476425\n",
      "Validation Loss for fold 0: 0.11217287182807922\n",
      "Validation Loss for fold 0: 0.10816834618647893\n",
      "Validation Loss for fold 0: 0.10780945420265198\n",
      "Validation Loss for fold 0: 0.11139906446139018\n",
      "Validation Loss for fold 0: 0.10817369570334752\n",
      "Validation Loss for fold 0: 0.10761507352193196\n",
      "Validation Loss for fold 0: 0.11507527033487956\n",
      "Validation Loss for fold 0: 0.1041930615901947\n",
      "Validation Loss for fold 0: 0.103139894704024\n",
      "Validation Loss for fold 0: 0.10966009646654129\n",
      "Validation Loss for fold 0: 0.10136967897415161\n",
      "Validation Loss for fold 0: 0.10080363601446152\n",
      "Validation Loss for fold 0: 0.10028073191642761\n",
      "Validation Loss for fold 0: 0.10364391654729843\n",
      "Validation Loss for fold 0: 0.10489841302235921\n",
      "Validation Loss for fold 0: 0.10744945704936981\n",
      "Validation Loss for fold 0: 0.10681495318810146\n",
      "Validation Loss for fold 0: 0.09757833431164424\n",
      "Validation Loss for fold 0: 0.09739875545104344\n",
      "Validation Loss for fold 0: 0.10370908677577972\n",
      "Validation Loss for fold 0: 0.09290247162183125\n",
      "Validation Loss for fold 0: 0.09960840394099553\n",
      "Validation Loss for fold 0: 0.09624611834685008\n",
      "Validation Loss for fold 0: 0.10184718171755473\n",
      "Validation Loss for fold 0: 0.09180172781149547\n",
      "Validation Loss for fold 0: 0.09613331655661266\n",
      "Validation Loss for fold 0: 0.09724961469570796\n",
      "Validation Loss for fold 0: 0.09263387819131215\n",
      "Validation Loss for fold 0: 0.0878206913669904\n",
      "Validation Loss for fold 0: 0.0952990750471751\n",
      "Validation Loss for fold 0: 0.09285923341910045\n",
      "Validation Loss for fold 0: 0.1047772467136383\n",
      "Validation Loss for fold 0: 0.09747126946846645\n",
      "Validation Loss for fold 0: 0.08624114096164703\n",
      "Validation Loss for fold 0: 0.09507471074660619\n",
      "Validation Loss for fold 0: 0.09228148559729259\n",
      "Validation Loss for fold 0: 0.09630446135997772\n",
      "Validation Loss for fold 0: 0.08746928224960963\n",
      "Validation Loss for fold 0: 0.07923795282840729\n",
      "Validation Loss for fold 0: 0.07882921894391377\n",
      "Validation Loss for fold 0: 0.09246888260046641\n",
      "Validation Loss for fold 0: 0.08035243550936381\n",
      "Validation Loss for fold 0: 0.08618666231632233\n",
      "Validation Loss for fold 0: 0.08944770693778992\n",
      "Validation Loss for fold 0: 0.08900623768568039\n",
      "Validation Loss for fold 0: 0.08623017867406209\n",
      "Validation Loss for fold 0: 0.08439675966898601\n",
      "Validation Loss for fold 0: 0.09219972292582194\n",
      "Validation Loss for fold 0: 0.08744975179433823\n",
      "Validation Loss for fold 0: 0.0908707653482755\n",
      "Validation Loss for fold 0: 0.08843136578798294\n",
      "Validation Loss for fold 0: 0.08280747880538304\n",
      "Validation Loss for fold 0: 0.07749975348512332\n",
      "Validation Loss for fold 0: 0.08224983761707942\n",
      "Validation Loss for fold 0: 0.08916143576304118\n",
      "Validation Loss for fold 0: 0.08288090179363887\n",
      "Validation Loss for fold 0: 0.08288513123989105\n",
      "Validation Loss for fold 0: 0.08150252948204677\n",
      "Validation Loss for fold 0: 0.08564711858828862\n",
      "--------------------------------\n",
      "FOLD 1\n",
      "--------------------------------\n",
      "Validation Loss for fold 1: 0.6349525054295858\n",
      "Validation Loss for fold 1: 0.5302000840504965\n",
      "Validation Loss for fold 1: 0.40380791823069256\n",
      "Validation Loss for fold 1: 0.39253101746241253\n",
      "Validation Loss for fold 1: 0.3278656204541524\n",
      "Validation Loss for fold 1: 0.3128144343694051\n",
      "Validation Loss for fold 1: 0.27077092230319977\n",
      "Validation Loss for fold 1: 0.2480529099702835\n",
      "Validation Loss for fold 1: 0.23521644870440164\n",
      "Validation Loss for fold 1: 0.24063599109649658\n",
      "Validation Loss for fold 1: 0.21106833219528198\n",
      "Validation Loss for fold 1: 0.2241154064734777\n",
      "Validation Loss for fold 1: 0.20720873276392618\n",
      "Validation Loss for fold 1: 0.18670966724554697\n",
      "Validation Loss for fold 1: 0.18053391575813293\n",
      "Validation Loss for fold 1: 0.19363234440485635\n",
      "Validation Loss for fold 1: 0.18324123322963715\n",
      "Validation Loss for fold 1: 0.18019569416840872\n",
      "Validation Loss for fold 1: 0.18314999838670096\n",
      "Validation Loss for fold 1: 0.17025850216547647\n",
      "Validation Loss for fold 1: 0.1933544228474299\n",
      "Validation Loss for fold 1: 0.18734661241372427\n",
      "Validation Loss for fold 1: 0.17719190319379172\n",
      "Validation Loss for fold 1: 0.16159701844056448\n",
      "Validation Loss for fold 1: 0.17974399526913962\n",
      "Validation Loss for fold 1: 0.16914446403582892\n",
      "Validation Loss for fold 1: 0.1577936808268229\n",
      "Validation Loss for fold 1: 0.16239158312479654\n",
      "Validation Loss for fold 1: 0.14969618866840997\n",
      "Validation Loss for fold 1: 0.14618026713530222\n",
      "Validation Loss for fold 1: 0.14257370680570602\n",
      "Validation Loss for fold 1: 0.15331233541170755\n",
      "Validation Loss for fold 1: 0.14745339254538217\n",
      "Validation Loss for fold 1: 0.13890776534875235\n",
      "Validation Loss for fold 1: 0.13323536763588587\n",
      "Validation Loss for fold 1: 0.137886310617129\n",
      "Validation Loss for fold 1: 0.15034843981266022\n",
      "Validation Loss for fold 1: 0.13436579455931982\n",
      "Validation Loss for fold 1: 0.12464092671871185\n",
      "Validation Loss for fold 1: 0.1443707620104154\n",
      "Validation Loss for fold 1: 0.1310139795144399\n",
      "Validation Loss for fold 1: 0.13357380032539368\n",
      "Validation Loss for fold 1: 0.14015259593725204\n",
      "Validation Loss for fold 1: 0.1292731687426567\n",
      "Validation Loss for fold 1: 0.1329399198293686\n",
      "Validation Loss for fold 1: 0.12739958117405573\n",
      "Validation Loss for fold 1: 0.13323461016019186\n",
      "Validation Loss for fold 1: 0.12752374509970346\n",
      "Validation Loss for fold 1: 0.12695533533891043\n",
      "Validation Loss for fold 1: 0.1252836436033249\n",
      "Validation Loss for fold 1: 0.1308756743868192\n",
      "Validation Loss for fold 1: 0.11887496461470921\n",
      "Validation Loss for fold 1: 0.11728541553020477\n",
      "Validation Loss for fold 1: 0.11908361564079921\n",
      "Validation Loss for fold 1: 0.12352048854033153\n",
      "Validation Loss for fold 1: 0.11764766027530034\n",
      "Validation Loss for fold 1: 0.10605828712383907\n",
      "Validation Loss for fold 1: 0.129506287475427\n",
      "Validation Loss for fold 1: 0.11975966393947601\n",
      "Validation Loss for fold 1: 0.10831209272146225\n",
      "Validation Loss for fold 1: 0.10953384637832642\n",
      "Validation Loss for fold 1: 0.11495263129472733\n",
      "Validation Loss for fold 1: 0.11221358925104141\n",
      "Validation Loss for fold 1: 0.11344853043556213\n",
      "Validation Loss for fold 1: 0.11133500188589096\n",
      "Validation Loss for fold 1: 0.12039911498626073\n",
      "Validation Loss for fold 1: 0.116721677283446\n",
      "Validation Loss for fold 1: 0.10815618435541789\n",
      "Validation Loss for fold 1: 0.09845763196547826\n",
      "Validation Loss for fold 1: 0.10278322050968806\n",
      "Validation Loss for fold 1: 0.10756189376115799\n",
      "Validation Loss for fold 1: 0.10133359332879384\n",
      "Validation Loss for fold 1: 0.09731889516115189\n",
      "Validation Loss for fold 1: 0.10696804523468018\n",
      "Validation Loss for fold 1: 0.09984791527191798\n",
      "Validation Loss for fold 1: 0.10722244779268901\n",
      "Validation Loss for fold 1: 0.09173523510495822\n",
      "Validation Loss for fold 1: 0.09549142916997273\n",
      "Validation Loss for fold 1: 0.1014690895875295\n",
      "Validation Loss for fold 1: 0.09742823739846547\n",
      "Validation Loss for fold 1: 0.08363177751501401\n",
      "Validation Loss for fold 1: 0.10284109165271123\n",
      "Validation Loss for fold 1: 0.09936338414748509\n",
      "Validation Loss for fold 1: 0.09453246245781581\n",
      "Validation Loss for fold 1: 0.09254481146732967\n",
      "Validation Loss for fold 1: 0.0949735517303149\n",
      "Validation Loss for fold 1: 0.1017929141720136\n",
      "Validation Loss for fold 1: 0.09778656313816707\n",
      "Validation Loss for fold 1: 0.08838157852490743\n",
      "Validation Loss for fold 1: 0.09158298373222351\n",
      "Validation Loss for fold 1: 0.09023540715376537\n",
      "Validation Loss for fold 1: 0.09155325839916865\n",
      "Validation Loss for fold 1: 0.08723322798808415\n",
      "Validation Loss for fold 1: 0.09112310409545898\n",
      "Validation Loss for fold 1: 0.0903315320611\n",
      "Validation Loss for fold 1: 0.08760589609543483\n",
      "Validation Loss for fold 1: 0.08982283125321071\n",
      "Validation Loss for fold 1: 0.08646508554617564\n",
      "Validation Loss for fold 1: 0.0909343163172404\n",
      "Validation Loss for fold 1: 0.09000834325949351\n",
      "--------------------------------\n",
      "FOLD 2\n",
      "--------------------------------\n",
      "Validation Loss for fold 2: 0.5785630544026693\n",
      "Validation Loss for fold 2: 0.4814274807771047\n",
      "Validation Loss for fold 2: 0.323639174302419\n",
      "Validation Loss for fold 2: 0.23270549376805624\n",
      "Validation Loss for fold 2: 0.17171606421470642\n",
      "Validation Loss for fold 2: 0.15606010456879935\n",
      "Validation Loss for fold 2: 0.1325927128394445\n",
      "Validation Loss for fold 2: 0.11090006430943807\n",
      "Validation Loss for fold 2: 0.11028987417618434\n",
      "Validation Loss for fold 2: 0.10307922959327698\n",
      "Validation Loss for fold 2: 0.1016871730486552\n",
      "Validation Loss for fold 2: 0.09692087272802989\n",
      "Validation Loss for fold 2: 0.09372841070095699\n",
      "Validation Loss for fold 2: 0.08763740956783295\n",
      "Validation Loss for fold 2: 0.09005053341388702\n",
      "Validation Loss for fold 2: 0.08260759462912877\n",
      "Validation Loss for fold 2: 0.08724111318588257\n",
      "Validation Loss for fold 2: 0.08778462807337443\n",
      "Validation Loss for fold 2: 0.08224524060885112\n",
      "Validation Loss for fold 2: 0.07929938783248265\n",
      "Validation Loss for fold 2: 0.07925997177759807\n",
      "Validation Loss for fold 2: 0.07325318455696106\n",
      "Validation Loss for fold 2: 0.08243748048941295\n",
      "Validation Loss for fold 2: 0.08425141125917435\n",
      "Validation Loss for fold 2: 0.07961913694938023\n",
      "Validation Loss for fold 2: 0.07333802804350853\n",
      "Validation Loss for fold 2: 0.07401390373706818\n",
      "Validation Loss for fold 2: 0.0758697936932246\n",
      "Validation Loss for fold 2: 0.071428498874108\n",
      "Validation Loss for fold 2: 0.08133011807998021\n",
      "Validation Loss for fold 2: 0.07383636633555095\n",
      "Validation Loss for fold 2: 0.07658981531858444\n",
      "Validation Loss for fold 2: 0.07556227346261342\n",
      "Validation Loss for fold 2: 0.08222402632236481\n",
      "Validation Loss for fold 2: 0.0809066245953242\n",
      "Validation Loss for fold 2: 0.070644856741031\n",
      "Validation Loss for fold 2: 0.07848544791340828\n",
      "Validation Loss for fold 2: 0.07501311351855595\n",
      "Validation Loss for fold 2: 0.08173361917336781\n",
      "Validation Loss for fold 2: 0.07462222998340924\n",
      "Validation Loss for fold 2: 0.07562856872876485\n",
      "Validation Loss for fold 2: 0.08235978831847508\n",
      "Validation Loss for fold 2: 0.06677808860937755\n",
      "Validation Loss for fold 2: 0.0710463710129261\n",
      "Validation Loss for fold 2: 0.0724283258120219\n",
      "Validation Loss for fold 2: 0.07311562945445378\n",
      "Validation Loss for fold 2: 0.07045719027519226\n",
      "Validation Loss for fold 2: 0.07742638885974884\n",
      "Validation Loss for fold 2: 0.06894321118791898\n",
      "Validation Loss for fold 2: 0.0700811098019282\n",
      "Validation Loss for fold 2: 0.07180090869466464\n",
      "Validation Loss for fold 2: 0.079103438804547\n",
      "Validation Loss for fold 2: 0.06929745525121689\n",
      "Validation Loss for fold 2: 0.06283601373434067\n",
      "Validation Loss for fold 2: 0.06660943975051244\n",
      "Validation Loss for fold 2: 0.06468898802995682\n",
      "Validation Loss for fold 2: 0.06393657500545184\n",
      "Validation Loss for fold 2: 0.06729737669229507\n",
      "Validation Loss for fold 2: 0.07066669315099716\n",
      "Validation Loss for fold 2: 0.0770792265733083\n",
      "Validation Loss for fold 2: 0.06940176337957382\n",
      "Validation Loss for fold 2: 0.06574809675415356\n",
      "Validation Loss for fold 2: 0.06690722207228343\n",
      "Validation Loss for fold 2: 0.07497460395097733\n",
      "Validation Loss for fold 2: 0.067076592395703\n",
      "Validation Loss for fold 2: 0.06524977584679921\n",
      "Validation Loss for fold 2: 0.06641101216276486\n",
      "Validation Loss for fold 2: 0.061539621402819954\n",
      "Validation Loss for fold 2: 0.07011297345161438\n",
      "Validation Loss for fold 2: 0.0668046623468399\n",
      "Validation Loss for fold 2: 0.0653336172302564\n",
      "Validation Loss for fold 2: 0.06817290683587392\n",
      "Validation Loss for fold 2: 0.0646125003695488\n",
      "Validation Loss for fold 2: 0.06226621940732002\n",
      "Validation Loss for fold 2: 0.06495300556222598\n",
      "Validation Loss for fold 2: 0.0637276458243529\n",
      "Validation Loss for fold 2: 0.0653052752216657\n",
      "Validation Loss for fold 2: 0.06856697052717209\n",
      "Validation Loss for fold 2: 0.06744036699334781\n",
      "Validation Loss for fold 2: 0.061968435843785606\n",
      "Validation Loss for fold 2: 0.06302429735660553\n",
      "Validation Loss for fold 2: 0.06454852471748988\n",
      "Validation Loss for fold 2: 0.06078176945447922\n",
      "Validation Loss for fold 2: 0.0638788752257824\n",
      "Validation Loss for fold 2: 0.062201693654060364\n",
      "Validation Loss for fold 2: 0.060540515929460526\n",
      "Validation Loss for fold 2: 0.06526631489396095\n",
      "Validation Loss for fold 2: 0.06507224837938945\n",
      "Validation Loss for fold 2: 0.06397521868348122\n",
      "Validation Loss for fold 2: 0.06606382379929225\n",
      "Validation Loss for fold 2: 0.07044367492198944\n",
      "Validation Loss for fold 2: 0.05820689102013906\n",
      "Validation Loss for fold 2: 0.06406451513369878\n",
      "Validation Loss for fold 2: 0.06252361958225568\n",
      "Validation Loss for fold 2: 0.06828142081697781\n",
      "Validation Loss for fold 2: 0.06437755872805913\n",
      "Validation Loss for fold 2: 0.06053638085722923\n",
      "Validation Loss for fold 2: 0.06128105397025744\n",
      "Validation Loss for fold 2: 0.058063232650359474\n",
      "Validation Loss for fold 2: 0.06735843668381374\n",
      "--------------------------------\n",
      "FOLD 3\n",
      "--------------------------------\n",
      "Validation Loss for fold 3: 0.3689846992492676\n",
      "Validation Loss for fold 3: 0.28724117080370587\n",
      "Validation Loss for fold 3: 0.24819066127141318\n",
      "Validation Loss for fold 3: 0.22775998711585999\n",
      "Validation Loss for fold 3: 0.2141487201054891\n",
      "Validation Loss for fold 3: 0.2015830228726069\n",
      "Validation Loss for fold 3: 0.20275718967119852\n",
      "Validation Loss for fold 3: 0.20508069296677908\n",
      "Validation Loss for fold 3: 0.17174817125002542\n",
      "Validation Loss for fold 3: 0.1800945301850637\n",
      "Validation Loss for fold 3: 0.1705592026313146\n",
      "Validation Loss for fold 3: 0.17570415139198303\n",
      "Validation Loss for fold 3: 0.18203765153884888\n",
      "Validation Loss for fold 3: 0.16170720010995865\n",
      "Validation Loss for fold 3: 0.1640536238749822\n",
      "Validation Loss for fold 3: 0.16280828913052878\n",
      "Validation Loss for fold 3: 0.15894611676534018\n",
      "Validation Loss for fold 3: 0.15631043910980225\n",
      "Validation Loss for fold 3: 0.16736500461896262\n",
      "Validation Loss for fold 3: 0.16474576791127524\n",
      "Validation Loss for fold 3: 0.1584643373886744\n",
      "Validation Loss for fold 3: 0.17005308965841928\n",
      "Validation Loss for fold 3: 0.16519503792126974\n",
      "Validation Loss for fold 3: 0.15280559162298837\n",
      "Validation Loss for fold 3: 0.15691640476385751\n",
      "Validation Loss for fold 3: 0.15308880309263864\n",
      "Validation Loss for fold 3: 0.1602449044585228\n",
      "Validation Loss for fold 3: 0.17749347786108652\n",
      "Validation Loss for fold 3: 0.15831952293713888\n",
      "Validation Loss for fold 3: 0.14069103449583054\n",
      "Validation Loss for fold 3: 0.14370172222455344\n",
      "Validation Loss for fold 3: 0.15412785112857819\n",
      "Validation Loss for fold 3: 0.15070231755574545\n",
      "Validation Loss for fold 3: 0.15374061465263367\n",
      "Validation Loss for fold 3: 0.13659821699062982\n",
      "Validation Loss for fold 3: 0.14764364063739777\n",
      "Validation Loss for fold 3: 0.14389159282048544\n",
      "Validation Loss for fold 3: 0.14838364720344543\n",
      "Validation Loss for fold 3: 0.14055187503496805\n",
      "Validation Loss for fold 3: 0.15063009659449259\n",
      "Validation Loss for fold 3: 0.14555971324443817\n",
      "Validation Loss for fold 3: 0.13745635002851486\n",
      "Validation Loss for fold 3: 0.1427383522192637\n",
      "Validation Loss for fold 3: 0.14956373473008475\n",
      "Validation Loss for fold 3: 0.14044826726118723\n",
      "Validation Loss for fold 3: 0.14949561655521393\n",
      "Validation Loss for fold 3: 0.14797983566919962\n",
      "Validation Loss for fold 3: 0.13466649750868478\n",
      "Validation Loss for fold 3: 0.135979692141215\n",
      "Validation Loss for fold 3: 0.13633142908414206\n",
      "Validation Loss for fold 3: 0.12985657155513763\n",
      "Validation Loss for fold 3: 0.1420163537065188\n",
      "Validation Loss for fold 3: 0.13188333809375763\n",
      "Validation Loss for fold 3: 0.12589221447706223\n",
      "Validation Loss for fold 3: 0.13302219907442728\n",
      "Validation Loss for fold 3: 0.134973814090093\n",
      "Validation Loss for fold 3: 0.12955463180939356\n",
      "Validation Loss for fold 3: 0.13524321218331656\n",
      "Validation Loss for fold 3: 0.1311461180448532\n",
      "Validation Loss for fold 3: 0.13586037357648215\n",
      "Validation Loss for fold 3: 0.121456245581309\n",
      "Validation Loss for fold 3: 0.11864351232846577\n",
      "Validation Loss for fold 3: 0.12500223765770593\n",
      "Validation Loss for fold 3: 0.12796177715063095\n",
      "Validation Loss for fold 3: 0.11992038538058598\n",
      "Validation Loss for fold 3: 0.12301496664683025\n",
      "Validation Loss for fold 3: 0.11767270416021347\n",
      "Validation Loss for fold 3: 0.12674557665983835\n",
      "Validation Loss for fold 3: 0.12324989835421245\n",
      "Validation Loss for fold 3: 0.1284684787193934\n",
      "Validation Loss for fold 3: 0.12250509361426036\n",
      "Validation Loss for fold 3: 0.11773386349280675\n",
      "Validation Loss for fold 3: 0.11813439180453618\n",
      "Validation Loss for fold 3: 0.1259393518169721\n",
      "Validation Loss for fold 3: 0.12948089589675268\n",
      "Validation Loss for fold 3: 0.11711842070023219\n",
      "Validation Loss for fold 3: 0.11704848955074947\n",
      "Validation Loss for fold 3: 0.11525492618481319\n",
      "Validation Loss for fold 3: 0.11952885240316391\n",
      "Validation Loss for fold 3: 0.11286547283331554\n",
      "Validation Loss for fold 3: 0.11678274224201839\n",
      "Validation Loss for fold 3: 0.1201847493648529\n",
      "Validation Loss for fold 3: 0.11266545454661052\n",
      "Validation Loss for fold 3: 0.11688913404941559\n",
      "Validation Loss for fold 3: 0.11229873200257619\n",
      "Validation Loss for fold 3: 0.10928468157847722\n",
      "Validation Loss for fold 3: 0.10990474869807561\n",
      "Validation Loss for fold 3: 0.10350009550650914\n",
      "Validation Loss for fold 3: 0.10514934609333675\n",
      "Validation Loss for fold 3: 0.1150876631339391\n",
      "Validation Loss for fold 3: 0.1068476860721906\n",
      "Validation Loss for fold 3: 0.10744345684846242\n",
      "Validation Loss for fold 3: 0.10979134341080983\n",
      "Validation Loss for fold 3: 0.10491220901409785\n",
      "Validation Loss for fold 3: 0.10333702216545741\n",
      "Validation Loss for fold 3: 0.10506848245859146\n",
      "Validation Loss for fold 3: 0.1078715870777766\n",
      "Validation Loss for fold 3: 0.09704835464557011\n",
      "Validation Loss for fold 3: 0.10220427066087723\n",
      "Validation Loss for fold 3: 0.10861923048893611\n",
      "--------------------------------\n",
      "FOLD 4\n",
      "--------------------------------\n",
      "Validation Loss for fold 4: 0.37374081214269\n",
      "Validation Loss for fold 4: 0.2756885091463725\n",
      "Validation Loss for fold 4: 0.20396540562311807\n",
      "Validation Loss for fold 4: 0.17175969978173575\n",
      "Validation Loss for fold 4: 0.16062040627002716\n",
      "Validation Loss for fold 4: 0.12851431717475256\n",
      "Validation Loss for fold 4: 0.11438838144143422\n",
      "Validation Loss for fold 4: 0.10419520487387975\n",
      "Validation Loss for fold 4: 0.11704179396231969\n",
      "Validation Loss for fold 4: 0.11065687984228134\n",
      "Validation Loss for fold 4: 0.10590135057767232\n",
      "Validation Loss for fold 4: 0.09082397321859996\n",
      "Validation Loss for fold 4: 0.09033560752868652\n",
      "Validation Loss for fold 4: 0.09662536283334096\n",
      "Validation Loss for fold 4: 0.09586970259745915\n",
      "Validation Loss for fold 4: 0.08563138296206792\n",
      "Validation Loss for fold 4: 0.09955839564402898\n",
      "Validation Loss for fold 4: 0.09447292238473892\n",
      "Validation Loss for fold 4: 0.08232359091440837\n",
      "Validation Loss for fold 4: 0.08950050920248032\n",
      "Validation Loss for fold 4: 0.07880567262570064\n",
      "Validation Loss for fold 4: 0.07842118044694264\n",
      "Validation Loss for fold 4: 0.073016290863355\n",
      "Validation Loss for fold 4: 0.08289873103300731\n",
      "Validation Loss for fold 4: 0.08339084933201472\n",
      "Validation Loss for fold 4: 0.07669371366500854\n",
      "Validation Loss for fold 4: 0.07761211196581523\n",
      "Validation Loss for fold 4: 0.07759047672152519\n",
      "Validation Loss for fold 4: 0.07636447250843048\n",
      "Validation Loss for fold 4: 0.07740325232346852\n",
      "Validation Loss for fold 4: 0.08757323771715164\n",
      "Validation Loss for fold 4: 0.07583645979563396\n",
      "Validation Loss for fold 4: 0.07513235757748286\n",
      "Validation Loss for fold 4: 0.0743442823489507\n",
      "Validation Loss for fold 4: 0.07911216964324315\n",
      "Validation Loss for fold 4: 0.07326685885588329\n",
      "Validation Loss for fold 4: 0.07242247710625331\n",
      "Validation Loss for fold 4: 0.07173939049243927\n",
      "Validation Loss for fold 4: 0.06822814295689265\n",
      "Validation Loss for fold 4: 0.06613762304186821\n",
      "Validation Loss for fold 4: 0.0693824477493763\n",
      "Validation Loss for fold 4: 0.07590098927418391\n",
      "Validation Loss for fold 4: 0.07011671364307404\n",
      "Validation Loss for fold 4: 0.07070495188236237\n",
      "Validation Loss for fold 4: 0.06925209984183311\n",
      "Validation Loss for fold 4: 0.07551078001658122\n",
      "Validation Loss for fold 4: 0.07884458700815837\n",
      "Validation Loss for fold 4: 0.07333132872978847\n",
      "Validation Loss for fold 4: 0.06162702292203903\n",
      "Validation Loss for fold 4: 0.065800242125988\n",
      "Validation Loss for fold 4: 0.06550081943472226\n",
      "Validation Loss for fold 4: 0.06554623569051425\n",
      "Validation Loss for fold 4: 0.0719497303167979\n",
      "Validation Loss for fold 4: 0.06419422353307407\n",
      "Validation Loss for fold 4: 0.06400147080421448\n",
      "Validation Loss for fold 4: 0.0629703626036644\n",
      "Validation Loss for fold 4: 0.0703742578625679\n",
      "Validation Loss for fold 4: 0.0629555272559325\n",
      "Validation Loss for fold 4: 0.07079028089841206\n",
      "Validation Loss for fold 4: 0.06303058192133904\n",
      "Validation Loss for fold 4: 0.06806877752145131\n",
      "Validation Loss for fold 4: 0.06413145735859871\n",
      "Validation Loss for fold 4: 0.06820197651783626\n",
      "Validation Loss for fold 4: 0.07009721919894218\n",
      "Validation Loss for fold 4: 0.0638518122335275\n",
      "Validation Loss for fold 4: 0.06936549892028172\n",
      "Validation Loss for fold 4: 0.06347803523143132\n",
      "Validation Loss for fold 4: 0.07189966986576717\n",
      "Validation Loss for fold 4: 0.06250684584180514\n",
      "Validation Loss for fold 4: 0.06538466612497966\n",
      "Validation Loss for fold 4: 0.06287725518147151\n",
      "Validation Loss for fold 4: 0.0599738284945488\n",
      "Validation Loss for fold 4: 0.06978944689035416\n",
      "Validation Loss for fold 4: 0.06379653761784236\n",
      "Validation Loss for fold 4: 0.062313374131917953\n",
      "Validation Loss for fold 4: 0.0602863480647405\n",
      "Validation Loss for fold 4: 0.060655868301788964\n",
      "Validation Loss for fold 4: 0.05828374748428663\n",
      "Validation Loss for fold 4: 0.05694896851976713\n",
      "Validation Loss for fold 4: 0.06732439373930295\n",
      "Validation Loss for fold 4: 0.06451304629445076\n",
      "Validation Loss for fold 4: 0.06276396537820499\n",
      "Validation Loss for fold 4: 0.0618739128112793\n",
      "Validation Loss for fold 4: 0.06569894154866536\n",
      "Validation Loss for fold 4: 0.06310922776659329\n",
      "Validation Loss for fold 4: 0.061913122733434044\n",
      "Validation Loss for fold 4: 0.06347885107000668\n",
      "Validation Loss for fold 4: 0.06835394973556201\n",
      "Validation Loss for fold 4: 0.0658186028401057\n",
      "Validation Loss for fold 4: 0.06287539005279541\n",
      "Validation Loss for fold 4: 0.05693558479348818\n",
      "Validation Loss for fold 4: 0.0667218379676342\n",
      "Validation Loss for fold 4: 0.0690311739842097\n",
      "Validation Loss for fold 4: 0.060678157955408096\n",
      "Validation Loss for fold 4: 0.05883511280020078\n",
      "Validation Loss for fold 4: 0.0632200725376606\n",
      "Validation Loss for fold 4: 0.05966860552628835\n",
      "Validation Loss for fold 4: 0.056789866338173546\n",
      "Validation Loss for fold 4: 0.06077392399311066\n",
      "Validation Loss for fold 4: 0.0570266917347908\n",
      "--------------------------------\n",
      "FOLD 5\n",
      "--------------------------------\n",
      "Validation Loss for fold 5: 0.569132924079895\n",
      "Validation Loss for fold 5: 0.4160998264948527\n",
      "Validation Loss for fold 5: 0.32848499218622845\n",
      "Validation Loss for fold 5: 0.2650837649901708\n",
      "Validation Loss for fold 5: 0.2017571578423182\n",
      "Validation Loss for fold 5: 0.1900151421626409\n",
      "Validation Loss for fold 5: 0.15095698088407516\n",
      "Validation Loss for fold 5: 0.1469336301088333\n",
      "Validation Loss for fold 5: 0.14781532684961954\n",
      "Validation Loss for fold 5: 0.14427601794401804\n",
      "Validation Loss for fold 5: 0.12962445120016733\n",
      "Validation Loss for fold 5: 0.11868694672981898\n",
      "Validation Loss for fold 5: 0.11553305387496948\n",
      "Validation Loss for fold 5: 0.12271214028199513\n",
      "Validation Loss for fold 5: 0.12326140701770782\n",
      "Validation Loss for fold 5: 0.10820003350575765\n",
      "Validation Loss for fold 5: 0.10431557645400365\n",
      "Validation Loss for fold 5: 0.10593271255493164\n",
      "Validation Loss for fold 5: 0.12885363896687826\n",
      "Validation Loss for fold 5: 0.09926429390907288\n",
      "Validation Loss for fold 5: 0.10416181633869807\n",
      "Validation Loss for fold 5: 0.1037735790014267\n",
      "Validation Loss for fold 5: 0.10322801768779755\n",
      "Validation Loss for fold 5: 0.09641348073879878\n",
      "Validation Loss for fold 5: 0.10057220607995987\n",
      "Validation Loss for fold 5: 0.09643694758415222\n",
      "Validation Loss for fold 5: 0.09376918276151021\n",
      "Validation Loss for fold 5: 0.1003422886133194\n",
      "Validation Loss for fold 5: 0.10277705142895381\n",
      "Validation Loss for fold 5: 0.09014048924048741\n",
      "Validation Loss for fold 5: 0.09030347317457199\n",
      "Validation Loss for fold 5: 0.09425323208173116\n",
      "Validation Loss for fold 5: 0.09249205887317657\n",
      "Validation Loss for fold 5: 0.10368701318899791\n",
      "Validation Loss for fold 5: 0.09699082374572754\n",
      "Validation Loss for fold 5: 0.08953952044248581\n",
      "Validation Loss for fold 5: 0.09137601653734843\n",
      "Validation Loss for fold 5: 0.09161483744780223\n",
      "Validation Loss for fold 5: 0.08758029341697693\n",
      "Validation Loss for fold 5: 0.08149899418155353\n",
      "Validation Loss for fold 5: 0.0930281604329745\n",
      "Validation Loss for fold 5: 0.09151306251684825\n",
      "Validation Loss for fold 5: 0.09136846164862315\n",
      "Validation Loss for fold 5: 0.0890261506040891\n",
      "Validation Loss for fold 5: 0.09064417084058125\n",
      "Validation Loss for fold 5: 0.08710494140783946\n",
      "Validation Loss for fold 5: 0.08627231419086456\n",
      "Validation Loss for fold 5: 0.0917389343182246\n",
      "Validation Loss for fold 5: 0.0861680159966151\n",
      "Validation Loss for fold 5: 0.08424840122461319\n",
      "Validation Loss for fold 5: 0.08228107541799545\n",
      "Validation Loss for fold 5: 0.08835729211568832\n",
      "Validation Loss for fold 5: 0.0836773340900739\n",
      "Validation Loss for fold 5: 0.08634076019128163\n",
      "Validation Loss for fold 5: 0.08394719660282135\n",
      "Validation Loss for fold 5: 0.09040798246860504\n",
      "Validation Loss for fold 5: 0.08358115454514821\n",
      "Validation Loss for fold 5: 0.09165049344301224\n",
      "Validation Loss for fold 5: 0.09197794397672017\n",
      "Validation Loss for fold 5: 0.07454707597692807\n",
      "Validation Loss for fold 5: 0.07815000663201015\n",
      "Validation Loss for fold 5: 0.084597148001194\n",
      "Validation Loss for fold 5: 0.077042605727911\n",
      "Validation Loss for fold 5: 0.08769984791676204\n",
      "Validation Loss for fold 5: 0.08121931552886963\n",
      "Validation Loss for fold 5: 0.08866277585426967\n",
      "Validation Loss for fold 5: 0.08378521725535393\n",
      "Validation Loss for fold 5: 0.07811244825522105\n",
      "Validation Loss for fold 5: 0.08389020959536235\n",
      "Validation Loss for fold 5: 0.0815093566974004\n",
      "Validation Loss for fold 5: 0.07618215183417003\n",
      "Validation Loss for fold 5: 0.07815931489070256\n",
      "Validation Loss for fold 5: 0.08730629086494446\n",
      "Validation Loss for fold 5: 0.0736519197622935\n",
      "Validation Loss for fold 5: 0.07117365921537082\n",
      "Validation Loss for fold 5: 0.08198600510756175\n",
      "Validation Loss for fold 5: 0.07591167092323303\n",
      "Validation Loss for fold 5: 0.07109479109446208\n",
      "Validation Loss for fold 5: 0.07886865486701329\n",
      "Validation Loss for fold 5: 0.07608786722024281\n",
      "Validation Loss for fold 5: 0.07747477293014526\n",
      "Validation Loss for fold 5: 0.07701460520426433\n",
      "Validation Loss for fold 5: 0.07381357625126839\n",
      "Validation Loss for fold 5: 0.07454754660526912\n",
      "Validation Loss for fold 5: 0.07721579819917679\n",
      "Validation Loss for fold 5: 0.07021137823661168\n",
      "Validation Loss for fold 5: 0.0809944396217664\n",
      "Validation Loss for fold 5: 0.07111661384503047\n",
      "Validation Loss for fold 5: 0.0787246401111285\n",
      "Validation Loss for fold 5: 0.07517019659280777\n",
      "Validation Loss for fold 5: 0.08194230124354362\n",
      "Validation Loss for fold 5: 0.06715847179293633\n",
      "Validation Loss for fold 5: 0.07440646986166637\n",
      "Validation Loss for fold 5: 0.07456195602814357\n",
      "Validation Loss for fold 5: 0.07224736362695694\n",
      "Validation Loss for fold 5: 0.07601402948300044\n",
      "Validation Loss for fold 5: 0.07353205482165019\n",
      "Validation Loss for fold 5: 0.06809002657731374\n",
      "Validation Loss for fold 5: 0.07205870499213536\n",
      "Validation Loss for fold 5: 0.06789312635858853\n",
      "--------------------------------\n",
      "FOLD 6\n",
      "--------------------------------\n",
      "Validation Loss for fold 6: 0.4061740239461263\n",
      "Validation Loss for fold 6: 0.3248184521993001\n",
      "Validation Loss for fold 6: 0.24821915725866953\n",
      "Validation Loss for fold 6: 0.21351441740989685\n",
      "Validation Loss for fold 6: 0.18196756144364676\n",
      "Validation Loss for fold 6: 0.18088891605536142\n",
      "Validation Loss for fold 6: 0.1575113038221995\n",
      "Validation Loss for fold 6: 0.15090110898017883\n",
      "Validation Loss for fold 6: 0.1288099686304728\n",
      "Validation Loss for fold 6: 0.11174813409646352\n",
      "Validation Loss for fold 6: 0.1124633252620697\n",
      "Validation Loss for fold 6: 0.11965099225441615\n",
      "Validation Loss for fold 6: 0.1149045079946518\n",
      "Validation Loss for fold 6: 0.12257642795642217\n",
      "Validation Loss for fold 6: 0.11066697537899017\n",
      "Validation Loss for fold 6: 0.10659666359424591\n",
      "Validation Loss for fold 6: 0.09712763130664825\n",
      "Validation Loss for fold 6: 0.09378304084142049\n",
      "Validation Loss for fold 6: 0.1052609955271085\n",
      "Validation Loss for fold 6: 0.08628353973229726\n",
      "Validation Loss for fold 6: 0.09091790268818538\n",
      "Validation Loss for fold 6: 0.09895701458056767\n",
      "Validation Loss for fold 6: 0.08576419949531555\n",
      "Validation Loss for fold 6: 0.0856352373957634\n",
      "Validation Loss for fold 6: 0.09003447741270065\n",
      "Validation Loss for fold 6: 0.08578716218471527\n",
      "Validation Loss for fold 6: 0.08343810091416042\n",
      "Validation Loss for fold 6: 0.08222755293051402\n",
      "Validation Loss for fold 6: 0.07499369233846664\n",
      "Validation Loss for fold 6: 0.07070719078183174\n",
      "Validation Loss for fold 6: 0.07592083265384038\n",
      "Validation Loss for fold 6: 0.07482948899269104\n",
      "Validation Loss for fold 6: 0.0789300004641215\n",
      "Validation Loss for fold 6: 0.07178469002246857\n",
      "Validation Loss for fold 6: 0.07296206802129745\n",
      "Validation Loss for fold 6: 0.07619752238194148\n",
      "Validation Loss for fold 6: 0.07265172650416692\n",
      "Validation Loss for fold 6: 0.06271508087714513\n",
      "Validation Loss for fold 6: 0.06119521955649058\n",
      "Validation Loss for fold 6: 0.07289529343446095\n",
      "Validation Loss for fold 6: 0.07120134433110555\n",
      "Validation Loss for fold 6: 0.07283990830183029\n",
      "Validation Loss for fold 6: 0.0745698648194472\n",
      "Validation Loss for fold 6: 0.06069887802004814\n",
      "Validation Loss for fold 6: 0.05966004108389219\n",
      "Validation Loss for fold 6: 0.06636012345552444\n",
      "Validation Loss for fold 6: 0.06415727982918422\n",
      "Validation Loss for fold 6: 0.06217743828892708\n",
      "Validation Loss for fold 6: 0.05992168063918749\n",
      "Validation Loss for fold 6: 0.060231237361828484\n",
      "Validation Loss for fold 6: 0.06352792059381802\n",
      "Validation Loss for fold 6: 0.0647618646423022\n",
      "Validation Loss for fold 6: 0.06028500944375992\n",
      "Validation Loss for fold 6: 0.06827798982461293\n",
      "Validation Loss for fold 6: 0.06312216073274612\n",
      "Validation Loss for fold 6: 0.06087827061613401\n",
      "Validation Loss for fold 6: 0.05922455837329229\n",
      "Validation Loss for fold 6: 0.05801778038342794\n",
      "Validation Loss for fold 6: 0.06001637503504753\n",
      "Validation Loss for fold 6: 0.058155037462711334\n",
      "Validation Loss for fold 6: 0.05765955771009127\n",
      "Validation Loss for fold 6: 0.06313368181387584\n",
      "Validation Loss for fold 6: 0.05423249676823616\n",
      "Validation Loss for fold 6: 0.05912699177861214\n",
      "Validation Loss for fold 6: 0.05613632624348005\n",
      "Validation Loss for fold 6: 0.053513605147600174\n",
      "Validation Loss for fold 6: 0.0525939054787159\n",
      "Validation Loss for fold 6: 0.06332013756036758\n",
      "Validation Loss for fold 6: 0.058757745971282326\n",
      "Validation Loss for fold 6: 0.057053469121456146\n",
      "Validation Loss for fold 6: 0.054124556481838226\n",
      "Validation Loss for fold 6: 0.056925926357507706\n",
      "Validation Loss for fold 6: 0.06278210133314133\n",
      "Validation Loss for fold 6: 0.05938412373264631\n",
      "Validation Loss for fold 6: 0.05314211050669352\n",
      "Validation Loss for fold 6: 0.05605878556768099\n",
      "Validation Loss for fold 6: 0.056916053096453346\n",
      "Validation Loss for fold 6: 0.05497753371795019\n",
      "Validation Loss for fold 6: 0.05425627529621124\n",
      "Validation Loss for fold 6: 0.054483977456887565\n",
      "Validation Loss for fold 6: 0.055412313590447106\n",
      "Validation Loss for fold 6: 0.058764119942982994\n",
      "Validation Loss for fold 6: 0.05301774044831594\n",
      "Validation Loss for fold 6: 0.052649397403001785\n",
      "Validation Loss for fold 6: 0.05654696375131607\n",
      "Validation Loss for fold 6: 0.05036642278234164\n",
      "Validation Loss for fold 6: 0.05414655183752378\n",
      "Validation Loss for fold 6: 0.055431349823872246\n",
      "Validation Loss for fold 6: 0.049189566324154534\n",
      "Validation Loss for fold 6: 0.05360866338014603\n",
      "Validation Loss for fold 6: 0.055047972748676934\n",
      "Validation Loss for fold 6: 0.05478762090206146\n",
      "Validation Loss for fold 6: 0.05063992117842039\n",
      "Validation Loss for fold 6: 0.05571253473560015\n",
      "Validation Loss for fold 6: 0.05227813248833021\n",
      "Validation Loss for fold 6: 0.053787052631378174\n",
      "Validation Loss for fold 6: 0.0550383614997069\n",
      "Validation Loss for fold 6: 0.05219907561937968\n",
      "Validation Loss for fold 6: 0.05177048593759537\n",
      "Validation Loss for fold 6: 0.05023333554466566\n",
      "--------------------------------\n",
      "FOLD 7\n",
      "--------------------------------\n",
      "Validation Loss for fold 7: 0.6395823359489441\n",
      "Validation Loss for fold 7: 0.5006837546825409\n",
      "Validation Loss for fold 7: 0.4168565571308136\n",
      "Validation Loss for fold 7: 0.3900926113128662\n",
      "Validation Loss for fold 7: 0.324550062417984\n",
      "Validation Loss for fold 7: 0.2811887462933858\n",
      "Validation Loss for fold 7: 0.29064703981081647\n",
      "Validation Loss for fold 7: 0.25020556151866913\n",
      "Validation Loss for fold 7: 0.2532975822687149\n",
      "Validation Loss for fold 7: 0.2092218150695165\n",
      "Validation Loss for fold 7: 0.21252300341924033\n",
      "Validation Loss for fold 7: 0.22811029851436615\n",
      "Validation Loss for fold 7: 0.20317880809307098\n",
      "Validation Loss for fold 7: 0.17852901419003805\n",
      "Validation Loss for fold 7: 0.20098691682020822\n",
      "Validation Loss for fold 7: 0.1997254639863968\n",
      "Validation Loss for fold 7: 0.19835547109444937\n",
      "Validation Loss for fold 7: 0.18572055300076803\n",
      "Validation Loss for fold 7: 0.19168884058793387\n",
      "Validation Loss for fold 7: 0.17555798093477884\n",
      "Validation Loss for fold 7: 0.18518005311489105\n",
      "Validation Loss for fold 7: 0.1772142251332601\n",
      "Validation Loss for fold 7: 0.16184217731157938\n",
      "Validation Loss for fold 7: 0.16428236166636148\n",
      "Validation Loss for fold 7: 0.1537120888630549\n",
      "Validation Loss for fold 7: 0.161484162012736\n",
      "Validation Loss for fold 7: 0.14926051100095114\n",
      "Validation Loss for fold 7: 0.15213322391112646\n",
      "Validation Loss for fold 7: 0.15975353121757507\n",
      "Validation Loss for fold 7: 0.14999694128831229\n",
      "Validation Loss for fold 7: 0.1515981157620748\n",
      "Validation Loss for fold 7: 0.15330549577871957\n",
      "Validation Loss for fold 7: 0.15391534566879272\n",
      "Validation Loss for fold 7: 0.16087295611699423\n",
      "Validation Loss for fold 7: 0.15147145092487335\n",
      "Validation Loss for fold 7: 0.1557995229959488\n",
      "Validation Loss for fold 7: 0.14271674553553262\n",
      "Validation Loss for fold 7: 0.13480868935585022\n",
      "Validation Loss for fold 7: 0.13972817858060202\n",
      "Validation Loss for fold 7: 0.1457185000181198\n",
      "Validation Loss for fold 7: 0.14438303808371225\n",
      "Validation Loss for fold 7: 0.13480592519044876\n",
      "Validation Loss for fold 7: 0.12796232849359512\n",
      "Validation Loss for fold 7: 0.14273602018753687\n",
      "Validation Loss for fold 7: 0.12482032428185146\n",
      "Validation Loss for fold 7: 0.14116347332795462\n",
      "Validation Loss for fold 7: 0.13677925616502762\n",
      "Validation Loss for fold 7: 0.13372073074181876\n",
      "Validation Loss for fold 7: 0.12937584519386292\n",
      "Validation Loss for fold 7: 0.13052680591742197\n",
      "Validation Loss for fold 7: 0.1338039735953013\n",
      "Validation Loss for fold 7: 0.13184823592503866\n",
      "Validation Loss for fold 7: 0.12997971226771673\n",
      "Validation Loss for fold 7: 0.12402704854806264\n",
      "Validation Loss for fold 7: 0.12410446753104527\n",
      "Validation Loss for fold 7: 0.12622676293055216\n",
      "Validation Loss for fold 7: 0.11781785388787587\n",
      "Validation Loss for fold 7: 0.11123812943696976\n",
      "Validation Loss for fold 7: 0.11859642714262009\n",
      "Validation Loss for fold 7: 0.11338654160499573\n",
      "Validation Loss for fold 7: 0.12214968850215276\n",
      "Validation Loss for fold 7: 0.11854639152685802\n",
      "Validation Loss for fold 7: 0.11793278406063716\n",
      "Validation Loss for fold 7: 0.10593983034292857\n",
      "Validation Loss for fold 7: 0.12440906961758931\n",
      "Validation Loss for fold 7: 0.11153598378101985\n",
      "Validation Loss for fold 7: 0.10694380352894466\n",
      "Validation Loss for fold 7: 0.10467738658189774\n",
      "Validation Loss for fold 7: 0.1129312738776207\n",
      "Validation Loss for fold 7: 0.10845398406187694\n",
      "Validation Loss for fold 7: 0.1065920020143191\n",
      "Validation Loss for fold 7: 0.11365406960248947\n",
      "Validation Loss for fold 7: 0.11073481788237889\n",
      "Validation Loss for fold 7: 0.1036775882045428\n",
      "Validation Loss for fold 7: 0.10275511691967647\n",
      "Validation Loss for fold 7: 0.1107716237505277\n",
      "Validation Loss for fold 7: 0.11194146672884624\n",
      "Validation Loss for fold 7: 0.10893810043732326\n",
      "Validation Loss for fold 7: 0.10355812559525172\n",
      "Validation Loss for fold 7: 0.10970945656299591\n",
      "Validation Loss for fold 7: 0.11051437010367711\n",
      "Validation Loss for fold 7: 0.10444616029659907\n",
      "Validation Loss for fold 7: 0.1010589748620987\n",
      "Validation Loss for fold 7: 0.10015087326367696\n",
      "Validation Loss for fold 7: 0.10576656212409337\n",
      "Validation Loss for fold 7: 0.09835940599441528\n",
      "Validation Loss for fold 7: 0.10214128841956456\n",
      "Validation Loss for fold 7: 0.09582209835449855\n",
      "Validation Loss for fold 7: 0.10551237811644872\n",
      "Validation Loss for fold 7: 0.10124252984921138\n",
      "Validation Loss for fold 7: 0.10350521902243297\n",
      "Validation Loss for fold 7: 0.10083797077337901\n",
      "Validation Loss for fold 7: 0.10692542046308517\n",
      "Validation Loss for fold 7: 0.09814481685558955\n",
      "Validation Loss for fold 7: 0.09175440172354381\n",
      "Validation Loss for fold 7: 0.09341877450545628\n",
      "Validation Loss for fold 7: 0.09772385905186336\n",
      "Validation Loss for fold 7: 0.09700331091880798\n",
      "Validation Loss for fold 7: 0.0947491725285848\n",
      "Validation Loss for fold 7: 0.08433358992139499\n",
      "--------------------------------\n",
      "FOLD 8\n",
      "--------------------------------\n",
      "Validation Loss for fold 8: 0.41136794288953143\n",
      "Validation Loss for fold 8: 0.35032852490743\n",
      "Validation Loss for fold 8: 0.2529586007197698\n",
      "Validation Loss for fold 8: 0.20806208749612173\n",
      "Validation Loss for fold 8: 0.17873594661553702\n",
      "Validation Loss for fold 8: 0.14123046894868216\n",
      "Validation Loss for fold 8: 0.14538500209649405\n",
      "Validation Loss for fold 8: 0.1279628723859787\n",
      "Validation Loss for fold 8: 0.12351387739181519\n",
      "Validation Loss for fold 8: 0.12189157555500667\n",
      "Validation Loss for fold 8: 0.10674331833918889\n",
      "Validation Loss for fold 8: 0.11002677430709203\n",
      "Validation Loss for fold 8: 0.10546932369470596\n",
      "Validation Loss for fold 8: 0.10030287752548854\n",
      "Validation Loss for fold 8: 0.09393570572137833\n",
      "Validation Loss for fold 8: 0.09774089604616165\n",
      "Validation Loss for fold 8: 0.09679270784060161\n",
      "Validation Loss for fold 8: 0.09203693767388661\n",
      "Validation Loss for fold 8: 0.09334224462509155\n",
      "Validation Loss for fold 8: 0.09446462740500768\n",
      "Validation Loss for fold 8: 0.09043201804161072\n",
      "Validation Loss for fold 8: 0.08081949253877004\n",
      "Validation Loss for fold 8: 0.07723557576537132\n",
      "Validation Loss for fold 8: 0.0892923300464948\n",
      "Validation Loss for fold 8: 0.08411962042252223\n",
      "Validation Loss for fold 8: 0.08138217280308406\n",
      "Validation Loss for fold 8: 0.07676307111978531\n",
      "Validation Loss for fold 8: 0.07755495607852936\n",
      "Validation Loss for fold 8: 0.07881029695272446\n",
      "Validation Loss for fold 8: 0.0772945483525594\n",
      "Validation Loss for fold 8: 0.07305016616980235\n",
      "Validation Loss for fold 8: 0.0762510746717453\n",
      "Validation Loss for fold 8: 0.07529716690381368\n",
      "Validation Loss for fold 8: 0.06679002195596695\n",
      "Validation Loss for fold 8: 0.069903913885355\n",
      "Validation Loss for fold 8: 0.07919370631376903\n",
      "Validation Loss for fold 8: 0.0753670185804367\n",
      "Validation Loss for fold 8: 0.074396513402462\n",
      "Validation Loss for fold 8: 0.06958947082360585\n",
      "Validation Loss for fold 8: 0.0770709899564584\n",
      "Validation Loss for fold 8: 0.06511769195397694\n",
      "Validation Loss for fold 8: 0.05913558478156725\n",
      "Validation Loss for fold 8: 0.06728346645832062\n",
      "Validation Loss for fold 8: 0.0674962227543195\n",
      "Validation Loss for fold 8: 0.06966882323225339\n",
      "Validation Loss for fold 8: 0.06852743153770764\n",
      "Validation Loss for fold 8: 0.061654181530078254\n",
      "Validation Loss for fold 8: 0.0602946604291598\n",
      "Validation Loss for fold 8: 0.06234487642844518\n",
      "Validation Loss for fold 8: 0.06098394840955734\n",
      "Validation Loss for fold 8: 0.06249000007907549\n",
      "Validation Loss for fold 8: 0.06568909933169682\n",
      "Validation Loss for fold 8: 0.0693963294227918\n",
      "Validation Loss for fold 8: 0.05689395094911257\n",
      "Validation Loss for fold 8: 0.0706736259162426\n",
      "Validation Loss for fold 8: 0.06451492259899776\n",
      "Validation Loss for fold 8: 0.06910006826122601\n",
      "Validation Loss for fold 8: 0.06755174820621808\n",
      "Validation Loss for fold 8: 0.0687973623474439\n",
      "Validation Loss for fold 8: 0.06259957204262416\n",
      "Validation Loss for fold 8: 0.05893710379799207\n",
      "Validation Loss for fold 8: 0.05789512147506078\n",
      "Validation Loss for fold 8: 0.0584913802643617\n",
      "Validation Loss for fold 8: 0.06692393744985263\n",
      "Validation Loss for fold 8: 0.060390960425138474\n",
      "Validation Loss for fold 8: 0.05937266101439794\n",
      "Validation Loss for fold 8: 0.06364788363377254\n",
      "Validation Loss for fold 8: 0.060278465350468956\n",
      "Validation Loss for fold 8: 0.0657093773285548\n",
      "Validation Loss for fold 8: 0.06248466297984123\n",
      "Validation Loss for fold 8: 0.05751132716735204\n",
      "Validation Loss for fold 8: 0.06196294476588567\n",
      "Validation Loss for fold 8: 0.06309640407562256\n",
      "Validation Loss for fold 8: 0.059000211457411446\n",
      "Validation Loss for fold 8: 0.0588068055609862\n",
      "Validation Loss for fold 8: 0.058257900178432465\n",
      "Validation Loss for fold 8: 0.055311691015958786\n",
      "Validation Loss for fold 8: 0.05672415345907211\n",
      "Validation Loss for fold 8: 0.05941067387660345\n",
      "Validation Loss for fold 8: 0.056764007856448494\n",
      "Validation Loss for fold 8: 0.05611161266764005\n",
      "Validation Loss for fold 8: 0.053461077312628426\n",
      "Validation Loss for fold 8: 0.06031313041845957\n",
      "Validation Loss for fold 8: 0.059391637643178306\n",
      "Validation Loss for fold 8: 0.055623079339663185\n",
      "Validation Loss for fold 8: 0.05784909054636955\n",
      "Validation Loss for fold 8: 0.06069488450884819\n",
      "Validation Loss for fold 8: 0.05413113782803217\n",
      "Validation Loss for fold 8: 0.05978702753782272\n",
      "Validation Loss for fold 8: 0.059113131215174995\n",
      "Validation Loss for fold 8: 0.05842958763241768\n",
      "Validation Loss for fold 8: 0.049152987698713936\n",
      "Validation Loss for fold 8: 0.059386940052111946\n",
      "Validation Loss for fold 8: 0.054397826393445335\n",
      "Validation Loss for fold 8: 0.0496862418949604\n",
      "Validation Loss for fold 8: 0.052121239403883614\n",
      "Validation Loss for fold 8: 0.05825114995241165\n",
      "Validation Loss for fold 8: 0.05092238883177439\n",
      "Validation Loss for fold 8: 0.051976703107357025\n",
      "Validation Loss for fold 8: 0.053054514030615486\n",
      "--------------------------------\n",
      "FOLD 9\n",
      "--------------------------------\n",
      "Validation Loss for fold 9: 0.2560283839702606\n",
      "Validation Loss for fold 9: 0.2108246237039566\n",
      "Validation Loss for fold 9: 0.1725963056087494\n",
      "Validation Loss for fold 9: 0.15496856967608133\n",
      "Validation Loss for fold 9: 0.1351082151134809\n",
      "Validation Loss for fold 9: 0.14654404173294702\n",
      "Validation Loss for fold 9: 0.12898782640695572\n",
      "Validation Loss for fold 9: 0.1174987182021141\n",
      "Validation Loss for fold 9: 0.11196283996105194\n",
      "Validation Loss for fold 9: 0.11508716642856598\n",
      "Validation Loss for fold 9: 0.10242006927728653\n",
      "Validation Loss for fold 9: 0.11426350722710292\n",
      "Validation Loss for fold 9: 0.10823147495587666\n",
      "Validation Loss for fold 9: 0.10301037381092708\n",
      "Validation Loss for fold 9: 0.10651498039563496\n",
      "Validation Loss for fold 9: 0.10108857850233714\n",
      "Validation Loss for fold 9: 0.08993740876515706\n",
      "Validation Loss for fold 9: 0.10741187383731206\n",
      "Validation Loss for fold 9: 0.08444331213831902\n",
      "Validation Loss for fold 9: 0.10028860221306483\n",
      "Validation Loss for fold 9: 0.08612448225418727\n",
      "Validation Loss for fold 9: 0.0930096631248792\n",
      "Validation Loss for fold 9: 0.09164242694775264\n",
      "Validation Loss for fold 9: 0.08639071385065715\n",
      "Validation Loss for fold 9: 0.0851927250623703\n",
      "Validation Loss for fold 9: 0.07898351550102234\n",
      "Validation Loss for fold 9: 0.08662105600039165\n",
      "Validation Loss for fold 9: 0.08683679501215617\n",
      "Validation Loss for fold 9: 0.0814705565571785\n",
      "Validation Loss for fold 9: 0.07182836905121803\n",
      "Validation Loss for fold 9: 0.0831056758761406\n",
      "Validation Loss for fold 9: 0.08351467549800873\n",
      "Validation Loss for fold 9: 0.07973578323920567\n",
      "Validation Loss for fold 9: 0.07554265856742859\n",
      "Validation Loss for fold 9: 0.07178378601868947\n",
      "Validation Loss for fold 9: 0.07004251703619957\n",
      "Validation Loss for fold 9: 0.07872186849514644\n",
      "Validation Loss for fold 9: 0.08215899020433426\n",
      "Validation Loss for fold 9: 0.07191919287045796\n",
      "Validation Loss for fold 9: 0.07171096404393514\n",
      "Validation Loss for fold 9: 0.06844119727611542\n",
      "Validation Loss for fold 9: 0.06855788578589757\n",
      "Validation Loss for fold 9: 0.07146839921673138\n",
      "Validation Loss for fold 9: 0.06978786488374074\n",
      "Validation Loss for fold 9: 0.0698368027806282\n",
      "Validation Loss for fold 9: 0.06303147412836552\n",
      "Validation Loss for fold 9: 0.06915022681156795\n",
      "Validation Loss for fold 9: 0.0733884001771609\n",
      "Validation Loss for fold 9: 0.06685881937543552\n",
      "Validation Loss for fold 9: 0.0698417102297147\n",
      "Validation Loss for fold 9: 0.07278956224521001\n",
      "Validation Loss for fold 9: 0.07279370973507564\n",
      "Validation Loss for fold 9: 0.07181731859842937\n",
      "Validation Loss for fold 9: 0.0702175498008728\n",
      "Validation Loss for fold 9: 0.06370606521765391\n",
      "Validation Loss for fold 9: 0.0682768573363622\n",
      "Validation Loss for fold 9: 0.06887007007996242\n",
      "Validation Loss for fold 9: 0.06527711575229962\n",
      "Validation Loss for fold 9: 0.06787953029076259\n",
      "Validation Loss for fold 9: 0.07409819215536118\n",
      "Validation Loss for fold 9: 0.06826345125834148\n",
      "Validation Loss for fold 9: 0.06615985309084256\n",
      "Validation Loss for fold 9: 0.07003812367717425\n",
      "Validation Loss for fold 9: 0.06568469355503719\n",
      "Validation Loss for fold 9: 0.05975779021779696\n",
      "Validation Loss for fold 9: 0.06911901384592056\n",
      "Validation Loss for fold 9: 0.06331238274772961\n",
      "Validation Loss for fold 9: 0.06229868407050768\n",
      "Validation Loss for fold 9: 0.06536860018968582\n",
      "Validation Loss for fold 9: 0.06141262004772822\n",
      "Validation Loss for fold 9: 0.06133731578787168\n",
      "Validation Loss for fold 9: 0.06344472865263621\n",
      "Validation Loss for fold 9: 0.0624597022930781\n",
      "Validation Loss for fold 9: 0.061499172200759254\n",
      "Validation Loss for fold 9: 0.05962569018205007\n",
      "Validation Loss for fold 9: 0.06505956997474034\n",
      "Validation Loss for fold 9: 0.05973748490214348\n",
      "Validation Loss for fold 9: 0.05952011669675509\n",
      "Validation Loss for fold 9: 0.06305735806624095\n",
      "Validation Loss for fold 9: 0.05866258839766184\n",
      "Validation Loss for fold 9: 0.06111918886502584\n",
      "Validation Loss for fold 9: 0.06392087539037068\n",
      "Validation Loss for fold 9: 0.06565618515014648\n",
      "Validation Loss for fold 9: 0.059399887919425964\n",
      "Validation Loss for fold 9: 0.060116744289795555\n",
      "Validation Loss for fold 9: 0.0562279149889946\n",
      "Validation Loss for fold 9: 0.0629723109304905\n",
      "Validation Loss for fold 9: 0.060298276444276176\n",
      "Validation Loss for fold 9: 0.06184130782882372\n",
      "Validation Loss for fold 9: 0.06503502031167348\n",
      "Validation Loss for fold 9: 0.06639101852973302\n",
      "Validation Loss for fold 9: 0.059036056200663246\n",
      "Validation Loss for fold 9: 0.05796545868118604\n",
      "Validation Loss for fold 9: 0.06129064535101255\n",
      "Validation Loss for fold 9: 0.06074936439593633\n",
      "Validation Loss for fold 9: 0.056076028694709144\n",
      "Validation Loss for fold 9: 0.05139335493246714\n",
      "Validation Loss for fold 9: 0.061223242431879044\n",
      "Validation Loss for fold 9: 0.057491314907868706\n",
      "Validation Loss for fold 9: 0.06195744127035141\n",
      "--------------------------------\n"
     ]
    },
    {
     "name": "stderr",
     "output_type": "stream",
     "text": [
      "wandb: WARNING Source type is set to 'repo' but some required information is missing from the environment. A job will not be created from this run. See https://docs.wandb.ai/guides/launch/create-job\n"
     ]
    },
    {
     "data": {
      "text/html": [
       "<style>\n",
       "    table.wandb td:nth-child(1) { padding: 0 10px; text-align: left ; width: auto;} td:nth-child(2) {text-align: left ; width: 100%}\n",
       "    .wandb-row { display: flex; flex-direction: row; flex-wrap: wrap; justify-content: flex-start; width: 100% }\n",
       "    .wandb-col { display: flex; flex-direction: column; flex-basis: 100%; flex: 1; padding: 10px; }\n",
       "    </style>\n",
       "<div class=\"wandb-row\"><div class=\"wandb-col\"><h3>Run history:</h3><br/><table class=\"wandb\"><tr><td>Avg Validation Loss</td><td>▄▃▂▂█▃▂▂▂▂▁▁▄▃▃▂▂▁▁▁▂▂▁▁▂▁▁▁▄▃▂▂▂▂▁▁▂▁▁▁</td></tr><tr><td>Epoch</td><td>▁▃▅▇▁▃▅▇▁▃▅▇▂▃▅▇▁▄▆▇▂▃▅█▂▄▆▇▂▄▆█▂▄▆█▂▄▆█</td></tr></table><br/></div><div class=\"wandb-col\"><h3>Run summary:</h3><br/><table class=\"wandb\"><tr><td>Avg Validation Loss</td><td>0.06196</td></tr><tr><td>Epoch</td><td>99</td></tr></table><br/></div></div>"
      ],
      "text/plain": [
       "<IPython.core.display.HTML object>"
      ]
     },
     "metadata": {},
     "output_type": "display_data"
    },
    {
     "data": {
      "text/html": [
       " View run <strong style=\"color:#cdcd00\">stellar-salad-32</strong> at: <a href='https://wandb.ai/jcrich/collaborative%20filter%20model/runs/dxwil5oh' target=\"_blank\">https://wandb.ai/jcrich/collaborative%20filter%20model/runs/dxwil5oh</a><br/>Synced 5 W&B file(s), 0 media file(s), 0 artifact file(s) and 0 other file(s)"
      ],
      "text/plain": [
       "<IPython.core.display.HTML object>"
      ]
     },
     "metadata": {},
     "output_type": "display_data"
    },
    {
     "data": {
      "text/html": [
       "Find logs at: <code>./wandb/run-20240311_215552-dxwil5oh/logs</code>"
      ],
      "text/plain": [
       "<IPython.core.display.HTML object>"
      ]
     },
     "metadata": {},
     "output_type": "display_data"
    }
   ],
   "source": [
    "# Correct variable names and logic\n",
    "for fold, (train_ids, val_ids) in enumerate(kfold.split(train_ds)):\n",
    "    print(f'FOLD {fold}')\n",
    "    print('--------------------------------')\n",
    "\n",
    "    train_subsampler = torch.utils.data.SubsetRandomSampler(train_ids)\n",
    "    val_subsampler = torch.utils.data.SubsetRandomSampler(val_ids)\n",
    "\n",
    "    trainloader = torch.utils.data.DataLoader(train_ds, batch_size=BATCH_SIZE, sampler=train_subsampler)\n",
    "    valloader = torch.utils.data.DataLoader(validation_ds, batch_size=BATCH_SIZE, sampler=val_subsampler)\n",
    "\n",
    "    model = MLPCollaborativeFilter(num_users + 1, num_movies + 1, embedding_dim=FEATURES)\n",
    "    optimiser = torch.optim.SGD(model.parameters(), lr=0.001)\n",
    "    criterion = nn.MSELoss()\n",
    "\n",
    "    for epoch in range(EPOCHS):\n",
    "        model.train()\n",
    "        for user_indices, item_indices, ratings in trainloader:\n",
    "            optimiser.zero_grad()\n",
    "            outputs = model(user_indices, item_indices).squeeze()\n",
    "            loss = criterion(outputs, ratings)\n",
    "            loss.backward()\n",
    "            optimiser.step()\n",
    "            train_loss += loss.item()\n",
    "\n",
    "        # Average training loss over all batches\n",
    "        train_loss /= len(trainloader)\n",
    "        # Log training loss for the current epoch\n",
    "        wandb.log({\"Avg. Training Loss\": train_loss, \"Epoch\": epoch})\n",
    "        mlflow.log_metric(\"Avg. Training Loss\", train_loss, step=epoch)\n",
    "        model.eval()\n",
    "        val_loss = 0\n",
    "        with torch.no_grad():\n",
    "            for user_indices, item_indices, ratings in valloader:\n",
    "                outputs = model(user_indices, item_indices).squeeze()\n",
    "                loss = criterion(outputs, ratings)\n",
    "                val_loss += loss.item()\n",
    "\n",
    "        avg_validation_loss = val_loss / len(valloader)\n",
    "        print(f'Validation Loss for fold {fold}: {avg_validation_loss}')\n",
    "        \n",
    "        if avg_validation_loss < best_val_loss:\n",
    "            best_val_loss = avg_validation_loss\n",
    "            mlflow.log_metric(\"Best Validation Loss\", best_val_loss, step=epoch)\n",
    "            mlflow.pytorch.log_model(model, \"model\")\n",
    "            # Save model state\n",
    "            torch.save(model.state_dict(), 'best_model_state.pth')\n",
    "            # If you also want to save the optimizer state along with the model:\n",
    "            torch.save({\n",
    "                'epoch': epoch,\n",
    "                'model_state_dict': model.state_dict(),\n",
    "                'optimiser_state_dict': optimiser.state_dict(),\n",
    "                'loss': avg_validation_loss,\n",
    "            }, 'best_col_model_checkpoint.pth')\n",
    "            # Log the model checkpoint as an artifact\n",
    "            mlflow.log_artifact('best_col_model_checkpoint.pth')\n",
    "        \n",
    "        # Log validation loss for the current epoch\n",
    "        wandb.log({\"Avg Validation Loss\": avg_validation_loss, \"Epoch\": epoch})\n",
    "        mlflow.log_metric(\"Avg Validation Loss\", avg_validation_loss, step=epoch)\n",
    "    \n",
    "    print('--------------------------------')\n",
    "\n",
    "\n",
    "\n",
    "\n",
    "\n",
    "wandb.finish()"
   ]
  },
  {
   "cell_type": "code",
   "execution_count": 44,
   "id": "63a5e18c-653c-4d10-9bac-b3669a38c95b",
   "metadata": {},
   "outputs": [
    {
     "name": "stdout",
     "output_type": "stream",
     "text": [
      "0.06580647492879316\n"
     ]
    }
   ],
   "source": [
    "#test data\n",
    "model.eval()  # Switch to evaluation mode\n",
    "test_loss = 0\n",
    "correct_predictions = 0  # Fixed variable name for clarity\n",
    "total_contexts = 0\n",
    "\n",
    "with torch.no_grad():  # Disable gradient computation\n",
    "    for user_ids, movie_ids, ratings in test_data_loader:\n",
    "        predictions = model(user_ids,movie_ids)  # Generate predictions\n",
    "        # Calculate and accumulate loss\n",
    "        loss = criterion(predictions, ratings)\n",
    "        test_loss += loss.item()\n",
    "        \n",
    "        # # Reshape predictions to match [batch_size, context_size, vocab_size]\n",
    "        # predictions = predictions.view(-1, context_size, VOCAB_SIZE)\n",
    "        \n",
    "        # # Get top prediction for each context position\n",
    "        # top_predictions = predictions.argmax(dim=2)\n",
    "        \n",
    "        # # Calculate correct predictions\n",
    "        # correct_preds = (top_predictions == context).float().sum()\n",
    "        # correct_predictions += correct_preds.item()  # Accumulate correct predictions\n",
    "        \n",
    "        # total_contexts += context.numel()  # Total number of context word positions evaluated\n",
    "\n",
    "# Calculate final metrics\n",
    "test_loss /= len(test_data_loader)  # Average loss per batch\n",
    "# print('correct predictions = ',correct_predictions)\n",
    "# print('out of  = ',total_contexts)\n",
    "# accuracy = correct_predictions / total_contexts  # Compute accuracy\n",
    "\n",
    "# print(f'Test set: Average loss: {test_loss:.4f}, Accuracy: {accuracy:.4f}')\n",
    "\n",
    "# Evaluate the model\n",
    "# (This would involve using a separate validation set or performing cross-validation)\n",
    "print(test_loss)\n",
    "\n",
    "mlflow.log_metric('Post training test loss',test_loss)\n",
    "mlflow.end_run()"
   ]
  },
  {
   "cell_type": "markdown",
   "id": "f10373ba-5557-46bf-aa37-8f4234b43def",
   "metadata": {},
   "source": [
    "## Preference ranking"
   ]
  },
  {
   "cell_type": "code",
   "execution_count": null,
   "id": "377c97ca-a1c8-4a79-ad7f-f844c2b6ab59",
   "metadata": {},
   "outputs": [],
   "source": [
    "target_user_id = 140440102666832"
   ]
  },
  {
   "cell_type": "code",
   "execution_count": null,
   "id": "1fb9de61-95a2-4c4d-bae9-78f17254013c",
   "metadata": {},
   "outputs": [],
   "source": [
    "e_uid = encoder.encode(target_user_id,encoder.user_to_idx)"
   ]
  },
  {
   "cell_type": "code",
   "execution_count": null,
   "id": "fb44d161-b86c-48e5-a2a8-228ee34d61fd",
   "metadata": {},
   "outputs": [],
   "source": [
    "def get_user_features(uid):\n",
    "\n",
    "    for i in range(0,len(all_ds)):\n",
    "\n",
    "        u,m,r = all_ds[i]\n",
    "        # print(u)\n",
    "        if u == uid:\n",
    "            yield [m,r]\n",
    "    "
   ]
  },
  {
   "cell_type": "code",
   "execution_count": null,
   "id": "fca61297-1afc-439e-9a3a-81bff33d384f",
   "metadata": {},
   "outputs": [],
   "source": [
    "def predict_ratings(e_uid,e_mid,model):\n",
    "    e_uid_tensor = torch.tensor(e_uid, dtype=torch.int64).unsqueeze(0)\n",
    "    movie_eid_tensor = torch.tensor(e_mid,dtype=torch.int64).unsqueeze(0)\n",
    "    model.eval()\n",
    "    with torch.no_grad():\n",
    "        user_rating = model(e_uid_tensor,movie_eid_tensor)\n",
    "        return movie_eid_tensor,user_rating\n",
    "        \n",
    "    "
   ]
  },
  {
   "cell_type": "code",
   "execution_count": null,
   "id": "f3780e9b-1c32-4f2b-a45e-14bdb9d35b3c",
   "metadata": {},
   "outputs": [],
   "source": [
    "#get user and features\n",
    "seen_features = set(tuple(fe) for fe in get_user_features(e_uid)) # Get user features if needed\n",
    "seen_movies = set(sf[0].item() for sf in seen_features)\n",
    "all_movies = set([num for num in range(30)])\n",
    "unseen_movies = all_movies - seen_movies\n",
    "unseen_features = {tuple(predict_ratings(e_uid,um,model)) for um in unseen_movies}\n",
    "all_features = seen_features | unseen_features\n",
    "\n",
    "sorted_set = sorted(all_features, key=lambda x: x[1])\n",
    "top_n = 10\n",
    "recommendations = list(filter(lambda x: x[0].item() in unseen_movies,sorted_set))\n",
    "n_recommendations = list(map(lambda x: x[0],recommendations[-1:top_n*-1:-1]))\n",
    "n_recommendations\n"
   ]
  },
  {
   "cell_type": "markdown",
   "id": "3470ac7f-df21-40aa-94aa-32aa93606c9a",
   "metadata": {},
   "source": [
    "# Matching"
   ]
  },
  {
   "cell_type": "code",
   "execution_count": null,
   "id": "f9289eb5-57c3-42bd-ba7f-7c519590d8c4",
   "metadata": {},
   "outputs": [],
   "source": [
    "#all users, with all movie ratings.\n",
    "def generate_all_ratings(model,num_users,num_movies):\n",
    "    #build matrix\n",
    "\n",
    "    #data already encoded....\n",
    "    all_data = [['dummy',mnm,unm,'dummy','0/10'] for unm in range(0,num_users) for mnm in range(0,num_movies)]\n",
    "    # print(all_data)\n",
    "    # print([em for em in all_data])\n",
    "    fake_encoder = Encoder([did[2] for did in all_data],[did[1] for did in all_data])\n",
    "    all_ds = CFDataset(all_data,fake_encoder)\n",
    "    \n",
    "    data_loader = DataLoader(all_ds, batch_size=1)\n",
    "    for uid,mid,ra in data_loader:\n",
    "        # print(uid,mid)\n",
    "        prediction = model(uid,mid)\n",
    "        yield (uid.item(),mid.item(),prediction.item())\n",
    "\n"
   ]
  },
  {
   "cell_type": "code",
   "execution_count": null,
   "id": "788b3ed2-c265-4b06-a5b9-53fa0c63b904",
   "metadata": {},
   "outputs": [],
   "source": [
    "def create_ratings_tensor(data, num_users, num_movies):\n",
    "    # Initialize an empty tensor to hold the ratings\n",
    "    ratings_tensor = torch.zeros(num_users, num_movies)\n",
    "    \n",
    "    # Iterate over the data and fill the tensor\n",
    "    for entry in data:\n",
    "        user_id, movie_id, rating = entry\n",
    "        # Convert rating to float\n",
    "        rating = float(rating)\n",
    "        ratings_tensor[user_id, movie_id] = rating\n",
    "    \n",
    "    return ratings_tensor"
   ]
  },
  {
   "cell_type": "code",
   "execution_count": null,
   "id": "ddd12391-a846-475e-be55-b2516a0ef7f9",
   "metadata": {},
   "outputs": [],
   "source": [
    "# Step 1: Generate Predictions\n",
    "predictions = [ra for ra in generate_all_ratings(model,num_users,num_movies)]\n",
    "# print(predictions)\n",
    "ratings_tensor = create_ratings_tensor(predictions,num_users,num_movies)\n",
    "print(ratings_tensor)\n",
    "# predictions[0]\n",
    "\n",
    "# ratings_tensor.shape\n",
    "\n",
    "# ratings_tensor[0]\n",
    "\n",
    "import torch.nn.functional as F\n",
    "\n",
    "# Assuming predicted_ratings is your tensor of predicted ratings\n",
    "# predicted_ratings.shape should be (num_users, num_movies)\n",
    "\n",
    "# # Calculate cosine similarity\n",
    "# user_similarities = F.cosine_similarity(ratings_tensor, ratings_tensor, dim=1)\n",
    "\n",
    "# user_similarities"
   ]
  },
  {
   "cell_type": "markdown",
   "id": "25d0c474-3481-489e-b494-047c64b14925",
   "metadata": {},
   "source": [
    "## COSINE SIMILARITY"
   ]
  },
  {
   "cell_type": "code",
   "execution_count": null,
   "id": "a6cae1de-bc62-460e-b2db-f046961f4493",
   "metadata": {},
   "outputs": [],
   "source": [
    "# Step 1: Normalize predicted ratings\n",
    "normalized_ratings = F.normalize(ratings_tensor, p=2, dim=1)\n",
    "\n",
    "# Step 2: Calculate cosine similarity\n",
    "user_similarities = torch.matmul(normalized_ratings, normalized_ratings.T)\n",
    "\n",
    "# Set diagonal elements to a large negative value to exclude self-similarity\n",
    "user_similarities.fill_diagonal_(-float('inf'))\n",
    "\n",
    "# You can optionally convert the similarities tensor to a numpy array for easier manipulation\n",
    "user_similarities_np = user_similarities.numpy()\n",
    "\n",
    "# Print or use the user similarities tensor\n",
    "print(user_similarities)"
   ]
  },
  {
   "cell_type": "markdown",
   "id": "6bb89e2b-202f-405a-a732-26cf09959925",
   "metadata": {},
   "source": [
    "### Matches"
   ]
  },
  {
   "cell_type": "code",
   "execution_count": null,
   "id": "c4e402f0-b39d-4599-9617-5fcf23d00a6d",
   "metadata": {},
   "outputs": [],
   "source": [
    "top_matches = {}\n",
    "for i in range(len(user_similarities)):\n",
    "    # Sort similarities for the current user i\n",
    "    ranked_users = torch.argsort(torch.tensor(user_similarities[i]), descending=True)\n",
    "    # Exclude self from top matches (optional)\n",
    "    top_matches[i] = ranked_users[ranked_users != i]\n"
   ]
  },
  {
   "cell_type": "code",
   "execution_count": null,
   "id": "5d560016-14da-4170-be81-43e27b094043",
   "metadata": {},
   "outputs": [],
   "source": [
    "top_matches"
   ]
  },
  {
   "cell_type": "code",
   "execution_count": null,
   "id": "eebc2399-8831-4bef-b722-b9405c776b02",
   "metadata": {},
   "outputs": [],
   "source": [
    "encoder.decode(71,encoder.idx_to_user)"
   ]
  },
  {
   "cell_type": "code",
   "execution_count": null,
   "id": "a6cb1dfe-e30f-407f-accb-367b5bce66a7",
   "metadata": {},
   "outputs": [],
   "source": [
    "#decoded\n",
    "\n",
    "decoded_matches = {encoder.decode(k,encoder.idx_to_user):[encoder.decode(ve,encoder.idx_to_user) for ve in v.tolist()] for k,v in top_matches.items()}\n",
    "decoded_matches"
   ]
  },
  {
   "cell_type": "code",
   "execution_count": null,
   "id": "73632e60-b177-479e-8e78-c6eea82ea863",
   "metadata": {},
   "outputs": [],
   "source": [
    "# Step 4: Select Top Matches\n",
    "N = 5  # Number of top matches to select\n",
    "for user, similar_users in decoded_matches.items():\n",
    "    decoded_matches[user] = similar_users[:N]\n",
    "\n",
    "decoded_matches"
   ]
  },
  {
   "cell_type": "code",
   "execution_count": null,
   "id": "5b7f3715-96e0-44a4-9a49-eee4e94bfaa9",
   "metadata": {},
   "outputs": [],
   "source": [
    "#decode...."
   ]
  },
  {
   "cell_type": "markdown",
   "id": "b6c7c0fa-b24f-4418-b5ca-e1713254be27",
   "metadata": {},
   "source": [
    "## FINALLY FIND THE MATCHES...."
   ]
  },
  {
   "cell_type": "code",
   "execution_count": null,
   "id": "dd884b67-4541-453a-8bdf-87adf9d4ca39",
   "metadata": {},
   "outputs": [],
   "source": [
    "target_user = 140440102666832\n",
    "\n"
   ]
  },
  {
   "cell_type": "code",
   "execution_count": null,
   "id": "e0929f29-14e7-4cfa-acc9-9a741b7a5187",
   "metadata": {},
   "outputs": [],
   "source": [
    "decoded_matches[target_user]"
   ]
  },
  {
   "cell_type": "code",
   "execution_count": null,
   "id": "d5ed138f-43a0-4e9c-a66d-c7030de6e662",
   "metadata": {},
   "outputs": [],
   "source": [
    "neighbour = 140440115331424"
   ]
  },
  {
   "cell_type": "markdown",
   "id": "b8a6a7ef-f019-4273-bc7c-c63dae3a104d",
   "metadata": {},
   "source": [
    "## Now see how they relate to the database..."
   ]
  },
  {
   "cell_type": "code",
   "execution_count": null,
   "id": "6b89fe2d-944d-43bc-b2a2-81af64bd6ab3",
   "metadata": {},
   "outputs": [],
   "source": [
    "reviews = db.get_table_values('Reviews')"
   ]
  },
  {
   "cell_type": "code",
   "execution_count": null,
   "id": "0df7b55f-d93f-4a8d-b4c3-f0b1ea9ddf9b",
   "metadata": {},
   "outputs": [],
   "source": [
    "#TODO"
   ]
  },
  {
   "cell_type": "code",
   "execution_count": null,
   "id": "ad2b3f3b-a7f8-48a6-b772-23c522f5ab85",
   "metadata": {},
   "outputs": [],
   "source": [
    "def reviews_info(user_id,reviews):\n",
    "    # print(db.get_table_values('Users'))\n",
    "    info = {}\n",
    "    info[user_id] = list(filter(lambda x :x[0] == user_id,db.get_table_values('Users')))[0][1]\n",
    "\n",
    "    \n",
    "    #TODO finish work...\n",
    "    mov_tab = db.get_table_values('Movies')\n",
    "    \n",
    "    for review in reviews:\n",
    "        mov_id = review[1]\n",
    "        info[mov_id] = {'title':list(filter(lambda x :x[0] == mov_id,mov_tab))[0][1],'rating':review[4]}\n",
    "        \n",
    "    return info\n",
    "    \n",
    "    "
   ]
  },
  {
   "cell_type": "code",
   "execution_count": null,
   "id": "ef46e616-1299-4659-8e09-f6d3fdf44b43",
   "metadata": {},
   "outputs": [],
   "source": [
    "\n"
   ]
  },
  {
   "cell_type": "code",
   "execution_count": null,
   "id": "89593c73-41e3-4a6e-8e9c-61fd41b372dc",
   "metadata": {},
   "outputs": [],
   "source": [
    "target_reviews = list(filter(lambda rv: rv[2] == target_user,reviews))\n",
    "neighbour_reviews = list(filter(lambda rv: rv[2] == neighbour,reviews))"
   ]
  },
  {
   "cell_type": "code",
   "execution_count": null,
   "id": "73fd7bda-4f06-41de-89d2-7e84ce851863",
   "metadata": {},
   "outputs": [],
   "source": [
    "tar_info = reviews_info(target_user,target_reviews)\n",
    "neigh_info = reviews_info(neighbour,neighbour_reviews)"
   ]
  },
  {
   "cell_type": "code",
   "execution_count": null,
   "id": "00cf7940-a7bf-4443-87b6-abd8d7d47bda",
   "metadata": {},
   "outputs": [],
   "source": [
    "tar_info"
   ]
  },
  {
   "cell_type": "code",
   "execution_count": null,
   "id": "c78c8ccb-97d3-439a-ac8d-28ebe5e8ba91",
   "metadata": {},
   "outputs": [],
   "source": [
    "neigh_info"
   ]
  },
  {
   "cell_type": "code",
   "execution_count": null,
   "id": "6864fda6-f897-4c0a-8cf8-405e8cadd208",
   "metadata": {},
   "outputs": [],
   "source": []
  },
  {
   "cell_type": "markdown",
   "id": "ae878490-881c-4345-9040-934a38615e40",
   "metadata": {},
   "source": [
    "# SAVE_MODEL"
   ]
  },
  {
   "cell_type": "code",
   "execution_count": null,
   "id": "6ef1a3d5-a607-4a92-82a3-237a07f15ecc",
   "metadata": {},
   "outputs": [],
   "source": [
    "torch.save(model.state_dict(), 'model_weights.pth')"
   ]
  },
  {
   "cell_type": "code",
   "execution_count": null,
   "id": "653f0e2d-f90d-4bc4-b72c-2dfda1b2f542",
   "metadata": {},
   "outputs": [],
   "source": []
  }
 ],
 "metadata": {
  "kernelspec": {
   "display_name": "menv",
   "language": "python",
   "name": "menv"
  },
  "language_info": {
   "codemirror_mode": {
    "name": "ipython",
    "version": 3
   },
   "file_extension": ".py",
   "mimetype": "text/x-python",
   "name": "python",
   "nbconvert_exporter": "python",
   "pygments_lexer": "ipython3",
   "version": "3.10.12"
  }
 },
 "nbformat": 4,
 "nbformat_minor": 5
}
