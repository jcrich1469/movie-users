{
 "cells": [
  {
   "cell_type": "code",
   "execution_count": 1,
   "id": "8a573191-c50c-46a7-be39-8d9e9ad5ae8c",
   "metadata": {},
   "outputs": [
    {
     "name": "stdout",
     "output_type": "stream",
     "text": [
      "importing Jupyter notebook from db.ipynb\n",
      "best_col_model_checkpoint.pth\t\tmain.py\n",
      "best_contentfiltermodel_checkpoint.pth\tmenv\n",
      "best_model_checkpoint.pth\t\tmlruns\n",
      "best_model_state.pth\t\t\tmodels\n",
      "cf_model.py\t\t\t\tmovie.py\n",
      "config.py\t\t\t\tpath_to_your_database.db\n",
      "dataset.py\t\t\t\t__pycache__\n",
      "db.ipynb\t\t\t\tq.py\n",
      "Dockerfile\t\t\t\tREADME.md\n",
      "done.txt\t\t\t\trequirements.txt\n",
      "encoder.pkl\t\t\t\tserver\n",
      "fdstests.ipynb\t\t\t\ttest.db\n",
      "filemanager.py\t\t\t\ttestsources.ipynb\n",
      "holocenemodels\t\t\t\ttodo.txt\n",
      "indie_letterboxd.db\t\t\ttrain_colfilter.ipynb\n",
      "indie_letterboxd_v2.db\t\t\ttrain_confilter.ipynb\n",
      "letterboxd\t\t\t\tuser.py\n",
      "letterboxd.db\t\t\t\twandb\n",
      "main.ipynb\t\t\t\tweb_spider.py\n"
     ]
    }
   ],
   "source": [
    "import torch\n",
    "import torch.nn as nn\n",
    "import torch.optim as optim\n",
    "from cf_model import MLPCollaborativeFilter\n",
    "from dataset import ColFDataset, Encoder, split_data\n",
    "import import_ipynb\n",
    "import db\n",
    "from torch.utils.data import DataLoader\n",
    "from tqdm import tqdm\n",
    "import random\n",
    "import sqlite3"
   ]
  },
  {
   "cell_type": "code",
   "execution_count": 2,
   "id": "4967b732-0b9e-4747-a84f-07e3e8f4dd71",
   "metadata": {},
   "outputs": [
    {
     "name": "stdout",
     "output_type": "stream",
     "text": [
      "Users: 2400\n",
      "\n",
      "Movies: 771\n",
      "\n",
      "Reviews: 18504\n"
     ]
    }
   ],
   "source": [
    "DB_NAME = 'indie_letterboxd_v2'\n",
    "db.display_size(DB_NAME)"
   ]
  },
  {
   "cell_type": "code",
   "execution_count": 3,
   "id": "28be6c6f-cf28-486e-9aa5-78b8ff780a1b",
   "metadata": {},
   "outputs": [],
   "source": [
    "conn = sqlite3.connect(DB_NAME+'.db')\n",
    "cursor = conn.cursor()\n",
    "\n",
    "# SQL query to fetch user name and ID, movie name and ID, and rating from reviews\n",
    "query = '''\n",
    "    SELECT \n",
    "        u.user_id,\n",
    "        u.name AS user_name, \n",
    "        m.movie_id,\n",
    "        m.title AS movie_title, \n",
    "        r.rating\n",
    "    FROM \n",
    "        Reviews r\n",
    "    JOIN Users u ON r.user_id = u.user_id\n",
    "    JOIN Movies m ON r.movie_id = m.movie_id\n",
    "    '''\n",
    "\n",
    "try:\n",
    "    cursor.execute(query)\n",
    "    reviews = cursor.fetchall()\n",
    "    \n",
    "    # for review in reviews:\n",
    "    #     print(\"User ID:\", review[0], \"| User Name:\", review[1], \"| Movie ID:\", review[2], \"| Movie Title:\", review[3], \"| Rating:\", review[4])\n",
    "except sqlite3.Error as e:\n",
    "    print(\"An error occurred:\", e)\n",
    "finally:\n",
    "    conn.close()"
   ]
  },
  {
   "cell_type": "code",
   "execution_count": 4,
   "id": "8802ab01-9d57-4fdf-8341-215f3e0212ae",
   "metadata": {},
   "outputs": [
    {
     "name": "stdout",
     "output_type": "stream",
     "text": [
      "[('Sr(a). Felix Rosado', 'Saloum', 0.8), ('Фрацил Джогов', 'Love Dad', 0.24), ('Jožefa Mlakar', 'Prisoners Daughter', 0.8), ('Monica Wheeler', 'Alam', 0.6), ('Hunar De', 'The Burnt Orange Heresy', 0.2), ('Dr Wayne Rowe', 'The World Is Family', 0.9), ('Сафонова Зинаида Викторовна', 'Mountain Cat', 0.4), ('Saulītis, Ernests', 'State Funeral', 0.71), ('Lizz Latier-van Es', 'Coming Home Again', 0.4), ('Samuel Oliver', 'My Life as a Comedian', 0.8)]\n"
     ]
    },
    {
     "data": {
      "text/plain": [
       "0"
      ]
     },
     "execution_count": 4,
     "metadata": {},
     "output_type": "execute_result"
    }
   ],
   "source": [
    "# print(db.display_size())\n",
    "#TODO change shuffle and not shuffle\n",
    "\n",
    "# Assuming 'reviews' is a list of tuples and you've already created 'data'\n",
    "data = [tuple([did[1], did[3], did[-1]]) for did in reviews]\n",
    "\n",
    "# Shuffle 'data' in place with random.shuffle()\n",
    "random.shuffle(data)\n",
    "\n",
    "# Now 'data' is shuffled, and you can work with it\n",
    "print(data[:10])\n",
    "#found invalid values earlier.\n",
    "\n",
    "data = [pre for pre in data if pre[-1] > 0]\n",
    "data.count(-1)"
   ]
  },
  {
   "cell_type": "code",
   "execution_count": 5,
   "id": "4a8d4986-83f4-4fbc-8bba-429cda6a865e",
   "metadata": {},
   "outputs": [],
   "source": [
    "#test data is holdout for Kfolds cross data validation evaluation.\n",
    "train_data, test_data = split_data(data)\n",
    "train_data, validation_data = split_data(train_data,0.1)"
   ]
  },
  {
   "cell_type": "code",
   "execution_count": 6,
   "id": "2eccd133-b107-4dfa-9b16-b07bc58b375b",
   "metadata": {},
   "outputs": [
    {
     "data": {
      "text/plain": [
       "13241"
      ]
     },
     "execution_count": 6,
     "metadata": {},
     "output_type": "execute_result"
    }
   ],
   "source": [
    "len(validation_data)"
   ]
  },
  {
   "cell_type": "code",
   "execution_count": 7,
   "id": "e2438744-302d-4f6b-9a63-d49b2eadbd96",
   "metadata": {},
   "outputs": [],
   "source": [
    "train_users_data = [ud[0] for ud in train_data]\n",
    "train_movies_data = [md[1] for md in train_data]"
   ]
  },
  {
   "cell_type": "markdown",
   "id": "ab1b2649-c1fb-48bd-ab55-030b640199e7",
   "metadata": {},
   "source": [
    "## after splitting, only use the training data --- for encoding!!!!"
   ]
  },
  {
   "cell_type": "code",
   "execution_count": 8,
   "id": "dfbc8886-5861-4526-9488-ed53e502a2e4",
   "metadata": {},
   "outputs": [],
   "source": [
    "encoder = Encoder(users=train_users_data,movies=train_movies_data)###<---- important\n",
    "import pickle\n",
    "\n",
    "# Assuming 'encoder' is your encoder object\n",
    "with open('encoder.pkl', 'wb') as file:\n",
    "    pickle.dump(encoder, file)\n"
   ]
  },
  {
   "cell_type": "code",
   "execution_count": 9,
   "id": "319e8a9c-44a3-44d4-99c7-ad3b042220e3",
   "metadata": {},
   "outputs": [],
   "source": [
    "train_ds = ColFDataset(train_data,encoder)\n",
    "test_ds = ColFDataset(test_data,encoder)\n",
    "validation_ds = ColFDataset(validation_data,encoder)"
   ]
  },
  {
   "cell_type": "code",
   "execution_count": 10,
   "id": "af64661d-4749-45e3-a3a9-dcfdb27b43ea",
   "metadata": {},
   "outputs": [
    {
     "data": {
      "text/plain": [
       "1471"
      ]
     },
     "execution_count": 10,
     "metadata": {},
     "output_type": "execute_result"
    }
   ],
   "source": [
    "len(train_ds.movie_ids)"
   ]
  },
  {
   "cell_type": "code",
   "execution_count": 11,
   "id": "4a97f9cb-f0f1-45db-b175-4293529fa52d",
   "metadata": {},
   "outputs": [
    {
     "data": {
      "text/plain": [
       "0"
      ]
     },
     "execution_count": 11,
     "metadata": {},
     "output_type": "execute_result"
    }
   ],
   "source": [
    "train_ds.movie_ids.count(0)"
   ]
  },
  {
   "cell_type": "code",
   "execution_count": 12,
   "id": "ae3212ab-ac1f-4efa-b29a-a509247f08d4",
   "metadata": {},
   "outputs": [
    {
     "data": {
      "text/plain": [
       "13241"
      ]
     },
     "execution_count": 12,
     "metadata": {},
     "output_type": "execute_result"
    }
   ],
   "source": [
    "len(validation_ds.movie_ids)"
   ]
  },
  {
   "cell_type": "code",
   "execution_count": 13,
   "id": "75750116-45b4-4af9-be6e-d3b828a05311",
   "metadata": {},
   "outputs": [
    {
     "data": {
      "text/plain": [
       "7167"
      ]
     },
     "execution_count": 13,
     "metadata": {},
     "output_type": "execute_result"
    }
   ],
   "source": [
    "validation_ds.user_ids.count(0)"
   ]
  },
  {
   "cell_type": "code",
   "execution_count": 14,
   "id": "f2a65e0d-f096-4312-b02e-2ccbbb1a38af",
   "metadata": {},
   "outputs": [
    {
     "data": {
      "text/plain": [
       "1869"
      ]
     },
     "execution_count": 14,
     "metadata": {},
     "output_type": "execute_result"
    }
   ],
   "source": [
    "validation_ds.movie_ids.count(0)"
   ]
  },
  {
   "cell_type": "code",
   "execution_count": 15,
   "id": "cbc125dc-8fca-445a-8f90-ea504b004900",
   "metadata": {},
   "outputs": [
    {
     "data": {
      "text/plain": [
       "3679"
      ]
     },
     "execution_count": 15,
     "metadata": {},
     "output_type": "execute_result"
    }
   ],
   "source": [
    "len(test_ds.movie_ids)"
   ]
  },
  {
   "cell_type": "code",
   "execution_count": 16,
   "id": "83a82ced-863d-4bd4-b00d-a99a24047c89",
   "metadata": {},
   "outputs": [
    {
     "data": {
      "text/plain": [
       "546"
      ]
     },
     "execution_count": 16,
     "metadata": {},
     "output_type": "execute_result"
    }
   ],
   "source": [
    "test_ds.movie_ids.count(0)"
   ]
  },
  {
   "cell_type": "code",
   "execution_count": 17,
   "id": "75616c10-0c39-460b-a33d-9507b9043ab6",
   "metadata": {},
   "outputs": [],
   "source": [
    "BATCH_SIZE = 64\n",
    "train_data_loader = DataLoader(train_ds,batch_size=BATCH_SIZE,shuffle=False,drop_last=True)\n",
    "validation_data_loader = DataLoader(validation_ds,batch_size=BATCH_SIZE,shuffle=False,drop_last=True)\n",
    "test_data_loader = DataLoader(test_ds,batch_size=BATCH_SIZE,shuffle=False,drop_last=True)"
   ]
  },
  {
   "cell_type": "code",
   "execution_count": 18,
   "id": "36edabff-0087-49fd-9cbf-c22e06c27b16",
   "metadata": {},
   "outputs": [],
   "source": [
    "num_users = len(encoder.vocab_to_idx['users'])\n",
    "num_movies = len(encoder.vocab_to_idx['movies'])\n",
    "FEATURES=700\n",
    "model = MLPCollaborativeFilter(num_users + 1, num_movies + 1, embedding_dim=FEATURES)\n",
    "\n",
    "\n",
    "LEARNING_RATE = 0.001\n",
    "criterion = nn.MSELoss()\n",
    "#weight decay L2 regularization\n",
    "# optimiser = optim.SGD(model.parameters(), lr=0.001,weight_decay=1e-5)\\\n",
    "L2_REGULARIZATION=0.1\n",
    "optimiser = optim.SGD(model.parameters(), lr=LEARNING_RATE,weight_decay=L2_REGULARIZATION)\n",
    "EPOCHS = 100"
   ]
  },
  {
   "cell_type": "code",
   "execution_count": 19,
   "id": "157cd204-76fe-473a-9e57-a7adda48b185",
   "metadata": {},
   "outputs": [
    {
     "name": "stdout",
     "output_type": "stream",
     "text": [
      "18391\n"
     ]
    },
    {
     "data": {
      "text/plain": [
       "1471"
      ]
     },
     "execution_count": 19,
     "metadata": {},
     "output_type": "execute_result"
    }
   ],
   "source": [
    "print(len(data))\n",
    "len(train_ds)"
   ]
  },
  {
   "cell_type": "markdown",
   "id": "2c0aea2d-2597-4a50-9b6d-d65231ed49eb",
   "metadata": {},
   "source": [
    "# EDA "
   ]
  },
  {
   "cell_type": "markdown",
   "id": "aadfc0f4-b4df-4835-85b1-ebae07f11741",
   "metadata": {},
   "source": [
    "    Examine the data for patterns, anomalies, or characteristics.\n",
    "    Check for data quality issues such as missing values, outliers, or incorrect data types. <--- either predropped or imputed.\n",
    "    Get a sense of the distributions of your variables and the relationships between them."
   ]
  },
  {
   "cell_type": "code",
   "execution_count": 20,
   "id": "e1228065-7071-4b93-b460-a4204e6fbbda",
   "metadata": {},
   "outputs": [
    {
     "name": "stdout",
     "output_type": "stream",
     "text": [
      "                  user                    movie  ratings\n",
      "0  Sr(a). Felix Rosado                   Saloum     0.80\n",
      "1        Фрацил Джогов                 Love Dad     0.24\n",
      "2        Jožefa Mlakar       Prisoners Daughter     0.80\n",
      "3       Monica Wheeler                     Alam     0.60\n",
      "4             Hunar De  The Burnt Orange Heresy     0.20\n",
      "<class 'pandas.core.frame.DataFrame'>\n",
      "RangeIndex: 18391 entries, 0 to 18390\n",
      "Data columns (total 3 columns):\n",
      " #   Column   Non-Null Count  Dtype  \n",
      "---  ------   --------------  -----  \n",
      " 0   user     18391 non-null  object \n",
      " 1   movie    18391 non-null  object \n",
      " 2   ratings  18391 non-null  float64\n",
      "dtypes: float64(1), object(2)\n",
      "memory usage: 431.2+ KB\n",
      "None\n",
      "            ratings\n",
      "count  18391.000000\n",
      "mean       0.674751\n",
      "std        0.210540\n",
      "min        0.020000\n",
      "25%        0.540000\n",
      "50%        0.700000\n",
      "75%        0.800000\n",
      "max        1.000000\n"
     ]
    }
   ],
   "source": [
    "import pandas as pd\n",
    "\n",
    "\n",
    "column_names = ['user', 'movie','ratings']\n",
    "\n",
    "df = pd.DataFrame(data, columns=column_names)\n",
    "\n",
    "# Display the first few rows of the dataset\n",
    "print(df.head())\n",
    "\n",
    "# Get a summary of the dataset\n",
    "print(df.info())\n",
    "\n",
    "# Generate descriptive statistics\n",
    "print(df.describe())\n"
   ]
  },
  {
   "cell_type": "code",
   "execution_count": 21,
   "id": "c02bbd90-8966-44b8-9ddd-59d31ce3d82c",
   "metadata": {},
   "outputs": [
    {
     "name": "stdout",
     "output_type": "stream",
     "text": [
      "user       0\n",
      "movie      0\n",
      "ratings    0\n",
      "dtype: int64\n"
     ]
    }
   ],
   "source": [
    "print(df.isnull().sum())\n"
   ]
  },
  {
   "cell_type": "code",
   "execution_count": 22,
   "id": "51da5313-6bec-42a9-835e-2c535197d382",
   "metadata": {},
   "outputs": [
    {
     "data": {
      "image/png": "[encoded data removed]",
      "text/plain": [
       "<Figure size 2000x1500 with 1 Axes>"
      ]
     },
     "metadata": {},
     "output_type": "display_data"
    },
    {
     "data": {
      "image/png": "[encoded data removed]",
      "text/plain": [
       "<Figure size 640x480 with 1 Axes>"
      ]
     },
     "metadata": {},
     "output_type": "display_data"
    },
    {
     "data": {
      "image/png": "[encoded data removed]",
      "text/plain": [
       "<Figure size 250x250 with 2 Axes>"
      ]
     },
     "metadata": {},
     "output_type": "display_data"
    }
   ],
   "source": [
    "import matplotlib.pyplot as plt\n",
    "import seaborn as sns\n",
    "\n",
    "# Histograms for numeric features\n",
    "df.hist(bins=50, figsize=(20,15))\n",
    "plt.show()\n",
    "\n",
    "# Box plots for distributions and spotting outliers\n",
    "sns.boxplot(data=df)\n",
    "plt.show()\n",
    "\n",
    "# Pairplot to visualize pairwise relationships between features\n",
    "sns.pairplot(df)\n",
    "plt.show()\n"
   ]
  },
  {
   "cell_type": "code",
   "execution_count": 23,
   "id": "6b05fd44-31ed-4c75-b0b2-5558d525bd0e",
   "metadata": {},
   "outputs": [
    {
     "data": {
      "text/html": [
       "<div>\n",
       "<style scoped>\n",
       "    .dataframe tbody tr th:only-of-type {\n",
       "        vertical-align: middle;\n",
       "    }\n",
       "\n",
       "    .dataframe tbody tr th {\n",
       "        vertical-align: top;\n",
       "    }\n",
       "\n",
       "    .dataframe thead th {\n",
       "        text-align: right;\n",
       "    }\n",
       "</style>\n",
       "<table border=\"1\" class=\"dataframe\">\n",
       "  <thead>\n",
       "    <tr style=\"text-align: right;\">\n",
       "      <th></th>\n",
       "      <th>user</th>\n",
       "      <th>movie</th>\n",
       "      <th>ratings</th>\n",
       "    </tr>\n",
       "  </thead>\n",
       "  <tbody>\n",
       "  </tbody>\n",
       "</table>\n",
       "</div>"
      ],
      "text/plain": [
       "Empty DataFrame\n",
       "Columns: [user, movie, ratings]\n",
       "Index: []"
      ]
     },
     "execution_count": 23,
     "metadata": {},
     "output_type": "execute_result"
    }
   ],
   "source": [
    "df[df['ratings'] == -1]"
   ]
  },
  {
   "cell_type": "code",
   "execution_count": 24,
   "id": "5fe39638-e29b-49ca-bf75-4d8d44ace1c1",
   "metadata": {},
   "outputs": [
    {
     "data": {
      "text/plain": [
       "0     6\n",
       "1     8\n",
       "2    18\n",
       "3     4\n",
       "4    23\n",
       "Name: title_length, dtype: int64"
      ]
     },
     "execution_count": 24,
     "metadata": {},
     "output_type": "execute_result"
    }
   ],
   "source": [
    "df['title_length'] = df['movie'].str.len()\n",
    "df['title_length'].head()"
   ]
  },
  {
   "cell_type": "code",
   "execution_count": 25,
   "id": "6c4fe575-c792-46de-9fac-c4e280e4889f",
   "metadata": {},
   "outputs": [
    {
     "data": {
      "image/png": "[encoded data removed]",
      "text/plain": [
       "<Figure size 640x480 with 2 Axes>"
      ]
     },
     "metadata": {},
     "output_type": "display_data"
    }
   ],
   "source": [
    "\n",
    "df['title_length']\n",
    "# Correlation matrix\n",
    "\n",
    "corr_matrix = df[['title_length','ratings']].corr()\n",
    "\n",
    "# Heatmap of the correlation matrix\n",
    "sns.heatmap(corr_matrix, annot=True, fmt=\".2f\")\n",
    "plt.show()\n",
    "\n",
    "# Specifically look at correlations with the target variable if defined\n",
    "# target_corr = corr_matrix[\"YourTargetVariable\"].sort_values(ascending=False)\n",
    "# print(target_corr)\n"
   ]
  },
  {
   "cell_type": "code",
   "execution_count": 26,
   "id": "dc364699-eaa9-4bd5-9e46-359b19c0271f",
   "metadata": {},
   "outputs": [
    {
     "name": "stdout",
     "output_type": "stream",
     "text": [
      "0.26\n",
      "                            user                    movie  ratings  \\\n",
      "99               მზია ქევხიშვილი         Dear Evan Hansen     0.10   \n",
      "130          Пейолина Пенджакова                 Daliland     0.10   \n",
      "241             Гаврило Ґжицький                 Synonyms     0.10   \n",
      "298                 Arne Hansson         The Moneychanger     0.09   \n",
      "312    Dr. Feketené Orbán Margit           Spring Blossom     0.10   \n",
      "...                          ...                      ...      ...   \n",
      "18174                        윤영미          The Hummingbird     0.10   \n",
      "18213        ललित बालासुब्रमणियम                Baby Ruby     0.10   \n",
      "18270            सत्यव्रता रिमाल               Good Madam     0.10   \n",
      "18369             ლიკა გურგენიძე                   Zalava     0.10   \n",
      "18378              Vilém Růžička  Hate to Love Nickelback     0.10   \n",
      "\n",
      "       title_length  \n",
      "99               16  \n",
      "130               8  \n",
      "241               8  \n",
      "298              16  \n",
      "312              14  \n",
      "...             ...  \n",
      "18174            15  \n",
      "18213             9  \n",
      "18270            10  \n",
      "18369             6  \n",
      "18378            23  \n",
      "\n",
      "[300 rows x 4 columns]\n"
     ]
    }
   ],
   "source": [
    "# Example of finding outliers for a 'feature_name'\n",
    "Q1 = df['ratings'].quantile(0.25)\n",
    "Q3 = df['ratings'].quantile(0.75)\n",
    "IQR = Q3 - Q1\n",
    "print(IQR)\n",
    "outlier_condition = ((df['ratings'] < (Q1 - 1.5 * IQR)) | (df['ratings'] > (Q3 + 1.5 * IQR)))\n",
    "outliers = df[outlier_condition]\n",
    "print(outliers)"
   ]
  },
  {
   "cell_type": "markdown",
   "id": "bd5dbea2-ea83-4f1a-b206-60a993873cfe",
   "metadata": {},
   "source": [
    "## MLFLOw"
   ]
  },
  {
   "cell_type": "code",
   "execution_count": 27,
   "id": "ae300159-0298-450a-b512-ddf65ad3d207",
   "metadata": {},
   "outputs": [
    {
     "data": {
      "text/plain": [
       "<Experiment: artifact_location='file:///home/james/Desktop/torchex/movie-users/mlruns/827152334394031969', creation_time=1710099404696, experiment_id='827152334394031969', last_update_time=1710099404696, lifecycle_stage='active', name='Finetuned Collaborative Filter', tags={}>"
      ]
     },
     "execution_count": 27,
     "metadata": {},
     "output_type": "execute_result"
    }
   ],
   "source": [
    "import mlflow\n",
    "from mlflow.tracking import MlflowClient\n",
    "\n",
    "# Optional: Set MLflow experiment\n",
    "mlflow.set_experiment(\"Finetuned Collaborative Filter\")"
   ]
  },
  {
   "cell_type": "code",
   "execution_count": 28,
   "id": "5bebaeb2-02a1-47d8-8f20-28d488b69201",
   "metadata": {},
   "outputs": [
    {
     "data": {
      "text/plain": [
       "0.5"
      ]
     },
     "execution_count": 28,
     "metadata": {},
     "output_type": "execute_result"
    }
   ],
   "source": [
    "# Log model parameters (example)\n",
    "mlflow.start_run()\n",
    "mlflow.log_param(\"epochs\", EPOCHS)\n",
    "mlflow.log_param(\"optimizer\", type(optimiser).__name__)\n",
    "mlflow.log_param(\"learning rate\", LEARNING_RATE)\n",
    "mlflow.log_param(\"batch size\", BATCH_SIZE)\n",
    "mlflow.log_param(\"L2 regularization\", L2_REGULARIZATION)\n",
    "mlflow.log_param(\"drop out\", 0.5)"
   ]
  },
  {
   "cell_type": "markdown",
   "id": "623dc331-6d00-41db-b670-fe7c76a9d10b",
   "metadata": {},
   "source": [
    "# PRETEST"
   ]
  },
  {
   "cell_type": "code",
   "execution_count": 29,
   "id": "1f13953d-a5bc-4fd2-8d48-3c323be56cf8",
   "metadata": {},
   "outputs": [
    {
     "name": "stdout",
     "output_type": "stream",
     "text": [
      "0.8345452013768648\n"
     ]
    }
   ],
   "source": [
    "#test data\n",
    "model.eval()  # Switch to evaluation mode\n",
    "test_loss = 0\n",
    "correct_predictions = 0  # Fixed variable name for clarity\n",
    "total_contexts = 0\n",
    "\n",
    "with torch.no_grad():  # Disable gradient computation\n",
    "    for user_ids, movie_ids, ratings in test_data_loader:\n",
    "        predictions = model(user_ids,movie_ids)  # Generate predictions\n",
    "        # Calculate and accumulate loss\n",
    "        loss = criterion(predictions, ratings)\n",
    "        test_loss += loss.item()\n",
    "        \n",
    "\n",
    "test_loss /= len(test_data_loader)  # Average loss per batch\n",
    "\n",
    "print(test_loss)\n",
    "\n",
    "mlflow.log_metric('pretraining test loss',test_loss)"
   ]
  },
  {
   "cell_type": "markdown",
   "id": "c39e0f67-b1d4-4a01-826a-4e37d9fb5127",
   "metadata": {},
   "source": [
    "## wandb"
   ]
  },
  {
   "cell_type": "code",
   "execution_count": 30,
   "id": "000ffd1c-94ac-4276-bede-a4b7f186794f",
   "metadata": {},
   "outputs": [
    {
     "name": "stderr",
     "output_type": "stream",
     "text": [
      "Failed to detect the name of this notebook, you can set it manually with the WANDB_NOTEBOOK_NAME environment variable to enable code saving.\n",
      "\u001b[34m\u001b[1mwandb\u001b[0m: Currently logged in as: \u001b[33mjcrich\u001b[0m. Use \u001b[1m`wandb login --relogin`\u001b[0m to force relogin\n"
     ]
    },
    {
     "data": {
      "text/html": [
       "wandb version 0.16.4 is available!  To upgrade, please run:\n",
       " $ pip install wandb --upgrade"
      ],
      "text/plain": [
       "<IPython.core.display.HTML object>"
      ]
     },
     "metadata": {},
     "output_type": "display_data"
    },
    {
     "data": {
      "text/html": [
       "Tracking run with wandb version 0.16.3"
      ],
      "text/plain": [
       "<IPython.core.display.HTML object>"
      ]
     },
     "metadata": {},
     "output_type": "display_data"
    },
    {
     "data": {
      "text/html": [
       "Run data is saved locally in <code>/home/james/Desktop/torchex/movie-users/wandb/run-20240311_221135-qj9da64k</code>"
      ],
      "text/plain": [
       "<IPython.core.display.HTML object>"
      ]
     },
     "metadata": {},
     "output_type": "display_data"
    },
    {
     "data": {
      "text/html": [
       "Syncing run <strong><a href='https://wandb.ai/jcrich/collaborative%20filter%20model/runs/qj9da64k' target=\"_blank\">rich-hill-33</a></strong> to <a href='https://wandb.ai/jcrich/collaborative%20filter%20model' target=\"_blank\">Weights & Biases</a> (<a href='https://wandb.me/run' target=\"_blank\">docs</a>)<br/>"
      ],
      "text/plain": [
       "<IPython.core.display.HTML object>"
      ]
     },
     "metadata": {},
     "output_type": "display_data"
    },
    {
     "data": {
      "text/html": [
       " View project at <a href='https://wandb.ai/jcrich/collaborative%20filter%20model' target=\"_blank\">https://wandb.ai/jcrich/collaborative%20filter%20model</a>"
      ],
      "text/plain": [
       "<IPython.core.display.HTML object>"
      ]
     },
     "metadata": {},
     "output_type": "display_data"
    },
    {
     "data": {
      "text/html": [
       " View run at <a href='https://wandb.ai/jcrich/collaborative%20filter%20model/runs/qj9da64k' target=\"_blank\">https://wandb.ai/jcrich/collaborative%20filter%20model/runs/qj9da64k</a>"
      ],
      "text/plain": [
       "<IPython.core.display.HTML object>"
      ]
     },
     "metadata": {},
     "output_type": "display_data"
    },
    {
     "data": {
      "text/html": [
       "<button onClick=\"this.nextSibling.style.display='block';this.style.display='none';\">Display W&B run</button><iframe src='https://wandb.ai/jcrich/collaborative%20filter%20model/runs/qj9da64k?jupyter=true' style='border:none;width:100%;height:420px;display:none;'></iframe>"
      ],
      "text/plain": [
       "<wandb.sdk.wandb_run.Run at 0x7fbf6cc3b5b0>"
      ]
     },
     "execution_count": 30,
     "metadata": {},
     "output_type": "execute_result"
    }
   ],
   "source": [
    "import wandb\n",
    "import random\n",
    "\n",
    "# start a new wandb run to track this script\n",
    "wandb.init(\n",
    "    # set the wandb project where this run will be logged\n",
    "    entity=\"jcrich\",\n",
    "    project=\"collaborative filter model\",\n",
    "    \n",
    "    # track hyperparameters and run metadata\n",
    "    config={\n",
    "    \"learning_rate\": LEARNING_RATE,\n",
    "    \"architecture\": \"collaborative filter\",\n",
    "    \"dataset\": \"imdb\",\n",
    "    \"epochs\": EPOCHS,\n",
    "    }\n",
    ")\n"
   ]
  },
  {
   "cell_type": "code",
   "execution_count": 31,
   "id": "4ef218b7-74b1-4769-9175-cfc7a9fa2f6f",
   "metadata": {},
   "outputs": [
    {
     "name": "stderr",
     "output_type": "stream",
     "text": [
      "Epoch 0: 100%|█████████████████████████████████████████████████████████████████████████████████████████████████████████████████████| 22/22 [00:00<00:00, 226.77it/s]\n",
      "Epoch 1: 100%|█████████████████████████████████████████████████████████████████████████████████████████████████████████████████████| 22/22 [00:00<00:00, 191.39it/s]\n",
      "Epoch 2: 100%|█████████████████████████████████████████████████████████████████████████████████████████████████████████████████████| 22/22 [00:00<00:00, 347.32it/s]\n",
      "Epoch 3: 100%|█████████████████████████████████████████████████████████████████████████████████████████████████████████████████████| 22/22 [00:00<00:00, 282.05it/s]\n",
      "Epoch 4: 100%|█████████████████████████████████████████████████████████████████████████████████████████████████████████████████████| 22/22 [00:00<00:00, 288.07it/s]\n",
      "Epoch 5: 100%|█████████████████████████████████████████████████████████████████████████████████████████████████████████████████████| 22/22 [00:00<00:00, 320.43it/s]\n",
      "Epoch 6: 100%|█████████████████████████████████████████████████████████████████████████████████████████████████████████████████████| 22/22 [00:00<00:00, 318.18it/s]\n",
      "Epoch 7: 100%|█████████████████████████████████████████████████████████████████████████████████████████████████████████████████████| 22/22 [00:00<00:00, 328.79it/s]\n",
      "Epoch 8: 100%|█████████████████████████████████████████████████████████████████████████████████████████████████████████████████████| 22/22 [00:00<00:00, 350.45it/s]\n",
      "Epoch 9: 100%|█████████████████████████████████████████████████████████████████████████████████████████████████████████████████████| 22/22 [00:00<00:00, 281.45it/s]\n",
      "Epoch 10: 100%|████████████████████████████████████████████████████████████████████████████████████████████████████████████████████| 22/22 [00:00<00:00, 357.75it/s]\n",
      "Epoch 11: 100%|████████████████████████████████████████████████████████████████████████████████████████████████████████████████████| 22/22 [00:00<00:00, 344.90it/s]\n",
      "Epoch 12: 100%|████████████████████████████████████████████████████████████████████████████████████████████████████████████████████| 22/22 [00:00<00:00, 297.07it/s]\n",
      "Epoch 13: 100%|████████████████████████████████████████████████████████████████████████████████████████████████████████████████████| 22/22 [00:00<00:00, 319.98it/s]\n",
      "Epoch 14: 100%|████████████████████████████████████████████████████████████████████████████████████████████████████████████████████| 22/22 [00:00<00:00, 363.79it/s]\n",
      "Epoch 15: 100%|████████████████████████████████████████████████████████████████████████████████████████████████████████████████████| 22/22 [00:00<00:00, 335.08it/s]\n",
      "Epoch 16: 100%|████████████████████████████████████████████████████████████████████████████████████████████████████████████████████| 22/22 [00:00<00:00, 310.61it/s]\n",
      "Epoch 17: 100%|████████████████████████████████████████████████████████████████████████████████████████████████████████████████████| 22/22 [00:00<00:00, 243.44it/s]\n",
      "Epoch 18: 100%|████████████████████████████████████████████████████████████████████████████████████████████████████████████████████| 22/22 [00:00<00:00, 342.98it/s]\n",
      "Epoch 19: 100%|████████████████████████████████████████████████████████████████████████████████████████████████████████████████████| 22/22 [00:00<00:00, 320.72it/s]\n",
      "Epoch 20: 100%|████████████████████████████████████████████████████████████████████████████████████████████████████████████████████| 22/22 [00:00<00:00, 338.55it/s]\n",
      "Epoch 21: 100%|████████████████████████████████████████████████████████████████████████████████████████████████████████████████████| 22/22 [00:00<00:00, 344.04it/s]\n",
      "Epoch 22: 100%|████████████████████████████████████████████████████████████████████████████████████████████████████████████████████| 22/22 [00:00<00:00, 376.97it/s]\n",
      "Epoch 23: 100%|████████████████████████████████████████████████████████████████████████████████████████████████████████████████████| 22/22 [00:00<00:00, 315.67it/s]\n",
      "Epoch 24: 100%|████████████████████████████████████████████████████████████████████████████████████████████████████████████████████| 22/22 [00:00<00:00, 318.26it/s]\n",
      "Epoch 25: 100%|████████████████████████████████████████████████████████████████████████████████████████████████████████████████████| 22/22 [00:00<00:00, 314.46it/s]\n",
      "Epoch 26: 100%|████████████████████████████████████████████████████████████████████████████████████████████████████████████████████| 22/22 [00:00<00:00, 340.30it/s]\n",
      "Epoch 27: 100%|████████████████████████████████████████████████████████████████████████████████████████████████████████████████████| 22/22 [00:00<00:00, 291.15it/s]\n",
      "Epoch 28: 100%|████████████████████████████████████████████████████████████████████████████████████████████████████████████████████| 22/22 [00:00<00:00, 287.08it/s]\n",
      "Epoch 29: 100%|████████████████████████████████████████████████████████████████████████████████████████████████████████████████████| 22/22 [00:00<00:00, 157.72it/s]\n",
      "Epoch 30: 100%|████████████████████████████████████████████████████████████████████████████████████████████████████████████████████| 22/22 [00:00<00:00, 276.27it/s]\n",
      "Epoch 31: 100%|████████████████████████████████████████████████████████████████████████████████████████████████████████████████████| 22/22 [00:00<00:00, 240.07it/s]\n",
      "Epoch 32: 100%|████████████████████████████████████████████████████████████████████████████████████████████████████████████████████| 22/22 [00:00<00:00, 297.18it/s]\n",
      "Epoch 33: 100%|████████████████████████████████████████████████████████████████████████████████████████████████████████████████████| 22/22 [00:00<00:00, 277.45it/s]\n",
      "Epoch 34: 100%|████████████████████████████████████████████████████████████████████████████████████████████████████████████████████| 22/22 [00:00<00:00, 271.17it/s]\n",
      "Epoch 35: 100%|████████████████████████████████████████████████████████████████████████████████████████████████████████████████████| 22/22 [00:00<00:00, 316.48it/s]\n",
      "Epoch 36: 100%|████████████████████████████████████████████████████████████████████████████████████████████████████████████████████| 22/22 [00:00<00:00, 285.57it/s]\n",
      "Epoch 37: 100%|████████████████████████████████████████████████████████████████████████████████████████████████████████████████████| 22/22 [00:00<00:00, 287.90it/s]\n",
      "Epoch 38: 100%|████████████████████████████████████████████████████████████████████████████████████████████████████████████████████| 22/22 [00:00<00:00, 274.98it/s]\n",
      "Epoch 39: 100%|████████████████████████████████████████████████████████████████████████████████████████████████████████████████████| 22/22 [00:00<00:00, 261.62it/s]\n",
      "Epoch 40: 100%|████████████████████████████████████████████████████████████████████████████████████████████████████████████████████| 22/22 [00:00<00:00, 331.95it/s]\n",
      "Epoch 41: 100%|████████████████████████████████████████████████████████████████████████████████████████████████████████████████████| 22/22 [00:00<00:00, 284.15it/s]\n",
      "Epoch 42: 100%|████████████████████████████████████████████████████████████████████████████████████████████████████████████████████| 22/22 [00:00<00:00, 319.64it/s]\n",
      "Epoch 43: 100%|████████████████████████████████████████████████████████████████████████████████████████████████████████████████████| 22/22 [00:00<00:00, 319.01it/s]\n",
      "Epoch 44: 100%|████████████████████████████████████████████████████████████████████████████████████████████████████████████████████| 22/22 [00:00<00:00, 315.49it/s]\n",
      "Epoch 45: 100%|████████████████████████████████████████████████████████████████████████████████████████████████████████████████████| 22/22 [00:00<00:00, 277.57it/s]\n",
      "Epoch 46: 100%|████████████████████████████████████████████████████████████████████████████████████████████████████████████████████| 22/22 [00:00<00:00, 287.61it/s]\n",
      "Epoch 47: 100%|████████████████████████████████████████████████████████████████████████████████████████████████████████████████████| 22/22 [00:00<00:00, 293.78it/s]\n",
      "Epoch 48: 100%|████████████████████████████████████████████████████████████████████████████████████████████████████████████████████| 22/22 [00:00<00:00, 278.26it/s]\n",
      "Epoch 49: 100%|████████████████████████████████████████████████████████████████████████████████████████████████████████████████████| 22/22 [00:00<00:00, 338.42it/s]\n",
      "Epoch 50: 100%|████████████████████████████████████████████████████████████████████████████████████████████████████████████████████| 22/22 [00:00<00:00, 339.02it/s]\n",
      "Epoch 51: 100%|████████████████████████████████████████████████████████████████████████████████████████████████████████████████████| 22/22 [00:00<00:00, 236.01it/s]\n",
      "Epoch 52: 100%|████████████████████████████████████████████████████████████████████████████████████████████████████████████████████| 22/22 [00:00<00:00, 361.57it/s]\n",
      "Epoch 53: 100%|████████████████████████████████████████████████████████████████████████████████████████████████████████████████████| 22/22 [00:00<00:00, 173.13it/s]\n",
      "Epoch 54: 100%|████████████████████████████████████████████████████████████████████████████████████████████████████████████████████| 22/22 [00:00<00:00, 223.02it/s]\n",
      "Epoch 55: 100%|████████████████████████████████████████████████████████████████████████████████████████████████████████████████████| 22/22 [00:00<00:00, 231.41it/s]\n",
      "Epoch 56: 100%|████████████████████████████████████████████████████████████████████████████████████████████████████████████████████| 22/22 [00:00<00:00, 324.93it/s]\n",
      "Epoch 57: 100%|████████████████████████████████████████████████████████████████████████████████████████████████████████████████████| 22/22 [00:00<00:00, 309.31it/s]\n",
      "Epoch 58: 100%|████████████████████████████████████████████████████████████████████████████████████████████████████████████████████| 22/22 [00:00<00:00, 299.08it/s]\n",
      "Epoch 59: 100%|████████████████████████████████████████████████████████████████████████████████████████████████████████████████████| 22/22 [00:00<00:00, 355.59it/s]\n",
      "Epoch 60: 100%|████████████████████████████████████████████████████████████████████████████████████████████████████████████████████| 22/22 [00:00<00:00, 328.59it/s]\n",
      "Epoch 61: 100%|████████████████████████████████████████████████████████████████████████████████████████████████████████████████████| 22/22 [00:00<00:00, 273.56it/s]\n",
      "Epoch 62: 100%|████████████████████████████████████████████████████████████████████████████████████████████████████████████████████| 22/22 [00:00<00:00, 342.96it/s]\n",
      "Epoch 63: 100%|████████████████████████████████████████████████████████████████████████████████████████████████████████████████████| 22/22 [00:00<00:00, 309.91it/s]\n",
      "Epoch 64: 100%|████████████████████████████████████████████████████████████████████████████████████████████████████████████████████| 22/22 [00:00<00:00, 295.34it/s]\n",
      "Epoch 65: 100%|████████████████████████████████████████████████████████████████████████████████████████████████████████████████████| 22/22 [00:00<00:00, 244.73it/s]\n",
      "Epoch 66: 100%|████████████████████████████████████████████████████████████████████████████████████████████████████████████████████| 22/22 [00:00<00:00, 201.77it/s]\n",
      "Epoch 67: 100%|████████████████████████████████████████████████████████████████████████████████████████████████████████████████████| 22/22 [00:00<00:00, 322.40it/s]\n",
      "Epoch 68: 100%|████████████████████████████████████████████████████████████████████████████████████████████████████████████████████| 22/22 [00:00<00:00, 318.20it/s]\n",
      "Epoch 69: 100%|████████████████████████████████████████████████████████████████████████████████████████████████████████████████████| 22/22 [00:00<00:00, 283.18it/s]\n",
      "Epoch 70: 100%|████████████████████████████████████████████████████████████████████████████████████████████████████████████████████| 22/22 [00:00<00:00, 306.06it/s]\n",
      "Epoch 71: 100%|████████████████████████████████████████████████████████████████████████████████████████████████████████████████████| 22/22 [00:00<00:00, 259.18it/s]\n",
      "Epoch 72: 100%|████████████████████████████████████████████████████████████████████████████████████████████████████████████████████| 22/22 [00:00<00:00, 247.02it/s]\n",
      "Epoch 73: 100%|████████████████████████████████████████████████████████████████████████████████████████████████████████████████████| 22/22 [00:00<00:00, 272.60it/s]\n",
      "Epoch 74: 100%|████████████████████████████████████████████████████████████████████████████████████████████████████████████████████| 22/22 [00:00<00:00, 252.43it/s]\n",
      "Epoch 75: 100%|████████████████████████████████████████████████████████████████████████████████████████████████████████████████████| 22/22 [00:00<00:00, 278.54it/s]\n",
      "Epoch 76: 100%|████████████████████████████████████████████████████████████████████████████████████████████████████████████████████| 22/22 [00:00<00:00, 291.54it/s]\n",
      "Epoch 77: 100%|████████████████████████████████████████████████████████████████████████████████████████████████████████████████████| 22/22 [00:00<00:00, 303.09it/s]\n",
      "Epoch 78: 100%|████████████████████████████████████████████████████████████████████████████████████████████████████████████████████| 22/22 [00:00<00:00, 279.90it/s]\n",
      "Epoch 79: 100%|████████████████████████████████████████████████████████████████████████████████████████████████████████████████████| 22/22 [00:00<00:00, 305.56it/s]\n",
      "Epoch 80: 100%|████████████████████████████████████████████████████████████████████████████████████████████████████████████████████| 22/22 [00:00<00:00, 328.42it/s]\n",
      "Epoch 81: 100%|████████████████████████████████████████████████████████████████████████████████████████████████████████████████████| 22/22 [00:00<00:00, 325.86it/s]\n",
      "Epoch 82: 100%|████████████████████████████████████████████████████████████████████████████████████████████████████████████████████| 22/22 [00:00<00:00, 350.00it/s]\n",
      "Epoch 83: 100%|████████████████████████████████████████████████████████████████████████████████████████████████████████████████████| 22/22 [00:00<00:00, 335.12it/s]\n",
      "Epoch 84: 100%|████████████████████████████████████████████████████████████████████████████████████████████████████████████████████| 22/22 [00:00<00:00, 285.03it/s]\n",
      "Epoch 85: 100%|████████████████████████████████████████████████████████████████████████████████████████████████████████████████████| 22/22 [00:00<00:00, 255.80it/s]\n",
      "Epoch 86: 100%|████████████████████████████████████████████████████████████████████████████████████████████████████████████████████| 22/22 [00:00<00:00, 301.23it/s]\n",
      "Epoch 87: 100%|████████████████████████████████████████████████████████████████████████████████████████████████████████████████████| 22/22 [00:00<00:00, 320.46it/s]\n",
      "Epoch 88: 100%|████████████████████████████████████████████████████████████████████████████████████████████████████████████████████| 22/22 [00:00<00:00, 331.24it/s]\n",
      "Epoch 89: 100%|████████████████████████████████████████████████████████████████████████████████████████████████████████████████████| 22/22 [00:00<00:00, 333.17it/s]\n",
      "Epoch 90: 100%|████████████████████████████████████████████████████████████████████████████████████████████████████████████████████| 22/22 [00:00<00:00, 320.04it/s]\n",
      "Epoch 91: 100%|████████████████████████████████████████████████████████████████████████████████████████████████████████████████████| 22/22 [00:00<00:00, 326.76it/s]\n",
      "Epoch 92: 100%|████████████████████████████████████████████████████████████████████████████████████████████████████████████████████| 22/22 [00:00<00:00, 318.53it/s]\n",
      "Epoch 93: 100%|████████████████████████████████████████████████████████████████████████████████████████████████████████████████████| 22/22 [00:00<00:00, 254.69it/s]\n",
      "Epoch 94: 100%|████████████████████████████████████████████████████████████████████████████████████████████████████████████████████| 22/22 [00:00<00:00, 279.53it/s]\n",
      "Epoch 95: 100%|████████████████████████████████████████████████████████████████████████████████████████████████████████████████████| 22/22 [00:00<00:00, 301.87it/s]\n",
      "Epoch 96: 100%|████████████████████████████████████████████████████████████████████████████████████████████████████████████████████| 22/22 [00:00<00:00, 314.06it/s]\n",
      "Epoch 97: 100%|████████████████████████████████████████████████████████████████████████████████████████████████████████████████████| 22/22 [00:00<00:00, 272.62it/s]\n",
      "Epoch 98: 100%|████████████████████████████████████████████████████████████████████████████████████████████████████████████████████| 22/22 [00:00<00:00, 307.98it/s]\n",
      "Epoch 99: 100%|████████████████████████████████████████████████████████████████████████████████████████████████████████████████████| 22/22 [00:00<00:00, 241.79it/s]\n",
      "wandb: WARNING Source type is set to 'repo' but some required information is missing from the environment. A job will not be created from this run. See https://docs.wandb.ai/guides/launch/create-job\n"
     ]
    },
    {
     "data": {
      "text/html": [
       "<style>\n",
       "    table.wandb td:nth-child(1) { padding: 0 10px; text-align: left ; width: auto;} td:nth-child(2) {text-align: left ; width: 100%}\n",
       "    .wandb-row { display: flex; flex-direction: row; flex-wrap: wrap; justify-content: flex-start; width: 100% }\n",
       "    .wandb-col { display: flex; flex-direction: column; flex-basis: 100%; flex: 1; padding: 10px; }\n",
       "    </style>\n",
       "<div class=\"wandb-row\"><div class=\"wandb-col\"><h3>Run history:</h3><br/><table class=\"wandb\"><tr><td>Epoch</td><td>▁▁▁▁▂▂▂▂▂▃▃▃▃▃▃▄▄▄▄▄▅▅▅▅▅▅▆▆▆▆▆▇▇▇▇▇▇███</td></tr><tr><td>Training Loss</td><td>█▅▃▃▃▂▂▂▂▂▂▂▂▁▁▁▁▁▁▁▁▁▁▁▁▁▁▁▁▁▁▁▁▁▁▁▁▁▁▁</td></tr><tr><td>Validation Loss</td><td>█▅▄▃▃▃▂▂▂▂▂▂▂▂▂▂▂▂▁▁▁▁▁▁▁▁▁▁▁▁▁▁▁▁▁▁▁▁▁▁</td></tr></table><br/></div><div class=\"wandb-col\"><h3>Run summary:</h3><br/><table class=\"wandb\"><tr><td>Epoch</td><td>99</td></tr><tr><td>Training Loss</td><td>0.0598</td></tr><tr><td>Validation Loss</td><td>0.09444</td></tr></table><br/></div></div>"
      ],
      "text/plain": [
       "<IPython.core.display.HTML object>"
      ]
     },
     "metadata": {},
     "output_type": "display_data"
    },
    {
     "data": {
      "text/html": [
       " View run <strong style=\"color:#cdcd00\">rich-hill-33</strong> at: <a href='https://wandb.ai/jcrich/collaborative%20filter%20model/runs/qj9da64k' target=\"_blank\">https://wandb.ai/jcrich/collaborative%20filter%20model/runs/qj9da64k</a><br/>Synced 5 W&B file(s), 0 media file(s), 0 artifact file(s) and 0 other file(s)"
      ],
      "text/plain": [
       "<IPython.core.display.HTML object>"
      ]
     },
     "metadata": {},
     "output_type": "display_data"
    },
    {
     "data": {
      "text/html": [
       "Find logs at: <code>./wandb/run-20240311_221135-qj9da64k/logs</code>"
      ],
      "text/plain": [
       "<IPython.core.display.HTML object>"
      ]
     },
     "metadata": {},
     "output_type": "display_data"
    }
   ],
   "source": [
    "# Initialize lists to keep track of losses and epochs\n",
    "# Initialize MLflow run\n",
    "# Initialize MLflow run\n",
    "# Initialize MLflow run\n",
    "\n",
    "train_losses = []\n",
    "validation_losses = []\n",
    "epochs = []\n",
    "\n",
    "# Set the best validation loss to infinity at the start\n",
    "best_val_loss = float('inf')\n",
    "\n",
    "for epoch in range(EPOCHS):\n",
    "    model.train()\n",
    "    total_epoch_loss = 0\n",
    "    for batch_idx, (user_ids, movie_ids, ratings) in tqdm(enumerate(train_data_loader), total=len(train_data_loader), desc=f'Epoch {epoch}'):\n",
    "\n",
    "        optimiser.zero_grad()\n",
    "        predictions = model(user_ids, movie_ids)\n",
    "        loss = criterion(predictions, ratings)\n",
    "\n",
    "        loss.backward()\n",
    "        optimiser.step()\n",
    "        \n",
    "        batch_loss = loss.item()\n",
    "        total_epoch_loss += batch_loss\n",
    "        \n",
    "    # After all batches, calculate average loss for the epoch\n",
    "    avg_epoch_loss = total_epoch_loss / len(train_data_loader)\n",
    "    train_losses.append(avg_epoch_loss)\n",
    "    epochs.append(epoch)\n",
    "    \n",
    "    # Log training loss for the current epoch\n",
    "    wandb.log({\"Training Loss\": avg_epoch_loss, \"Epoch\": epoch})\n",
    "    mlflow.log_metric(\"Training Loss\", avg_epoch_loss, step=epoch)\n",
    "\n",
    "    # Start validation phase\n",
    "    model.eval()\n",
    "    total_validation_loss = 0\n",
    "    with torch.no_grad():\n",
    "        for batch_idx, (user_ids, movie_ids, ratings) in enumerate(validation_data_loader):\n",
    "            predictions = model(user_ids, movie_ids)\n",
    "            loss = criterion(predictions, ratings)\n",
    "            total_validation_loss += loss.item()\n",
    "    \n",
    "    # Calculate and log validation loss after the epoch\n",
    "    avg_validation_loss = total_validation_loss / len(validation_data_loader)\n",
    "    validation_losses.append(avg_validation_loss)\n",
    "\n",
    "    # Save the model if this epoch has the best validation loss so far\n",
    "    if avg_validation_loss < best_val_loss:\n",
    "        best_val_loss = avg_validation_loss\n",
    "        mlflow.log_metric(\"Best Validation Loss\", best_val_loss, step=epoch)\n",
    "        mlflow.pytorch.log_model(model, \"model\")\n",
    "        # Save model state\n",
    "        torch.save(model.state_dict(), 'best_model_state.pth')\n",
    "        # If you also want to save the optimizer state along with the model:\n",
    "        torch.save({\n",
    "            'epoch': epoch,\n",
    "            'model_state_dict': model.state_dict(),\n",
    "            'optimiser_state_dict': optimiser.state_dict(),\n",
    "            'loss': avg_validation_loss,\n",
    "        }, 'best_col_model_checkpoint.pth')\n",
    "        # Log the model checkpoint as an artifact\n",
    "        mlflow.log_artifact('best_col_model_checkpoint.pth')\n",
    "    \n",
    "    # Log validation loss for the current epoch\n",
    "    wandb.log({\"Validation Loss\": avg_validation_loss, \"Epoch\": epoch})\n",
    "    mlflow.log_metric(\"Validation Loss\", avg_validation_loss, step=epoch)\n",
    "    \n",
    "# Finish the Weights & Biases run\n",
    "wandb.finish()"
   ]
  },
  {
   "cell_type": "code",
   "execution_count": 32,
   "id": "9ede2c71-6995-4fd5-a657-e15996945cd2",
   "metadata": {},
   "outputs": [
    {
     "name": "stdout",
     "output_type": "stream",
     "text": [
      "0.09750499393333469\n"
     ]
    }
   ],
   "source": [
    "#test data\n",
    "model.eval()  # Switch to evaluation mode\n",
    "test_loss = 0\n",
    "correct_predictions = 0  # Fixed variable name for clarity\n",
    "total_contexts = 0\n",
    "\n",
    "with torch.no_grad():  # Disable gradient computation\n",
    "    for user_ids, movie_ids, ratings in test_data_loader:\n",
    "        predictions = model(user_ids,movie_ids)  # Generate predictions\n",
    "        # Calculate and accumulate loss\n",
    "        loss = criterion(predictions, ratings)\n",
    "        test_loss += loss.item()\n",
    "        \n",
    "        # # Reshape predictions to match [batch_size, context_size, vocab_size]\n",
    "        # predictions = predictions.view(-1, context_size, VOCAB_SIZE)\n",
    "        \n",
    "        # # Get top prediction for each context position\n",
    "        # top_predictions = predictions.argmax(dim=2)\n",
    "        \n",
    "        # # Calculate correct predictions\n",
    "        # correct_preds = (top_predictions == context).float().sum()\n",
    "        # correct_predictions += correct_preds.item()  # Accumulate correct predictions\n",
    "        \n",
    "        # total_contexts += context.numel()  # Total number of context word positions evaluated\n",
    "\n",
    "# Calculate final metrics\n",
    "test_loss /= len(test_data_loader)  # Average loss per batch\n",
    "# print('correct predictions = ',correct_predictions)\n",
    "# print('out of  = ',total_contexts)\n",
    "# accuracy = correct_predictions / total_contexts  # Compute accuracy\n",
    "\n",
    "# print(f'Test set: Average loss: {test_loss:.4f}, Accuracy: {accuracy:.4f}')\n",
    "\n",
    "# Evaluate the model\n",
    "# (This would involve using a separate validation set or performing cross-validation)\n",
    "print(test_loss)\n",
    "\n",
    "mlflow.log_metric('Post training test loss',test_loss)\n",
    "mlflow.end_run()"
   ]
  },
  {
   "cell_type": "markdown",
   "id": "fff24efc-8629-4242-8cce-6311cb1f9192",
   "metadata": {},
   "source": [
    "# Validation"
   ]
  },
  {
   "cell_type": "code",
   "execution_count": 33,
   "id": "8631385b-7cfe-427b-b2db-427241171649",
   "metadata": {},
   "outputs": [],
   "source": [
    "#SPLit\n",
    "from sklearn.model_selection import KFold\n",
    "\n",
    "# Configuration\n",
    "num_folds = 10\n",
    "data_size = len(test_ds)  # Assuming 'dataset' is a PyTorch Dataset\n",
    "\n",
    "# Define the K-fold Cross Validator\n",
    "kfold = KFold(n_splits=num_folds, shuffle=True)"
   ]
  },
  {
   "cell_type": "code",
   "execution_count": 34,
   "id": "31c8ce29-174d-4687-9476-a996d5a9ccfc",
   "metadata": {},
   "outputs": [
    {
     "data": {
      "text/plain": [
       "0.5"
      ]
     },
     "execution_count": 34,
     "metadata": {},
     "output_type": "execute_result"
    }
   ],
   "source": [
    "# Optional: Set MLflow experiment\n",
    "mlflow.set_experiment(\"Finetuned Collaborative Filter\")\n",
    "# Log model parameters (example)\n",
    "mlflow.start_run()\n",
    "mlflow.log_param(\"epochs\", EPOCHS)\n",
    "mlflow.log_param(\"optimizer\", type(optimiser).__name__)\n",
    "mlflow.log_param(\"learning rate\", LEARNING_RATE)\n",
    "mlflow.log_param(\"batch size\", BATCH_SIZE)\n",
    "mlflow.log_param(\"L2 regularization\", L2_REGULARIZATION)\n",
    "mlflow.log_param(\"KFOLDS\", num_folds)\n",
    "mlflow.log_param(\"drop out\", 0.5)"
   ]
  },
  {
   "cell_type": "code",
   "execution_count": 35,
   "id": "b8e36fba-65b3-40c4-ad25-0e6b7b004449",
   "metadata": {},
   "outputs": [
    {
     "data": {
      "text/html": [
       "wandb version 0.16.4 is available!  To upgrade, please run:\n",
       " $ pip install wandb --upgrade"
      ],
      "text/plain": [
       "<IPython.core.display.HTML object>"
      ]
     },
     "metadata": {},
     "output_type": "display_data"
    },
    {
     "data": {
      "text/html": [
       "Tracking run with wandb version 0.16.3"
      ],
      "text/plain": [
       "<IPython.core.display.HTML object>"
      ]
     },
     "metadata": {},
     "output_type": "display_data"
    },
    {
     "data": {
      "text/html": [
       "Run data is saved locally in <code>/home/james/Desktop/torchex/movie-users/wandb/run-20240311_221428-qoalaxpy</code>"
      ],
      "text/plain": [
       "<IPython.core.display.HTML object>"
      ]
     },
     "metadata": {},
     "output_type": "display_data"
    },
    {
     "data": {
      "text/html": [
       "Syncing run <strong><a href='https://wandb.ai/jcrich/collaborative%20filter%20model/runs/qoalaxpy' target=\"_blank\">sage-waterfall-34</a></strong> to <a href='https://wandb.ai/jcrich/collaborative%20filter%20model' target=\"_blank\">Weights & Biases</a> (<a href='https://wandb.me/run' target=\"_blank\">docs</a>)<br/>"
      ],
      "text/plain": [
       "<IPython.core.display.HTML object>"
      ]
     },
     "metadata": {},
     "output_type": "display_data"
    },
    {
     "data": {
      "text/html": [
       " View project at <a href='https://wandb.ai/jcrich/collaborative%20filter%20model' target=\"_blank\">https://wandb.ai/jcrich/collaborative%20filter%20model</a>"
      ],
      "text/plain": [
       "<IPython.core.display.HTML object>"
      ]
     },
     "metadata": {},
     "output_type": "display_data"
    },
    {
     "data": {
      "text/html": [
       " View run at <a href='https://wandb.ai/jcrich/collaborative%20filter%20model/runs/qoalaxpy' target=\"_blank\">https://wandb.ai/jcrich/collaborative%20filter%20model/runs/qoalaxpy</a>"
      ],
      "text/plain": [
       "<IPython.core.display.HTML object>"
      ]
     },
     "metadata": {},
     "output_type": "display_data"
    },
    {
     "data": {
      "text/html": [
       "<button onClick=\"this.nextSibling.style.display='block';this.style.display='none';\">Display W&B run</button><iframe src='https://wandb.ai/jcrich/collaborative%20filter%20model/runs/qoalaxpy?jupyter=true' style='border:none;width:100%;height:420px;display:none;'></iframe>"
      ],
      "text/plain": [
       "<wandb.sdk.wandb_run.Run at 0x7fbf42365e70>"
      ]
     },
     "execution_count": 35,
     "metadata": {},
     "output_type": "execute_result"
    }
   ],
   "source": [
    "# start a new wandb run to track this script\n",
    "wandb.init(\n",
    "    # set the wandb project where this run will be logged\n",
    "    entity=\"jcrich\",\n",
    "    project=\"collaborative filter model\",\n",
    "    \n",
    "    # track hyperparameters and run metadata\n",
    "    config={\n",
    "    \"learning_rate\": LEARNING_RATE,\n",
    "    \"architecture\": \"collaborative filter\",\n",
    "    \"dataset\": \"letterboxd\",\n",
    "    \"epochs\": EPOCHS,\n",
    "    }\n",
    ")"
   ]
  },
  {
   "cell_type": "code",
   "execution_count": 37,
   "id": "8b0830cd-43f1-454c-8e81-72e5d73549fd",
   "metadata": {},
   "outputs": [
    {
     "name": "stdout",
     "output_type": "stream",
     "text": [
      "FOLD 0\n",
      "--------------------------------\n",
      "Validation Loss for fold 0: 0.40004058678944904\n",
      "Validation Loss for fold 0: 0.3405859172344208\n",
      "Validation Loss for fold 0: 0.2523006349802017\n",
      "Validation Loss for fold 0: 0.19710467755794525\n",
      "Validation Loss for fold 0: 0.17236324648062387\n",
      "Validation Loss for fold 0: 0.18156878650188446\n",
      "Validation Loss for fold 0: 0.1494556019703547\n",
      "Validation Loss for fold 0: 0.14232215782006583\n",
      "Validation Loss for fold 0: 0.12940147270758948\n",
      "Validation Loss for fold 0: 0.1328766867518425\n",
      "Validation Loss for fold 0: 0.11800055454174678\n",
      "Validation Loss for fold 0: 0.11020211627086003\n",
      "Validation Loss for fold 0: 0.10912800580263138\n",
      "Validation Loss for fold 0: 0.10899850477774937\n",
      "Validation Loss for fold 0: 0.1046971728404363\n",
      "Validation Loss for fold 0: 0.11421542366345723\n",
      "Validation Loss for fold 0: 0.10135728617509206\n",
      "Validation Loss for fold 0: 0.09762210647265117\n",
      "Validation Loss for fold 0: 0.10419445981582005\n",
      "Validation Loss for fold 0: 0.1007133200764656\n",
      "Validation Loss for fold 0: 0.08899580190579097\n",
      "Validation Loss for fold 0: 0.10338961829741795\n",
      "Validation Loss for fold 0: 0.09615454574426015\n",
      "Validation Loss for fold 0: 0.09956108282009761\n",
      "Validation Loss for fold 0: 0.09147925923268001\n",
      "Validation Loss for fold 0: 0.09406893452008565\n",
      "Validation Loss for fold 0: 0.0951269119977951\n",
      "Validation Loss for fold 0: 0.09909753253062566\n",
      "Validation Loss for fold 0: 0.0867918332417806\n",
      "Validation Loss for fold 0: 0.09063327312469482\n",
      "Validation Loss for fold 0: 0.08596678823232651\n",
      "Validation Loss for fold 0: 0.08006745080153148\n",
      "Validation Loss for fold 0: 0.08382769177357356\n",
      "Validation Loss for fold 0: 0.09040863811969757\n",
      "Validation Loss for fold 0: 0.0831243246793747\n",
      "Validation Loss for fold 0: 0.08006356656551361\n",
      "Validation Loss for fold 0: 0.07841306552290916\n",
      "Validation Loss for fold 0: 0.08383367210626602\n",
      "Validation Loss for fold 0: 0.08961676061153412\n",
      "Validation Loss for fold 0: 0.08151192218065262\n",
      "Validation Loss for fold 0: 0.08321217944224675\n",
      "Validation Loss for fold 0: 0.0802933896581332\n",
      "Validation Loss for fold 0: 0.08187379936377208\n",
      "Validation Loss for fold 0: 0.07891201724608739\n",
      "Validation Loss for fold 0: 0.07870906094710033\n",
      "Validation Loss for fold 0: 0.07384126509229343\n",
      "Validation Loss for fold 0: 0.08660399417082469\n",
      "Validation Loss for fold 0: 0.08777070045471191\n",
      "Validation Loss for fold 0: 0.07109983637928963\n",
      "Validation Loss for fold 0: 0.082614965736866\n",
      "Validation Loss for fold 0: 0.08199499795834224\n",
      "Validation Loss for fold 0: 0.07593721896409988\n",
      "Validation Loss for fold 0: 0.07569479445616405\n",
      "Validation Loss for fold 0: 0.0804206704099973\n",
      "Validation Loss for fold 0: 0.07588233053684235\n",
      "Validation Loss for fold 0: 0.07882135609785716\n",
      "Validation Loss for fold 0: 0.07563282549381256\n",
      "Validation Loss for fold 0: 0.0664745420217514\n",
      "Validation Loss for fold 0: 0.0703739399711291\n",
      "Validation Loss for fold 0: 0.07261369129021962\n",
      "Validation Loss for fold 0: 0.07516742994387944\n",
      "Validation Loss for fold 0: 0.06901479636629422\n",
      "Validation Loss for fold 0: 0.07059687872727712\n",
      "Validation Loss for fold 0: 0.0733090192079544\n",
      "Validation Loss for fold 0: 0.07170218725999196\n",
      "Validation Loss for fold 0: 0.07674896096189816\n",
      "Validation Loss for fold 0: 0.06769139443834622\n",
      "Validation Loss for fold 0: 0.070797232290109\n",
      "Validation Loss for fold 0: 0.06980129579703014\n",
      "Validation Loss for fold 0: 0.06573322042822838\n",
      "Validation Loss for fold 0: 0.06680475920438766\n",
      "Validation Loss for fold 0: 0.07004865383108456\n",
      "Validation Loss for fold 0: 0.06677345186471939\n",
      "Validation Loss for fold 0: 0.06902672350406647\n",
      "Validation Loss for fold 0: 0.07091784725586574\n",
      "Validation Loss for fold 0: 0.069070170323054\n",
      "Validation Loss for fold 0: 0.06149250393112501\n",
      "Validation Loss for fold 0: 0.05828159675002098\n",
      "Validation Loss for fold 0: 0.06515669698516528\n",
      "Validation Loss for fold 0: 0.0709163174033165\n",
      "Validation Loss for fold 0: 0.06353060528635979\n",
      "Validation Loss for fold 0: 0.06689856946468353\n",
      "Validation Loss for fold 0: 0.06486580272515614\n",
      "Validation Loss for fold 0: 0.06374543905258179\n",
      "Validation Loss for fold 0: 0.06499384840329488\n",
      "Validation Loss for fold 0: 0.06658828631043434\n",
      "Validation Loss for fold 0: 0.05818859115242958\n",
      "Validation Loss for fold 0: 0.06583161900440852\n",
      "Validation Loss for fold 0: 0.07152313987414043\n",
      "Validation Loss for fold 0: 0.0644659089545409\n",
      "Validation Loss for fold 0: 0.060108013451099396\n",
      "Validation Loss for fold 0: 0.05678878600398699\n",
      "Validation Loss for fold 0: 0.06220446899533272\n",
      "Validation Loss for fold 0: 0.06230149045586586\n",
      "Validation Loss for fold 0: 0.06612609202663104\n",
      "Validation Loss for fold 0: 0.06523856148123741\n",
      "Validation Loss for fold 0: 0.06355303277571996\n",
      "Validation Loss for fold 0: 0.07061976566910744\n",
      "Validation Loss for fold 0: 0.054758613308270775\n",
      "Validation Loss for fold 0: 0.06616035476326942\n",
      "--------------------------------\n",
      "FOLD 1\n",
      "--------------------------------\n",
      "Validation Loss for fold 1: 0.44452271858851117\n",
      "Validation Loss for fold 1: 0.4096940755844116\n",
      "Validation Loss for fold 1: 0.38448312878608704\n",
      "Validation Loss for fold 1: 0.301165630420049\n",
      "Validation Loss for fold 1: 0.2823963661988576\n",
      "Validation Loss for fold 1: 0.2655285447835922\n",
      "Validation Loss for fold 1: 0.23780547082424164\n",
      "Validation Loss for fold 1: 0.23141702016194662\n",
      "Validation Loss for fold 1: 0.2153445283571879\n",
      "Validation Loss for fold 1: 0.2013364632924398\n",
      "Validation Loss for fold 1: 0.18469765782356262\n",
      "Validation Loss for fold 1: 0.18474740286668143\n",
      "Validation Loss for fold 1: 0.17807199557622275\n",
      "Validation Loss for fold 1: 0.161181112130483\n",
      "Validation Loss for fold 1: 0.16933163503805795\n",
      "Validation Loss for fold 1: 0.1831007202466329\n",
      "Validation Loss for fold 1: 0.16581999758879343\n",
      "Validation Loss for fold 1: 0.15410979092121124\n",
      "Validation Loss for fold 1: 0.1480882614850998\n",
      "Validation Loss for fold 1: 0.14202553033828735\n",
      "Validation Loss for fold 1: 0.1433348978559176\n",
      "Validation Loss for fold 1: 0.12029457588990529\n",
      "Validation Loss for fold 1: 0.12405741959810257\n",
      "Validation Loss for fold 1: 0.13317442685365677\n",
      "Validation Loss for fold 1: 0.12550687293211618\n",
      "Validation Loss for fold 1: 0.1208804299434026\n",
      "Validation Loss for fold 1: 0.11619913081328075\n",
      "Validation Loss for fold 1: 0.12623310337464014\n",
      "Validation Loss for fold 1: 0.11741331964731216\n",
      "Validation Loss for fold 1: 0.11509684721628825\n",
      "Validation Loss for fold 1: 0.10768392930428188\n",
      "Validation Loss for fold 1: 0.10701412210861842\n",
      "Validation Loss for fold 1: 0.11258043597141902\n",
      "Validation Loss for fold 1: 0.09626744811733563\n",
      "Validation Loss for fold 1: 0.10513107726971309\n",
      "Validation Loss for fold 1: 0.10816954572995503\n",
      "Validation Loss for fold 1: 0.10869894921779633\n",
      "Validation Loss for fold 1: 0.10295184701681137\n",
      "Validation Loss for fold 1: 0.10148939738670985\n",
      "Validation Loss for fold 1: 0.09310683111349742\n",
      "Validation Loss for fold 1: 0.09385750939448674\n",
      "Validation Loss for fold 1: 0.09897624204556148\n",
      "Validation Loss for fold 1: 0.09540151556332906\n",
      "Validation Loss for fold 1: 0.0907902717590332\n",
      "Validation Loss for fold 1: 0.08432638024290402\n",
      "Validation Loss for fold 1: 0.09246848026911418\n",
      "Validation Loss for fold 1: 0.09164645771185558\n",
      "Validation Loss for fold 1: 0.08873194456100464\n",
      "Validation Loss for fold 1: 0.08555023123820622\n",
      "Validation Loss for fold 1: 0.08779859046141307\n",
      "Validation Loss for fold 1: 0.08137140050530434\n",
      "Validation Loss for fold 1: 0.07916780437032382\n",
      "Validation Loss for fold 1: 0.08361699680487315\n",
      "Validation Loss for fold 1: 0.09300542871157329\n",
      "Validation Loss for fold 1: 0.08520887543757756\n",
      "Validation Loss for fold 1: 0.07840243726968765\n",
      "Validation Loss for fold 1: 0.08456550041834514\n",
      "Validation Loss for fold 1: 0.08031893024841945\n",
      "Validation Loss for fold 1: 0.08627938727537791\n",
      "Validation Loss for fold 1: 0.07756278042991956\n",
      "Validation Loss for fold 1: 0.08104993899663289\n",
      "Validation Loss for fold 1: 0.0904655506213506\n",
      "Validation Loss for fold 1: 0.07613804563879967\n",
      "Validation Loss for fold 1: 0.07523639748493831\n",
      "Validation Loss for fold 1: 0.0779402107000351\n",
      "Validation Loss for fold 1: 0.07771040499210358\n",
      "Validation Loss for fold 1: 0.08202241112788518\n",
      "Validation Loss for fold 1: 0.07923527310291927\n",
      "Validation Loss for fold 1: 0.07563068717718124\n",
      "Validation Loss for fold 1: 0.06871765355269115\n",
      "Validation Loss for fold 1: 0.0785686622063319\n",
      "Validation Loss for fold 1: 0.07168782378236453\n",
      "Validation Loss for fold 1: 0.08217155188322067\n",
      "Validation Loss for fold 1: 0.075304480890433\n",
      "Validation Loss for fold 1: 0.07649533823132515\n",
      "Validation Loss for fold 1: 0.07660459727048874\n",
      "Validation Loss for fold 1: 0.07291436195373535\n",
      "Validation Loss for fold 1: 0.07079595824082692\n",
      "Validation Loss for fold 1: 0.07178587218125661\n",
      "Validation Loss for fold 1: 0.07672414183616638\n",
      "Validation Loss for fold 1: 0.07573158293962479\n",
      "Validation Loss for fold 1: 0.07492047796646754\n",
      "Validation Loss for fold 1: 0.06958010296026866\n",
      "Validation Loss for fold 1: 0.07624814162651698\n",
      "Validation Loss for fold 1: 0.06766688947876294\n",
      "Validation Loss for fold 1: 0.07086131721735\n",
      "Validation Loss for fold 1: 0.07219489912192027\n",
      "Validation Loss for fold 1: 0.0698552926381429\n",
      "Validation Loss for fold 1: 0.06461711103717487\n",
      "Validation Loss for fold 1: 0.0737968347966671\n",
      "Validation Loss for fold 1: 0.06977924704551697\n",
      "Validation Loss for fold 1: 0.06124073142806689\n",
      "Validation Loss for fold 1: 0.06734047457575798\n",
      "Validation Loss for fold 1: 0.06749686102072398\n",
      "Validation Loss for fold 1: 0.07960302506883939\n",
      "Validation Loss for fold 1: 0.06385562444726627\n",
      "Validation Loss for fold 1: 0.06880827620625496\n",
      "Validation Loss for fold 1: 0.06632442027330399\n",
      "Validation Loss for fold 1: 0.06698019181688626\n",
      "Validation Loss for fold 1: 0.06771531576911609\n",
      "--------------------------------\n",
      "FOLD 2\n",
      "--------------------------------\n",
      "Validation Loss for fold 2: 0.5372051497300466\n",
      "Validation Loss for fold 2: 0.39200631777445477\n",
      "Validation Loss for fold 2: 0.2838432937860489\n",
      "Validation Loss for fold 2: 0.24631219108899435\n",
      "Validation Loss for fold 2: 0.21207253138224283\n",
      "Validation Loss for fold 2: 0.1862680564324061\n",
      "Validation Loss for fold 2: 0.17930781344572702\n",
      "Validation Loss for fold 2: 0.1628252093990644\n",
      "Validation Loss for fold 2: 0.14186276495456696\n",
      "Validation Loss for fold 2: 0.15046370526154837\n",
      "Validation Loss for fold 2: 0.1469054619471232\n",
      "Validation Loss for fold 2: 0.14551895608504614\n",
      "Validation Loss for fold 2: 0.12960636615753174\n",
      "Validation Loss for fold 2: 0.12048973888158798\n",
      "Validation Loss for fold 2: 0.12609416246414185\n",
      "Validation Loss for fold 2: 0.12800617267688116\n",
      "Validation Loss for fold 2: 0.1342299977938334\n",
      "Validation Loss for fold 2: 0.13122650980949402\n",
      "Validation Loss for fold 2: 0.12236213187376659\n",
      "Validation Loss for fold 2: 0.12755909065405527\n",
      "Validation Loss for fold 2: 0.13127715388933817\n",
      "Validation Loss for fold 2: 0.12288111696640651\n",
      "Validation Loss for fold 2: 0.1314347138007482\n",
      "Validation Loss for fold 2: 0.1144244372844696\n",
      "Validation Loss for fold 2: 0.12331688900788625\n",
      "Validation Loss for fold 2: 0.1286205599705378\n",
      "Validation Loss for fold 2: 0.10645135243733723\n",
      "Validation Loss for fold 2: 0.11340394119421641\n",
      "Validation Loss for fold 2: 0.11130802830060323\n",
      "Validation Loss for fold 2: 0.11521378656228383\n",
      "Validation Loss for fold 2: 0.1161256010333697\n",
      "Validation Loss for fold 2: 0.10627915461858113\n",
      "Validation Loss for fold 2: 0.1041449432571729\n",
      "Validation Loss for fold 2: 0.11544647067785263\n",
      "Validation Loss for fold 2: 0.11110991487900417\n",
      "Validation Loss for fold 2: 0.11036502321561177\n",
      "Validation Loss for fold 2: 0.12469537556171417\n",
      "Validation Loss for fold 2: 0.1068071077267329\n",
      "Validation Loss for fold 2: 0.1059640496969223\n",
      "Validation Loss for fold 2: 0.11290769279003143\n",
      "Validation Loss for fold 2: 0.10644898563623428\n",
      "Validation Loss for fold 2: 0.0985330839951833\n",
      "Validation Loss for fold 2: 0.11041756470998128\n",
      "Validation Loss for fold 2: 0.09551676859458287\n",
      "Validation Loss for fold 2: 0.09710093090931575\n",
      "Validation Loss for fold 2: 0.11035110056400299\n",
      "Validation Loss for fold 2: 0.10963208725055058\n",
      "Validation Loss for fold 2: 0.10574241975943248\n",
      "Validation Loss for fold 2: 0.09699490418036778\n",
      "Validation Loss for fold 2: 0.10164167732000351\n",
      "Validation Loss for fold 2: 0.10961844275395076\n",
      "Validation Loss for fold 2: 0.10575473308563232\n",
      "Validation Loss for fold 2: 0.09963578234116237\n",
      "Validation Loss for fold 2: 0.10270149757464726\n",
      "Validation Loss for fold 2: 0.09178810318311055\n",
      "Validation Loss for fold 2: 0.09913509339094162\n",
      "Validation Loss for fold 2: 0.09629920870065689\n",
      "Validation Loss for fold 2: 0.09410758068164189\n",
      "Validation Loss for fold 2: 0.10776946693658829\n",
      "Validation Loss for fold 2: 0.0981927290558815\n",
      "Validation Loss for fold 2: 0.09812931219736735\n",
      "Validation Loss for fold 2: 0.09732569257418315\n",
      "Validation Loss for fold 2: 0.09572599083185196\n",
      "Validation Loss for fold 2: 0.09251345445712407\n",
      "Validation Loss for fold 2: 0.09514168401559193\n",
      "Validation Loss for fold 2: 0.09868161876996358\n",
      "Validation Loss for fold 2: 0.09020627041657765\n",
      "Validation Loss for fold 2: 0.08840579787890117\n",
      "Validation Loss for fold 2: 0.08682935684919357\n",
      "Validation Loss for fold 2: 0.09110374252001445\n",
      "Validation Loss for fold 2: 0.08602715531984965\n",
      "Validation Loss for fold 2: 0.09642713516950607\n",
      "Validation Loss for fold 2: 0.08909405022859573\n",
      "Validation Loss for fold 2: 0.08973326782385509\n",
      "Validation Loss for fold 2: 0.08944397419691086\n",
      "Validation Loss for fold 2: 0.08386057863632838\n",
      "Validation Loss for fold 2: 0.08933278918266296\n",
      "Validation Loss for fold 2: 0.08505549778540929\n",
      "Validation Loss for fold 2: 0.0910780131816864\n",
      "Validation Loss for fold 2: 0.09107526143391927\n",
      "Validation Loss for fold 2: 0.08804026991128922\n",
      "Validation Loss for fold 2: 0.0847651834289233\n",
      "Validation Loss for fold 2: 0.08719607690970103\n",
      "Validation Loss for fold 2: 0.08475847542285919\n",
      "Validation Loss for fold 2: 0.09274858236312866\n",
      "Validation Loss for fold 2: 0.08730013916889827\n",
      "Validation Loss for fold 2: 0.08540250609318416\n",
      "Validation Loss for fold 2: 0.085378497838974\n",
      "Validation Loss for fold 2: 0.087473563849926\n",
      "Validation Loss for fold 2: 0.08169521888097127\n",
      "Validation Loss for fold 2: 0.08879451205333073\n",
      "Validation Loss for fold 2: 0.08352644741535187\n",
      "Validation Loss for fold 2: 0.08440390229225159\n",
      "Validation Loss for fold 2: 0.08650567879279454\n",
      "Validation Loss for fold 2: 0.07959456990162532\n",
      "Validation Loss for fold 2: 0.07956935216983159\n",
      "Validation Loss for fold 2: 0.08557830502589543\n",
      "Validation Loss for fold 2: 0.07962997009356816\n",
      "Validation Loss for fold 2: 0.08293161292870839\n",
      "Validation Loss for fold 2: 0.07453505198160808\n",
      "--------------------------------\n",
      "FOLD 3\n",
      "--------------------------------\n",
      "Validation Loss for fold 3: 0.3264773488044739\n",
      "Validation Loss for fold 3: 0.31192896763483685\n",
      "Validation Loss for fold 3: 0.2298002988100052\n",
      "Validation Loss for fold 3: 0.2236704578002294\n",
      "Validation Loss for fold 3: 0.1905445009469986\n",
      "Validation Loss for fold 3: 0.18540443976720175\n",
      "Validation Loss for fold 3: 0.16110273202260336\n",
      "Validation Loss for fold 3: 0.15450112024943033\n",
      "Validation Loss for fold 3: 0.1455028752485911\n",
      "Validation Loss for fold 3: 0.13661078612009683\n",
      "Validation Loss for fold 3: 0.14494375387827554\n",
      "Validation Loss for fold 3: 0.1346416026353836\n",
      "Validation Loss for fold 3: 0.1235427384575208\n",
      "Validation Loss for fold 3: 0.12394347290198009\n",
      "Validation Loss for fold 3: 0.11499051501353581\n",
      "Validation Loss for fold 3: 0.12268369893232982\n",
      "Validation Loss for fold 3: 0.11209672192732494\n",
      "Validation Loss for fold 3: 0.10713520894447963\n",
      "Validation Loss for fold 3: 0.11699160933494568\n",
      "Validation Loss for fold 3: 0.10307196031014125\n",
      "Validation Loss for fold 3: 0.10464881360530853\n",
      "Validation Loss for fold 3: 0.1082408328851064\n",
      "Validation Loss for fold 3: 0.10447198897600174\n",
      "Validation Loss for fold 3: 0.10495637605587642\n",
      "Validation Loss for fold 3: 0.09722138941287994\n",
      "Validation Loss for fold 3: 0.10109105954567592\n",
      "Validation Loss for fold 3: 0.08294324949383736\n",
      "Validation Loss for fold 3: 0.09417317310969035\n",
      "Validation Loss for fold 3: 0.10589835792779922\n",
      "Validation Loss for fold 3: 0.10020012905200322\n",
      "Validation Loss for fold 3: 0.0942038968205452\n",
      "Validation Loss for fold 3: 0.09500497579574585\n",
      "Validation Loss for fold 3: 0.09607807795206706\n",
      "Validation Loss for fold 3: 0.09538701921701431\n",
      "Validation Loss for fold 3: 0.08602090924978256\n",
      "Validation Loss for fold 3: 0.08851839850346248\n",
      "Validation Loss for fold 3: 0.0840286985039711\n",
      "Validation Loss for fold 3: 0.08943931013345718\n",
      "Validation Loss for fold 3: 0.08708599706490834\n",
      "Validation Loss for fold 3: 0.07921379432082176\n",
      "Validation Loss for fold 3: 0.0819530760248502\n",
      "Validation Loss for fold 3: 0.08964849015076955\n",
      "Validation Loss for fold 3: 0.08809217313925426\n",
      "Validation Loss for fold 3: 0.09553350880742073\n",
      "Validation Loss for fold 3: 0.092611163854599\n",
      "Validation Loss for fold 3: 0.07657291988531749\n",
      "Validation Loss for fold 3: 0.08118822673956554\n",
      "Validation Loss for fold 3: 0.07962437967459361\n",
      "Validation Loss for fold 3: 0.07321795572837193\n",
      "Validation Loss for fold 3: 0.0866862138112386\n",
      "Validation Loss for fold 3: 0.08308204760154088\n",
      "Validation Loss for fold 3: 0.08749208350976308\n",
      "Validation Loss for fold 3: 0.08128738651673\n",
      "Validation Loss for fold 3: 0.07869474217295647\n",
      "Validation Loss for fold 3: 0.0751393511891365\n",
      "Validation Loss for fold 3: 0.07607578486204147\n",
      "Validation Loss for fold 3: 0.08076213300228119\n",
      "Validation Loss for fold 3: 0.07211400071779887\n",
      "Validation Loss for fold 3: 0.08002043763796489\n",
      "Validation Loss for fold 3: 0.0742466722925504\n",
      "Validation Loss for fold 3: 0.07709229985872905\n",
      "Validation Loss for fold 3: 0.07194379220406215\n",
      "Validation Loss for fold 3: 0.07360421617825826\n",
      "Validation Loss for fold 3: 0.07444798201322556\n",
      "Validation Loss for fold 3: 0.07705885171890259\n",
      "Validation Loss for fold 3: 0.06849972034494083\n",
      "Validation Loss for fold 3: 0.06939681619405746\n",
      "Validation Loss for fold 3: 0.06371695920825005\n",
      "Validation Loss for fold 3: 0.07047507415215175\n",
      "Validation Loss for fold 3: 0.07593223700920741\n",
      "Validation Loss for fold 3: 0.07448155681292216\n",
      "Validation Loss for fold 3: 0.06903641546765964\n",
      "Validation Loss for fold 3: 0.07229126244783401\n",
      "Validation Loss for fold 3: 0.07290296256542206\n",
      "Validation Loss for fold 3: 0.07410865773757298\n",
      "Validation Loss for fold 3: 0.06574934472640355\n",
      "Validation Loss for fold 3: 0.07215471814076106\n",
      "Validation Loss for fold 3: 0.0781203384200732\n",
      "Validation Loss for fold 3: 0.07453662157058716\n",
      "Validation Loss for fold 3: 0.06638432790835698\n",
      "Validation Loss for fold 3: 0.06924434006214142\n",
      "Validation Loss for fold 3: 0.07136476039886475\n",
      "Validation Loss for fold 3: 0.07040914396444957\n",
      "Validation Loss for fold 3: 0.07709649701913197\n",
      "Validation Loss for fold 3: 0.07237051799893379\n",
      "Validation Loss for fold 3: 0.0624185415605704\n",
      "Validation Loss for fold 3: 0.07357580835620563\n",
      "Validation Loss for fold 3: 0.06239874909321467\n",
      "Validation Loss for fold 3: 0.06731171160936356\n",
      "Validation Loss for fold 3: 0.07123107214768727\n",
      "Validation Loss for fold 3: 0.05965572347243627\n",
      "Validation Loss for fold 3: 0.06433884302775066\n",
      "Validation Loss for fold 3: 0.06291487316290538\n",
      "Validation Loss for fold 3: 0.06622613469759624\n",
      "Validation Loss for fold 3: 0.06481010342637698\n",
      "Validation Loss for fold 3: 0.07144066070516904\n",
      "Validation Loss for fold 3: 0.06018774211406708\n",
      "Validation Loss for fold 3: 0.056463683024048805\n",
      "Validation Loss for fold 3: 0.06345908592144649\n",
      "Validation Loss for fold 3: 0.0665894386669\n",
      "--------------------------------\n",
      "FOLD 4\n",
      "--------------------------------\n",
      "Validation Loss for fold 4: 0.7962493300437927\n",
      "Validation Loss for fold 4: 0.697428305943807\n",
      "Validation Loss for fold 4: 0.5398273766040802\n",
      "Validation Loss for fold 4: 0.44280679027239483\n",
      "Validation Loss for fold 4: 0.43430442611376446\n",
      "Validation Loss for fold 4: 0.36539597312609357\n",
      "Validation Loss for fold 4: 0.3358175953229268\n",
      "Validation Loss for fold 4: 0.2997806668281555\n",
      "Validation Loss for fold 4: 0.2963620622952779\n",
      "Validation Loss for fold 4: 0.2893210252126058\n",
      "Validation Loss for fold 4: 0.26462844510873157\n",
      "Validation Loss for fold 4: 0.25137090186278027\n",
      "Validation Loss for fold 4: 0.2536298930644989\n",
      "Validation Loss for fold 4: 0.25633951524893445\n",
      "Validation Loss for fold 4: 0.2546137521664302\n",
      "Validation Loss for fold 4: 0.22583822906017303\n",
      "Validation Loss for fold 4: 0.22581886251767477\n",
      "Validation Loss for fold 4: 0.22099535167217255\n",
      "Validation Loss for fold 4: 0.2285758157571157\n",
      "Validation Loss for fold 4: 0.21319941679636636\n",
      "Validation Loss for fold 4: 0.21361993749936423\n",
      "Validation Loss for fold 4: 0.1848052740097046\n",
      "Validation Loss for fold 4: 0.19311330715815225\n",
      "Validation Loss for fold 4: 0.18872908254464468\n",
      "Validation Loss for fold 4: 0.19706248243649802\n",
      "Validation Loss for fold 4: 0.17857280870278677\n",
      "Validation Loss for fold 4: 0.18213004370530447\n",
      "Validation Loss for fold 4: 0.17809502283732095\n",
      "Validation Loss for fold 4: 0.17829737067222595\n",
      "Validation Loss for fold 4: 0.19560501476128897\n",
      "Validation Loss for fold 4: 0.18400301039218903\n",
      "Validation Loss for fold 4: 0.17069779833157858\n",
      "Validation Loss for fold 4: 0.177351380387942\n",
      "Validation Loss for fold 4: 0.1729309062163035\n",
      "Validation Loss for fold 4: 0.16369856894016266\n",
      "Validation Loss for fold 4: 0.1681972543398539\n",
      "Validation Loss for fold 4: 0.1475997418165207\n",
      "Validation Loss for fold 4: 0.1580235262711843\n",
      "Validation Loss for fold 4: 0.1421719491481781\n",
      "Validation Loss for fold 4: 0.1473858878016472\n",
      "Validation Loss for fold 4: 0.15017116566499075\n",
      "Validation Loss for fold 4: 0.15180551509062448\n",
      "Validation Loss for fold 4: 0.15323888262112936\n",
      "Validation Loss for fold 4: 0.14285283784071603\n",
      "Validation Loss for fold 4: 0.14922201136747995\n",
      "Validation Loss for fold 4: 0.15002857148647308\n",
      "Validation Loss for fold 4: 0.15490551789601645\n",
      "Validation Loss for fold 4: 0.14129255712032318\n",
      "Validation Loss for fold 4: 0.13135193288326263\n",
      "Validation Loss for fold 4: 0.1399930715560913\n",
      "Validation Loss for fold 4: 0.15118918816248575\n",
      "Validation Loss for fold 4: 0.12794401248296103\n",
      "Validation Loss for fold 4: 0.13229641069968542\n",
      "Validation Loss for fold 4: 0.12803535411755243\n",
      "Validation Loss for fold 4: 0.137053944170475\n",
      "Validation Loss for fold 4: 0.14186045030752817\n",
      "Validation Loss for fold 4: 0.13584206501642862\n",
      "Validation Loss for fold 4: 0.1248583843310674\n",
      "Validation Loss for fold 4: 0.12975252668062845\n",
      "Validation Loss for fold 4: 0.12196071445941925\n",
      "Validation Loss for fold 4: 0.12536512315273285\n",
      "Validation Loss for fold 4: 0.12871060520410538\n",
      "Validation Loss for fold 4: 0.12491550296545029\n",
      "Validation Loss for fold 4: 0.12903838604688644\n",
      "Validation Loss for fold 4: 0.12960345298051834\n",
      "Validation Loss for fold 4: 0.11749395728111267\n",
      "Validation Loss for fold 4: 0.12551800906658173\n",
      "Validation Loss for fold 4: 0.11735657850901286\n",
      "Validation Loss for fold 4: 0.12208789587020874\n",
      "Validation Loss for fold 4: 0.11228278279304504\n",
      "Validation Loss for fold 4: 0.1072637215256691\n",
      "Validation Loss for fold 4: 0.1241371879975001\n",
      "Validation Loss for fold 4: 0.11924385031064351\n",
      "Validation Loss for fold 4: 0.11326393485069275\n",
      "Validation Loss for fold 4: 0.1146310493350029\n",
      "Validation Loss for fold 4: 0.11433007071415584\n",
      "Validation Loss for fold 4: 0.10909648487965266\n",
      "Validation Loss for fold 4: 0.11729802191257477\n",
      "Validation Loss for fold 4: 0.117764746149381\n",
      "Validation Loss for fold 4: 0.11702179660399754\n",
      "Validation Loss for fold 4: 0.10650115460157394\n",
      "Validation Loss for fold 4: 0.10496889054775238\n",
      "Validation Loss for fold 4: 0.11355590571959813\n",
      "Validation Loss for fold 4: 0.10495838522911072\n",
      "Validation Loss for fold 4: 0.1008296509583791\n",
      "Validation Loss for fold 4: 0.1054953212539355\n",
      "Validation Loss for fold 4: 0.10690261671940486\n",
      "Validation Loss for fold 4: 0.10611581305662791\n",
      "Validation Loss for fold 4: 0.09713989744583766\n",
      "Validation Loss for fold 4: 0.10050746550162633\n",
      "Validation Loss for fold 4: 0.10346372425556183\n",
      "Validation Loss for fold 4: 0.10270684709151585\n",
      "Validation Loss for fold 4: 0.10440108676751454\n",
      "Validation Loss for fold 4: 0.09649171680212021\n",
      "Validation Loss for fold 4: 0.09668026119470596\n",
      "Validation Loss for fold 4: 0.09532532344261806\n",
      "Validation Loss for fold 4: 0.10706344991922379\n",
      "Validation Loss for fold 4: 0.10119475920995076\n",
      "Validation Loss for fold 4: 0.09499514102935791\n",
      "Validation Loss for fold 4: 0.09183313449223836\n",
      "--------------------------------\n",
      "FOLD 5\n",
      "--------------------------------\n",
      "Validation Loss for fold 5: 0.1682387093702952\n",
      "Validation Loss for fold 5: 0.16043045123418173\n",
      "Validation Loss for fold 5: 0.14383003612359366\n",
      "Validation Loss for fold 5: 0.14919538299242655\n",
      "Validation Loss for fold 5: 0.12375396738449733\n",
      "Validation Loss for fold 5: 0.11966141064961751\n",
      "Validation Loss for fold 5: 0.11883022387822469\n",
      "Validation Loss for fold 5: 0.12513716518878937\n",
      "Validation Loss for fold 5: 0.1204412505030632\n",
      "Validation Loss for fold 5: 0.09885490809877713\n",
      "Validation Loss for fold 5: 0.10627282162507375\n",
      "Validation Loss for fold 5: 0.09867240488529205\n",
      "Validation Loss for fold 5: 0.107551209628582\n",
      "Validation Loss for fold 5: 0.09592836101849873\n",
      "Validation Loss for fold 5: 0.09772762407859166\n",
      "Validation Loss for fold 5: 0.10118394841750462\n",
      "Validation Loss for fold 5: 0.09757585823535919\n",
      "Validation Loss for fold 5: 0.10279047240813573\n",
      "Validation Loss for fold 5: 0.09288238982359569\n",
      "Validation Loss for fold 5: 0.09213300049304962\n",
      "Validation Loss for fold 5: 0.09982989480098088\n",
      "Validation Loss for fold 5: 0.09820478906234105\n",
      "Validation Loss for fold 5: 0.08529604971408844\n",
      "Validation Loss for fold 5: 0.08965374777714412\n",
      "Validation Loss for fold 5: 0.09771198034286499\n",
      "Validation Loss for fold 5: 0.09764802952607472\n",
      "Validation Loss for fold 5: 0.08650114387273788\n",
      "Validation Loss for fold 5: 0.08236977209647496\n",
      "Validation Loss for fold 5: 0.09208365281422932\n",
      "Validation Loss for fold 5: 0.08278446396191914\n",
      "Validation Loss for fold 5: 0.08788013458251953\n",
      "Validation Loss for fold 5: 0.08821915090084076\n",
      "Validation Loss for fold 5: 0.07850806539257367\n",
      "Validation Loss for fold 5: 0.08156204720338185\n",
      "Validation Loss for fold 5: 0.09533824274937312\n",
      "Validation Loss for fold 5: 0.08392575879891713\n",
      "Validation Loss for fold 5: 0.08935000747442245\n",
      "Validation Loss for fold 5: 0.09207760294278462\n",
      "Validation Loss for fold 5: 0.08409071465333302\n",
      "Validation Loss for fold 5: 0.08728513618310292\n",
      "Validation Loss for fold 5: 0.09322487562894821\n",
      "Validation Loss for fold 5: 0.08482499917348225\n",
      "Validation Loss for fold 5: 0.07361942281325658\n",
      "Validation Loss for fold 5: 0.08054555952548981\n",
      "Validation Loss for fold 5: 0.08418308198451996\n",
      "Validation Loss for fold 5: 0.07667719945311546\n",
      "Validation Loss for fold 5: 0.08056110888719559\n",
      "Validation Loss for fold 5: 0.07995123912890752\n",
      "Validation Loss for fold 5: 0.08067082862059276\n",
      "Validation Loss for fold 5: 0.07870460549990337\n",
      "Validation Loss for fold 5: 0.08385971436897914\n",
      "Validation Loss for fold 5: 0.07514482984940211\n",
      "Validation Loss for fold 5: 0.0826716348528862\n",
      "Validation Loss for fold 5: 0.08209418505430222\n",
      "Validation Loss for fold 5: 0.08077709625164668\n",
      "Validation Loss for fold 5: 0.08298684904972713\n",
      "Validation Loss for fold 5: 0.07403699929515521\n",
      "Validation Loss for fold 5: 0.07864754398663838\n",
      "Validation Loss for fold 5: 0.08144632975260417\n",
      "Validation Loss for fold 5: 0.08045837779839833\n",
      "Validation Loss for fold 5: 0.07790692895650864\n",
      "Validation Loss for fold 5: 0.07609319190184276\n",
      "Validation Loss for fold 5: 0.0735165923833847\n",
      "Validation Loss for fold 5: 0.07136400789022446\n",
      "Validation Loss for fold 5: 0.07065353045860927\n",
      "Validation Loss for fold 5: 0.07170711954434712\n",
      "Validation Loss for fold 5: 0.0724666491150856\n",
      "Validation Loss for fold 5: 0.08532050748666127\n",
      "Validation Loss for fold 5: 0.0704113319516182\n",
      "Validation Loss for fold 5: 0.06980959326028824\n",
      "Validation Loss for fold 5: 0.07715933894117673\n",
      "Validation Loss for fold 5: 0.07103593771656354\n",
      "Validation Loss for fold 5: 0.06506795063614845\n",
      "Validation Loss for fold 5: 0.07750063886245091\n",
      "Validation Loss for fold 5: 0.07286570966243744\n",
      "Validation Loss for fold 5: 0.07569548115134239\n",
      "Validation Loss for fold 5: 0.06511940682927768\n",
      "Validation Loss for fold 5: 0.07479426264762878\n",
      "Validation Loss for fold 5: 0.06539431462685268\n",
      "Validation Loss for fold 5: 0.07363694037000339\n",
      "Validation Loss for fold 5: 0.07032688707113266\n",
      "Validation Loss for fold 5: 0.06851815183957417\n",
      "Validation Loss for fold 5: 0.06873949120442073\n",
      "Validation Loss for fold 5: 0.06345655148228009\n",
      "Validation Loss for fold 5: 0.06724327926834424\n",
      "Validation Loss for fold 5: 0.06666265428066254\n",
      "Validation Loss for fold 5: 0.06460347771644592\n",
      "Validation Loss for fold 5: 0.06663444638252258\n",
      "Validation Loss for fold 5: 0.06254717086752255\n",
      "Validation Loss for fold 5: 0.06585223351915677\n",
      "Validation Loss for fold 5: 0.06693548709154129\n",
      "Validation Loss for fold 5: 0.06669524560372035\n",
      "Validation Loss for fold 5: 0.06335326035817464\n",
      "Validation Loss for fold 5: 0.07046471784512202\n",
      "Validation Loss for fold 5: 0.06857092678546906\n",
      "Validation Loss for fold 5: 0.06109861905376116\n",
      "Validation Loss for fold 5: 0.0658230980237325\n",
      "Validation Loss for fold 5: 0.060477033257484436\n",
      "Validation Loss for fold 5: 0.05947397028406461\n",
      "Validation Loss for fold 5: 0.0650607521335284\n",
      "--------------------------------\n",
      "FOLD 6\n",
      "--------------------------------\n",
      "Validation Loss for fold 6: 0.529888391494751\n",
      "Validation Loss for fold 6: 0.40373878677686054\n",
      "Validation Loss for fold 6: 0.32116414109865826\n",
      "Validation Loss for fold 6: 0.23911980291207632\n",
      "Validation Loss for fold 6: 0.20589027802149454\n",
      "Validation Loss for fold 6: 0.18061946829160055\n",
      "Validation Loss for fold 6: 0.1623800347248713\n",
      "Validation Loss for fold 6: 0.14545336365699768\n",
      "Validation Loss for fold 6: 0.13427474598089853\n",
      "Validation Loss for fold 6: 0.12949189792076746\n",
      "Validation Loss for fold 6: 0.12347294886906941\n",
      "Validation Loss for fold 6: 0.1368702749411265\n",
      "Validation Loss for fold 6: 0.12098516275485356\n",
      "Validation Loss for fold 6: 0.10929152369499207\n",
      "Validation Loss for fold 6: 0.10922946780920029\n",
      "Validation Loss for fold 6: 0.10110120475292206\n",
      "Validation Loss for fold 6: 0.10488291084766388\n",
      "Validation Loss for fold 6: 0.10470672448476155\n",
      "Validation Loss for fold 6: 0.09744558731714885\n",
      "Validation Loss for fold 6: 0.09643909831841786\n",
      "Validation Loss for fold 6: 0.10452307264010112\n",
      "Validation Loss for fold 6: 0.09982579449812572\n",
      "Validation Loss for fold 6: 0.0939769372344017\n",
      "Validation Loss for fold 6: 0.09280472248792648\n",
      "Validation Loss for fold 6: 0.08887147903442383\n",
      "Validation Loss for fold 6: 0.09584680447975795\n",
      "Validation Loss for fold 6: 0.09145711610714595\n",
      "Validation Loss for fold 6: 0.09224765251080196\n",
      "Validation Loss for fold 6: 0.08768072972695033\n",
      "Validation Loss for fold 6: 0.0942516749103864\n",
      "Validation Loss for fold 6: 0.092050405840079\n",
      "Validation Loss for fold 6: 0.08752838025490443\n",
      "Validation Loss for fold 6: 0.08047239606579144\n",
      "Validation Loss for fold 6: 0.09458146244287491\n",
      "Validation Loss for fold 6: 0.08143347750107448\n",
      "Validation Loss for fold 6: 0.0844147155682246\n",
      "Validation Loss for fold 6: 0.0805891032020251\n",
      "Validation Loss for fold 6: 0.08416229486465454\n",
      "Validation Loss for fold 6: 0.0830472062031428\n",
      "Validation Loss for fold 6: 0.08490894238154094\n",
      "Validation Loss for fold 6: 0.07832229634126027\n",
      "Validation Loss for fold 6: 0.07570574184258778\n",
      "Validation Loss for fold 6: 0.07730866223573685\n",
      "Validation Loss for fold 6: 0.07507617274920146\n",
      "Validation Loss for fold 6: 0.07691334436337154\n",
      "Validation Loss for fold 6: 0.0840321679910024\n",
      "Validation Loss for fold 6: 0.07860405246416728\n",
      "Validation Loss for fold 6: 0.07575352986653645\n",
      "Validation Loss for fold 6: 0.07983465492725372\n",
      "Validation Loss for fold 6: 0.07513654480377834\n",
      "Validation Loss for fold 6: 0.07060313721497853\n",
      "Validation Loss for fold 6: 0.07891685763994853\n",
      "Validation Loss for fold 6: 0.07108587274948756\n",
      "Validation Loss for fold 6: 0.07583107054233551\n",
      "Validation Loss for fold 6: 0.07363448043664296\n",
      "Validation Loss for fold 6: 0.07168359806140263\n",
      "Validation Loss for fold 6: 0.07878897339105606\n",
      "Validation Loss for fold 6: 0.07167957971493404\n",
      "Validation Loss for fold 6: 0.07000746577978134\n",
      "Validation Loss for fold 6: 0.06655944262941678\n",
      "Validation Loss for fold 6: 0.07164455701907475\n",
      "Validation Loss for fold 6: 0.06544915338357289\n",
      "Validation Loss for fold 6: 0.06479538107911746\n",
      "Validation Loss for fold 6: 0.0756445899605751\n",
      "Validation Loss for fold 6: 0.06658363342285156\n",
      "Validation Loss for fold 6: 0.07292724152406056\n",
      "Validation Loss for fold 6: 0.060543028016885124\n",
      "Validation Loss for fold 6: 0.06236595908800761\n",
      "Validation Loss for fold 6: 0.06565608580907185\n",
      "Validation Loss for fold 6: 0.07003507514794667\n",
      "Validation Loss for fold 6: 0.06425584355990092\n",
      "Validation Loss for fold 6: 0.06503906846046448\n",
      "Validation Loss for fold 6: 0.06587592512369156\n",
      "Validation Loss for fold 6: 0.06332585960626602\n",
      "Validation Loss for fold 6: 0.05995282903313637\n",
      "Validation Loss for fold 6: 0.06351107855637868\n",
      "Validation Loss for fold 6: 0.0670912005007267\n",
      "Validation Loss for fold 6: 0.06542124971747398\n",
      "Validation Loss for fold 6: 0.0546588363746802\n",
      "Validation Loss for fold 6: 0.06081890190641085\n",
      "Validation Loss for fold 6: 0.06173399090766907\n",
      "Validation Loss for fold 6: 0.059478415797154106\n",
      "Validation Loss for fold 6: 0.05952209606766701\n",
      "Validation Loss for fold 6: 0.05946619311968485\n",
      "Validation Loss for fold 6: 0.06363118439912796\n",
      "Validation Loss for fold 6: 0.06073256333669027\n",
      "Validation Loss for fold 6: 0.05989420786499977\n",
      "Validation Loss for fold 6: 0.0684540867805481\n",
      "Validation Loss for fold 6: 0.06335810820261638\n",
      "Validation Loss for fold 6: 0.05499256650606791\n",
      "Validation Loss for fold 6: 0.06292776887615521\n",
      "Validation Loss for fold 6: 0.06314057608445485\n",
      "Validation Loss for fold 6: 0.05583457027872404\n",
      "Validation Loss for fold 6: 0.05787619079152743\n",
      "Validation Loss for fold 6: 0.05833416680494944\n",
      "Validation Loss for fold 6: 0.06172459696729978\n",
      "Validation Loss for fold 6: 0.059397282699743904\n",
      "Validation Loss for fold 6: 0.058398857712745667\n",
      "Validation Loss for fold 6: 0.05487025032440821\n",
      "Validation Loss for fold 6: 0.04931126100321611\n",
      "--------------------------------\n",
      "FOLD 7\n",
      "--------------------------------\n",
      "Validation Loss for fold 7: 0.5659770369529724\n",
      "Validation Loss for fold 7: 0.3916485905647278\n",
      "Validation Loss for fold 7: 0.29348517457644147\n",
      "Validation Loss for fold 7: 0.23017974694569907\n",
      "Validation Loss for fold 7: 0.18591944873332977\n",
      "Validation Loss for fold 7: 0.16646470626195273\n",
      "Validation Loss for fold 7: 0.1388069142897924\n",
      "Validation Loss for fold 7: 0.14237338801225027\n",
      "Validation Loss for fold 7: 0.1166743462284406\n",
      "Validation Loss for fold 7: 0.11336268732945125\n",
      "Validation Loss for fold 7: 0.11239916582902272\n",
      "Validation Loss for fold 7: 0.10309960941473643\n",
      "Validation Loss for fold 7: 0.10040856649478276\n",
      "Validation Loss for fold 7: 0.11148546387751897\n",
      "Validation Loss for fold 7: 0.09233942379554112\n",
      "Validation Loss for fold 7: 0.1013430804014206\n",
      "Validation Loss for fold 7: 0.08726302658518155\n",
      "Validation Loss for fold 7: 0.09845002740621567\n",
      "Validation Loss for fold 7: 0.08935015151898067\n",
      "Validation Loss for fold 7: 0.09403215845425923\n",
      "Validation Loss for fold 7: 0.09490889062484105\n",
      "Validation Loss for fold 7: 0.07925098141034444\n",
      "Validation Loss for fold 7: 0.0845915178457896\n",
      "Validation Loss for fold 7: 0.08349833140770595\n",
      "Validation Loss for fold 7: 0.09015727291504542\n",
      "Validation Loss for fold 7: 0.07999280591805775\n",
      "Validation Loss for fold 7: 0.07892741511265437\n",
      "Validation Loss for fold 7: 0.07464215283592542\n",
      "Validation Loss for fold 7: 0.07599355280399323\n",
      "Validation Loss for fold 7: 0.08044215043385823\n",
      "Validation Loss for fold 7: 0.0803733691573143\n",
      "Validation Loss for fold 7: 0.07505406190951665\n",
      "Validation Loss for fold 7: 0.08192420999209087\n",
      "Validation Loss for fold 7: 0.07986301183700562\n",
      "Validation Loss for fold 7: 0.07507761071125667\n",
      "Validation Loss for fold 7: 0.07748496284087499\n",
      "Validation Loss for fold 7: 0.08071741461753845\n",
      "Validation Loss for fold 7: 0.07537538061539333\n",
      "Validation Loss for fold 7: 0.07410808404286702\n",
      "Validation Loss for fold 7: 0.07671797772248586\n",
      "Validation Loss for fold 7: 0.07462241500616074\n",
      "Validation Loss for fold 7: 0.07331282148758571\n",
      "Validation Loss for fold 7: 0.07947033147017162\n",
      "Validation Loss for fold 7: 0.07089199374119441\n",
      "Validation Loss for fold 7: 0.07249582310517629\n",
      "Validation Loss for fold 7: 0.06686125695705414\n",
      "Validation Loss for fold 7: 0.07063667600353558\n",
      "Validation Loss for fold 7: 0.07561761140823364\n",
      "Validation Loss for fold 7: 0.06851700196663539\n",
      "Validation Loss for fold 7: 0.07018827895323436\n",
      "Validation Loss for fold 7: 0.07251135508219402\n",
      "Validation Loss for fold 7: 0.07486136506001155\n",
      "Validation Loss for fold 7: 0.0660048412779967\n",
      "Validation Loss for fold 7: 0.07664483785629272\n",
      "Validation Loss for fold 7: 0.06994876265525818\n",
      "Validation Loss for fold 7: 0.06858305384715398\n",
      "Validation Loss for fold 7: 0.06533030420541763\n",
      "Validation Loss for fold 7: 0.06626191486914952\n",
      "Validation Loss for fold 7: 0.06430515646934509\n",
      "Validation Loss for fold 7: 0.06655396521091461\n",
      "Validation Loss for fold 7: 0.06722425669431686\n",
      "Validation Loss for fold 7: 0.06569692865014076\n",
      "Validation Loss for fold 7: 0.06614400818943977\n",
      "Validation Loss for fold 7: 0.06532133122285207\n",
      "Validation Loss for fold 7: 0.06735384215911229\n",
      "Validation Loss for fold 7: 0.060039229691028595\n",
      "Validation Loss for fold 7: 0.0694946435590585\n",
      "Validation Loss for fold 7: 0.06271510322888692\n",
      "Validation Loss for fold 7: 0.06336352104942004\n",
      "Validation Loss for fold 7: 0.06420765320460002\n",
      "Validation Loss for fold 7: 0.06295951828360558\n",
      "Validation Loss for fold 7: 0.06291662032405536\n",
      "Validation Loss for fold 7: 0.06903582811355591\n",
      "Validation Loss for fold 7: 0.06384316459298134\n",
      "Validation Loss for fold 7: 0.060075584799051285\n",
      "Validation Loss for fold 7: 0.06334385275840759\n",
      "Validation Loss for fold 7: 0.0610148049890995\n",
      "Validation Loss for fold 7: 0.06879950314760208\n",
      "Validation Loss for fold 7: 0.06028543412685394\n",
      "Validation Loss for fold 7: 0.06118210032582283\n",
      "Validation Loss for fold 7: 0.06485525767008464\n",
      "Validation Loss for fold 7: 0.0637684812148412\n",
      "Validation Loss for fold 7: 0.062323227524757385\n",
      "Validation Loss for fold 7: 0.061283692717552185\n",
      "Validation Loss for fold 7: 0.06103351588050524\n",
      "Validation Loss for fold 7: 0.05908590058485667\n",
      "Validation Loss for fold 7: 0.0664221631983916\n",
      "Validation Loss for fold 7: 0.05785492683450381\n",
      "Validation Loss for fold 7: 0.0660451240837574\n",
      "Validation Loss for fold 7: 0.05864739790558815\n",
      "Validation Loss for fold 7: 0.054219299306472145\n",
      "Validation Loss for fold 7: 0.05961575359106064\n",
      "Validation Loss for fold 7: 0.05669612934192022\n",
      "Validation Loss for fold 7: 0.05912728731830915\n",
      "Validation Loss for fold 7: 0.05945221334695816\n",
      "Validation Loss for fold 7: 0.05830075219273567\n",
      "Validation Loss for fold 7: 0.06055325145522753\n",
      "Validation Loss for fold 7: 0.05980599050720533\n",
      "Validation Loss for fold 7: 0.06523073588808377\n",
      "Validation Loss for fold 7: 0.06604904557267825\n",
      "--------------------------------\n",
      "FOLD 8\n",
      "--------------------------------\n",
      "Validation Loss for fold 8: 0.3809284567832947\n",
      "Validation Loss for fold 8: 0.2966587245464325\n",
      "Validation Loss for fold 8: 0.2482734719912211\n",
      "Validation Loss for fold 8: 0.2138306846221288\n",
      "Validation Loss for fold 8: 0.1951213926076889\n",
      "Validation Loss for fold 8: 0.16548248628775278\n",
      "Validation Loss for fold 8: 0.14777299265066782\n",
      "Validation Loss for fold 8: 0.16302921871344248\n",
      "Validation Loss for fold 8: 0.14509633680184683\n",
      "Validation Loss for fold 8: 0.12395906448364258\n",
      "Validation Loss for fold 8: 0.11029280970493953\n",
      "Validation Loss for fold 8: 0.12925081451733908\n",
      "Validation Loss for fold 8: 0.13105999181667963\n",
      "Validation Loss for fold 8: 0.1190892035762469\n",
      "Validation Loss for fold 8: 0.12819675852855048\n",
      "Validation Loss for fold 8: 0.12480881313482921\n",
      "Validation Loss for fold 8: 0.11919095863898595\n",
      "Validation Loss for fold 8: 0.12533697485923767\n",
      "Validation Loss for fold 8: 0.11184047659238179\n",
      "Validation Loss for fold 8: 0.10509484509627025\n",
      "Validation Loss for fold 8: 0.121828888853391\n",
      "Validation Loss for fold 8: 0.11328530311584473\n",
      "Validation Loss for fold 8: 0.12081807355086009\n",
      "Validation Loss for fold 8: 0.09903862327337265\n",
      "Validation Loss for fold 8: 0.1081789309779803\n",
      "Validation Loss for fold 8: 0.11429975430170695\n",
      "Validation Loss for fold 8: 0.10958165923754375\n",
      "Validation Loss for fold 8: 0.09985081851482391\n",
      "Validation Loss for fold 8: 0.10489386816819508\n",
      "Validation Loss for fold 8: 0.1130415474375089\n",
      "Validation Loss for fold 8: 0.10611173262198766\n",
      "Validation Loss for fold 8: 0.11029592404762904\n",
      "Validation Loss for fold 8: 0.1073510671655337\n",
      "Validation Loss for fold 8: 0.10326958199342091\n",
      "Validation Loss for fold 8: 0.1041578675309817\n",
      "Validation Loss for fold 8: 0.0988343358039856\n",
      "Validation Loss for fold 8: 0.09700397898753484\n",
      "Validation Loss for fold 8: 0.09869447598854701\n",
      "Validation Loss for fold 8: 0.09308262914419174\n",
      "Validation Loss for fold 8: 0.09921915332476298\n",
      "Validation Loss for fold 8: 0.10083545992771785\n",
      "Validation Loss for fold 8: 0.0943722774585088\n",
      "Validation Loss for fold 8: 0.10067801922559738\n",
      "Validation Loss for fold 8: 0.08884635816017787\n",
      "Validation Loss for fold 8: 0.08875350654125214\n",
      "Validation Loss for fold 8: 0.08993098388115565\n",
      "Validation Loss for fold 8: 0.09886256853739421\n",
      "Validation Loss for fold 8: 0.09965918709834416\n",
      "Validation Loss for fold 8: 0.09193951388200124\n",
      "Validation Loss for fold 8: 0.0833101396759351\n",
      "Validation Loss for fold 8: 0.08794049421946208\n",
      "Validation Loss for fold 8: 0.09706706305344899\n",
      "Validation Loss for fold 8: 0.084981935719649\n",
      "Validation Loss for fold 8: 0.08702163149913152\n",
      "Validation Loss for fold 8: 0.09970247248808543\n",
      "Validation Loss for fold 8: 0.08841673284769058\n",
      "Validation Loss for fold 8: 0.08468314011891682\n",
      "Validation Loss for fold 8: 0.08834177752335866\n",
      "Validation Loss for fold 8: 0.0872041384379069\n",
      "Validation Loss for fold 8: 0.08907458931207657\n",
      "Validation Loss for fold 8: 0.098698856929938\n",
      "Validation Loss for fold 8: 0.0827787642677625\n",
      "Validation Loss for fold 8: 0.09704999377330144\n",
      "Validation Loss for fold 8: 0.0833943784236908\n",
      "Validation Loss for fold 8: 0.08493756006161372\n",
      "Validation Loss for fold 8: 0.0885130986571312\n",
      "Validation Loss for fold 8: 0.0823713168501854\n",
      "Validation Loss for fold 8: 0.07356086745858192\n",
      "Validation Loss for fold 8: 0.08612886071205139\n",
      "Validation Loss for fold 8: 0.08385962247848511\n",
      "Validation Loss for fold 8: 0.08927732209364574\n",
      "Validation Loss for fold 8: 0.08224598069985707\n",
      "Validation Loss for fold 8: 0.08069078375895818\n",
      "Validation Loss for fold 8: 0.0807917242248853\n",
      "Validation Loss for fold 8: 0.07122522592544556\n",
      "Validation Loss for fold 8: 0.0779375210404396\n",
      "Validation Loss for fold 8: 0.07098752881089847\n",
      "Validation Loss for fold 8: 0.08088287214438121\n",
      "Validation Loss for fold 8: 0.07612577577431996\n",
      "Validation Loss for fold 8: 0.08107663939396541\n",
      "Validation Loss for fold 8: 0.08282896627982457\n",
      "Validation Loss for fold 8: 0.08745203167200089\n",
      "Validation Loss for fold 8: 0.07473729054133098\n",
      "Validation Loss for fold 8: 0.0827033097545306\n",
      "Validation Loss for fold 8: 0.07728753238916397\n",
      "Validation Loss for fold 8: 0.07571533570686977\n",
      "Validation Loss for fold 8: 0.07662973801294963\n",
      "Validation Loss for fold 8: 0.07820253819227219\n",
      "Validation Loss for fold 8: 0.08341314891974132\n",
      "Validation Loss for fold 8: 0.07717426617940266\n",
      "Validation Loss for fold 8: 0.0786977286140124\n",
      "Validation Loss for fold 8: 0.07926987111568451\n",
      "Validation Loss for fold 8: 0.07576400289932887\n",
      "Validation Loss for fold 8: 0.07054229825735092\n",
      "Validation Loss for fold 8: 0.07578216989835103\n",
      "Validation Loss for fold 8: 0.06861021493872006\n",
      "Validation Loss for fold 8: 0.06922839830319087\n",
      "Validation Loss for fold 8: 0.08299519990881284\n",
      "Validation Loss for fold 8: 0.07458877315123875\n",
      "Validation Loss for fold 8: 0.0677511878311634\n",
      "--------------------------------\n",
      "FOLD 9\n",
      "--------------------------------\n",
      "Validation Loss for fold 9: 0.2663743446270625\n",
      "Validation Loss for fold 9: 0.2507115850845973\n",
      "Validation Loss for fold 9: 0.20501511295636496\n",
      "Validation Loss for fold 9: 0.17218842109044394\n",
      "Validation Loss for fold 9: 0.18033609290917715\n",
      "Validation Loss for fold 9: 0.147371677060922\n",
      "Validation Loss for fold 9: 0.16276669998963675\n",
      "Validation Loss for fold 9: 0.15114615360895792\n",
      "Validation Loss for fold 9: 0.1535461743672689\n",
      "Validation Loss for fold 9: 0.1445480932792028\n",
      "Validation Loss for fold 9: 0.13691225896279016\n",
      "Validation Loss for fold 9: 0.13074981172879538\n",
      "Validation Loss for fold 9: 0.15578575183947882\n",
      "Validation Loss for fold 9: 0.12624998142321905\n",
      "Validation Loss for fold 9: 0.14692929138739905\n",
      "Validation Loss for fold 9: 0.12535744905471802\n",
      "Validation Loss for fold 9: 0.12258365998665492\n",
      "Validation Loss for fold 9: 0.12387734154860179\n",
      "Validation Loss for fold 9: 0.12182507663965225\n",
      "Validation Loss for fold 9: 0.1172321264942487\n",
      "Validation Loss for fold 9: 0.1299282362063726\n",
      "Validation Loss for fold 9: 0.10937696695327759\n",
      "Validation Loss for fold 9: 0.12350291510423024\n",
      "Validation Loss for fold 9: 0.12513293325901031\n",
      "Validation Loss for fold 9: 0.11487359801928203\n",
      "Validation Loss for fold 9: 0.11494207382202148\n",
      "Validation Loss for fold 9: 0.11105587830146153\n",
      "Validation Loss for fold 9: 0.10898732642332713\n",
      "Validation Loss for fold 9: 0.12101296832164128\n",
      "Validation Loss for fold 9: 0.11555242290099461\n",
      "Validation Loss for fold 9: 0.10250103722016017\n",
      "Validation Loss for fold 9: 0.10533498972654343\n",
      "Validation Loss for fold 9: 0.09986980259418488\n",
      "Validation Loss for fold 9: 0.10497244695822398\n",
      "Validation Loss for fold 9: 0.11104349543650945\n",
      "Validation Loss for fold 9: 0.11062781512737274\n",
      "Validation Loss for fold 9: 0.10245700180530548\n",
      "Validation Loss for fold 9: 0.10730104396740596\n",
      "Validation Loss for fold 9: 0.10824116319417953\n",
      "Validation Loss for fold 9: 0.10645498832066853\n",
      "Validation Loss for fold 9: 0.09551555663347244\n",
      "Validation Loss for fold 9: 0.09500393519798915\n",
      "Validation Loss for fold 9: 0.09615154564380646\n",
      "Validation Loss for fold 9: 0.10255424429972966\n",
      "Validation Loss for fold 9: 0.1044324313600858\n",
      "Validation Loss for fold 9: 0.10163671026627223\n",
      "Validation Loss for fold 9: 0.09381293008724849\n",
      "Validation Loss for fold 9: 0.10647294173638026\n",
      "Validation Loss for fold 9: 0.09047406166791916\n",
      "Validation Loss for fold 9: 0.09751306225856145\n",
      "Validation Loss for fold 9: 0.1029243916273117\n",
      "Validation Loss for fold 9: 0.09306550274292628\n",
      "Validation Loss for fold 9: 0.09436683108409245\n",
      "Validation Loss for fold 9: 0.10021619498729706\n",
      "Validation Loss for fold 9: 0.08760386953751247\n",
      "Validation Loss for fold 9: 0.0907986784974734\n",
      "Validation Loss for fold 9: 0.08946157743533452\n",
      "Validation Loss for fold 9: 0.09367436667283376\n",
      "Validation Loss for fold 9: 0.08428722868363063\n",
      "Validation Loss for fold 9: 0.08223907773693402\n",
      "Validation Loss for fold 9: 0.09379445264736812\n",
      "Validation Loss for fold 9: 0.08687933534383774\n",
      "Validation Loss for fold 9: 0.08240596329172452\n",
      "Validation Loss for fold 9: 0.08382425208886464\n",
      "Validation Loss for fold 9: 0.0864877129594485\n",
      "Validation Loss for fold 9: 0.0868028129140536\n",
      "Validation Loss for fold 9: 0.08099322269360225\n",
      "Validation Loss for fold 9: 0.09227420886357625\n",
      "Validation Loss for fold 9: 0.08239663889010747\n",
      "Validation Loss for fold 9: 0.09373180071512859\n",
      "Validation Loss for fold 9: 0.08401001741488774\n",
      "Validation Loss for fold 9: 0.08757683883110683\n",
      "Validation Loss for fold 9: 0.08350772162278493\n",
      "Validation Loss for fold 9: 0.09073926756779353\n",
      "Validation Loss for fold 9: 0.08785661806662877\n",
      "Validation Loss for fold 9: 0.08123386402924855\n",
      "Validation Loss for fold 9: 0.08884728948275249\n",
      "Validation Loss for fold 9: 0.08176679412523906\n",
      "Validation Loss for fold 9: 0.07835390667120616\n",
      "Validation Loss for fold 9: 0.07022236660122871\n",
      "Validation Loss for fold 9: 0.09140843401352565\n",
      "Validation Loss for fold 9: 0.08746267358462016\n",
      "Validation Loss for fold 9: 0.08374143888552983\n",
      "Validation Loss for fold 9: 0.08258145675063133\n",
      "Validation Loss for fold 9: 0.0820596640308698\n",
      "Validation Loss for fold 9: 0.07894583294788997\n",
      "Validation Loss for fold 9: 0.08039917796850204\n",
      "Validation Loss for fold 9: 0.0758450689415137\n",
      "Validation Loss for fold 9: 0.07918674995501836\n",
      "Validation Loss for fold 9: 0.07935836911201477\n",
      "Validation Loss for fold 9: 0.08056273808081944\n",
      "Validation Loss for fold 9: 0.0797814279794693\n",
      "Validation Loss for fold 9: 0.08874345074097316\n",
      "Validation Loss for fold 9: 0.07045987620949745\n",
      "Validation Loss for fold 9: 0.07311919083197911\n",
      "Validation Loss for fold 9: 0.07467050353686015\n",
      "Validation Loss for fold 9: 0.07453733434279759\n",
      "Validation Loss for fold 9: 0.07563312103350957\n",
      "Validation Loss for fold 9: 0.07814194510380428\n",
      "Validation Loss for fold 9: 0.07214268669486046\n",
      "--------------------------------\n"
     ]
    },
    {
     "name": "stderr",
     "output_type": "stream",
     "text": [
      "wandb: WARNING Source type is set to 'repo' but some required information is missing from the environment. A job will not be created from this run. See https://docs.wandb.ai/guides/launch/create-job\n"
     ]
    },
    {
     "data": {
      "text/html": [
       "<style>\n",
       "    table.wandb td:nth-child(1) { padding: 0 10px; text-align: left ; width: auto;} td:nth-child(2) {text-align: left ; width: 100%}\n",
       "    .wandb-row { display: flex; flex-direction: row; flex-wrap: wrap; justify-content: flex-start; width: 100% }\n",
       "    .wandb-col { display: flex; flex-direction: column; flex-basis: 100%; flex: 1; padding: 10px; }\n",
       "    </style>\n",
       "<div class=\"wandb-row\"><div class=\"wandb-col\"><h3>Run history:</h3><br/><table class=\"wandb\"><tr><td>Avg Validation Loss</td><td>▃▂▂▁█▃▂▁▄▂▂▂▃▂▁▂█▄▃▂▂▂▂▁▂▂▁▁▂▁▁▁▃▂▂▁▃▂▂▂</td></tr><tr><td>Avg. Training Loss</td><td>▆▂▁▁█▃▂▁█▃▂▂▅▂▂▁█▂▂▁▅▂▁▁▄▂▁▁▃▂▁▁▅▂▁▁▄▂▁▁</td></tr><tr><td>Epoch</td><td>▁▃▅▇▁▃▅▇▁▃▅▇▂▃▅▇▁▄▆▇▂▃▅█▂▄▆▇▂▄▆█▂▄▆█▂▄▆█</td></tr></table><br/></div><div class=\"wandb-col\"><h3>Run summary:</h3><br/><table class=\"wandb\"><tr><td>Avg Validation Loss</td><td>0.07214</td></tr><tr><td>Avg. Training Loss</td><td>0.05818</td></tr><tr><td>Epoch</td><td>99</td></tr></table><br/></div></div>"
      ],
      "text/plain": [
       "<IPython.core.display.HTML object>"
      ]
     },
     "metadata": {},
     "output_type": "display_data"
    },
    {
     "data": {
      "text/html": [
       " View run <strong style=\"color:#cdcd00\">sage-waterfall-34</strong> at: <a href='https://wandb.ai/jcrich/collaborative%20filter%20model/runs/qoalaxpy' target=\"_blank\">https://wandb.ai/jcrich/collaborative%20filter%20model/runs/qoalaxpy</a><br/>Synced 5 W&B file(s), 0 media file(s), 0 artifact file(s) and 0 other file(s)"
      ],
      "text/plain": [
       "<IPython.core.display.HTML object>"
      ]
     },
     "metadata": {},
     "output_type": "display_data"
    },
    {
     "data": {
      "text/html": [
       "Find logs at: <code>./wandb/run-20240311_221428-qoalaxpy/logs</code>"
      ],
      "text/plain": [
       "<IPython.core.display.HTML object>"
      ]
     },
     "metadata": {},
     "output_type": "display_data"
    }
   ],
   "source": [
    "# Correct variable names and logic\n",
    "for fold, (train_ids, val_ids) in enumerate(kfold.split(train_ds)):\n",
    "    print(f'FOLD {fold}')\n",
    "    print('--------------------------------')\n",
    "\n",
    "    train_subsampler = torch.utils.data.SubsetRandomSampler(train_ids)\n",
    "    val_subsampler = torch.utils.data.SubsetRandomSampler(val_ids)\n",
    "\n",
    "    trainloader = torch.utils.data.DataLoader(train_ds, batch_size=BATCH_SIZE, sampler=train_subsampler)\n",
    "    valloader = torch.utils.data.DataLoader(validation_ds, batch_size=BATCH_SIZE, sampler=val_subsampler)\n",
    "\n",
    "    model = MLPCollaborativeFilter(num_users + 1, num_movies + 1, embedding_dim=FEATURES)\n",
    "    optimiser = torch.optim.SGD(model.parameters(), lr=0.001)\n",
    "    criterion = nn.MSELoss()\n",
    "\n",
    "    for epoch in range(EPOCHS):\n",
    "        model.train()\n",
    "        train_loss = 0.0\n",
    "        for user_indices, item_indices, ratings in trainloader:\n",
    "            optimiser.zero_grad()\n",
    "            outputs = model(user_indices, item_indices).squeeze()\n",
    "            loss = criterion(outputs, ratings)\n",
    "            loss.backward()\n",
    "            optimiser.step()\n",
    "            train_loss += loss.item()\n",
    "\n",
    "        # Average training loss over all batches\n",
    "        train_loss /= len(trainloader)\n",
    "        # Log training loss for the current epoch\n",
    "        wandb.log({\"Avg. Training Loss\": train_loss, \"Epoch\": epoch})\n",
    "        mlflow.log_metric(\"Avg. Training Loss\", train_loss, step=epoch)\n",
    "        \n",
    "        model.eval()\n",
    "        val_loss = 0\n",
    "        with torch.no_grad():\n",
    "            for user_indices, item_indices, ratings in valloader:\n",
    "                outputs = model(user_indices, item_indices).squeeze()\n",
    "                loss = criterion(outputs, ratings)\n",
    "                val_loss += loss.item()\n",
    "\n",
    "        avg_validation_loss = val_loss / len(valloader)\n",
    "        print(f'Validation Loss for fold {fold}: {avg_validation_loss}')\n",
    "        \n",
    "        if avg_validation_loss < best_val_loss:\n",
    "            best_val_loss = avg_validation_loss\n",
    "            mlflow.log_metric(\"Best Validation Loss\", best_val_loss, step=epoch)\n",
    "            mlflow.pytorch.log_model(model, \"model\")\n",
    "            # Save model state\n",
    "            torch.save(model.state_dict(), 'best_model_state.pth')\n",
    "            # If you also want to save the optimizer state along with the model:\n",
    "            torch.save({\n",
    "                'epoch': epoch,\n",
    "                'model_state_dict': model.state_dict(),\n",
    "                'optimiser_state_dict': optimiser.state_dict(),\n",
    "                'loss': avg_validation_loss,\n",
    "            }, 'best_col_model_checkpoint.pth')\n",
    "            # Log the model checkpoint as an artifact\n",
    "            mlflow.log_artifact('best_col_model_checkpoint.pth')\n",
    "        \n",
    "        # Log validation loss for the current epoch\n",
    "        wandb.log({\"Avg Validation Loss\": avg_validation_loss, \"Epoch\": epoch})\n",
    "        mlflow.log_metric(\"Avg Validation Loss\", avg_validation_loss, step=epoch)\n",
    "    \n",
    "    print('--------------------------------')\n",
    "\n",
    "\n",
    "\n",
    "\n",
    "\n",
    "wandb.finish()"
   ]
  },
  {
   "cell_type": "code",
   "execution_count": 38,
   "id": "63a5e18c-653c-4d10-9bac-b3669a38c95b",
   "metadata": {},
   "outputs": [
    {
     "name": "stdout",
     "output_type": "stream",
     "text": [
      "0.07417693871416543\n"
     ]
    }
   ],
   "source": [
    "#test data\n",
    "model.eval()  # Switch to evaluation mode\n",
    "test_loss = 0\n",
    "correct_predictions = 0  # Fixed variable name for clarity\n",
    "total_contexts = 0\n",
    "\n",
    "with torch.no_grad():  # Disable gradient computation\n",
    "    for user_ids, movie_ids, ratings in test_data_loader:\n",
    "        predictions = model(user_ids,movie_ids)  # Generate predictions\n",
    "        # Calculate and accumulate loss\n",
    "        loss = criterion(predictions, ratings)\n",
    "        test_loss += loss.item()\n",
    "        \n",
    "        # # Reshape predictions to match [batch_size, context_size, vocab_size]\n",
    "        # predictions = predictions.view(-1, context_size, VOCAB_SIZE)\n",
    "        \n",
    "        # # Get top prediction for each context position\n",
    "        # top_predictions = predictions.argmax(dim=2)\n",
    "        \n",
    "        # # Calculate correct predictions\n",
    "        # correct_preds = (top_predictions == context).float().sum()\n",
    "        # correct_predictions += correct_preds.item()  # Accumulate correct predictions\n",
    "        \n",
    "        # total_contexts += context.numel()  # Total number of context word positions evaluated\n",
    "\n",
    "# Calculate final metrics\n",
    "test_loss /= len(test_data_loader)  # Average loss per batch\n",
    "# print('correct predictions = ',correct_predictions)\n",
    "# print('out of  = ',total_contexts)\n",
    "# accuracy = correct_predictions / total_contexts  # Compute accuracy\n",
    "\n",
    "# print(f'Test set: Average loss: {test_loss:.4f}, Accuracy: {accuracy:.4f}')\n",
    "\n",
    "# Evaluate the model\n",
    "# (This would involve using a separate validation set or performing cross-validation)\n",
    "print(test_loss)\n",
    "\n",
    "mlflow.log_metric('Post training test loss',test_loss)\n",
    "mlflow.end_run()"
   ]
  },
  {
   "cell_type": "markdown",
   "id": "f10373ba-5557-46bf-aa37-8f4234b43def",
   "metadata": {},
   "source": [
    "## Preference ranking"
   ]
  },
  {
   "cell_type": "code",
   "execution_count": null,
   "id": "377c97ca-a1c8-4a79-ad7f-f844c2b6ab59",
   "metadata": {},
   "outputs": [],
   "source": [
    "target_user_id = 140440102666832"
   ]
  },
  {
   "cell_type": "code",
   "execution_count": null,
   "id": "1fb9de61-95a2-4c4d-bae9-78f17254013c",
   "metadata": {},
   "outputs": [],
   "source": [
    "e_uid = encoder.encode(target_user_id,encoder.user_to_idx)"
   ]
  },
  {
   "cell_type": "code",
   "execution_count": null,
   "id": "fb44d161-b86c-48e5-a2a8-228ee34d61fd",
   "metadata": {},
   "outputs": [],
   "source": [
    "def get_user_features(uid):\n",
    "\n",
    "    for i in range(0,len(all_ds)):\n",
    "\n",
    "        u,m,r = all_ds[i]\n",
    "        # print(u)\n",
    "        if u == uid:\n",
    "            yield [m,r]\n",
    "    "
   ]
  },
  {
   "cell_type": "code",
   "execution_count": null,
   "id": "fca61297-1afc-439e-9a3a-81bff33d384f",
   "metadata": {},
   "outputs": [],
   "source": [
    "def predict_ratings(e_uid,e_mid,model):\n",
    "    e_uid_tensor = torch.tensor(e_uid, dtype=torch.int64).unsqueeze(0)\n",
    "    movie_eid_tensor = torch.tensor(e_mid,dtype=torch.int64).unsqueeze(0)\n",
    "    model.eval()\n",
    "    with torch.no_grad():\n",
    "        user_rating = model(e_uid_tensor,movie_eid_tensor)\n",
    "        return movie_eid_tensor,user_rating\n",
    "        \n",
    "    "
   ]
  },
  {
   "cell_type": "code",
   "execution_count": null,
   "id": "f3780e9b-1c32-4f2b-a45e-14bdb9d35b3c",
   "metadata": {},
   "outputs": [],
   "source": [
    "#get user and features\n",
    "seen_features = set(tuple(fe) for fe in get_user_features(e_uid)) # Get user features if needed\n",
    "seen_movies = set(sf[0].item() for sf in seen_features)\n",
    "all_movies = set([num for num in range(30)])\n",
    "unseen_movies = all_movies - seen_movies\n",
    "unseen_features = {tuple(predict_ratings(e_uid,um,model)) for um in unseen_movies}\n",
    "all_features = seen_features | unseen_features\n",
    "\n",
    "sorted_set = sorted(all_features, key=lambda x: x[1])\n",
    "top_n = 10\n",
    "recommendations = list(filter(lambda x: x[0].item() in unseen_movies,sorted_set))\n",
    "n_recommendations = list(map(lambda x: x[0],recommendations[-1:top_n*-1:-1]))\n",
    "n_recommendations\n"
   ]
  },
  {
   "cell_type": "markdown",
   "id": "3470ac7f-df21-40aa-94aa-32aa93606c9a",
   "metadata": {},
   "source": [
    "# Matching"
   ]
  },
  {
   "cell_type": "code",
   "execution_count": null,
   "id": "f9289eb5-57c3-42bd-ba7f-7c519590d8c4",
   "metadata": {},
   "outputs": [],
   "source": [
    "#all users, with all movie ratings.\n",
    "def generate_all_ratings(model,num_users,num_movies):\n",
    "    #build matrix\n",
    "\n",
    "    #data already encoded....\n",
    "    all_data = [['dummy',mnm,unm,'dummy','0/10'] for unm in range(0,num_users) for mnm in range(0,num_movies)]\n",
    "    # print(all_data)\n",
    "    # print([em for em in all_data])\n",
    "    fake_encoder = Encoder([did[2] for did in all_data],[did[1] for did in all_data])\n",
    "    all_ds = CFDataset(all_data,fake_encoder)\n",
    "    \n",
    "    data_loader = DataLoader(all_ds, batch_size=1)\n",
    "    for uid,mid,ra in data_loader:\n",
    "        # print(uid,mid)\n",
    "        prediction = model(uid,mid)\n",
    "        yield (uid.item(),mid.item(),prediction.item())\n",
    "\n"
   ]
  },
  {
   "cell_type": "code",
   "execution_count": null,
   "id": "788b3ed2-c265-4b06-a5b9-53fa0c63b904",
   "metadata": {},
   "outputs": [],
   "source": [
    "def create_ratings_tensor(data, num_users, num_movies):\n",
    "    # Initialize an empty tensor to hold the ratings\n",
    "    ratings_tensor = torch.zeros(num_users, num_movies)\n",
    "    \n",
    "    # Iterate over the data and fill the tensor\n",
    "    for entry in data:\n",
    "        user_id, movie_id, rating = entry\n",
    "        # Convert rating to float\n",
    "        rating = float(rating)\n",
    "        ratings_tensor[user_id, movie_id] = rating\n",
    "    \n",
    "    return ratings_tensor"
   ]
  },
  {
   "cell_type": "code",
   "execution_count": null,
   "id": "ddd12391-a846-475e-be55-b2516a0ef7f9",
   "metadata": {},
   "outputs": [],
   "source": [
    "# Step 1: Generate Predictions\n",
    "predictions = [ra for ra in generate_all_ratings(model,num_users,num_movies)]\n",
    "# print(predictions)\n",
    "ratings_tensor = create_ratings_tensor(predictions,num_users,num_movies)\n",
    "print(ratings_tensor)\n",
    "# predictions[0]\n",
    "\n",
    "# ratings_tensor.shape\n",
    "\n",
    "# ratings_tensor[0]\n",
    "\n",
    "import torch.nn.functional as F\n",
    "\n",
    "# Assuming predicted_ratings is your tensor of predicted ratings\n",
    "# predicted_ratings.shape should be (num_users, num_movies)\n",
    "\n",
    "# # Calculate cosine similarity\n",
    "# user_similarities = F.cosine_similarity(ratings_tensor, ratings_tensor, dim=1)\n",
    "\n",
    "# user_similarities"
   ]
  },
  {
   "cell_type": "markdown",
   "id": "25d0c474-3481-489e-b494-047c64b14925",
   "metadata": {},
   "source": [
    "## COSINE SIMILARITY"
   ]
  },
  {
   "cell_type": "code",
   "execution_count": null,
   "id": "a6cae1de-bc62-460e-b2db-f046961f4493",
   "metadata": {},
   "outputs": [],
   "source": [
    "# Step 1: Normalize predicted ratings\n",
    "normalized_ratings = F.normalize(ratings_tensor, p=2, dim=1)\n",
    "\n",
    "# Step 2: Calculate cosine similarity\n",
    "user_similarities = torch.matmul(normalized_ratings, normalized_ratings.T)\n",
    "\n",
    "# Set diagonal elements to a large negative value to exclude self-similarity\n",
    "user_similarities.fill_diagonal_(-float('inf'))\n",
    "\n",
    "# You can optionally convert the similarities tensor to a numpy array for easier manipulation\n",
    "user_similarities_np = user_similarities.numpy()\n",
    "\n",
    "# Print or use the user similarities tensor\n",
    "print(user_similarities)"
   ]
  },
  {
   "cell_type": "markdown",
   "id": "6bb89e2b-202f-405a-a732-26cf09959925",
   "metadata": {},
   "source": [
    "### Matches"
   ]
  },
  {
   "cell_type": "code",
   "execution_count": null,
   "id": "c4e402f0-b39d-4599-9617-5fcf23d00a6d",
   "metadata": {},
   "outputs": [],
   "source": [
    "top_matches = {}\n",
    "for i in range(len(user_similarities)):\n",
    "    # Sort similarities for the current user i\n",
    "    ranked_users = torch.argsort(torch.tensor(user_similarities[i]), descending=True)\n",
    "    # Exclude self from top matches (optional)\n",
    "    top_matches[i] = ranked_users[ranked_users != i]\n"
   ]
  },
  {
   "cell_type": "code",
   "execution_count": null,
   "id": "5d560016-14da-4170-be81-43e27b094043",
   "metadata": {},
   "outputs": [],
   "source": [
    "top_matches"
   ]
  },
  {
   "cell_type": "code",
   "execution_count": null,
   "id": "eebc2399-8831-4bef-b722-b9405c776b02",
   "metadata": {},
   "outputs": [],
   "source": [
    "encoder.decode(71,encoder.idx_to_user)"
   ]
  },
  {
   "cell_type": "code",
   "execution_count": null,
   "id": "a6cb1dfe-e30f-407f-accb-367b5bce66a7",
   "metadata": {},
   "outputs": [],
   "source": [
    "#decoded\n",
    "\n",
    "decoded_matches = {encoder.decode(k,encoder.idx_to_user):[encoder.decode(ve,encoder.idx_to_user) for ve in v.tolist()] for k,v in top_matches.items()}\n",
    "decoded_matches"
   ]
  },
  {
   "cell_type": "code",
   "execution_count": null,
   "id": "73632e60-b177-479e-8e78-c6eea82ea863",
   "metadata": {},
   "outputs": [],
   "source": [
    "# Step 4: Select Top Matches\n",
    "N = 5  # Number of top matches to select\n",
    "for user, similar_users in decoded_matches.items():\n",
    "    decoded_matches[user] = similar_users[:N]\n",
    "\n",
    "decoded_matches"
   ]
  },
  {
   "cell_type": "code",
   "execution_count": null,
   "id": "5b7f3715-96e0-44a4-9a49-eee4e94bfaa9",
   "metadata": {},
   "outputs": [],
   "source": [
    "#decode...."
   ]
  },
  {
   "cell_type": "markdown",
   "id": "b6c7c0fa-b24f-4418-b5ca-e1713254be27",
   "metadata": {},
   "source": [
    "## FINALLY FIND THE MATCHES...."
   ]
  },
  {
   "cell_type": "code",
   "execution_count": null,
   "id": "dd884b67-4541-453a-8bdf-87adf9d4ca39",
   "metadata": {},
   "outputs": [],
   "source": [
    "target_user = 140440102666832\n",
    "\n"
   ]
  },
  {
   "cell_type": "code",
   "execution_count": null,
   "id": "e0929f29-14e7-4cfa-acc9-9a741b7a5187",
   "metadata": {},
   "outputs": [],
   "source": [
    "decoded_matches[target_user]"
   ]
  },
  {
   "cell_type": "code",
   "execution_count": null,
   "id": "d5ed138f-43a0-4e9c-a66d-c7030de6e662",
   "metadata": {},
   "outputs": [],
   "source": [
    "neighbour = 140440115331424"
   ]
  },
  {
   "cell_type": "markdown",
   "id": "b8a6a7ef-f019-4273-bc7c-c63dae3a104d",
   "metadata": {},
   "source": [
    "## Now see how they relate to the database..."
   ]
  },
  {
   "cell_type": "code",
   "execution_count": null,
   "id": "6b89fe2d-944d-43bc-b2a2-81af64bd6ab3",
   "metadata": {},
   "outputs": [],
   "source": [
    "reviews = db.get_table_values('Reviews')"
   ]
  },
  {
   "cell_type": "code",
   "execution_count": null,
   "id": "0df7b55f-d93f-4a8d-b4c3-f0b1ea9ddf9b",
   "metadata": {},
   "outputs": [],
   "source": [
    "#TODO"
   ]
  },
  {
   "cell_type": "code",
   "execution_count": null,
   "id": "ad2b3f3b-a7f8-48a6-b772-23c522f5ab85",
   "metadata": {},
   "outputs": [],
   "source": [
    "def reviews_info(user_id,reviews):\n",
    "    # print(db.get_table_values('Users'))\n",
    "    info = {}\n",
    "    info[user_id] = list(filter(lambda x :x[0] == user_id,db.get_table_values('Users')))[0][1]\n",
    "\n",
    "    \n",
    "    #TODO finish work...\n",
    "    mov_tab = db.get_table_values('Movies')\n",
    "    \n",
    "    for review in reviews:\n",
    "        mov_id = review[1]\n",
    "        info[mov_id] = {'title':list(filter(lambda x :x[0] == mov_id,mov_tab))[0][1],'rating':review[4]}\n",
    "        \n",
    "    return info\n",
    "    \n",
    "    "
   ]
  },
  {
   "cell_type": "code",
   "execution_count": null,
   "id": "ef46e616-1299-4659-8e09-f6d3fdf44b43",
   "metadata": {},
   "outputs": [],
   "source": [
    "\n"
   ]
  },
  {
   "cell_type": "code",
   "execution_count": null,
   "id": "89593c73-41e3-4a6e-8e9c-61fd41b372dc",
   "metadata": {},
   "outputs": [],
   "source": [
    "target_reviews = list(filter(lambda rv: rv[2] == target_user,reviews))\n",
    "neighbour_reviews = list(filter(lambda rv: rv[2] == neighbour,reviews))"
   ]
  },
  {
   "cell_type": "code",
   "execution_count": null,
   "id": "73fd7bda-4f06-41de-89d2-7e84ce851863",
   "metadata": {},
   "outputs": [],
   "source": [
    "tar_info = reviews_info(target_user,target_reviews)\n",
    "neigh_info = reviews_info(neighbour,neighbour_reviews)"
   ]
  },
  {
   "cell_type": "code",
   "execution_count": null,
   "id": "00cf7940-a7bf-4443-87b6-abd8d7d47bda",
   "metadata": {},
   "outputs": [],
   "source": [
    "tar_info"
   ]
  },
  {
   "cell_type": "code",
   "execution_count": null,
   "id": "c78c8ccb-97d3-439a-ac8d-28ebe5e8ba91",
   "metadata": {},
   "outputs": [],
   "source": [
    "neigh_info"
   ]
  },
  {
   "cell_type": "code",
   "execution_count": null,
   "id": "6864fda6-f897-4c0a-8cf8-405e8cadd208",
   "metadata": {},
   "outputs": [],
   "source": []
  },
  {
   "cell_type": "markdown",
   "id": "ae878490-881c-4345-9040-934a38615e40",
   "metadata": {},
   "source": [
    "# SAVE_MODEL"
   ]
  },
  {
   "cell_type": "code",
   "execution_count": null,
   "id": "6ef1a3d5-a607-4a92-82a3-237a07f15ecc",
   "metadata": {},
   "outputs": [],
   "source": [
    "torch.save(model.state_dict(), 'model_weights.pth')"
   ]
  },
  {
   "cell_type": "code",
   "execution_count": null,
   "id": "653f0e2d-f90d-4bc4-b72c-2dfda1b2f542",
   "metadata": {},
   "outputs": [],
   "source": []
  }
 ],
 "metadata": {
  "kernelspec": {
   "display_name": "menv",
   "language": "python",
   "name": "menv"
  },
  "language_info": {
   "codemirror_mode": {
    "name": "ipython",
    "version": 3
   },
   "file_extension": ".py",
   "mimetype": "text/x-python",
   "name": "python",
   "nbconvert_exporter": "python",
   "pygments_lexer": "ipython3",
   "version": "3.10.12"
  }
 },
 "nbformat": 4,
 "nbformat_minor": 5
}
