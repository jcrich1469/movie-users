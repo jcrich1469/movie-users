{
 "cells": [
  {
   "cell_type": "code",
   "execution_count": 2,
   "id": "db7525b9-f6e4-4ac3-9b8d-0b279e8654f6",
   "metadata": {},
   "outputs": [
    {
     "name": "stdout",
     "output_type": "stream",
     "text": [
      "[<Movie id:3416670[http] title:_The Independent (2022)_>, <Movie id:30414120[http] title:_39th Film Independent Spirit Awards (2024)_>, <Movie id:0486531[http] title:_\"Independent Lens\" (1999)_>, <Movie id:0112226[http] title:_\"A Woman of Independent Means\" (1995) (mini)_>, <Movie id:0160403[http] title:_The Independent (2000)_>, <Movie id:0105309[http] title:_An Independent Life (1992)_>, <Movie id:0385890[http] title:_My Big Fat Independent Movie (2005)_>, <Movie id:15470164[http] title:_Tranquility - An Independent Film (2021)_>, <Movie id:26547064[http] title:_38th Film Independent Spirit Awards (2023)_>, <Movie id:2237342[http] title:_\"Bob Servant Independent\" (2013) (mini)_>, <Movie id:14842018[http] title:_Strong Independent Women (2019)_>, <Movie id:17023122[http] title:_The 37th Film Independent Spirit Awards (2022)_>, <Movie id:11701952[http] title:_35th Film Independent Spirit Awards (2020)_>, <Movie id:12223734[http] title:_The Independent Game (2014)_>, <Movie id:18358106[http] title:_Virinchi Independent Film (2021)_>, <Movie id:2839540[http] title:_Hi-8 (Horror Independent 8) (2013)_>, <Movie id:5475950[http] title:_Independent (2013)_>, <Movie id:6764512[http] title:_\"Independent\" (2017)_>, <Movie id:9077660[http] title:_Independent Boy (2017)_>, <Movie id:0168003[http] title:_\"An Independent Man\" (1995)_>]\n"
     ]
    }
   ],
   "source": [
    "from imdb import Cinemagoer\n",
    "\n",
    "# Create an instance of the IMDb class\n",
    "ia = Cinemagoer()\n",
    "\n",
    "# Search for movies by a keyword\n",
    "# Note: You might want to search by specific countries, languages, or independent film festivals\n",
    "movies = ia.search_movie('independent')\n",
    "\n",
    "print(movies)\n",
    "# for movie in movies[:10]:  # Limiting to first 10 results for demonstration\n",
    "#     movie_id = movie.movieID\n",
    "#     full_movie = ia.get_movie(movie_id)\n",
    "    \n",
    "#     # Check for certain criteria - e.g., non-English language\n",
    "#     if 'languages' in full_movie and 'English' not in full_movie['languages']:\n",
    "#         print(f\"Title: {full_movie.get('title')}\")\n",
    "#         print(f\"Year: {full_movie.get('year')}\")\n",
    "#         print(f\"Languages: {full_movie.get('languages')}\")\n",
    "#         print(f\"Country: {full_movie.get('countries')}\")\n",
    "#         print(\"-\" * 30)\n"
   ]
  },
  {
   "cell_type": "code",
   "execution_count": null,
   "id": "2d39e55d-b51e-4df3-9d56-9c55c3995f32",
   "metadata": {},
   "outputs": [],
   "source": []
  }
 ],
 "metadata": {
  "kernelspec": {
   "display_name": "menv",
   "language": "python",
   "name": "menv"
  },
  "language_info": {
   "codemirror_mode": {
    "name": "ipython",
    "version": 3
   },
   "file_extension": ".py",
   "mimetype": "text/x-python",
   "name": "python",
   "nbconvert_exporter": "python",
   "pygments_lexer": "ipython3",
   "version": "3.10.12"
  }
 },
 "nbformat": 4,
 "nbformat_minor": 5
}
