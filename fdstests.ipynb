{
 "cells": [
  {
   "cell_type": "code",
   "execution_count": 1,
   "id": "57c80bd9-e8ba-43be-acc5-36514452abef",
   "metadata": {},
   "outputs": [
    {
     "name": "stdout",
     "output_type": "stream",
     "text": [
      "cf_model.py\t    filemanager.py     __pycache__\t two\n",
      "completedstack.txt  main.ipynb\t       qtest.txt\t user.py\n",
      "config.py\t    menv\t       queue.py\t\t wandb\n",
      "dataset.py\t    model_weights.pth  README.md\t your_database.db\n",
      "db.ipynb\t    movusers.db        requirements.txt\n",
      "fdstests.ipynb\t    one\t\t       train.ipynb\n"
     ]
    }
   ],
   "source": [
    "!ls"
   ]
  },
  {
   "cell_type": "code",
   "execution_count": 2,
   "id": "04e678ef-eaf1-4bd8-a229-1d0c71ef8e17",
   "metadata": {},
   "outputs": [],
   "source": [
    "import filemanager as fm"
   ]
  },
  {
   "cell_type": "code",
   "execution_count": 3,
   "id": "8b9c8c9f-82bd-41c0-8e8e-b918db9aba65",
   "metadata": {},
   "outputs": [],
   "source": [
    "fileman = fm.FileManager()\n",
    "fileman.write_text_file('qtest.txt','')"
   ]
  },
  {
   "cell_type": "code",
   "execution_count": 4,
   "id": "743a1a3f-e3b5-40b9-991c-e6b763c31d1d",
   "metadata": {},
   "outputs": [
    {
     "name": "stdout",
     "output_type": "stream",
     "text": [
      "ls: cannot access 'grep': No such file or directory\n",
      "completedstack.txt  qtest.txt  requirements.txt\n"
     ]
    }
   ],
   "source": [
    "!ls grep *.txt"
   ]
  },
  {
   "cell_type": "code",
   "execution_count": 5,
   "id": "2f3f419a-7366-45ba-95d9-2c772a28d042",
   "metadata": {},
   "outputs": [],
   "source": [
    "fileq = fm.QueueFileManager()"
   ]
  },
  {
   "cell_type": "code",
   "execution_count": 6,
   "id": "90f20fd8-875e-481d-a0fc-67c02d376a3b",
   "metadata": {},
   "outputs": [
    {
     "name": "stdout",
     "output_type": "stream",
     "text": [
      "Item 'one' successfully enqueued to qtest.txt\n"
     ]
    }
   ],
   "source": [
    "fileq.enqueue_to_file('one', 'qtest.txt')"
   ]
  },
  {
   "cell_type": "code",
   "execution_count": 7,
   "id": "74e32f5e-6c36-4f53-8925-c5c564feda30",
   "metadata": {},
   "outputs": [
    {
     "name": "stdout",
     "output_type": "stream",
     "text": [
      "one\n"
     ]
    }
   ],
   "source": [
    "!head qtest.txt"
   ]
  },
  {
   "cell_type": "code",
   "execution_count": 8,
   "id": "49b4b89d-69fc-482f-a02d-2ef3792cae2c",
   "metadata": {},
   "outputs": [
    {
     "name": "stdout",
     "output_type": "stream",
     "text": [
      "Item 'two' successfully enqueued to qtest.txt\n",
      "one\n",
      "two\n"
     ]
    }
   ],
   "source": [
    "fileq.enqueue_to_file('two', 'qtest.txt')\n",
    "!head qtest.txt"
   ]
  },
  {
   "cell_type": "code",
   "execution_count": 9,
   "id": "5621b620-e418-4db1-b3ea-50ed9579c272",
   "metadata": {},
   "outputs": [
    {
     "name": "stdout",
     "output_type": "stream",
     "text": [
      "Item 'three' successfully enqueued to qtest.txt\n",
      "one\n",
      "two\n",
      "three\n"
     ]
    }
   ],
   "source": [
    "fileq.enqueue_to_file('three', 'qtest.txt')\n",
    "!head qtest.txt"
   ]
  },
  {
   "cell_type": "code",
   "execution_count": 10,
   "id": "67a0eb46-d68d-45ed-8ad3-0374a2903531",
   "metadata": {},
   "outputs": [
    {
     "name": "stdout",
     "output_type": "stream",
     "text": [
      "File 'completedstack.txt' created successfully\n"
     ]
    }
   ],
   "source": [
    "filestack = fm.StackFileManager()\n",
    "fileman.write_file('completedstack.txt')"
   ]
  },
  {
   "cell_type": "code",
   "execution_count": 11,
   "id": "dc1e793f-9d33-4132-9bff-704750dcf4b1",
   "metadata": {},
   "outputs": [
    {
     "name": "stdout",
     "output_type": "stream",
     "text": [
      "Item 'one' successfully dequeued from qtest.txt\n",
      "Item 'one' pushed to stack file 'completedstack.txt'\n",
      "Item 'two' successfully dequeued from qtest.txt\n",
      "Item 'two' pushed to stack file 'completedstack.txt'\n",
      "one\n",
      "two\n"
     ]
    }
   ],
   "source": [
    "filestack.push_to_stack_file(fileq.dequeue_from_file('qtest.txt'),'completedstack.txt')\n",
    "filestack.push_to_stack_file(fileq.dequeue_from_file('qtest.txt'),'completedstack.txt')\n",
    "!head completedstack.txt"
   ]
  },
  {
   "cell_type": "code",
   "execution_count": 12,
   "id": "5415ca2e-c356-442c-9d44-941b780dcd95",
   "metadata": {},
   "outputs": [
    {
     "name": "stdout",
     "output_type": "stream",
     "text": [
      "Item 'two' popped from stack file 'completedstack.txt'\n"
     ]
    },
    {
     "data": {
      "text/plain": [
       "'two'"
      ]
     },
     "execution_count": 12,
     "metadata": {},
     "output_type": "execute_result"
    }
   ],
   "source": [
    "filestack.pop_from_stack_file('completedstack.txt')"
   ]
  },
  {
   "cell_type": "code",
   "execution_count": 13,
   "id": "4a62e360-824e-42a6-a186-ebea0a4e7f4f",
   "metadata": {},
   "outputs": [
    {
     "name": "stdout",
     "output_type": "stream",
     "text": [
      "cf_model.py\t    filemanager.py     __pycache__\t two\n",
      "completedstack.txt  main.ipynb\t       qtest.txt\t user.py\n",
      "config.py\t    menv\t       queue.py\t\t wandb\n",
      "dataset.py\t    model_weights.pth  README.md\t your_database.db\n",
      "db.ipynb\t    movusers.db        requirements.txt\n",
      "fdstests.ipynb\t    one\t\t       train.ipynb\n"
     ]
    }
   ],
   "source": [
    "!ls "
   ]
  }
 ],
 "metadata": {
  "kernelspec": {
   "display_name": "menv",
   "language": "python",
   "name": "menv"
  },
  "language_info": {
   "codemirror_mode": {
    "name": "ipython",
    "version": 3
   },
   "file_extension": ".py",
   "mimetype": "text/x-python",
   "name": "python",
   "nbconvert_exporter": "python",
   "pygments_lexer": "ipython3",
   "version": "3.10.12"
  }
 },
 "nbformat": 4,
 "nbformat_minor": 5
}
